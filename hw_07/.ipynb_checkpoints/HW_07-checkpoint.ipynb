{
 "cells": [
  {
   "cell_type": "markdown",
   "id": "b20f786e",
   "metadata": {},
   "source": [
    "# Домашнее задание № 2. Мешок слов"
   ]
  },
  {
   "cell_type": "code",
   "execution_count": 72,
   "id": "129c4d2e",
   "metadata": {},
   "outputs": [],
   "source": [
    "import pandas as pd\n",
    "import numpy as np\n",
    "from sklearn.feature_extraction.text import CountVectorizer, TfidfVectorizer\n",
    "from nltk.corpus import stopwords\n",
    "from razdel import tokenize\n",
    "from sklearn.model_selection import train_test_split\n",
    "import warnings\n",
    "\n",
    "warnings.filterwarnings(\"ignore\")"
   ]
  },
  {
   "cell_type": "markdown",
   "id": "0cf72d19",
   "metadata": {},
   "source": [
    "## Задание 1 (3 балла)"
   ]
  },
  {
   "cell_type": "markdown",
   "id": "4a045e99",
   "metadata": {},
   "source": [
    "У векторайзеров в sklearn есть встроенная токенизация на регулярных выражениях. Найдите способо заменить её на кастомную токенизацию"
   ]
  },
  {
   "cell_type": "markdown",
   "id": "90b4d453",
   "metadata": {},
   "source": [
    "Обучите векторайзер с дефолтной токенизацией и с токенизацией razdel.tokenize. Обучите классификатор (любой) с каждым из векторизаторов. Сравните метрики и выберете победителя. \n",
    "\n",
    "(в вашей тетрадке должен быть код обучения и все метрики; если вы сдаете в .py файлах то сохраните полученные метрики в отдельном файле или в комментариях)"
   ]
  },
  {
   "cell_type": "code",
   "execution_count": 2,
   "id": "f7455ade-284a-4d35-8a5a-826e4ddc566d",
   "metadata": {},
   "outputs": [
    {
     "name": "stdout",
     "output_type": "stream",
     "text": [
      "Archive:  labeled.csv.zip\n",
      "  inflating: labeled.csv             \n",
      "  inflating: __MACOSX/._labeled.csv  \n"
     ]
    }
   ],
   "source": [
    "! unzip -o labeled.csv.zip\n",
    "! rm -rf __MACOSX/"
   ]
  },
  {
   "cell_type": "code",
   "execution_count": 2,
   "id": "b4314de5",
   "metadata": {},
   "outputs": [],
   "source": [
    "data = pd.read_csv('labeled.csv')\n",
    "\n",
    "stops = stopwords.words(\"russian\")"
   ]
  },
  {
   "cell_type": "code",
   "execution_count": 3,
   "id": "cbffbbc7",
   "metadata": {},
   "outputs": [],
   "source": [
    "y = data.toxic\n",
    "\n",
    "X = data.drop(columns=\"toxic\")"
   ]
  },
  {
   "cell_type": "code",
   "execution_count": 4,
   "id": "808ddd7b-fc58-4bf7-b033-f84a7f8ceef0",
   "metadata": {},
   "outputs": [],
   "source": [
    "razdel_tokenize = lambda x: [item.text for item in list(tokenize(x))]"
   ]
  },
  {
   "cell_type": "code",
   "execution_count": 5,
   "id": "1d2477b9",
   "metadata": {},
   "outputs": [],
   "source": [
    "default_tokenizer = CountVectorizer()\n",
    "\n",
    "razdel_tokenizer = CountVectorizer(stop_words=stops, tokenizer=razdel_tokenize)"
   ]
  },
  {
   "cell_type": "code",
   "execution_count": 6,
   "id": "2f78899d-caab-42c8-84b8-2c1e9c752fca",
   "metadata": {},
   "outputs": [],
   "source": [
    "X_train, X_test, y_train, y_test = train_test_split(X, y, train_size=0.7, shuffle = True)"
   ]
  },
  {
   "cell_type": "code",
   "execution_count": 8,
   "id": "59055c5b-77c4-481c-9d61-4fd6ec6f2a8a",
   "metadata": {},
   "outputs": [],
   "source": [
    "X_train_def_count = default_tokenizer.fit_transform(X_train.comment)\n",
    "X_test_def_count = default_tokenizer.transform(X_test.comment)"
   ]
  },
  {
   "cell_type": "code",
   "execution_count": 9,
   "id": "a3c09e90-cec9-4354-95e0-24c784f4ae2a",
   "metadata": {},
   "outputs": [],
   "source": [
    "X_train_razdel_count = razdel_tokenizer.fit_transform(X_train.comment)\n",
    "X_test_razdel_count = razdel_tokenizer.transform(X_test.comment)"
   ]
  },
  {
   "cell_type": "markdown",
   "id": "8e381d9b-a6e1-485f-a1e2-5bf6dbabe538",
   "metadata": {},
   "source": [
    "#### Classification"
   ]
  },
  {
   "cell_type": "code",
   "execution_count": 7,
   "id": "f391890e-80f1-4653-a5b4-cf9a4b68a26c",
   "metadata": {},
   "outputs": [],
   "source": [
    "from sklearn.ensemble import GradientBoostingClassifier\n",
    "from sklearn.ensemble import RandomForestClassifier\n",
    "from sklearn.metrics import confusion_matrix, classification_report, f1_score"
   ]
  },
  {
   "cell_type": "code",
   "execution_count": 15,
   "id": "5f448c2b-322a-4e4b-9b70-65b917fd56e3",
   "metadata": {},
   "outputs": [],
   "source": [
    "def evaluate_model(model, **kwargs) -> None:\n",
    "\n",
    "    model.fit(kwargs[\"X_train\"], kwargs[\"y_train\"])\n",
    "\n",
    "    pred_def = model.predict(kwargs[\"X_test\"])\n",
    "\n",
    "    print(f'Confusion matrix for the model: \\n{ confusion_matrix(kwargs[\"y_test\"], pred_def) }')\n",
    "\n",
    "    print(\"\\n----------------------------\\n\")\n",
    "\n",
    "    print(classification_report(kwargs[\"y_test\"], pred_def))\n",
    "\n",
    "    print(f'Overall f1-score is {f1_score(kwargs[\"y_test\"], pred_def, average=\"macro\"):.3f}')\n",
    "\n",
    "    return model"
   ]
  },
  {
   "cell_type": "markdown",
   "id": "bcf6d501-c774-4361-9a81-a78aba9d3104",
   "metadata": {},
   "source": [
    "**Trying gradient boosting**"
   ]
  },
  {
   "cell_type": "code",
   "execution_count": 12,
   "id": "ad5b2fb0-0001-434a-adab-ad6b54c36c4d",
   "metadata": {},
   "outputs": [],
   "source": [
    "cls_grad = GradientBoostingClassifier()"
   ]
  },
  {
   "cell_type": "code",
   "execution_count": 13,
   "id": "c1e80fba-c1a5-4fa8-a571-fc2b6f03d14c",
   "metadata": {},
   "outputs": [
    {
     "name": "stdout",
     "output_type": "stream",
     "text": [
      "Confusion matrix for the model: \n",
      "[[2773   64]\n",
      " [ 991  496]]\n",
      "\n",
      "----------------------------\n",
      "\n",
      "              precision    recall  f1-score   support\n",
      "\n",
      "         0.0       0.74      0.98      0.84      2837\n",
      "         1.0       0.89      0.33      0.48      1487\n",
      "\n",
      "    accuracy                           0.76      4324\n",
      "   macro avg       0.81      0.66      0.66      4324\n",
      "weighted avg       0.79      0.76      0.72      4324\n",
      "\n",
      "Overall f1-score is 0.662\n"
     ]
    }
   ],
   "source": [
    "evaluate_model(cls_grad, X_train = X_train_def_count, X_test = X_test_def_count, y_train = y_train, y_test = y_test)"
   ]
  },
  {
   "cell_type": "code",
   "execution_count": 14,
   "id": "929222e6-d47e-49c9-929f-0cab95c2b178",
   "metadata": {},
   "outputs": [
    {
     "name": "stdout",
     "output_type": "stream",
     "text": [
      "Confusion matrix for the model: \n",
      "[[2795   42]\n",
      " [1105  382]]\n",
      "\n",
      "----------------------------\n",
      "\n",
      "              precision    recall  f1-score   support\n",
      "\n",
      "         0.0       0.72      0.99      0.83      2837\n",
      "         1.0       0.90      0.26      0.40      1487\n",
      "\n",
      "    accuracy                           0.73      4324\n",
      "   macro avg       0.81      0.62      0.61      4324\n",
      "weighted avg       0.78      0.73      0.68      4324\n",
      "\n",
      "Overall f1-score is 0.615\n"
     ]
    }
   ],
   "source": [
    "evaluate_model(cls_grad, X_train = X_train_razdel_count, X_test = X_test_razdel_count, y_train = y_train, y_test = y_test)"
   ]
  },
  {
   "cell_type": "markdown",
   "id": "bdab0906-9e40-46d3-81c2-57281bd02b0c",
   "metadata": {},
   "source": [
    "**Let's try random forest then**"
   ]
  },
  {
   "cell_type": "code",
   "execution_count": 15,
   "id": "f6b044ef-4463-441a-9fd3-228dd44b111c",
   "metadata": {},
   "outputs": [],
   "source": [
    "cls_forest = RandomForestClassifier()"
   ]
  },
  {
   "cell_type": "code",
   "execution_count": 16,
   "id": "65136175-5b8a-4e93-b987-a3634d3cfc65",
   "metadata": {},
   "outputs": [
    {
     "name": "stdout",
     "output_type": "stream",
     "text": [
      "Confusion matrix for the model: \n",
      "[[2630  207]\n",
      " [ 758  729]]\n",
      "\n",
      "----------------------------\n",
      "\n",
      "              precision    recall  f1-score   support\n",
      "\n",
      "         0.0       0.78      0.93      0.84      2837\n",
      "         1.0       0.78      0.49      0.60      1487\n",
      "\n",
      "    accuracy                           0.78      4324\n",
      "   macro avg       0.78      0.71      0.72      4324\n",
      "weighted avg       0.78      0.78      0.76      4324\n",
      "\n",
      "Overall f1-score is 0.723\n"
     ]
    }
   ],
   "source": [
    "evaluate_model(cls_forest, X_train = X_train_def_count, X_test = X_test_def_count, y_train = y_train, y_test = y_test)"
   ]
  },
  {
   "cell_type": "code",
   "execution_count": 17,
   "id": "ea17f5e3-203b-4230-ae52-c28d75cc8649",
   "metadata": {},
   "outputs": [
    {
     "name": "stdout",
     "output_type": "stream",
     "text": [
      "Confusion matrix for the model: \n",
      "[[2779   58]\n",
      " [ 996  491]]\n",
      "\n",
      "----------------------------\n",
      "\n",
      "              precision    recall  f1-score   support\n",
      "\n",
      "         0.0       0.74      0.98      0.84      2837\n",
      "         1.0       0.89      0.33      0.48      1487\n",
      "\n",
      "    accuracy                           0.76      4324\n",
      "   macro avg       0.82      0.65      0.66      4324\n",
      "weighted avg       0.79      0.76      0.72      4324\n",
      "\n",
      "Overall f1-score is 0.661\n"
     ]
    }
   ],
   "source": [
    "evaluate_model(cls_forest, X_train = X_train_razdel_count, X_test = X_test_razdel_count, y_train = y_train, y_test = y_test)"
   ]
  },
  {
   "cell_type": "markdown",
   "id": "15e15186-7e62-42a3-8709-384496ad7a7c",
   "metadata": {},
   "source": [
    "Похоже, результат в любом случае становится хуже, но, вероятно, это может служить не столько индикатором худшего качества разметки, сколько индикатором недостаточного качества эмбедингов или обобщающей способности модели."
   ]
  },
  {
   "cell_type": "code",
   "execution_count": null,
   "id": "2e5b8f53-d99e-4cf5-84c9-ed3b74c35368",
   "metadata": {},
   "outputs": [],
   "source": []
  },
  {
   "cell_type": "code",
   "execution_count": 18,
   "id": "b3137de7-4be4-4c0e-bcbb-552d23d1f8fe",
   "metadata": {},
   "outputs": [],
   "source": [
    "default_tokenizer = TfidfVectorizer()\n",
    "\n",
    "razdel_tokenizer = TfidfVectorizer(stop_words=stops, tokenizer=razdel_tokenize)"
   ]
  },
  {
   "cell_type": "code",
   "execution_count": 19,
   "id": "e8a3a66d-ec7c-438d-9f61-c8a5fcf083f5",
   "metadata": {},
   "outputs": [],
   "source": [
    "X_train_def_tfidf = default_tokenizer.fit_transform(X_train.comment)\n",
    "X_test_def_tfidf = default_tokenizer.transform(X_test.comment)"
   ]
  },
  {
   "cell_type": "code",
   "execution_count": 20,
   "id": "4b1dbe22-5ca4-40e9-859d-703bf65404ae",
   "metadata": {},
   "outputs": [],
   "source": [
    "X_train_razdel_tfidf = razdel_tokenizer.fit_transform(X_train.comment)\n",
    "X_test_razdel_tfidf = razdel_tokenizer.transform(X_test.comment)"
   ]
  },
  {
   "cell_type": "markdown",
   "id": "8c609bec-701b-4b29-aa73-96dd079a23db",
   "metadata": {},
   "source": [
    "**Test gradient boosing with TfidfVectorizer**"
   ]
  },
  {
   "cell_type": "code",
   "execution_count": 21,
   "id": "1294b0e3-5974-4cf3-b80d-2bce9ffbebf5",
   "metadata": {},
   "outputs": [
    {
     "name": "stdout",
     "output_type": "stream",
     "text": [
      "Confusion matrix for the model: \n",
      "[[2766   71]\n",
      " [ 987  500]]\n",
      "\n",
      "----------------------------\n",
      "\n",
      "              precision    recall  f1-score   support\n",
      "\n",
      "         0.0       0.74      0.97      0.84      2837\n",
      "         1.0       0.88      0.34      0.49      1487\n",
      "\n",
      "    accuracy                           0.76      4324\n",
      "   macro avg       0.81      0.66      0.66      4324\n",
      "weighted avg       0.78      0.76      0.72      4324\n",
      "\n",
      "Overall f1-score is 0.663\n"
     ]
    }
   ],
   "source": [
    "evaluate_model(cls_grad, X_train = X_train_def_tfidf, X_test = X_test_def_tfidf, y_train = y_train, y_test = y_test)"
   ]
  },
  {
   "cell_type": "code",
   "execution_count": 22,
   "id": "a20cfa84-7d52-4b71-b8ef-4d8675b8548a",
   "metadata": {},
   "outputs": [
    {
     "name": "stdout",
     "output_type": "stream",
     "text": [
      "Confusion matrix for the model: \n",
      "[[2774   63]\n",
      " [1104  383]]\n",
      "\n",
      "----------------------------\n",
      "\n",
      "              precision    recall  f1-score   support\n",
      "\n",
      "         0.0       0.72      0.98      0.83      2837\n",
      "         1.0       0.86      0.26      0.40      1487\n",
      "\n",
      "    accuracy                           0.73      4324\n",
      "   macro avg       0.79      0.62      0.61      4324\n",
      "weighted avg       0.76      0.73      0.68      4324\n",
      "\n",
      "Overall f1-score is 0.611\n"
     ]
    }
   ],
   "source": [
    "evaluate_model(cls_grad, X_train = X_train_razdel_tfidf, X_test = X_test_razdel_tfidf, y_train = y_train, y_test = y_test)"
   ]
  },
  {
   "cell_type": "markdown",
   "id": "08f7b63a-9a95-4642-b3d4-2cfc67da90ce",
   "metadata": {},
   "source": [
    "**And with random forest again**"
   ]
  },
  {
   "cell_type": "code",
   "execution_count": 23,
   "id": "8d49d4f8-9983-45a2-a45b-ea51dafd1ad7",
   "metadata": {},
   "outputs": [
    {
     "name": "stdout",
     "output_type": "stream",
     "text": [
      "Confusion matrix for the model: \n",
      "[[2633  204]\n",
      " [ 751  736]]\n",
      "\n",
      "----------------------------\n",
      "\n",
      "              precision    recall  f1-score   support\n",
      "\n",
      "         0.0       0.78      0.93      0.85      2837\n",
      "         1.0       0.78      0.49      0.61      1487\n",
      "\n",
      "    accuracy                           0.78      4324\n",
      "   macro avg       0.78      0.71      0.73      4324\n",
      "weighted avg       0.78      0.78      0.76      4324\n",
      "\n",
      "Overall f1-score is 0.726\n"
     ]
    }
   ],
   "source": [
    "evaluate_model(cls_forest, X_train = X_train_def_count, X_test = X_test_def_count, y_train = y_train, y_test = y_test)"
   ]
  },
  {
   "cell_type": "code",
   "execution_count": 24,
   "id": "40ed9b07-ed05-4300-b656-71f32ccbd4bd",
   "metadata": {},
   "outputs": [
    {
     "name": "stdout",
     "output_type": "stream",
     "text": [
      "Confusion matrix for the model: \n",
      "[[2766   71]\n",
      " [ 993  494]]\n",
      "\n",
      "----------------------------\n",
      "\n",
      "              precision    recall  f1-score   support\n",
      "\n",
      "         0.0       0.74      0.97      0.84      2837\n",
      "         1.0       0.87      0.33      0.48      1487\n",
      "\n",
      "    accuracy                           0.75      4324\n",
      "   macro avg       0.81      0.65      0.66      4324\n",
      "weighted avg       0.78      0.75      0.72      4324\n",
      "\n",
      "Overall f1-score is 0.660\n"
     ]
    }
   ],
   "source": [
    "evaluate_model(cls_forest, X_train = X_train_razdel_count, X_test = X_test_razdel_count, y_train = y_train, y_test = y_test)"
   ]
  },
  {
   "cell_type": "markdown",
   "id": "bbe1eaa3-08f3-4150-8b7a-6785d90a25e1",
   "metadata": {},
   "source": [
    "Хм, tf-idf лишь подтвердил, что с разделовской токенизацией, классифицирующая способность становится хуже..."
   ]
  },
  {
   "cell_type": "markdown",
   "id": "91b9076e",
   "metadata": {},
   "source": [
    "## Задание 2 (3 балла)"
   ]
  },
  {
   "cell_type": "markdown",
   "id": "14e25357",
   "metadata": {},
   "source": [
    "Обучите 2 любых разных классификатора из семинара. Предскажите токсичность для текстов из тестовой выборки (используйте одну и ту же выборку для обоих классификаторов) и найдите 10 самых токсичных для каждого из классификаторов. Сравните получаемые тексты - какие тексты совпадают, какие отличаются, правда ли тексты токсичные?"
   ]
  },
  {
   "cell_type": "markdown",
   "id": "7de962ad",
   "metadata": {},
   "source": [
    "Требования к моделям:   \n",
    "а) один классификатор должен использовать CountVectorizer, другой TfidfVectorizer  \n",
    "б) у векторазера должны быть вручную заданы как минимум 5 параметров (можно ставить разные параметры tfidfvectorizer и countvectorizer)  \n",
    "в) у классификатора должно быть задано вручную как минимум 2 параметра (по возможности)  \n",
    "г)  f1 мера каждого из классификаторов должна быть минимум 0.75  \n",
    "\n",
    "*random_seed не считается за параметр"
   ]
  },
  {
   "cell_type": "code",
   "execution_count": 8,
   "id": "ac0a5471",
   "metadata": {},
   "outputs": [],
   "source": [
    "tfidf_vect = TfidfVectorizer(tokenizer=razdel_tokenize, \n",
    "                            ngram_range=(1,3),\n",
    "                            max_df = .1,\n",
    "                            min_df = 15, \n",
    "                            max_features=800,\n",
    "                            stop_words=stops,\n",
    "                            sublinear_tf=True)"
   ]
  },
  {
   "cell_type": "code",
   "execution_count": 9,
   "id": "50407e7d-6c2b-4be2-b638-8049e34e2c35",
   "metadata": {},
   "outputs": [],
   "source": [
    "count_vect = CountVectorizer(tokenizer=razdel_tokenize, \n",
    "                            ngram_range=(1,3),\n",
    "                            max_df = .1,\n",
    "                            min_df = 15,\n",
    "                            max_features=800,\n",
    "                            stop_words=stops)"
   ]
  },
  {
   "cell_type": "code",
   "execution_count": 27,
   "id": "de3429f9-e85d-4641-b1e2-6820c9e059a2",
   "metadata": {},
   "outputs": [],
   "source": [
    "X_train_tfidf = tfidf_vect.fit_transform(X_train.comment)\n",
    "X_test_tfidf = tfidf_vect.transform(X_test.comment)"
   ]
  },
  {
   "cell_type": "code",
   "execution_count": 28,
   "id": "2965e014-bb85-4dd2-bdcd-13baf9b3c4c5",
   "metadata": {},
   "outputs": [],
   "source": [
    "X_train_count = count_vect.fit_transform(X_train.comment)\n",
    "X_test_count = count_vect.transform(X_test.comment)"
   ]
  },
  {
   "cell_type": "markdown",
   "id": "3a8e5353-af89-4f1a-819e-4381b1f1a100",
   "metadata": {},
   "source": [
    "**Default random forest**"
   ]
  },
  {
   "cell_type": "code",
   "execution_count": 29,
   "id": "745bd58f",
   "metadata": {},
   "outputs": [],
   "source": [
    "cls_forest = RandomForestClassifier(n_estimators=500, max_depth=25, min_samples_leaf=2, class_weight=\"balanced\")"
   ]
  },
  {
   "cell_type": "code",
   "execution_count": 30,
   "id": "fcdec881-d6c3-4294-bd18-e055bc011f14",
   "metadata": {},
   "outputs": [
    {
     "name": "stdout",
     "output_type": "stream",
     "text": [
      "Confusion matrix for the model: \n",
      "[[1567 1270]\n",
      " [ 240 1247]]\n",
      "\n",
      "----------------------------\n",
      "\n",
      "              precision    recall  f1-score   support\n",
      "\n",
      "         0.0       0.87      0.55      0.67      2837\n",
      "         1.0       0.50      0.84      0.62      1487\n",
      "\n",
      "    accuracy                           0.65      4324\n",
      "   macro avg       0.68      0.70      0.65      4324\n",
      "weighted avg       0.74      0.65      0.66      4324\n",
      "\n",
      "Overall f1-score is 0.649\n"
     ]
    }
   ],
   "source": [
    "evaluate_model(cls_forest, X_train = X_train_count.toarray(), X_test = X_test_count.toarray(), y_train = y_train, y_test = y_test)"
   ]
  },
  {
   "cell_type": "code",
   "execution_count": 31,
   "id": "90311fac",
   "metadata": {},
   "outputs": [
    {
     "name": "stdout",
     "output_type": "stream",
     "text": [
      "Confusion matrix for the model: \n",
      "[[1576 1261]\n",
      " [ 241 1246]]\n",
      "\n",
      "----------------------------\n",
      "\n",
      "              precision    recall  f1-score   support\n",
      "\n",
      "         0.0       0.87      0.56      0.68      2837\n",
      "         1.0       0.50      0.84      0.62      1487\n",
      "\n",
      "    accuracy                           0.65      4324\n",
      "   macro avg       0.68      0.70      0.65      4324\n",
      "weighted avg       0.74      0.65      0.66      4324\n",
      "\n",
      "Overall f1-score is 0.651\n"
     ]
    }
   ],
   "source": [
    "evaluate_model(cls_forest, X_train = X_train_tfidf.toarray(), X_test = X_test_tfidf.toarray(), y_train = y_train, y_test = y_test)"
   ]
  },
  {
   "cell_type": "markdown",
   "id": "5b88f418-b3d6-45ad-848a-d788e1a3c545",
   "metadata": {},
   "source": [
    "**Logistic regression for the sake of trying**"
   ]
  },
  {
   "cell_type": "code",
   "execution_count": 16,
   "id": "b0507277-23c5-4c29-96a4-bfee34201020",
   "metadata": {},
   "outputs": [],
   "source": [
    "from sklearn.linear_model import LogisticRegression\n",
    "from sklearn.model_selection import GridSearchCV\n",
    "\n",
    "param = {\"C\": [1e-5, 0.5e-3, 1e-2, 1e-1, 1, 2, 5],\n",
    "        \"max_iter\": [100, 500, 1000, 2000],\n",
    "        \"class_weight\": [\"balanced\"]}\n",
    "\n",
    "cls_logreg = LogisticRegression()\n",
    "\n",
    "cls_cv = GridSearchCV(cls_logreg, param, cv = 5, scoring=\"f1_macro\")"
   ]
  },
  {
   "cell_type": "code",
   "execution_count": 17,
   "id": "843996fe-2bc3-40cb-9e77-66a1144c05d8",
   "metadata": {
    "scrolled": true
   },
   "outputs": [
    {
     "name": "stdout",
     "output_type": "stream",
     "text": [
      "Confusion matrix for the model: \n",
      "[[2440  428]\n",
      " [ 507  949]]\n",
      "\n",
      "----------------------------\n",
      "\n",
      "              precision    recall  f1-score   support\n",
      "\n",
      "         0.0       0.83      0.85      0.84      2868\n",
      "         1.0       0.69      0.65      0.67      1456\n",
      "\n",
      "    accuracy                           0.78      4324\n",
      "   macro avg       0.76      0.75      0.75      4324\n",
      "weighted avg       0.78      0.78      0.78      4324\n",
      "\n",
      "Overall f1-score is 0.755\n"
     ]
    },
    {
     "data": {
      "text/html": [
       "<style>#sk-container-id-1 {color: black;}#sk-container-id-1 pre{padding: 0;}#sk-container-id-1 div.sk-toggleable {background-color: white;}#sk-container-id-1 label.sk-toggleable__label {cursor: pointer;display: block;width: 100%;margin-bottom: 0;padding: 0.3em;box-sizing: border-box;text-align: center;}#sk-container-id-1 label.sk-toggleable__label-arrow:before {content: \"▸\";float: left;margin-right: 0.25em;color: #696969;}#sk-container-id-1 label.sk-toggleable__label-arrow:hover:before {color: black;}#sk-container-id-1 div.sk-estimator:hover label.sk-toggleable__label-arrow:before {color: black;}#sk-container-id-1 div.sk-toggleable__content {max-height: 0;max-width: 0;overflow: hidden;text-align: left;background-color: #f0f8ff;}#sk-container-id-1 div.sk-toggleable__content pre {margin: 0.2em;color: black;border-radius: 0.25em;background-color: #f0f8ff;}#sk-container-id-1 input.sk-toggleable__control:checked~div.sk-toggleable__content {max-height: 200px;max-width: 100%;overflow: auto;}#sk-container-id-1 input.sk-toggleable__control:checked~label.sk-toggleable__label-arrow:before {content: \"▾\";}#sk-container-id-1 div.sk-estimator input.sk-toggleable__control:checked~label.sk-toggleable__label {background-color: #d4ebff;}#sk-container-id-1 div.sk-label input.sk-toggleable__control:checked~label.sk-toggleable__label {background-color: #d4ebff;}#sk-container-id-1 input.sk-hidden--visually {border: 0;clip: rect(1px 1px 1px 1px);clip: rect(1px, 1px, 1px, 1px);height: 1px;margin: -1px;overflow: hidden;padding: 0;position: absolute;width: 1px;}#sk-container-id-1 div.sk-estimator {font-family: monospace;background-color: #f0f8ff;border: 1px dotted black;border-radius: 0.25em;box-sizing: border-box;margin-bottom: 0.5em;}#sk-container-id-1 div.sk-estimator:hover {background-color: #d4ebff;}#sk-container-id-1 div.sk-parallel-item::after {content: \"\";width: 100%;border-bottom: 1px solid gray;flex-grow: 1;}#sk-container-id-1 div.sk-label:hover label.sk-toggleable__label {background-color: #d4ebff;}#sk-container-id-1 div.sk-serial::before {content: \"\";position: absolute;border-left: 1px solid gray;box-sizing: border-box;top: 0;bottom: 0;left: 50%;z-index: 0;}#sk-container-id-1 div.sk-serial {display: flex;flex-direction: column;align-items: center;background-color: white;padding-right: 0.2em;padding-left: 0.2em;position: relative;}#sk-container-id-1 div.sk-item {position: relative;z-index: 1;}#sk-container-id-1 div.sk-parallel {display: flex;align-items: stretch;justify-content: center;background-color: white;position: relative;}#sk-container-id-1 div.sk-item::before, #sk-container-id-1 div.sk-parallel-item::before {content: \"\";position: absolute;border-left: 1px solid gray;box-sizing: border-box;top: 0;bottom: 0;left: 50%;z-index: -1;}#sk-container-id-1 div.sk-parallel-item {display: flex;flex-direction: column;z-index: 1;position: relative;background-color: white;}#sk-container-id-1 div.sk-parallel-item:first-child::after {align-self: flex-end;width: 50%;}#sk-container-id-1 div.sk-parallel-item:last-child::after {align-self: flex-start;width: 50%;}#sk-container-id-1 div.sk-parallel-item:only-child::after {width: 0;}#sk-container-id-1 div.sk-dashed-wrapped {border: 1px dashed gray;margin: 0 0.4em 0.5em 0.4em;box-sizing: border-box;padding-bottom: 0.4em;background-color: white;}#sk-container-id-1 div.sk-label label {font-family: monospace;font-weight: bold;display: inline-block;line-height: 1.2em;}#sk-container-id-1 div.sk-label-container {text-align: center;}#sk-container-id-1 div.sk-container {/* jupyter's `normalize.less` sets `[hidden] { display: none; }` but bootstrap.min.css set `[hidden] { display: none !important; }` so we also need the `!important` here to be able to override the default hidden behavior on the sphinx rendered scikit-learn.org. See: https://github.com/scikit-learn/scikit-learn/issues/21755 */display: inline-block !important;position: relative;}#sk-container-id-1 div.sk-text-repr-fallback {display: none;}</style><div id=\"sk-container-id-1\" class=\"sk-top-container\"><div class=\"sk-text-repr-fallback\"><pre>GridSearchCV(cv=5, estimator=LogisticRegression(),\n",
       "             param_grid={&#x27;C&#x27;: [1e-05, 0.0005, 0.01, 0.1, 1, 2, 5],\n",
       "                         &#x27;class_weight&#x27;: [&#x27;balanced&#x27;],\n",
       "                         &#x27;max_iter&#x27;: [100, 500, 1000, 2000]},\n",
       "             scoring=&#x27;f1_macro&#x27;)</pre><b>In a Jupyter environment, please rerun this cell to show the HTML representation or trust the notebook. <br />On GitHub, the HTML representation is unable to render, please try loading this page with nbviewer.org.</b></div><div class=\"sk-container\" hidden><div class=\"sk-item sk-dashed-wrapped\"><div class=\"sk-label-container\"><div class=\"sk-label sk-toggleable\"><input class=\"sk-toggleable__control sk-hidden--visually\" id=\"sk-estimator-id-1\" type=\"checkbox\" ><label for=\"sk-estimator-id-1\" class=\"sk-toggleable__label sk-toggleable__label-arrow\">GridSearchCV</label><div class=\"sk-toggleable__content\"><pre>GridSearchCV(cv=5, estimator=LogisticRegression(),\n",
       "             param_grid={&#x27;C&#x27;: [1e-05, 0.0005, 0.01, 0.1, 1, 2, 5],\n",
       "                         &#x27;class_weight&#x27;: [&#x27;balanced&#x27;],\n",
       "                         &#x27;max_iter&#x27;: [100, 500, 1000, 2000]},\n",
       "             scoring=&#x27;f1_macro&#x27;)</pre></div></div></div><div class=\"sk-parallel\"><div class=\"sk-parallel-item\"><div class=\"sk-item\"><div class=\"sk-label-container\"><div class=\"sk-label sk-toggleable\"><input class=\"sk-toggleable__control sk-hidden--visually\" id=\"sk-estimator-id-2\" type=\"checkbox\" ><label for=\"sk-estimator-id-2\" class=\"sk-toggleable__label sk-toggleable__label-arrow\">estimator: LogisticRegression</label><div class=\"sk-toggleable__content\"><pre>LogisticRegression()</pre></div></div></div><div class=\"sk-serial\"><div class=\"sk-item\"><div class=\"sk-estimator sk-toggleable\"><input class=\"sk-toggleable__control sk-hidden--visually\" id=\"sk-estimator-id-3\" type=\"checkbox\" ><label for=\"sk-estimator-id-3\" class=\"sk-toggleable__label sk-toggleable__label-arrow\">LogisticRegression</label><div class=\"sk-toggleable__content\"><pre>LogisticRegression()</pre></div></div></div></div></div></div></div></div></div></div>"
      ],
      "text/plain": [
       "GridSearchCV(cv=5, estimator=LogisticRegression(),\n",
       "             param_grid={'C': [1e-05, 0.0005, 0.01, 0.1, 1, 2, 5],\n",
       "                         'class_weight': ['balanced'],\n",
       "                         'max_iter': [100, 500, 1000, 2000]},\n",
       "             scoring='f1_macro')"
      ]
     },
     "execution_count": 17,
     "metadata": {},
     "output_type": "execute_result"
    }
   ],
   "source": [
    "evaluate_model(cls_cv, X_train = X_train_count.toarray(), X_test = X_test_count.toarray(), y_train = y_train, y_test = y_test)"
   ]
  },
  {
   "cell_type": "code",
   "execution_count": 34,
   "id": "37a21cd9-5769-409a-bd0a-9db20beb318b",
   "metadata": {},
   "outputs": [
    {
     "name": "stdout",
     "output_type": "stream",
     "text": [
      "Confusion matrix for the model: \n",
      "[[2126  711]\n",
      " [ 342 1145]]\n",
      "\n",
      "----------------------------\n",
      "\n",
      "              precision    recall  f1-score   support\n",
      "\n",
      "         0.0       0.86      0.75      0.80      2837\n",
      "         1.0       0.62      0.77      0.69      1487\n",
      "\n",
      "    accuracy                           0.76      4324\n",
      "   macro avg       0.74      0.76      0.74      4324\n",
      "weighted avg       0.78      0.76      0.76      4324\n",
      "\n",
      "Overall f1-score is 0.743\n"
     ]
    }
   ],
   "source": [
    "evaluate_model(cls_cv, X_train = X_train_tfidf.toarray(), X_test = X_test_tfidf.toarray(), y_train = y_train, y_test = y_test)"
   ]
  },
  {
   "cell_type": "code",
   "execution_count": 35,
   "id": "d275b76b-2412-45c7-9763-3165cdeab084",
   "metadata": {},
   "outputs": [],
   "source": [
    "param = {\"loss\": [\"log_loss\", \"exponential\"],\n",
    "        \"learning_rate\": [3e-3, 1e-1, 5e-1, 9e-1, 1.5e0],\n",
    "         \"n_estimators\": [100, 200, 450],\n",
    "         \"max_depth\": [3, 10, 25],\n",
    "         \"min_samples_split\": [2, 3, 5], \n",
    "        \"n_iter_no_change\": [5],\n",
    "        \"validation_fraction\": [0.1]}\n",
    "\n",
    "cls_gb = GradientBoostingClassifier()\n",
    "\n",
    "cls_cv = GridSearchCV(cls_gb, param, cv = 5, scoring=\"f1_macro\", n_jobs=10)"
   ]
  },
  {
   "cell_type": "code",
   "execution_count": 36,
   "id": "99f6cde1-91cc-4c3f-9c3c-720e52fbeeaf",
   "metadata": {
    "scrolled": true
   },
   "outputs": [
    {
     "name": "stdout",
     "output_type": "stream",
     "text": [
      "Confusion matrix for the model: \n",
      "[[2625  212]\n",
      " [ 897  590]]\n",
      "\n",
      "----------------------------\n",
      "\n",
      "              precision    recall  f1-score   support\n",
      "\n",
      "         0.0       0.75      0.93      0.83      2837\n",
      "         1.0       0.74      0.40      0.52      1487\n",
      "\n",
      "    accuracy                           0.74      4324\n",
      "   macro avg       0.74      0.66      0.67      4324\n",
      "weighted avg       0.74      0.74      0.72      4324\n",
      "\n",
      "Overall f1-score is 0.671\n"
     ]
    }
   ],
   "source": [
    "evaluate_model(cls_cv, X_train = X_train_count.toarray(), X_test = X_test_count.toarray(), y_train = y_train, y_test = y_test)"
   ]
  },
  {
   "cell_type": "code",
   "execution_count": 37,
   "id": "3a9abd02-b368-4209-9a7a-26ac79101752",
   "metadata": {},
   "outputs": [
    {
     "name": "stdout",
     "output_type": "stream",
     "text": [
      "Confusion matrix for the model: \n",
      "[[2623  214]\n",
      " [ 882  605]]\n",
      "\n",
      "----------------------------\n",
      "\n",
      "              precision    recall  f1-score   support\n",
      "\n",
      "         0.0       0.75      0.92      0.83      2837\n",
      "         1.0       0.74      0.41      0.52      1487\n",
      "\n",
      "    accuracy                           0.75      4324\n",
      "   macro avg       0.74      0.67      0.68      4324\n",
      "weighted avg       0.75      0.75      0.72      4324\n",
      "\n",
      "Overall f1-score is 0.676\n"
     ]
    }
   ],
   "source": [
    "evaluate_model(cls_cv, X_train = X_train_tfidf.toarray(), X_test = X_test_tfidf.toarray(), y_train = y_train, y_test = y_test)"
   ]
  },
  {
   "cell_type": "code",
   "execution_count": null,
   "id": "60200334-0377-4a1d-84e6-9a725d909f4e",
   "metadata": {},
   "outputs": [],
   "source": []
  },
  {
   "cell_type": "code",
   "execution_count": null,
   "id": "7f815495-ccf0-4f09-b56f-2ce51b834155",
   "metadata": {},
   "outputs": [],
   "source": []
  },
  {
   "cell_type": "code",
   "execution_count": null,
   "id": "f759a976-324b-4a9f-afe6-42d1fc2b2e0f",
   "metadata": {},
   "outputs": [],
   "source": []
  },
  {
   "cell_type": "code",
   "execution_count": 10,
   "id": "2618d49d-5603-4dbb-810b-ab331a9751ce",
   "metadata": {},
   "outputs": [],
   "source": [
    "tfidf_vect = TfidfVectorizer(ngram_range=(1,3),\n",
    "                            max_df = .1,\n",
    "                            min_df = 15, \n",
    "                            max_features=1200,\n",
    "                            stop_words=stops,\n",
    "                            sublinear_tf=True)"
   ]
  },
  {
   "cell_type": "code",
   "execution_count": 11,
   "id": "7264a44c-6cef-41fe-b0d7-bf5ae1c18a3c",
   "metadata": {},
   "outputs": [],
   "source": [
    "count_vect = CountVectorizer(ngram_range=(1,3),\n",
    "                            max_df = .1,\n",
    "                            min_df = 15,\n",
    "                            max_features=1200,\n",
    "                            stop_words=stops)"
   ]
  },
  {
   "cell_type": "code",
   "execution_count": 12,
   "id": "1de5c6f8-171b-42c7-948c-ded1cb6466b3",
   "metadata": {},
   "outputs": [],
   "source": [
    "X_train_tfidf = tfidf_vect.fit_transform(X_train.comment)\n",
    "X_test_tfidf = tfidf_vect.transform(X_test.comment)"
   ]
  },
  {
   "cell_type": "code",
   "execution_count": 13,
   "id": "2e0aaee0-509f-436f-9c20-76a2558dd12b",
   "metadata": {},
   "outputs": [],
   "source": [
    "X_train_count = count_vect.fit_transform(X_train.comment)\n",
    "X_test_count = count_vect.transform(X_test.comment)"
   ]
  },
  {
   "cell_type": "code",
   "execution_count": null,
   "id": "3895d0a5-ea24-443d-bc3a-b7fcbd2c8284",
   "metadata": {},
   "outputs": [],
   "source": []
  },
  {
   "cell_type": "markdown",
   "id": "95ab9e38-be49-40f6-8c9f-1e610425beef",
   "metadata": {},
   "source": [
    "**Default random forest**"
   ]
  },
  {
   "cell_type": "code",
   "execution_count": 42,
   "id": "727d2963-b7a1-4981-806b-9fcf2f7cbd59",
   "metadata": {},
   "outputs": [],
   "source": [
    "cls_forest = RandomForestClassifier(n_estimators=500, max_depth=25, min_samples_leaf=2, class_weight=\"balanced\")"
   ]
  },
  {
   "cell_type": "code",
   "execution_count": 43,
   "id": "7e456181-cbc0-491f-8647-f4ef6d01ed6b",
   "metadata": {},
   "outputs": [
    {
     "name": "stdout",
     "output_type": "stream",
     "text": [
      "Confusion matrix for the model: \n",
      "[[1677 1160]\n",
      " [ 226 1261]]\n",
      "\n",
      "----------------------------\n",
      "\n",
      "              precision    recall  f1-score   support\n",
      "\n",
      "         0.0       0.88      0.59      0.71      2837\n",
      "         1.0       0.52      0.85      0.65      1487\n",
      "\n",
      "    accuracy                           0.68      4324\n",
      "   macro avg       0.70      0.72      0.68      4324\n",
      "weighted avg       0.76      0.68      0.69      4324\n",
      "\n",
      "Overall f1-score is 0.676\n"
     ]
    }
   ],
   "source": [
    "evaluate_model(cls_forest, X_train = X_train_count.toarray(), X_test = X_test_count.toarray(), y_train = y_train, y_test = y_test)"
   ]
  },
  {
   "cell_type": "code",
   "execution_count": 44,
   "id": "762e8774-e937-41ec-b180-5ac7d6d59b96",
   "metadata": {},
   "outputs": [
    {
     "name": "stdout",
     "output_type": "stream",
     "text": [
      "Confusion matrix for the model: \n",
      "[[1672 1165]\n",
      " [ 232 1255]]\n",
      "\n",
      "----------------------------\n",
      "\n",
      "              precision    recall  f1-score   support\n",
      "\n",
      "         0.0       0.88      0.59      0.71      2837\n",
      "         1.0       0.52      0.84      0.64      1487\n",
      "\n",
      "    accuracy                           0.68      4324\n",
      "   macro avg       0.70      0.72      0.67      4324\n",
      "weighted avg       0.75      0.68      0.68      4324\n",
      "\n",
      "Overall f1-score is 0.674\n"
     ]
    }
   ],
   "source": [
    "evaluate_model(cls_forest, X_train = X_train_tfidf.toarray(), X_test = X_test_tfidf.toarray(), y_train = y_train, y_test = y_test)"
   ]
  },
  {
   "cell_type": "markdown",
   "id": "342aed82-6779-466e-a30a-c2c9e4f70e05",
   "metadata": {},
   "source": [
    "**Logistic regression for the sake of trying**"
   ]
  },
  {
   "cell_type": "code",
   "execution_count": 45,
   "id": "cf92863a-1888-41b9-8468-8c0ff398dd31",
   "metadata": {},
   "outputs": [],
   "source": [
    "from sklearn.linear_model import LogisticRegression\n",
    "from sklearn.model_selection import GridSearchCV\n",
    "\n",
    "param = {\"C\": [1e-5, 0.5e-3, 1e-2, 1e-1, 1, 2, 5],\n",
    "        \"max_iter\": [100, 500, 1000, 2000],\n",
    "        \"class_weight\": [\"balanced\"]}\n",
    "\n",
    "cls_logreg = LogisticRegression()\n",
    "\n",
    "cls_cv = GridSearchCV(cls_logreg, param, cv = 5, scoring=\"f1_macro\")"
   ]
  },
  {
   "cell_type": "code",
   "execution_count": 46,
   "id": "1a5c50bc-3008-483e-a06d-bddd38b46885",
   "metadata": {
    "scrolled": true
   },
   "outputs": [
    {
     "name": "stdout",
     "output_type": "stream",
     "text": [
      "Confusion matrix for the model: \n",
      "[[2189  648]\n",
      " [ 323 1164]]\n",
      "\n",
      "----------------------------\n",
      "\n",
      "              precision    recall  f1-score   support\n",
      "\n",
      "         0.0       0.87      0.77      0.82      2837\n",
      "         1.0       0.64      0.78      0.71      1487\n",
      "\n",
      "    accuracy                           0.78      4324\n",
      "   macro avg       0.76      0.78      0.76      4324\n",
      "weighted avg       0.79      0.78      0.78      4324\n",
      "\n",
      "Overall f1-score is 0.762\n"
     ]
    }
   ],
   "source": [
    "evaluate_model(cls_cv, X_train = X_train_count.toarray(), X_test = X_test_count.toarray(), y_train = y_train, y_test = y_test)"
   ]
  },
  {
   "cell_type": "code",
   "execution_count": 47,
   "id": "a25e73cc-91ff-45d4-a8e5-c3b7c24f9f6b",
   "metadata": {},
   "outputs": [
    {
     "name": "stdout",
     "output_type": "stream",
     "text": [
      "Confusion matrix for the model: \n",
      "[[2191  646]\n",
      " [ 320 1167]]\n",
      "\n",
      "----------------------------\n",
      "\n",
      "              precision    recall  f1-score   support\n",
      "\n",
      "         0.0       0.87      0.77      0.82      2837\n",
      "         1.0       0.64      0.78      0.71      1487\n",
      "\n",
      "    accuracy                           0.78      4324\n",
      "   macro avg       0.76      0.78      0.76      4324\n",
      "weighted avg       0.79      0.78      0.78      4324\n",
      "\n",
      "Overall f1-score is 0.763\n"
     ]
    }
   ],
   "source": [
    "evaluate_model(cls_cv, X_train = X_train_tfidf.toarray(), X_test = X_test_tfidf.toarray(), y_train = y_train, y_test = y_test)"
   ]
  },
  {
   "cell_type": "code",
   "execution_count": 48,
   "id": "b1b5b091-765e-42e8-b909-090afbf57843",
   "metadata": {},
   "outputs": [],
   "source": [
    "param = {\"loss\": [\"log_loss\", \"exponential\"],\n",
    "        \"learning_rate\": [3e-4, 1e-1, 5e-1, 1],\n",
    "         \"n_estimators\": [100, 200, 450, 1000],\n",
    "         \"max_depth\": [3, 10, 25],\n",
    "         \"min_samples_split\": [1, 3, 5], \n",
    "        \"n_iter_no_change\": [5],\n",
    "        \"validation_fraction\": [0.1]}\n",
    "\n",
    "cls_gb = GradientBoostingClassifier()\n",
    "\n",
    "cls_cv = GridSearchCV(cls_gb, param, cv = 5, scoring=\"f1_macro\", n_jobs=10)"
   ]
  },
  {
   "cell_type": "code",
   "execution_count": 49,
   "id": "f61ca7ac-105b-4d99-bfc0-e446d542d9a3",
   "metadata": {
    "scrolled": true
   },
   "outputs": [
    {
     "name": "stdout",
     "output_type": "stream",
     "text": [
      "Confusion matrix for the model: \n",
      "[[2654  183]\n",
      " [ 856  631]]\n",
      "\n",
      "----------------------------\n",
      "\n",
      "              precision    recall  f1-score   support\n",
      "\n",
      "         0.0       0.76      0.94      0.84      2837\n",
      "         1.0       0.78      0.42      0.55      1487\n",
      "\n",
      "    accuracy                           0.76      4324\n",
      "   macro avg       0.77      0.68      0.69      4324\n",
      "weighted avg       0.76      0.76      0.74      4324\n",
      "\n",
      "Overall f1-score is 0.692\n"
     ]
    }
   ],
   "source": [
    "evaluate_model(cls_cv, X_train = X_train_count.toarray(), X_test = X_test_count.toarray(), y_train = y_train, y_test = y_test)"
   ]
  },
  {
   "cell_type": "code",
   "execution_count": null,
   "id": "8102b7db-1774-4c5f-bc0b-bbbd7726047f",
   "metadata": {},
   "outputs": [],
   "source": [
    "evaluate_model(cls_cv, X_train = X_train_tfidf.toarray(), X_test = X_test_tfidf.toarray(), y_train = y_train, y_test = y_test)"
   ]
  },
  {
   "cell_type": "markdown",
   "id": "507473f9-6c56-40e0-b099-9fc2f0e74817",
   "metadata": {},
   "source": [
    "Учить градиентный бустинг грид серчем даже на 10 ядрах было явно не лучшей идеей, но да ладно - зато скор посмотреть можно."
   ]
  },
  {
   "cell_type": "markdown",
   "id": "6f228c3e",
   "metadata": {},
   "source": [
    "## Задание 3 (4 балла - 1 балл за каждый классификатор)"
   ]
  },
  {
   "cell_type": "markdown",
   "id": "566929b7",
   "metadata": {},
   "source": [
    "Для классификаторов Logistic Regression, Decision Trees, Naive Bayes, RandomForest найдите способ извлечь важность признаков для предсказания токсичного класса. Сопоставьте полученные числа со словами (или нграммами) в словаре и найдите топ - 5 \"токсичных\" слов для каждого из классификаторов. \n",
    "\n",
    "Важное требование: в топе не должно быть стоп-слов. Для этого вам нужно будет правильным образом настроить векторизацию. \n",
    "Также как и в предыдущем задании у классификаторов должно быть задано вручную как минимум 2 параметра (по возможности, f1 мера каждого из классификаторов должна быть минимум 0.75"
   ]
  },
  {
   "cell_type": "code",
   "execution_count": 146,
   "id": "15af4e1f",
   "metadata": {},
   "outputs": [],
   "source": [
    "from sklearn.naive_bayes import ComplementNB\n",
    "from sklearn.linear_model import LogisticRegression\n",
    "from sklearn.ensemble import RandomForestClassifier\n",
    "from sklearn.tree import DecisionTreeClassifier"
   ]
  },
  {
   "cell_type": "markdown",
   "id": "fb73989b-2cd0-42fb-9dbb-7953526d129a",
   "metadata": {},
   "source": [
    "### Просто рандомные тесты"
   ]
  },
  {
   "cell_type": "code",
   "execution_count": 35,
   "id": "e606f46a-56c2-4182-98be-4887cc8c71cf",
   "metadata": {},
   "outputs": [],
   "source": [
    "from imblearn.pipeline import make_pipeline\n",
    "from imblearn.over_sampling import SMOTEN, RandomOverSampler\n",
    "\n",
    "model = make_pipeline(\n",
    "\n",
    "    SMOTEN(n_jobs = -1),\n",
    "\n",
    "    GradientBoostingClassifier(n_estimators=500, verbose=1)\n",
    "\n",
    ")"
   ]
  },
  {
   "cell_type": "code",
   "execution_count": 32,
   "id": "67430b66-6fd6-488b-b755-9ed132844860",
   "metadata": {},
   "outputs": [
    {
     "name": "stdout",
     "output_type": "stream",
     "text": [
      "      Iter       Train Loss   Remaining Time \n",
      "         1           1.3775            3.69m\n",
      "         2           1.3699            3.58m\n",
      "         3           1.3635            3.54m\n",
      "         4           1.3577            3.53m\n",
      "         5           1.3523            3.51m\n",
      "         6           1.3473            3.50m\n",
      "         7           1.3424            3.50m\n",
      "         8           1.3380            3.50m\n",
      "         9           1.3338            3.50m\n",
      "        10           1.3296            3.50m\n",
      "        20           1.2950            3.41m\n",
      "        30           1.2664            3.34m\n",
      "        40           1.2428            3.26m\n",
      "        50           1.2224            3.19m\n",
      "        60           1.2038            3.12m\n",
      "        70           1.1876            3.08m\n",
      "        80           1.1715            3.00m\n",
      "        90           1.1572            2.93m\n",
      "       100           1.1439            2.85m\n",
      "       200           1.0389            2.14m\n",
      "       300           0.9694            1.43m\n",
      "       400           0.9171           42.93s\n",
      "       500           0.8747            0.00s\n",
      "Confusion matrix for the model: \n",
      "[[1984  884]\n",
      " [ 344 1112]]\n",
      "\n",
      "----------------------------\n",
      "\n",
      "              precision    recall  f1-score   support\n",
      "\n",
      "         0.0       0.85      0.69      0.76      2868\n",
      "         1.0       0.56      0.76      0.64      1456\n",
      "\n",
      "    accuracy                           0.72      4324\n",
      "   macro avg       0.70      0.73      0.70      4324\n",
      "weighted avg       0.75      0.72      0.72      4324\n",
      "\n",
      "Overall f1-score is 0.704\n"
     ]
    }
   ],
   "source": [
    "_ = evaluate_model(model, X_train = X_train_count.toarray(), X_test = X_test_count.toarray(), y_train = y_train, y_test = y_test)"
   ]
  },
  {
   "cell_type": "code",
   "execution_count": 34,
   "id": "ce06994b-080e-43f3-aa35-f9b148ba923f",
   "metadata": {},
   "outputs": [
    {
     "name": "stdout",
     "output_type": "stream",
     "text": [
      "      Iter       Train Loss   Remaining Time \n",
      "         1           1.3771            3.57m\n",
      "         2           1.3696            3.48m\n",
      "         3           1.3630            3.47m\n",
      "         4           1.3570            3.46m\n",
      "         5           1.3517            3.45m\n",
      "         6           1.3468            3.45m\n",
      "         7           1.3419            3.44m\n",
      "         8           1.3372            3.44m\n",
      "         9           1.3330            3.43m\n",
      "        10           1.3287            3.43m\n",
      "        20           1.2934            3.42m\n",
      "        30           1.2651            3.37m\n",
      "        40           1.2419            3.29m\n",
      "        50           1.2211            3.21m\n",
      "        60           1.2016            3.14m\n",
      "        70           1.1847            3.07m\n",
      "        80           1.1693            3.01m\n",
      "        90           1.1549            2.95m\n",
      "       100           1.1415            2.89m\n",
      "       200           1.0366            2.16m\n",
      "       300           0.9673            1.43m\n",
      "       400           0.9144           42.88s\n",
      "       500           0.8718            0.00s\n",
      "Confusion matrix for the model: \n",
      "[[2000  868]\n",
      " [ 350 1106]]\n",
      "\n",
      "----------------------------\n",
      "\n",
      "              precision    recall  f1-score   support\n",
      "\n",
      "         0.0       0.85      0.70      0.77      2868\n",
      "         1.0       0.56      0.76      0.64      1456\n",
      "\n",
      "    accuracy                           0.72      4324\n",
      "   macro avg       0.71      0.73      0.71      4324\n",
      "weighted avg       0.75      0.72      0.73      4324\n",
      "\n",
      "Overall f1-score is 0.706\n"
     ]
    }
   ],
   "source": [
    "_ = evaluate_model(model, X_train = X_train_tfidf.toarray(), X_test = X_test_tfidf.toarray(), y_train = y_train, y_test = y_test)"
   ]
  },
  {
   "cell_type": "markdown",
   "id": "e2095908-81bf-46d3-a9a3-eae99a2fe3db",
   "metadata": {},
   "source": [
    "### Отсюда уже что-то осмысленное по заданию"
   ]
  },
  {
   "cell_type": "code",
   "execution_count": 124,
   "id": "8ed3b87a-d3e9-4c6f-a989-b2e7f5acf664",
   "metadata": {},
   "outputs": [],
   "source": [
    "from sklearn.inspection import permutation_importance\n",
    "from matplotlib import pyplot as plt\n",
    "\n",
    "def top_features(model: object, X_test, y_test, vectorizer, n: int) -> None:\n",
    "    \n",
    "    result = permutation_importance(\n",
    "        model[-1], X_test, y_test, n_repeats=10, random_state=42, n_jobs=2\n",
    "    )\n",
    "    \n",
    "    model_importances = pd.Series(result.importances_mean)\n",
    "    \n",
    "    imp = model_importances.sort_values()[-n:]\n",
    "    \n",
    "    ind = imp.index\n",
    "    \n",
    "    words = vectorizer.get_feature_names_out()[ind]\n",
    "    \n",
    "    df = pd.DataFrame(np.array(imp), index = words)\n",
    "    \n",
    "    fig, ax = plt.subplots()\n",
    "    df.plot.bar(ax = ax)\n",
    "    ax.set_title(\"Top 5 most important features using permutation on full model\")\n",
    "    ax.set_ylabel(\"Mean importance\")\n",
    "    fig.tight_layout()\n",
    "    plt.show()"
   ]
  },
  {
   "cell_type": "markdown",
   "id": "b1d11fc5-9cf2-4669-ac1f-89d6e7342f44",
   "metadata": {},
   "source": [
    "#### Logreg"
   ]
  },
  {
   "cell_type": "code",
   "execution_count": 48,
   "id": "6c6ac5e7-eced-475c-9436-b0740fcf1535",
   "metadata": {},
   "outputs": [],
   "source": [
    "model = make_pipeline(\n",
    "\n",
    "    RandomOverSampler(),\n",
    "\n",
    "    LogisticRegression(C = 0.3)\n",
    "    \n",
    ")"
   ]
  },
  {
   "cell_type": "code",
   "execution_count": 49,
   "id": "13a396f9-a363-487f-b1e3-2df1332affc4",
   "metadata": {},
   "outputs": [
    {
     "name": "stdout",
     "output_type": "stream",
     "text": [
      "Confusion matrix for the model: \n",
      "[[2231  637]\n",
      " [ 358 1098]]\n",
      "\n",
      "----------------------------\n",
      "\n",
      "              precision    recall  f1-score   support\n",
      "\n",
      "         0.0       0.86      0.78      0.82      2868\n",
      "         1.0       0.63      0.75      0.69      1456\n",
      "\n",
      "    accuracy                           0.77      4324\n",
      "   macro avg       0.75      0.77      0.75      4324\n",
      "weighted avg       0.78      0.77      0.77      4324\n",
      "\n",
      "Overall f1-score is 0.753\n"
     ]
    }
   ],
   "source": [
    "model = evaluate_model(model, X_train = X_train_tfidf.toarray(), X_test = X_test_tfidf.toarray(), y_train = y_train, y_test = y_test)"
   ]
  },
  {
   "cell_type": "code",
   "execution_count": 125,
   "id": "c539dc5a-cf6a-4cbb-9035-4f0fc5bdce5b",
   "metadata": {},
   "outputs": [
    {
     "data": {
      "image/png": "[encoded data removed]",
      "text/plain": [
       "<Figure size 640x480 with 1 Axes>"
      ]
     },
     "metadata": {},
     "output_type": "display_data"
    }
   ],
   "source": [
    "top_features(model, X_test_tfidf.toarray(), y_test, tfidf_vect, 10)"
   ]
  },
  {
   "cell_type": "markdown",
   "id": "7e03d3ec-1c30-48ab-9117-e9bd5d70e5ba",
   "metadata": {},
   "source": [
    "#### Tree"
   ]
  },
  {
   "cell_type": "code",
   "execution_count": 136,
   "id": "03014764-a61c-4449-a2b6-90dbae64c602",
   "metadata": {},
   "outputs": [],
   "source": [
    "model = make_pipeline(\n",
    "\n",
    "    RandomOverSampler(),\n",
    "\n",
    "    DecisionTreeClassifier(min_samples_leaf=3, max_depth=500)\n",
    "    \n",
    ")"
   ]
  },
  {
   "cell_type": "code",
   "execution_count": 137,
   "id": "b3838909-8fd9-426f-b220-ccd2c01842ce",
   "metadata": {},
   "outputs": [
    {
     "name": "stdout",
     "output_type": "stream",
     "text": [
      "Confusion matrix for the model: \n",
      "[[2053  815]\n",
      " [ 454 1002]]\n",
      "\n",
      "----------------------------\n",
      "\n",
      "              precision    recall  f1-score   support\n",
      "\n",
      "         0.0       0.82      0.72      0.76      2868\n",
      "         1.0       0.55      0.69      0.61      1456\n",
      "\n",
      "    accuracy                           0.71      4324\n",
      "   macro avg       0.69      0.70      0.69      4324\n",
      "weighted avg       0.73      0.71      0.71      4324\n",
      "\n",
      "Overall f1-score is 0.688\n"
     ]
    }
   ],
   "source": [
    "model = evaluate_model(model, X_train = X_train_tfidf.toarray(), X_test = X_test_tfidf.toarray(), y_train = y_train, y_test = y_test)"
   ]
  },
  {
   "cell_type": "code",
   "execution_count": 138,
   "id": "ac6d2aa7-cd02-46b3-9e50-59e0543cfe71",
   "metadata": {},
   "outputs": [
    {
     "data": {
      "image/png": "[encoded data removed]",
      "text/plain": [
       "<Figure size 640x480 with 1 Axes>"
      ]
     },
     "metadata": {},
     "output_type": "display_data"
    }
   ],
   "source": [
    "top_features(model, X_test_tfidf.toarray(), y_test, tfidf_vect, 10)"
   ]
  },
  {
   "cell_type": "markdown",
   "id": "0e847cb7-2186-49af-8e8c-7942e62b2b88",
   "metadata": {},
   "source": [
    "#### Random Forest"
   ]
  },
  {
   "cell_type": "code",
   "execution_count": 141,
   "id": "da5dd6ec-efce-4c97-88fe-0c8119171055",
   "metadata": {},
   "outputs": [],
   "source": [
    "model = make_pipeline(\n",
    "\n",
    "    RandomOverSampler(),\n",
    "\n",
    "    RandomForestClassifier(n_estimators=500, max_depth=75, min_samples_leaf=2)\n",
    "    \n",
    ")"
   ]
  },
  {
   "cell_type": "code",
   "execution_count": 142,
   "id": "0b6fbb72-2aac-488a-9875-7279590596b7",
   "metadata": {},
   "outputs": [
    {
     "name": "stdout",
     "output_type": "stream",
     "text": [
      "Confusion matrix for the model: \n",
      "[[1813 1055]\n",
      " [ 268 1188]]\n",
      "\n",
      "----------------------------\n",
      "\n",
      "              precision    recall  f1-score   support\n",
      "\n",
      "         0.0       0.87      0.63      0.73      2868\n",
      "         1.0       0.53      0.82      0.64      1456\n",
      "\n",
      "    accuracy                           0.69      4324\n",
      "   macro avg       0.70      0.72      0.69      4324\n",
      "weighted avg       0.76      0.69      0.70      4324\n",
      "\n",
      "Overall f1-score is 0.688\n"
     ]
    }
   ],
   "source": [
    "model = evaluate_model(model, X_train = X_train_tfidf.toarray(), X_test = X_test_tfidf.toarray(), y_train = y_train, y_test = y_test)"
   ]
  },
  {
   "cell_type": "code",
   "execution_count": 143,
   "id": "af55ba34-887e-4fa6-b82f-fb58223f1a0f",
   "metadata": {},
   "outputs": [
    {
     "data": {
      "image/png": "[encoded data removed]",
      "text/plain": [
       "<Figure size 640x480 with 1 Axes>"
      ]
     },
     "metadata": {},
     "output_type": "display_data"
    }
   ],
   "source": [
    "top_features(model, X_test_tfidf.toarray(), y_test, tfidf_vect, 10)"
   ]
  },
  {
   "cell_type": "markdown",
   "id": "bce37285-2c18-4c92-8d80-dab61ebbdfe5",
   "metadata": {},
   "source": [
    "#### NaiveBayes"
   ]
  },
  {
   "cell_type": "code",
   "execution_count": 150,
   "id": "a3b6d2a9-a66f-4287-b9fb-955e2c6280eb",
   "metadata": {},
   "outputs": [],
   "source": [
    "model = make_pipeline(\n",
    "\n",
    "    RandomOverSampler(),\n",
    "\n",
    "    ComplementNB(alpha = 0.5)\n",
    "    \n",
    ")"
   ]
  },
  {
   "cell_type": "code",
   "execution_count": 151,
   "id": "5b919c60-dad8-4c70-a994-7c2c03dd55a5",
   "metadata": {},
   "outputs": [
    {
     "name": "stdout",
     "output_type": "stream",
     "text": [
      "Confusion matrix for the model: \n",
      "[[2377  491]\n",
      " [ 611  845]]\n",
      "\n",
      "----------------------------\n",
      "\n",
      "              precision    recall  f1-score   support\n",
      "\n",
      "         0.0       0.80      0.83      0.81      2868\n",
      "         1.0       0.63      0.58      0.61      1456\n",
      "\n",
      "    accuracy                           0.75      4324\n",
      "   macro avg       0.71      0.70      0.71      4324\n",
      "weighted avg       0.74      0.75      0.74      4324\n",
      "\n",
      "Overall f1-score is 0.709\n"
     ]
    }
   ],
   "source": [
    "model = evaluate_model(model, X_train = X_train_tfidf.toarray(), X_test = X_test_tfidf.toarray(), y_train = y_train, y_test = y_test)"
   ]
  },
  {
   "cell_type": "code",
   "execution_count": 152,
   "id": "221e65f1-77e8-464d-833e-a0da73a4b5cc",
   "metadata": {},
   "outputs": [
    {
     "data": {
      "image/png": "[encoded data removed]",
      "text/plain": [
       "<Figure size 640x480 with 1 Axes>"
      ]
     },
     "metadata": {},
     "output_type": "display_data"
    }
   ],
   "source": [
    "top_features(model, X_test_tfidf.toarray(), y_test, tfidf_vect, 10)"
   ]
  }
 ],
 "metadata": {
  "kernelspec": {
   "display_name": "Python 3 (ipykernel)",
   "language": "python",
   "name": "python3"
  },
  "language_info": {
   "codemirror_mode": {
    "name": "ipython",
    "version": 3
   },
   "file_extension": ".py",
   "mimetype": "text/x-python",
   "name": "python",
   "nbconvert_exporter": "python",
   "pygments_lexer": "ipython3",
   "version": "3.11.6"
  }
 },
 "nbformat": 4,
 "nbformat_minor": 5
}
