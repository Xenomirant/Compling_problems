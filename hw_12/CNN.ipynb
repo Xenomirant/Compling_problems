{
 "cells": [
  {
   "cell_type": "code",
   "execution_count": 11,
   "id": "d72f0aba-9eb8-4507-98b2-b58b50a5ca1e",
   "metadata": {},
   "outputs": [
    {
     "name": "stdout",
     "output_type": "stream",
     "text": [
      "--2024-02-07 09:52:10--  https://github.com/mannefedov/compling_nlp_hse_course/raw/master/data/lenta_40k.csv.zip\n",
      "Resolving github.com (github.com)... 140.82.114.4\n",
      "Connecting to github.com (github.com)|140.82.114.4|:443... connected.\n",
      "HTTP request sent, awaiting response... 302 Found\n",
      "Location: https://raw.githubusercontent.com/mannefedov/compling_nlp_hse_course/master/data/lenta_40k.csv.zip [following]\n",
      "--2024-02-07 09:52:10--  https://raw.githubusercontent.com/mannefedov/compling_nlp_hse_course/master/data/lenta_40k.csv.zip\n",
      "Resolving raw.githubusercontent.com (raw.githubusercontent.com)... 185.199.109.133, 185.199.110.133, 185.199.111.133, ...\n",
      "Connecting to raw.githubusercontent.com (raw.githubusercontent.com)|185.199.109.133|:443... connected.\n",
      "HTTP request sent, awaiting response... 200 OK\n",
      "Length: 30658975 (29M) [application/zip]\n",
      "Saving to: ‘./data/lenta_40k.csv.zip’\n",
      "\n",
      "./data/lenta_40k.cs 100%[===================>]  29.24M  42.9MB/s    in 0.7s    \n",
      "\n",
      "2024-02-07 09:52:11 (42.9 MB/s) - ‘./data/lenta_40k.csv.zip’ saved [30658975/30658975]\n",
      "\n"
     ]
    }
   ],
   "source": [
    "! mkdir -p data && wget -O ./data/lenta_40k.csv.zip https://github.com/mannefedov/compling_nlp_hse_course/raw/master/data/lenta_40k.csv.zip"
   ]
  },
  {
   "cell_type": "markdown",
   "id": "4ca384d0-da9b-41bc-a902-ee069922c0c2",
   "metadata": {},
   "source": [
    "## Домашка (10 баллов)\n",
    "\n",
    "\n",
    "Обучите модель с минимум 15 слоями, где у каждого слоя разные параметры (Dropout, Conv1d и Pooling, Dense считаются слоями, остальное нет). Как мимнимум 4 слоя должны быть наложены друг на друга и как минимум 2 параллельных слоя (последовательности слоев). Должен быть хотя бы один слой каждого типа.\n",
    "\n",
    "При обучении используйте колбек для отслеживания лучшей модели. Ориентируйтесь на ф1 меру. Качество модели не должно быть околонулевым. Если метрики не растут, то попробуйте пообучать подольше или перестроить саму сеть.\n",
    "\n",
    "Советы: Начните с небольших сетей и постепенно добавляйте, не пытайтесь сразу собрать все слои. Иногда кернел может крашиться просто так или из-за слишком больших матриц.\n"
   ]
  },
  {
   "cell_type": "code",
   "execution_count": 4,
   "id": "2dcb010f-90e2-4a23-bbdd-4b6df8a94c31",
   "metadata": {},
   "outputs": [],
   "source": [
    "import pandas as pd\n",
    "import numpy as np\n",
    "from string import punctuation\n",
    "from sklearn.model_selection import train_test_split\n",
    "from collections import Counter\n",
    "import matplotlib.pyplot as plt\n",
    "%matplotlib inline\n"
   ]
  },
  {
   "cell_type": "code",
   "execution_count": 5,
   "id": "978585a6-90cd-431a-81d4-0425202ab301",
   "metadata": {},
   "outputs": [],
   "source": [
    "import torch\n",
    "import torch.nn as nn\n",
    "import torch.nn.functional as F\n",
    "import torch.optim as optim\n",
    "import torch.utils.data"
   ]
  },
  {
   "cell_type": "code",
   "execution_count": 6,
   "id": "e74eb136-e39e-4390-a182-cd58fffc695d",
   "metadata": {},
   "outputs": [],
   "source": [
    "df = pd.read_csv(\"data/lenta_40k.csv.zip\")"
   ]
  },
  {
   "cell_type": "code",
   "execution_count": 7,
   "id": "a438b7b4-646f-448f-a5d2-f73beb23e5f8",
   "metadata": {
    "scrolled": true
   },
   "outputs": [
    {
     "data": {
      "text/html": [
       "<div>\n",
       "<style scoped>\n",
       "    .dataframe tbody tr th:only-of-type {\n",
       "        vertical-align: middle;\n",
       "    }\n",
       "\n",
       "    .dataframe tbody tr th {\n",
       "        vertical-align: top;\n",
       "    }\n",
       "\n",
       "    .dataframe thead th {\n",
       "        text-align: right;\n",
       "    }\n",
       "</style>\n",
       "<table border=\"1\" class=\"dataframe\">\n",
       "  <thead>\n",
       "    <tr style=\"text-align: right;\">\n",
       "      <th></th>\n",
       "      <th>text</th>\n",
       "      <th>topic</th>\n",
       "    </tr>\n",
       "  </thead>\n",
       "  <tbody>\n",
       "    <tr>\n",
       "      <th>0</th>\n",
       "      <td>Россия должна сотрудничать с Всемирным антидоп...</td>\n",
       "      <td>Спорт</td>\n",
       "    </tr>\n",
       "    <tr>\n",
       "      <th>1</th>\n",
       "      <td>Уголовный суд Кувейта 28 июня освободил под за...</td>\n",
       "      <td>Мир</td>\n",
       "    </tr>\n",
       "    <tr>\n",
       "      <th>2</th>\n",
       "      <td>Французский журнал Charlie Hebdo опубликовал н...</td>\n",
       "      <td>Интернет и СМИ</td>\n",
       "    </tr>\n",
       "    <tr>\n",
       "      <th>3</th>\n",
       "      <td>В Петербурге в доме № 53 по улице Лени Голиков...</td>\n",
       "      <td>Россия</td>\n",
       "    </tr>\n",
       "    <tr>\n",
       "      <th>4</th>\n",
       "      <td>В московском аэропорту \"Домодедово\" задержан г...</td>\n",
       "      <td>Россия</td>\n",
       "    </tr>\n",
       "    <tr>\n",
       "      <th>...</th>\n",
       "      <td>...</td>\n",
       "      <td>...</td>\n",
       "    </tr>\n",
       "    <tr>\n",
       "      <th>44351</th>\n",
       "      <td>Российский Минфин может пересмотреть минимальн...</td>\n",
       "      <td>Экономика</td>\n",
       "    </tr>\n",
       "    <tr>\n",
       "      <th>44352</th>\n",
       "      <td>Сотрудники Службы безопасности Украины (СБУ) с...</td>\n",
       "      <td>Бывший СССР</td>\n",
       "    </tr>\n",
       "    <tr>\n",
       "      <th>44353</th>\n",
       "      <td>Америке следует задуматься над поставками на У...</td>\n",
       "      <td>Силовые структуры</td>\n",
       "    </tr>\n",
       "    <tr>\n",
       "      <th>44354</th>\n",
       "      <td>Опознаны тела 71 человека, погибшего в результ...</td>\n",
       "      <td>Мир</td>\n",
       "    </tr>\n",
       "    <tr>\n",
       "      <th>44355</th>\n",
       "      <td>Украинский националист, лидер запрещенной в Ро...</td>\n",
       "      <td>Бывший СССР</td>\n",
       "    </tr>\n",
       "  </tbody>\n",
       "</table>\n",
       "<p>44356 rows × 2 columns</p>\n",
       "</div>"
      ],
      "text/plain": [
       "                                                    text              topic\n",
       "0      Россия должна сотрудничать с Всемирным антидоп...              Спорт\n",
       "1      Уголовный суд Кувейта 28 июня освободил под за...                Мир\n",
       "2      Французский журнал Charlie Hebdo опубликовал н...     Интернет и СМИ\n",
       "3      В Петербурге в доме № 53 по улице Лени Голиков...             Россия\n",
       "4      В московском аэропорту \"Домодедово\" задержан г...             Россия\n",
       "...                                                  ...                ...\n",
       "44351  Российский Минфин может пересмотреть минимальн...          Экономика\n",
       "44352  Сотрудники Службы безопасности Украины (СБУ) с...        Бывший СССР\n",
       "44353  Америке следует задуматься над поставками на У...  Силовые структуры\n",
       "44354  Опознаны тела 71 человека, погибшего в результ...                Мир\n",
       "44355  Украинский националист, лидер запрещенной в Ро...        Бывший СССР\n",
       "\n",
       "[44356 rows x 2 columns]"
      ]
     },
     "execution_count": 7,
     "metadata": {},
     "output_type": "execute_result"
    }
   ],
   "source": [
    "df"
   ]
  },
  {
   "cell_type": "code",
   "execution_count": 8,
   "id": "2a77a498-cbdd-4db1-ab53-a9b3e58e7515",
   "metadata": {},
   "outputs": [],
   "source": [
    "df.dropna(subset=['topic', 'text'], inplace=True)"
   ]
  },
  {
   "cell_type": "code",
   "execution_count": 9,
   "id": "70a562af-3d17-489f-8312-32284c712ced",
   "metadata": {},
   "outputs": [],
   "source": [
    "def preprocess(text):\n",
    "    tokens = text.lower().split()\n",
    "    tokens = [token.strip(punctuation) for token in tokens]\n",
    "    return tokens"
   ]
  },
  {
   "cell_type": "code",
   "execution_count": 11,
   "id": "ea46ea6f-5166-4dda-b564-c2598998080f",
   "metadata": {},
   "outputs": [],
   "source": [
    "# словарь\n",
    "vocab = Counter()\n",
    "\n",
    "for text in df.text:\n",
    "    vocab.update(preprocess(text))"
   ]
  },
  {
   "cell_type": "code",
   "execution_count": 12,
   "id": "6e58f17c-8e75-4ec2-a0dc-9804ddcf8440",
   "metadata": {},
   "outputs": [
    {
     "data": {
      "text/plain": [
       "354611"
      ]
     },
     "execution_count": 12,
     "metadata": {},
     "output_type": "execute_result"
    }
   ],
   "source": [
    "len(vocab)"
   ]
  },
  {
   "cell_type": "code",
   "execution_count": 13,
   "id": "18a8a997-893c-4276-a28d-dbf740828baf",
   "metadata": {},
   "outputs": [],
   "source": [
    "# отфильтрованный словарь\n",
    "filtered_vocab = set()\n",
    "\n",
    "for word in vocab:\n",
    "    if vocab[word] > 20:\n",
    "        filtered_vocab.add(word)"
   ]
  },
  {
   "cell_type": "code",
   "execution_count": 14,
   "id": "2bbe790a-a7f5-466e-8984-8b0f1a50f7fd",
   "metadata": {},
   "outputs": [
    {
     "data": {
      "text/plain": [
       "32156"
      ]
     },
     "execution_count": 14,
     "metadata": {},
     "output_type": "execute_result"
    }
   ],
   "source": [
    "len(filtered_vocab)"
   ]
  },
  {
   "cell_type": "code",
   "execution_count": 15,
   "id": "15861177-b68c-451d-b64d-49fa92d090d7",
   "metadata": {},
   "outputs": [],
   "source": [
    "# индексируем слова\n",
    "word2id = {'PAD':0}\n",
    "\n",
    "for word in filtered_vocab:\n",
    "    word2id[word] = len(word2id)"
   ]
  },
  {
   "cell_type": "code",
   "execution_count": 16,
   "id": "acfc941f-1586-4d2d-bb78-4dd7dca7c3c7",
   "metadata": {},
   "outputs": [],
   "source": [
    "id2word = {i:word for word, i in word2id.items()}"
   ]
  },
  {
   "cell_type": "code",
   "execution_count": 17,
   "id": "650025c8-24ee-49a2-85a6-4474051930cc",
   "metadata": {},
   "outputs": [],
   "source": [
    "class Dataset(torch.utils.data.Dataset):\n",
    "\n",
    "    def __init__(self, word2id, MAX_LEN, texts, targets):\n",
    "        \n",
    "        # храним сырой датасет\n",
    "        # еще лучше можно сделать, если считывать из файла при генерации\n",
    "        self.texts = [torch.LongTensor([word2id[w] for w in self.preprocess(t) if w in word2id][:MAX_LEN]) for t in texts]\n",
    "        self.texts = torch.nn.utils.rnn.pad_sequence(self.texts, batch_first=True)\n",
    "        \n",
    "        # мы не считаем словарь прямо тут, т.к. нам нужно шерить словарь между трейном и валидацией\n",
    "        self.word2id = word2id\n",
    "        self.MAX_LEN = MAX_LEN\n",
    "        self.length = len(texts)\n",
    "        # таргеты можно сразу целиком выделить \n",
    "        \n",
    "        self.target = torch.LongTensor(targets)\n",
    "\n",
    "    def __len__(self):\n",
    "        # нужно уметь возвращать длину датасета, в нашем случае это просто сделать\n",
    "        # если не загружать данные целиком, а читать из файла - это может быть сложнее\n",
    "        return self.length\n",
    "\n",
    "    def __getitem__(self, index):\n",
    "\n",
    "        # в index будут индексы от 0 до self.length\n",
    "        # по ним мы достанем тексты, предобработаем,переведем в векторы, западим и вернем\n",
    "\n",
    "        ids = self.texts[index]\n",
    "        y = self.target[index]\n",
    "\n",
    "        return ids, y\n",
    "    \n",
    "    def preprocess(self, text):\n",
    "        tokens = text.lower().split()\n",
    "        tokens = [token.strip(punctuation) for token in tokens]\n",
    "        tokens = [token for token in tokens if token]\n",
    "        return tokens\n"
   ]
  },
  {
   "cell_type": "code",
   "execution_count": 18,
   "id": "9cac0056-9e85-4453-b746-6381b47a5131",
   "metadata": {},
   "outputs": [],
   "source": [
    "MAX_LEN = 200"
   ]
  },
  {
   "cell_type": "code",
   "execution_count": 22,
   "id": "e71b6aaf-4a61-42fe-9966-df00a7de1f49",
   "metadata": {},
   "outputs": [],
   "source": [
    "texts = df.text.values\n",
    "id2label = {i:l for i,l in enumerate(set(df.topic))}\n",
    "label2id = {l:i for i,l in id2label.items()}\n",
    "targets = [label2id[l] for l in df.topic]"
   ]
  },
  {
   "cell_type": "code",
   "execution_count": 23,
   "id": "8375f070-38c5-4ce4-80f5-44ca01bbda41",
   "metadata": {},
   "outputs": [],
   "source": [
    "train_texts, valid_texts, train_targets, valid_targets = train_test_split(texts, targets, test_size=0.15)"
   ]
  },
  {
   "cell_type": "code",
   "execution_count": 25,
   "id": "d0658961-c24d-480c-a9d1-056140ff3a9f",
   "metadata": {},
   "outputs": [],
   "source": [
    "training_set = Dataset(word2id, MAX_LEN, train_texts, train_targets)\n",
    "train_data = torch.utils.data.DataLoader(training_set, batch_size=256, shuffle=True, )"
   ]
  },
  {
   "cell_type": "code",
   "execution_count": 24,
   "id": "9b5bb5c9-16d7-4f12-b340-b39a7504e0f0",
   "metadata": {},
   "outputs": [],
   "source": [
    "valid_set = Dataset(word2id, MAX_LEN, valid_texts, valid_targets)\n",
    "valid_data = torch.utils.data.DataLoader(valid_set, batch_size=256, shuffle=False)"
   ]
  },
  {
   "cell_type": "code",
   "execution_count": 99,
   "id": "91c6579a-850e-4066-8eea-e4ec42a7d884",
   "metadata": {},
   "outputs": [],
   "source": [
    "from sklearn.metrics import f1_score\n",
    "from copy import deepcopy\n",
    "\n",
    "def train(model, iterator, optimizer, criterion, print_every=1000):\n",
    "    \n",
    "    epoch_loss = []\n",
    "    epoch_f1 = []\n",
    "    \n",
    "    model.train()  \n",
    "\n",
    "    for i, (texts, ys) in enumerate(iterator):\n",
    "        \n",
    "        optimizer.zero_grad()   \n",
    "        predictions = model(texts.to(device)).squeeze()  \n",
    "        loss = criterion(predictions, ys.to(device))        \n",
    "        \n",
    "        \n",
    "        loss.backward()\n",
    "        optimizer.step()     \n",
    "        preds = predictions.detach().to('cpu').numpy().argmax(1).tolist()\n",
    "        y_true = ys.tolist()\n",
    "        \n",
    "        epoch_loss.append(loss.item())\n",
    "        epoch_f1.append(f1_score(y_true, preds, average=\"micro\"))\n",
    "        \n",
    "        if not (i+1) % print_every:\n",
    "            print(f'Loss: {np.mean(epoch_loss)}; F1 measure: {np.mean(epoch_f1)}')\n",
    "        \n",
    "    return np.mean(epoch_f1)\n",
    "\n",
    "\n",
    "def evaluate(model, iterator, criterion):\n",
    "    \n",
    "    epoch_loss = []\n",
    "    epoch_f1 = []\n",
    "    \n",
    "    model.eval()  \n",
    "    with torch.no_grad():\n",
    "        for texts, ys in iterator:   \n",
    "            predictions = model(texts.to(device)).squeeze()  \n",
    "            loss = criterion(predictions, ys.to(device))        \n",
    "            preds = predictions.detach().to('cpu').numpy().argmax(1).tolist()\n",
    "            y_true = ys.tolist()\n",
    "            \n",
    "            \n",
    "            epoch_loss.append(loss.item())  \n",
    "            epoch_f1.append(f1_score(y_true, preds, average=\"micro\"))\n",
    "\n",
    "            if epoch_f1[-1] > max(f1s_eval, default=0):\n",
    "                model.best_state = deepcopy(model.state_dict())\n",
    "            \n",
    "    return np.mean(epoch_f1)# / len(iterator)"
   ]
  },
  {
   "cell_type": "code",
   "execution_count": 100,
   "id": "856ec45d-cfe6-4c28-9d90-83080934bf63",
   "metadata": {},
   "outputs": [],
   "source": [
    "# сеть с двумя полносвязными слоями и активацией\n",
    "class Clf(nn.Module):\n",
    "    \n",
    "    def __init__(self, vocab_size, embedding_dim, hidden, output_dim):\n",
    "        super().__init__()          \n",
    "        self.embedding = nn.Embedding(vocab_size, embedding_dim)\n",
    "        self.fc = nn.Linear(embedding_dim, hidden)\n",
    "        self.fc_1 = nn.Linear(hidden, hidden*3)\n",
    "        self.act = nn.LogSoftmax(1) \n",
    "        self.fc_2 = nn.Linear(hidden*3, output_dim)\n",
    "        self.relu = nn.ReLU()       \n",
    "        \n",
    "    def forward(self, text):\n",
    "        embedded = self.embedding(text)   \n",
    "        hidden = torch.mean(embedded, dim=1)\n",
    "        hidden = self.relu(self.fc(hidden))\n",
    "        dense_outputs=self.fc_1(hidden) \n",
    "\n",
    "        outputs=self.act(dense_outputs)\n",
    "        \n",
    "        return outputs\n",
    "\n",
    "\n",
    "device = torch.device('cuda' if torch.cuda.is_available() else 'cpu')  \n",
    "model = Clf(len(word2id), 30, 30, len(label2id))\n",
    "\n",
    "\n",
    "optimizer = optim.Adam(model.parameters(), lr=0.001)\n",
    "criterion = nn.NLLLoss() \n",
    "model = model.to(device)\n",
    "criterion = criterion.to(device)"
   ]
  },
  {
   "cell_type": "code",
   "execution_count": 101,
   "id": "d1e8035b-beb2-4238-92a6-fd0cb1bf3a93",
   "metadata": {},
   "outputs": [],
   "source": [
    "import torchsummary"
   ]
  },
  {
   "cell_type": "code",
   "execution_count": 102,
   "id": "47953605-5220-4e05-83f0-cef5fd08a9fe",
   "metadata": {},
   "outputs": [
    {
     "name": "stdout",
     "output_type": "stream",
     "text": [
      "----------------------------------------------------------------\n",
      "        Layer (type)               Output Shape         Param #\n",
      "================================================================\n",
      "         Embedding-1           [-1, 1, 256, 30]         964,710\n",
      "            Linear-2              [-1, 256, 30]             930\n",
      "              ReLU-3              [-1, 256, 30]               0\n",
      "            Linear-4              [-1, 256, 90]           2,790\n",
      "        LogSoftmax-5              [-1, 256, 90]               0\n",
      "================================================================\n",
      "Total params: 968,430\n",
      "Trainable params: 968,430\n",
      "Non-trainable params: 0\n",
      "----------------------------------------------------------------\n",
      "Input size (MB): 0.00\n",
      "Forward/backward pass size (MB): 0.53\n",
      "Params size (MB): 3.69\n",
      "Estimated Total Size (MB): 4.22\n",
      "----------------------------------------------------------------\n"
     ]
    }
   ],
   "source": [
    "torchsummary.summary(model, (1, 256))"
   ]
  },
  {
   "cell_type": "code",
   "execution_count": null,
   "id": "c8017fd7-ee6b-4664-98d3-5a4a61e699f5",
   "metadata": {},
   "outputs": [],
   "source": []
  },
  {
   "cell_type": "markdown",
   "id": "28dd0a51-7192-4d18-8785-6f40d60c28fc",
   "metadata": {},
   "source": [
    "Запускаем обучение\n",
    "\n",
    "Будем сохранять состояние модели с лучшим результатом на валидационной выборке"
   ]
  },
  {
   "cell_type": "code",
   "execution_count": 77,
   "id": "d7f12710-3786-4338-8d7b-de146cc04d1e",
   "metadata": {},
   "outputs": [],
   "source": [
    "EPOCHS = 20"
   ]
  },
  {
   "cell_type": "code",
   "execution_count": 103,
   "id": "880f7e95-0f0b-4bba-b414-0d715f029e7d",
   "metadata": {
    "scrolled": true
   },
   "outputs": [
    {
     "name": "stderr",
     "output_type": "stream",
     "text": [
      "  0%|          | 0/20 [00:00<?, ?it/s]"
     ]
    },
    {
     "name": "stdout",
     "output_type": "stream",
     "text": [
      "0\n",
      "Loss: 3.488308606147766; F1 measure: 0.130078125\n"
     ]
    },
    {
     "name": "stderr",
     "output_type": "stream",
     "text": [
      "  5%|▌         | 1/20 [00:01<00:22,  1.18s/it]"
     ]
    },
    {
     "name": "stdout",
     "output_type": "stream",
     "text": [
      "Eval f1-measure:  0.20635457677165356\n",
      "1\n",
      "Loss: 2.311487910747528; F1 measure: 0.223515625\n"
     ]
    },
    {
     "name": "stderr",
     "output_type": "stream",
     "text": [
      " 10%|█         | 2/20 [00:02<00:21,  1.17s/it]"
     ]
    },
    {
     "name": "stdout",
     "output_type": "stream",
     "text": [
      "Eval f1-measure:  0.21536545086311326\n",
      "2\n",
      "Loss: 2.2172960782051088; F1 measure: 0.23328125\n"
     ]
    },
    {
     "name": "stderr",
     "output_type": "stream",
     "text": [
      " 15%|█▌        | 3/20 [00:03<00:20,  1.19s/it]"
     ]
    },
    {
     "name": "stdout",
     "output_type": "stream",
     "text": [
      "Eval f1-measure:  0.2574445885069655\n",
      "3\n",
      "Loss: 2.0538642263412474; F1 measure: 0.3284375\n"
     ]
    },
    {
     "name": "stderr",
     "output_type": "stream",
     "text": [
      " 20%|██        | 4/20 [00:04<00:18,  1.18s/it]"
     ]
    },
    {
     "name": "stdout",
     "output_type": "stream",
     "text": [
      "Eval f1-measure:  0.38608939657783165\n",
      "4\n",
      "Loss: 1.7601272714138032; F1 measure: 0.4452734375\n"
     ]
    },
    {
     "name": "stderr",
     "output_type": "stream",
     "text": [
      " 25%|██▌       | 5/20 [00:05<00:17,  1.18s/it]"
     ]
    },
    {
     "name": "stdout",
     "output_type": "stream",
     "text": [
      "Eval f1-measure:  0.5034720907783161\n",
      "5\n",
      "Loss: 1.4896282029151917; F1 measure: 0.536171875\n"
     ]
    },
    {
     "name": "stderr",
     "output_type": "stream",
     "text": [
      " 30%|███       | 6/20 [00:07<00:16,  1.17s/it]"
     ]
    },
    {
     "name": "stdout",
     "output_type": "stream",
     "text": [
      "Eval f1-measure:  0.5613347497728649\n",
      "6\n",
      "Loss: 1.3149406278133393; F1 measure: 0.593359375\n"
     ]
    },
    {
     "name": "stderr",
     "output_type": "stream",
     "text": [
      " 35%|███▌      | 7/20 [00:08<00:15,  1.16s/it]"
     ]
    },
    {
     "name": "stdout",
     "output_type": "stream",
     "text": [
      "Eval f1-measure:  0.6040148489551787\n",
      "7\n",
      "Loss: 1.1979370325803758; F1 measure: 0.6339453125\n"
     ]
    },
    {
     "name": "stderr",
     "output_type": "stream",
     "text": [
      " 40%|████      | 8/20 [00:09<00:13,  1.15s/it]"
     ]
    },
    {
     "name": "stdout",
     "output_type": "stream",
     "text": [
      "Eval f1-measure:  0.6330147921714112\n",
      "8\n",
      "Loss: 1.084039043188095; F1 measure: 0.670703125\n"
     ]
    },
    {
     "name": "stderr",
     "output_type": "stream",
     "text": [
      " 45%|████▌     | 9/20 [00:10<00:12,  1.15s/it]"
     ]
    },
    {
     "name": "stdout",
     "output_type": "stream",
     "text": [
      "Eval f1-measure:  0.6525495911568746\n",
      "9\n",
      "Loss: 0.9986419188976288; F1 measure: 0.69546875\n"
     ]
    },
    {
     "name": "stderr",
     "output_type": "stream",
     "text": [
      " 50%|█████     | 10/20 [00:11<00:11,  1.16s/it]"
     ]
    },
    {
     "name": "stdout",
     "output_type": "stream",
     "text": [
      "Eval f1-measure:  0.6737382173682617\n",
      "10\n",
      "Loss: 0.9286663192510605; F1 measure: 0.7179296875\n"
     ]
    },
    {
     "name": "stderr",
     "output_type": "stream",
     "text": [
      " 55%|█████▌    | 11/20 [00:13<00:11,  1.23s/it]"
     ]
    },
    {
     "name": "stdout",
     "output_type": "stream",
     "text": [
      "Eval f1-measure:  0.6838090551181103\n",
      "11\n",
      "Loss: 0.8747730123996734; F1 measure: 0.735859375\n"
     ]
    },
    {
     "name": "stderr",
     "output_type": "stream",
     "text": [
      " 60%|██████    | 12/20 [00:14<00:09,  1.21s/it]"
     ]
    },
    {
     "name": "stdout",
     "output_type": "stream",
     "text": [
      "Eval f1-measure:  0.6965794878104179\n",
      "12\n",
      "Loss: 0.8201582872867584; F1 measure: 0.7524609375\n"
     ]
    },
    {
     "name": "stderr",
     "output_type": "stream",
     "text": [
      " 65%|██████▌   | 13/20 [00:15<00:08,  1.20s/it]"
     ]
    },
    {
     "name": "stdout",
     "output_type": "stream",
     "text": [
      "Eval f1-measure:  0.7086069995457299\n",
      "13\n",
      "Loss: 0.7752294033765793; F1 measure: 0.765\n"
     ]
    },
    {
     "name": "stderr",
     "output_type": "stream",
     "text": [
      " 70%|███████   | 14/20 [00:16<00:07,  1.20s/it]"
     ]
    },
    {
     "name": "stdout",
     "output_type": "stream",
     "text": [
      "Eval f1-measure:  0.7128089983343429\n",
      "14\n",
      "Loss: 0.7259188455343246; F1 measure: 0.7787890625\n"
     ]
    },
    {
     "name": "stderr",
     "output_type": "stream",
     "text": [
      " 75%|███████▌  | 15/20 [00:17<00:05,  1.20s/it]"
     ]
    },
    {
     "name": "stdout",
     "output_type": "stream",
     "text": [
      "Eval f1-measure:  0.7242331825408843\n",
      "15\n",
      "Loss: 0.6830615013837814; F1 measure: 0.7939453125\n"
     ]
    },
    {
     "name": "stderr",
     "output_type": "stream",
     "text": [
      " 80%|████████  | 16/20 [00:18<00:04,  1.19s/it]"
     ]
    },
    {
     "name": "stdout",
     "output_type": "stream",
     "text": [
      "Eval f1-measure:  0.727842500757117\n",
      "16\n",
      "Loss: 0.6427914953231811; F1 measure: 0.806015625\n"
     ]
    },
    {
     "name": "stderr",
     "output_type": "stream",
     "text": [
      " 85%|████████▌ | 17/20 [00:20<00:03,  1.18s/it]"
     ]
    },
    {
     "name": "stdout",
     "output_type": "stream",
     "text": [
      "Eval f1-measure:  0.7344578096608116\n",
      "17\n",
      "Loss: 0.6103204363584518; F1 measure: 0.816328125\n"
     ]
    },
    {
     "name": "stderr",
     "output_type": "stream",
     "text": [
      " 90%|█████████ | 18/20 [00:21<00:02,  1.17s/it]"
     ]
    },
    {
     "name": "stdout",
     "output_type": "stream",
     "text": [
      "Eval f1-measure:  0.7374638003482737\n",
      "18\n",
      "Loss: 0.5758958956599236; F1 measure: 0.8244140625\n"
     ]
    },
    {
     "name": "stderr",
     "output_type": "stream",
     "text": [
      " 95%|█████████▌| 19/20 [00:22<00:01,  1.17s/it]"
     ]
    },
    {
     "name": "stdout",
     "output_type": "stream",
     "text": [
      "Eval f1-measure:  0.7385095680648093\n",
      "19\n",
      "Loss: 0.547370254099369; F1 measure: 0.8344140625\n"
     ]
    },
    {
     "name": "stderr",
     "output_type": "stream",
     "text": [
      "100%|██████████| 20/20 [00:23<00:00,  1.18s/it]"
     ]
    },
    {
     "name": "stdout",
     "output_type": "stream",
     "text": [
      "Eval f1-measure:  0.7431729349636584\n"
     ]
    },
    {
     "name": "stderr",
     "output_type": "stream",
     "text": [
      "\n"
     ]
    }
   ],
   "source": [
    "import gc\n",
    "from tqdm import tqdm\n",
    "\n",
    "f1s = []\n",
    "f1s_eval = []\n",
    "\n",
    "for i in tqdm(range(EPOCHS)):\n",
    "    print(i)\n",
    "    f1s.append(train(model, train_data, optimizer, criterion, 100))\n",
    "    evl = evaluate(model, valid_data, criterion)\n",
    "    print('Eval f1-measure: ', evl)\n",
    "    f1s_eval.append(evl)\n",
    "\n",
    "\n",
    "model.load_state_dict(model.best_state)\n",
    "evl = evaluate(model, valid_data, criterion)\n",
    "\n",
    "with open(\"models/model_results.txt\", \"w\") as f:\n",
    "    f.write(f\"Model {model._get_name()} f1-score is {evl}\")\n",
    "torch.save(model, f\"models/'{model._get_name()}'.pt\")\n",
    "\n",
    "del model\n",
    "gc.collect()\n",
    "torch.cuda.empty_cache()"
   ]
  },
  {
   "cell_type": "code",
   "execution_count": 104,
   "id": "26303f96-bd06-4d11-8cc8-08ae12d9107a",
   "metadata": {},
   "outputs": [
    {
     "data": {
      "image/png": "[encoded data removed]",
      "text/plain": [
       "<Figure size 640x480 with 1 Axes>"
      ]
     },
     "metadata": {},
     "output_type": "display_data"
    }
   ],
   "source": [
    "plt.plot(f1s)\n",
    "plt.plot(f1s_eval)\n",
    "plt.title('model f1 micro')\n",
    "plt.ylabel('f1')\n",
    "plt.xlabel('epoch')\n",
    "plt.legend(['train', 'val'], loc='upper left')\n",
    "plt.show()"
   ]
  },
  {
   "cell_type": "markdown",
   "id": "daf6298f-ad75-4ee6-bd15-1a32c7c3ef98",
   "metadata": {},
   "source": [
    "Посмотрим еще максимальную f меру"
   ]
  },
  {
   "cell_type": "code",
   "execution_count": 105,
   "id": "04b50f6c-5318-410c-9077-8bab3cd13841",
   "metadata": {},
   "outputs": [
    {
     "data": {
      "text/plain": [
       "0.7431729349636584"
      ]
     },
     "execution_count": 105,
     "metadata": {},
     "output_type": "execute_result"
    }
   ],
   "source": [
    "max(f1s_eval)"
   ]
  },
  {
   "cell_type": "markdown",
   "id": "33268627-396c-4b11-80a4-1c1eb3e79340",
   "metadata": {},
   "source": [
    "### CNNs"
   ]
  },
  {
   "cell_type": "code",
   "execution_count": 110,
   "id": "0459fe08-cae1-401d-aedb-e7bee47d1d00",
   "metadata": {},
   "outputs": [],
   "source": [
    "class Conv1(nn.Module):\n",
    "    \n",
    "    def __init__(self, output_dim, *, emb_dim = 100, ker_size = 7, stride = 1, hidden_layer = 64, max_len = 200):\n",
    "        \n",
    "        super().__init__() \n",
    "\n",
    "        self.VOCAB_SIZE = len(word2id)\n",
    "        self.EMB_DIM = emb_dim\n",
    "        self.KERNEL_SIZE = ker_size\n",
    "        self.MAX_LEN = max_len\n",
    "        self.IN_CHANNELS = self.EMB_DIM\n",
    "        self.OUT_CHANNELS = output_dim\n",
    "        self.STRIDE = stride\n",
    "        self.HIDDEN_FC = hidden_layer\n",
    "        \n",
    "        \n",
    "        self.embedding = nn.Embedding(self.VOCAB_SIZE, self.EMB_DIM)\n",
    "        \n",
    "        self.conv = nn.Conv1d(self.IN_CHANNELS, \n",
    "                              self.OUT_CHANNELS, \n",
    "                              kernel_size=self.KERNEL_SIZE, \n",
    "                              stride=self.STRIDE, ) \n",
    "    \n",
    "        self.relu = nn.ReLU()\n",
    "        \n",
    "        \n",
    "        self.flattened_size = int((((self.MAX_LEN-(self.KERNEL_SIZE-1)-1)/self.STRIDE)+1)*self.OUT_CHANNELS)\n",
    "        \n",
    "        self.fc = nn.Linear(self.flattened_size, \n",
    "                            self.HIDDEN_FC)\n",
    "        \n",
    "        self.fc_1 = nn.Linear(self.HIDDEN_FC, output_dim)\n",
    "        self.act = nn.LogSoftmax(1) \n",
    "        \n",
    "        \n",
    "    def forward(self, text):\n",
    "        \n",
    "        embedded = self.embedding(text).permute(0, 2, 1)\n",
    "        \n",
    "        convoluted = self.relu(self.conv(embedded))\n",
    "        hidden = torch.flatten(convoluted, 1, -1)\n",
    "        hidden = self.relu(self.fc(hidden))  \n",
    "        \n",
    "        dense_outputs = self.fc_1(hidden) \n",
    "        outputs=self.act(dense_outputs) \n",
    "        \n",
    "        return outputs\n",
    "\n",
    "\n",
    "device = torch.device('cuda' if torch.cuda.is_available() else 'cpu')  \n",
    "model = Conv1(len(label2id))\n",
    "\n",
    "\n",
    "optimizer = optim.Adam(model.parameters(), lr=0.001)\n",
    "criterion = nn.NLLLoss() \n",
    "model = model.to(device)\n",
    "criterion = criterion.to(device)"
   ]
  },
  {
   "cell_type": "code",
   "execution_count": 116,
   "id": "647ad877-bb88-48f9-9e49-3a32ee638bae",
   "metadata": {},
   "outputs": [
    {
     "name": "stdout",
     "output_type": "stream",
     "text": [
      "----------------------------------------------------------------\n",
      "        Layer (type)               Output Shape         Param #\n",
      "================================================================\n",
      "         Embedding-1             [-1, 200, 100]       3,215,700\n",
      "            Conv1d-2              [-1, 19, 194]          13,319\n",
      "              ReLU-3              [-1, 19, 194]               0\n",
      "            Linear-4                   [-1, 64]         235,968\n",
      "              ReLU-5                   [-1, 64]               0\n",
      "            Linear-6                   [-1, 19]           1,235\n",
      "        LogSoftmax-7                   [-1, 19]               0\n",
      "================================================================\n",
      "Total params: 3,466,222\n",
      "Trainable params: 3,466,222\n",
      "Non-trainable params: 0\n",
      "----------------------------------------------------------------\n",
      "Input size (MB): 0.00\n",
      "Forward/backward pass size (MB): 0.21\n",
      "Params size (MB): 13.22\n",
      "Estimated Total Size (MB): 13.43\n",
      "----------------------------------------------------------------\n"
     ]
    }
   ],
   "source": [
    "torchsummary.summary(model, (200, ))"
   ]
  },
  {
   "cell_type": "code",
   "execution_count": 107,
   "id": "03724690-a1b4-4892-93c0-78adf367ee84",
   "metadata": {
    "scrolled": true
   },
   "outputs": [
    {
     "name": "stderr",
     "output_type": "stream",
     "text": [
      "  0%|          | 0/20 [00:00<?, ?it/s]"
     ]
    },
    {
     "name": "stdout",
     "output_type": "stream",
     "text": [
      "0\n",
      "Loss: 2.20754679441452; F1 measure: 0.265546875\n"
     ]
    },
    {
     "name": "stderr",
     "output_type": "stream",
     "text": [
      "  5%|▌         | 1/20 [00:05<01:47,  5.66s/it]"
     ]
    },
    {
     "name": "stdout",
     "output_type": "stream",
     "text": [
      "Eval f1-measure:  0.4933988870381587\n",
      "1\n",
      "Loss: 1.3379059481620788; F1 measure: 0.5824609375\n"
     ]
    },
    {
     "name": "stderr",
     "output_type": "stream",
     "text": [
      " 10%|█         | 2/20 [00:11<01:39,  5.55s/it]"
     ]
    },
    {
     "name": "stdout",
     "output_type": "stream",
     "text": [
      "Eval f1-measure:  0.6076123372198667\n",
      "2\n",
      "Loss: 0.944161610007286; F1 measure: 0.705\n"
     ]
    },
    {
     "name": "stderr",
     "output_type": "stream",
     "text": [
      " 15%|█▌        | 3/20 [00:16<01:33,  5.48s/it]"
     ]
    },
    {
     "name": "stdout",
     "output_type": "stream",
     "text": [
      "Eval f1-measure:  0.6399270328588733\n",
      "3\n",
      "Loss: 0.6805279082059861; F1 measure: 0.78921875\n"
     ]
    },
    {
     "name": "stderr",
     "output_type": "stream",
     "text": [
      " 20%|██        | 4/20 [00:22<01:28,  5.53s/it]"
     ]
    },
    {
     "name": "stdout",
     "output_type": "stream",
     "text": [
      "Eval f1-measure:  0.6433837447001818\n",
      "4\n",
      "Loss: 0.4679592406749725; F1 measure: 0.8594140625\n"
     ]
    },
    {
     "name": "stderr",
     "output_type": "stream",
     "text": [
      " 25%|██▌       | 5/20 [00:27<01:22,  5.51s/it]"
     ]
    },
    {
     "name": "stdout",
     "output_type": "stream",
     "text": [
      "Eval f1-measure:  0.6548055629164142\n",
      "5\n",
      "Loss: 0.29244456231594085; F1 measure: 0.918984375\n"
     ]
    },
    {
     "name": "stderr",
     "output_type": "stream",
     "text": [
      " 30%|███       | 6/20 [00:33<01:19,  5.65s/it]"
     ]
    },
    {
     "name": "stdout",
     "output_type": "stream",
     "text": [
      "Eval f1-measure:  0.6594618318443367\n",
      "6\n",
      "Loss: 0.15518462039530279; F1 measure: 0.9659765625\n"
     ]
    },
    {
     "name": "stderr",
     "output_type": "stream",
     "text": [
      " 35%|███▌      | 7/20 [00:39<01:15,  5.81s/it]"
     ]
    },
    {
     "name": "stdout",
     "output_type": "stream",
     "text": [
      "Eval f1-measure:  0.6490987942913387\n",
      "7\n",
      "Loss: 0.07720282569527626; F1 measure: 0.9873828125\n"
     ]
    },
    {
     "name": "stderr",
     "output_type": "stream",
     "text": [
      " 40%|████      | 8/20 [00:45<01:09,  5.80s/it]"
     ]
    },
    {
     "name": "stdout",
     "output_type": "stream",
     "text": [
      "Eval f1-measure:  0.654959352286493\n",
      "8\n",
      "Loss: 0.03729600565508008; F1 measure: 0.99640625\n"
     ]
    },
    {
     "name": "stderr",
     "output_type": "stream",
     "text": [
      " 45%|████▌     | 9/20 [00:50<01:02,  5.71s/it]"
     ]
    },
    {
     "name": "stdout",
     "output_type": "stream",
     "text": [
      "Eval f1-measure:  0.6534581314354936\n",
      "9\n",
      "Loss: 0.01949319667182863; F1 measure: 0.9980078125\n"
     ]
    },
    {
     "name": "stderr",
     "output_type": "stream",
     "text": [
      " 50%|█████     | 10/20 [00:56<00:57,  5.73s/it]"
     ]
    },
    {
     "name": "stdout",
     "output_type": "stream",
     "text": [
      "Eval f1-measure:  0.6579653429739551\n",
      "10\n",
      "Loss: 0.013073232853785158; F1 measure: 0.998359375\n"
     ]
    },
    {
     "name": "stderr",
     "output_type": "stream",
     "text": [
      " 55%|█████▌    | 11/20 [01:02<00:52,  5.88s/it]"
     ]
    },
    {
     "name": "stdout",
     "output_type": "stream",
     "text": [
      "Eval f1-measure:  0.6569089283010296\n",
      "11\n",
      "Loss: 0.009517715256661176; F1 measure: 0.9986328125\n"
     ]
    },
    {
     "name": "stderr",
     "output_type": "stream",
     "text": [
      " 60%|██████    | 12/20 [01:09<00:48,  6.03s/it]"
     ]
    },
    {
     "name": "stdout",
     "output_type": "stream",
     "text": [
      "Eval f1-measure:  0.6597694105844943\n",
      "12\n",
      "Loss: 0.007377194485161454; F1 measure: 0.998984375\n"
     ]
    },
    {
     "name": "stderr",
     "output_type": "stream",
     "text": [
      " 65%|██████▌   | 13/20 [01:15<00:42,  6.07s/it]"
     ]
    },
    {
     "name": "stdout",
     "output_type": "stream",
     "text": [
      "Eval f1-measure:  0.6596144382192611\n",
      "13\n",
      "Loss: 0.005864523483905941; F1 measure: 0.998984375\n"
     ]
    },
    {
     "name": "stderr",
     "output_type": "stream",
     "text": [
      " 70%|███████   | 14/20 [01:21<00:35,  5.95s/it]"
     ]
    },
    {
     "name": "stdout",
     "output_type": "stream",
     "text": [
      "Eval f1-measure:  0.6611203910508782\n",
      "14\n",
      "Loss: 0.006070959069766104; F1 measure: 0.9987890625\n"
     ]
    },
    {
     "name": "stderr",
     "output_type": "stream",
     "text": [
      " 75%|███████▌  | 15/20 [01:27<00:29,  6.00s/it]"
     ]
    },
    {
     "name": "stdout",
     "output_type": "stream",
     "text": [
      "Eval f1-measure:  0.6624713715172622\n",
      "15\n",
      "Loss: 0.00534165833843872; F1 measure: 0.9987109375\n"
     ]
    },
    {
     "name": "stderr",
     "output_type": "stream",
     "text": [
      " 80%|████████  | 16/20 [01:33<00:23,  6.00s/it]"
     ]
    },
    {
     "name": "stdout",
     "output_type": "stream",
     "text": [
      "Eval f1-measure:  0.661420871820109\n",
      "16\n",
      "Loss: 0.00473865139298141; F1 measure: 0.9990234375\n"
     ]
    },
    {
     "name": "stderr",
     "output_type": "stream",
     "text": [
      " 85%|████████▌ | 17/20 [01:39<00:17,  5.93s/it]"
     ]
    },
    {
     "name": "stdout",
     "output_type": "stream",
     "text": [
      "Eval f1-measure:  0.6620206503634161\n",
      "17\n",
      "Loss: 0.00460424862918444; F1 measure: 0.9991015625\n"
     ]
    },
    {
     "name": "stderr",
     "output_type": "stream",
     "text": [
      " 90%|█████████ | 18/20 [01:44<00:11,  5.89s/it]"
     ]
    },
    {
     "name": "stdout",
     "output_type": "stream",
     "text": [
      "Eval f1-measure:  0.6618727759691097\n",
      "18\n",
      "Loss: 0.004278633184731007; F1 measure: 0.9989453125\n"
     ]
    },
    {
     "name": "stderr",
     "output_type": "stream",
     "text": [
      " 95%|█████████▌| 19/20 [01:50<00:05,  5.82s/it]"
     ]
    },
    {
     "name": "stdout",
     "output_type": "stream",
     "text": [
      "Eval f1-measure:  0.6627730352816474\n",
      "19\n",
      "Loss: 0.009724942580214701; F1 measure: 0.99796875\n"
     ]
    },
    {
     "name": "stderr",
     "output_type": "stream",
     "text": [
      "100%|██████████| 20/20 [01:56<00:00,  5.82s/it]"
     ]
    },
    {
     "name": "stdout",
     "output_type": "stream",
     "text": [
      "Eval f1-measure:  0.6605158805269534\n"
     ]
    },
    {
     "name": "stderr",
     "output_type": "stream",
     "text": [
      "\n"
     ]
    }
   ],
   "source": [
    "import gc\n",
    "from tqdm import tqdm\n",
    "\n",
    "f1s = []\n",
    "f1s_eval = []\n",
    "\n",
    "for i in tqdm(range(EPOCHS)):\n",
    "    print(i)\n",
    "    f1s.append(train(model, train_data, optimizer, criterion, 100))\n",
    "    evl = evaluate(model, valid_data, criterion)\n",
    "    print('Eval f1-measure: ', evl)\n",
    "    f1s_eval.append(evl)\n",
    "\n",
    "\n",
    "model.load_state_dict(model.best_state)\n",
    "evl = evaluate(model, valid_data, criterion)\n",
    "\n",
    "with open(\"models/model_results.txt\", \"a\") as f:\n",
    "    f.writelines(f\"Model {model._get_name()} f1-score is {evl}\\n\")\n",
    "torch.save(model, f\"models/'{model._get_name()}'.pt\")\n",
    "\n",
    "del model\n",
    "gc.collect()\n",
    "torch.cuda.empty_cache()"
   ]
  },
  {
   "cell_type": "code",
   "execution_count": 117,
   "id": "cdb376db-b67e-4357-a535-a854b808b84f",
   "metadata": {},
   "outputs": [
    {
     "data": {
      "image/png": "[encoded data removed]",
      "text/plain": [
       "<Figure size 640x480 with 1 Axes>"
      ]
     },
     "metadata": {},
     "output_type": "display_data"
    }
   ],
   "source": [
    "plt.plot(f1s)\n",
    "plt.plot(f1s_eval)\n",
    "plt.title('model f1 micro')\n",
    "plt.ylabel('f1')\n",
    "plt.xlabel('epoch')\n",
    "plt.legend(['train', 'val'], loc='upper left')\n",
    "plt.show()"
   ]
  },
  {
   "cell_type": "code",
   "execution_count": 142,
   "id": "606a391b-4a8b-4fac-b7ee-1c9164399a33",
   "metadata": {},
   "outputs": [
    {
     "data": {
      "text/plain": [
       "0.6627730352816474"
      ]
     },
     "execution_count": 142,
     "metadata": {},
     "output_type": "execute_result"
    }
   ],
   "source": [
    "max(f1s_eval)"
   ]
  },
  {
   "cell_type": "markdown",
   "id": "26770113-d73a-4df5-b007-a8e7f2f9a984",
   "metadata": {},
   "source": [
    "Добавим батчнорм и регуляризацию."
   ]
  },
  {
   "cell_type": "code",
   "execution_count": 144,
   "id": "9834a04d-9440-405c-bf7b-2db5f41b402d",
   "metadata": {},
   "outputs": [],
   "source": [
    "class Conv2(nn.Module):\n",
    "    \n",
    "    def __init__(self, output_dim):\n",
    "        \n",
    "        super().__init__()          \n",
    "        self.VOCAB_SIZE = len(word2id)\n",
    "        self.EMB_DIM = 100\n",
    "        self.KERNEL_SIZE = 5\n",
    "        self.MAX_LEN = 200\n",
    "        self.IN_CHANNELS = self.EMB_DIM\n",
    "        self.OUT_CHANNELS = 128\n",
    "        self.STRIDE = 2\n",
    "        self.STRIDE_POOL = 2\n",
    "        self.KERNEL_SIZE_POOL = 2\n",
    "        self.HIDDEN_FC = 64\n",
    "        \n",
    "        \n",
    "        self.embedding = nn.Embedding(self.VOCAB_SIZE, self.EMB_DIM)\n",
    "        self.conv = nn.Conv1d(self.IN_CHANNELS, \n",
    "                              self.OUT_CHANNELS, \n",
    "                              kernel_size=self.KERNEL_SIZE, \n",
    "                              stride=self.STRIDE) \n",
    "        self.conv_length = int((((self.MAX_LEN-(self.KERNEL_SIZE-1)-1)/self.STRIDE)+1))\n",
    "        \n",
    "        # инициализируем батчнорм\n",
    "        self.batch_norm = nn.BatchNorm1d(self.OUT_CHANNELS)\n",
    "\n",
    "        \n",
    "        self.max_pool = nn.MaxPool1d(kernel_size=self.KERNEL_SIZE_POOL, \n",
    "                                     stride=self.STRIDE_POOL) \n",
    "        self.pool_length = int((((self.conv_length-(self.KERNEL_SIZE_POOL-1)-1)/self.STRIDE_POOL)+1))\n",
    "        \n",
    "        self.relu = torch.nn.LeakyReLU()\n",
    "        \n",
    "\n",
    "        self.fc = nn.Linear(self.OUT_CHANNELS * self.pool_length, \n",
    "                            self.HIDDEN_FC)\n",
    "        self.fc_1 = nn.Linear(self.HIDDEN_FC, output_dim)\n",
    "        self.act = nn.LogSoftmax(1) \n",
    "        \n",
    "        \n",
    "    def forward(self, text):\n",
    "        embedded = self.embedding(text).permute(0, 2, 1)\n",
    "        convoluted = self.conv(embedded)\n",
    "        # я не нашел совсем достоверной информации, но пару авторитетных мнений\n",
    "        # указывают на то, что батчнорм нужно ставить после свертки-пулинга-активации\n",
    "        # а не где-то внутри этой тройки\n",
    "        # то есть нужно держаться структуры свертка-*пулинг*-активация-батчнорм (пулинг опциональный)\n",
    "        pooled = self.batch_norm(self.relu(self.max_pool(convoluted)), )\n",
    "        hidden = torch.flatten(pooled, 1, -1)\n",
    "        hidden = self.relu(self.fc(hidden))\n",
    "        dense_outputs=self.fc_1(hidden) \n",
    "        outputs=self.act(dense_outputs)\n",
    "        \n",
    "        return outputs\n",
    "\n",
    "\n",
    "\n",
    "device = torch.device('cuda' if torch.cuda.is_available() else 'cpu')  \n",
    "model = Conv2(len(label2id))\n",
    "\n",
    "\n",
    "optimizer = optim.Adam([{'params':model.fc_1.parameters()},\n",
    "                        {'params':model.conv.parameters()},\n",
    "                        {'params':model.embedding.parameters()},\n",
    "                        {'params': model.fc.parameters(), 'weight_decay':0.1}],  # указываем в этом слое L2 регуляризацию\n",
    "                                                                                 # можно пробовать значения как в sklearn\n",
    "                                                                                 # в параметре C в логреге\n",
    "                       \n",
    "                         lr=0.001) # лернирг рейт тоже можно отдельно указать выше, но мы используем 1 на все слои\n",
    "criterion = nn.CrossEntropyLoss() \n",
    "model = model.to(device)\n",
    "criterion = criterion.to(device)"
   ]
  },
  {
   "cell_type": "code",
   "execution_count": 145,
   "id": "7f13e1c1-29b4-4927-b2ba-bbeeeecdf2b4",
   "metadata": {},
   "outputs": [
    {
     "name": "stdout",
     "output_type": "stream",
     "text": [
      "----------------------------------------------------------------\n",
      "        Layer (type)               Output Shape         Param #\n",
      "================================================================\n",
      "         Embedding-1            [256, 200, 100]       3,215,700\n",
      "            Conv1d-2             [256, 128, 98]          64,128\n",
      "         MaxPool1d-3             [256, 128, 49]               0\n",
      "         LeakyReLU-4             [256, 128, 49]               0\n",
      "       BatchNorm1d-5             [256, 128, 49]             256\n",
      "            Linear-6                  [256, 64]         401,472\n",
      "         LeakyReLU-7                  [256, 64]               0\n",
      "            Linear-8                  [256, 19]           1,235\n",
      "        LogSoftmax-9                  [256, 19]               0\n",
      "================================================================\n",
      "Total params: 3,682,791\n",
      "Trainable params: 3,682,791\n",
      "Non-trainable params: 0\n",
      "----------------------------------------------------------------\n",
      "Input size (MB): 0.20\n",
      "Forward/backward pass size (MB): 100.64\n",
      "Params size (MB): 14.05\n",
      "Estimated Total Size (MB): 114.88\n",
      "----------------------------------------------------------------\n"
     ]
    }
   ],
   "source": [
    "torchsummary.summary(model, (200, ), batch_size=256)"
   ]
  },
  {
   "cell_type": "code",
   "execution_count": 146,
   "id": "cae00fbb-b11f-499d-a942-8e6768e9b244",
   "metadata": {
    "scrolled": true
   },
   "outputs": [
    {
     "name": "stderr",
     "output_type": "stream",
     "text": [
      "  0%|          | 0/20 [00:00<?, ?it/s]"
     ]
    },
    {
     "name": "stdout",
     "output_type": "stream",
     "text": [
      "0\n",
      "Loss: 2.181894739866257; F1 measure: 0.2829296875\n"
     ]
    },
    {
     "name": "stderr",
     "output_type": "stream",
     "text": [
      "  5%|▌         | 1/20 [00:18<05:57, 18.82s/it]"
     ]
    },
    {
     "name": "stdout",
     "output_type": "stream",
     "text": [
      "Eval f1-measure:  0.4964107927013931\n",
      "1\n",
      "Loss: 1.3699736380577088; F1 measure: 0.5759375\n"
     ]
    },
    {
     "name": "stderr",
     "output_type": "stream",
     "text": [
      " 10%|█         | 2/20 [00:36<05:31, 18.44s/it]"
     ]
    },
    {
     "name": "stdout",
     "output_type": "stream",
     "text": [
      "Eval f1-measure:  0.5948324405663235\n",
      "2\n",
      "Loss: 1.0419024914503097; F1 measure: 0.6805078125\n"
     ]
    },
    {
     "name": "stderr",
     "output_type": "stream",
     "text": [
      " 15%|█▌        | 3/20 [00:55<05:10, 18.28s/it]"
     ]
    },
    {
     "name": "stdout",
     "output_type": "stream",
     "text": [
      "Eval f1-measure:  0.6478838582677166\n",
      "3\n",
      "Loss: 0.8429162776470185; F1 measure: 0.7411328125\n"
     ]
    },
    {
     "name": "stderr",
     "output_type": "stream",
     "text": [
      " 20%|██        | 4/20 [01:13<04:51, 18.19s/it]"
     ]
    },
    {
     "name": "stdout",
     "output_type": "stream",
     "text": [
      "Eval f1-measure:  0.6591495211235615\n",
      "4\n",
      "Loss: 0.6857535374164582; F1 measure: 0.7924609375\n"
     ]
    },
    {
     "name": "stderr",
     "output_type": "stream",
     "text": [
      " 25%|██▌       | 5/20 [01:31<04:32, 18.17s/it]"
     ]
    },
    {
     "name": "stdout",
     "output_type": "stream",
     "text": [
      "Eval f1-measure:  0.6806551900363416\n",
      "5\n",
      "Loss: 0.569606848359108; F1 measure: 0.8250390625\n"
     ]
    },
    {
     "name": "stderr",
     "output_type": "stream",
     "text": [
      " 30%|███       | 6/20 [01:49<04:13, 18.14s/it]"
     ]
    },
    {
     "name": "stdout",
     "output_type": "stream",
     "text": [
      "Eval f1-measure:  0.6911672849788008\n",
      "6\n",
      "Loss: 0.47030300348997117; F1 measure: 0.8580859375\n"
     ]
    },
    {
     "name": "stderr",
     "output_type": "stream",
     "text": [
      " 35%|███▌      | 7/20 [02:07<03:55, 18.12s/it]"
     ]
    },
    {
     "name": "stdout",
     "output_type": "stream",
     "text": [
      "Eval f1-measure:  0.7075529508631132\n",
      "7\n",
      "Loss: 0.37922241240739823; F1 measure: 0.889296875\n"
     ]
    },
    {
     "name": "stderr",
     "output_type": "stream",
     "text": [
      " 40%|████      | 8/20 [02:25<03:37, 18.13s/it]"
     ]
    },
    {
     "name": "stdout",
     "output_type": "stream",
     "text": [
      "Eval f1-measure:  0.7037933922622652\n",
      "8\n",
      "Loss: 0.31682878389954566; F1 measure: 0.9078515625\n"
     ]
    },
    {
     "name": "stderr",
     "output_type": "stream",
     "text": [
      " 45%|████▌     | 9/20 [02:43<03:20, 18.20s/it]"
     ]
    },
    {
     "name": "stdout",
     "output_type": "stream",
     "text": [
      "Eval f1-measure:  0.7095037098728044\n",
      "9\n",
      "Loss: 0.26008832424879075; F1 measure: 0.928984375\n"
     ]
    },
    {
     "name": "stderr",
     "output_type": "stream",
     "text": [
      " 50%|█████     | 10/20 [03:02<03:02, 18.20s/it]"
     ]
    },
    {
     "name": "stdout",
     "output_type": "stream",
     "text": [
      "Eval f1-measure:  0.7095037098728044\n",
      "10\n",
      "Loss: 0.22509958311915398; F1 measure: 0.938671875\n"
     ]
    },
    {
     "name": "stderr",
     "output_type": "stream",
     "text": [
      " 55%|█████▌    | 11/20 [03:20<02:43, 18.17s/it]"
     ]
    },
    {
     "name": "stdout",
     "output_type": "stream",
     "text": [
      "Eval f1-measure:  0.7209314430648093\n",
      "11\n",
      "Loss: 0.18369358733296395; F1 measure: 0.9537890625\n"
     ]
    },
    {
     "name": "stderr",
     "output_type": "stream",
     "text": [
      " 60%|██████    | 12/20 [03:38<02:25, 18.16s/it]"
     ]
    },
    {
     "name": "stdout",
     "output_type": "stream",
     "text": [
      "Eval f1-measure:  0.7243834229254997\n",
      "12\n",
      "Loss: 0.158387933075428; F1 measure: 0.96015625\n"
     ]
    },
    {
     "name": "stderr",
     "output_type": "stream",
     "text": [
      " 65%|██████▌   | 13/20 [03:56<02:07, 18.16s/it]"
     ]
    },
    {
     "name": "stdout",
     "output_type": "stream",
     "text": [
      "Eval f1-measure:  0.7159628634161114\n",
      "13\n",
      "Loss: 0.1382229033857584; F1 measure: 0.96703125\n"
     ]
    },
    {
     "name": "stderr",
     "output_type": "stream",
     "text": [
      " 70%|███████   | 14/20 [04:14<01:48, 18.15s/it]"
     ]
    },
    {
     "name": "stdout",
     "output_type": "stream",
     "text": [
      "Eval f1-measure:  0.7216767300121139\n",
      "14\n",
      "Loss: 0.11854342244565487; F1 measure: 0.974140625\n"
     ]
    },
    {
     "name": "stderr",
     "output_type": "stream",
     "text": [
      " 75%|███████▌  | 15/20 [04:33<01:31, 18.27s/it]"
     ]
    },
    {
     "name": "stdout",
     "output_type": "stream",
     "text": [
      "Eval f1-measure:  0.7305432786947305\n",
      "15\n",
      "Loss: 0.11401511885225774; F1 measure: 0.9734375\n"
     ]
    },
    {
     "name": "stderr",
     "output_type": "stream",
     "text": [
      " 80%|████████  | 16/20 [04:51<01:13, 18.26s/it]"
     ]
    },
    {
     "name": "stdout",
     "output_type": "stream",
     "text": [
      "Eval f1-measure:  0.7168619397334949\n",
      "16\n",
      "Loss: 0.09758889187127352; F1 measure: 0.978671875\n"
     ]
    },
    {
     "name": "stderr",
     "output_type": "stream",
     "text": [
      " 85%|████████▌ | 17/20 [05:09<00:54, 18.26s/it]"
     ]
    },
    {
     "name": "stdout",
     "output_type": "stream",
     "text": [
      "Eval f1-measure:  0.7309928168534222\n",
      "17\n",
      "Loss: 0.08622520204633474; F1 measure: 0.982734375\n"
     ]
    },
    {
     "name": "stderr",
     "output_type": "stream",
     "text": [
      " 90%|█████████ | 18/20 [05:27<00:36, 18.23s/it]"
     ]
    },
    {
     "name": "stdout",
     "output_type": "stream",
     "text": [
      "Eval f1-measure:  0.7213750662477286\n",
      "18\n",
      "Loss: 0.08070714376866818; F1 measure: 0.98375\n"
     ]
    },
    {
     "name": "stderr",
     "output_type": "stream",
     "text": [
      " 95%|█████████▌| 19/20 [05:45<00:18, 18.19s/it]"
     ]
    },
    {
     "name": "stdout",
     "output_type": "stream",
     "text": [
      "Eval f1-measure:  0.7306923360841915\n",
      "19\n",
      "Loss: 0.07240406353026628; F1 measure: 0.98625\n"
     ]
    },
    {
     "name": "stderr",
     "output_type": "stream",
     "text": [
      "100%|██████████| 20/20 [06:04<00:00, 18.20s/it]"
     ]
    },
    {
     "name": "stdout",
     "output_type": "stream",
     "text": [
      "Eval f1-measure:  0.7287332961084191\n"
     ]
    },
    {
     "name": "stderr",
     "output_type": "stream",
     "text": [
      "\n"
     ]
    }
   ],
   "source": [
    "import gc\n",
    "from tqdm import tqdm\n",
    "\n",
    "f1s = []\n",
    "f1s_eval = []\n",
    "\n",
    "for i in tqdm(range(EPOCHS)):\n",
    "    print(i)\n",
    "    f1s.append(train(model, train_data, optimizer, criterion, 100))\n",
    "    evl = evaluate(model, valid_data, criterion)\n",
    "    print('Eval f1-measure: ', evl)\n",
    "    f1s_eval.append(evl)\n",
    "\n",
    "\n",
    "model.load_state_dict(model.best_state)\n",
    "evl = evaluate(model, valid_data, criterion)\n",
    "\n",
    "with open(\"models/model_results.txt\", \"a\") as f:\n",
    "    f.writelines(f\"Model {model._get_name()} f1-score is {evl}\\n\")\n",
    "torch.save(model, f\"models/'{model._get_name()}'.pt\")\n",
    "\n",
    "del model\n",
    "gc.collect()\n",
    "torch.cuda.empty_cache()"
   ]
  },
  {
   "cell_type": "code",
   "execution_count": 147,
   "id": "210565ba-520e-4d9a-a8de-9fa08dcfc00a",
   "metadata": {},
   "outputs": [
    {
     "data": {
      "image/png": "[encoded data removed]",
      "text/plain": [
       "<Figure size 640x480 with 1 Axes>"
      ]
     },
     "metadata": {},
     "output_type": "display_data"
    }
   ],
   "source": [
    "plt.plot(f1s)\n",
    "plt.plot(f1s_eval)\n",
    "plt.title('model f1 micro')\n",
    "plt.ylabel('f1')\n",
    "plt.xlabel('epoch')\n",
    "plt.legend(['train', 'val'], loc='upper left')\n",
    "plt.show()"
   ]
  },
  {
   "cell_type": "code",
   "execution_count": null,
   "id": "ecce05f5-e361-4aeb-8085-1b91a7911d2e",
   "metadata": {},
   "outputs": [],
   "source": []
  },
  {
   "cell_type": "code",
   "execution_count": 148,
   "id": "c51607b8-4e8e-4d07-b84e-2e9be61c21e4",
   "metadata": {},
   "outputs": [
    {
     "data": {
      "text/plain": [
       "0.7309928168534222"
      ]
     },
     "execution_count": 148,
     "metadata": {},
     "output_type": "execute_result"
    }
   ],
   "source": [
    "max(f1s_eval)"
   ]
  },
  {
   "cell_type": "code",
   "execution_count": null,
   "id": "9891f006-5152-4746-bb2e-a749c9b2805b",
   "metadata": {},
   "outputs": [],
   "source": []
  },
  {
   "cell_type": "markdown",
   "id": "f01e3a25-f9ed-4e8c-8e09-36436619aa68",
   "metadata": {},
   "source": [
    "### Продолжим добавлять слои"
   ]
  },
  {
   "cell_type": "code",
   "execution_count": 263,
   "id": "bc641526-dae8-4284-8c6f-54872d259325",
   "metadata": {},
   "outputs": [],
   "source": [
    "# воспользуюсь удобным шаблоном, добавив пулинг\n",
    "\n",
    "class Conv_layer_with_pad(nn.Module):\n",
    "    \n",
    "    def __init__(self, in_channels, out_channels, *, kernel_size = 5, stride = 1, ):\n",
    "        \n",
    "        super().__init__()          \n",
    "        self.KERNEL_SIZE = kernel_size\n",
    "        self.IN_CHANNELS = in_channels\n",
    "        self.OUT_CHANNELS = out_channels\n",
    "        self.STRIDE = stride\n",
    "        self.conv = nn.Conv1d(self.IN_CHANNELS, \n",
    "                              self.OUT_CHANNELS, \n",
    "                              kernel_size=self.KERNEL_SIZE, \n",
    "                              stride=self.STRIDE, ) \n",
    "        self.pool = nn.MaxPool1d(kernel_size=5, stride=2, padding=2)\n",
    "        \n",
    "        self.act = nn.LeakyReLU()\n",
    "        \n",
    "    def forward(self, embedded):\n",
    "        \"\"\"\n",
    "        Раньше мы расчитывали длину, которая получится, после применения сверточного слоя  по формуле:\n",
    "        OUTPUT_LENGTH = (((MAX_LEN-(KERNEL_SIZE-1)-1)/STRIDE)+1)\n",
    "        \n",
    "        \n",
    "        Теперь мы хотим на выходе получить длину, которая будет соответствовать длине изначальной последовательности.\n",
    "        Т.е. мы знаем OUTPUT_LENGTH и наша задача найти такой MAX_LEN, при котором он получается (остальные параметры фиксированы)\n",
    "        Перенесем все известные значения влево и получится вот такая формула\n",
    "        ((OUTPUT_LENGTH-1)*STRIDE)+1+(KERNEL_SIZE-1) = MAX_LEN\n",
    "        \n",
    "        Используя нужное значение MAX_LEN, нам нужно допаддить изначальную последовательность до этой длины\n",
    "        Т.к. мы будет падить с двух сторон, то нужно, чтобы получившееся число делилось на 2\n",
    "        \n",
    "        \n",
    "        \n",
    "        \"\"\"\n",
    "        MAX_LEN = embedded.size(2)\n",
    "        EXP_LEN = ((MAX_LEN-1)*self.STRIDE)+1+(self.KERNEL_SIZE-1)\n",
    "\n",
    "        assert not (EXP_LEN-MAX_LEN)%2, f\"Не ровный паддинг! {EXP_LEN}\"\n",
    "        \n",
    "        padded = F.pad(embedded, (int((EXP_LEN-MAX_LEN)), \n",
    "                                                   int((EXP_LEN-MAX_LEN))))\n",
    "        \n",
    "        convoluted = self.pool(self.conv(padded))\n",
    "        \n",
    "        return self.act(convoluted)"
   ]
  },
  {
   "cell_type": "code",
   "execution_count": 243,
   "id": "0b91f575-c593-4475-8ae3-3f67cd37ed8c",
   "metadata": {},
   "outputs": [],
   "source": [
    "class Conv3(nn.Module):\n",
    "    \n",
    "    def __init__(self, output_dim, *, emb_dim = 75, max_len = 200):\n",
    "        \n",
    "        super().__init__()          \n",
    "        self.VOCAB_SIZE = len(word2id)\n",
    "        self.EMB_DIM = emb_dim\n",
    "        self.MAX_LEN = max_len\n",
    "        self.IN_CHANNELS = self.MAX_LEN\n",
    "        self.OUT_CHANNELS = output_dim\n",
    "        \n",
    "        self.embedding = nn.Embedding(self.VOCAB_SIZE, self.EMB_DIM)\n",
    "        \n",
    "        self.conv = Conv_layer_with_pad(self.EMB_DIM, 192, kernel_size=2, stride=2)\n",
    "        self.conv1 = Conv_layer_with_pad(192, 48)\n",
    "        self.relu = nn.ReLU()\n",
    "        \n",
    "        self.fc = nn.Linear(2400, \n",
    "                            3200)\n",
    "        self.drop = nn.Dropout(p = 0.9)\n",
    "        self.fc_1 = nn.Linear(3200, 256)\n",
    "        self.fc_2 = nn.Linear(256, self.OUT_CHANNELS)\n",
    "        self.act = nn.LogSoftmax(1) \n",
    "        \n",
    "        \n",
    "    def forward(self, text):\n",
    "\n",
    "        embedded = self.embedding(text)\n",
    "        convoluted = self.conv1(self.conv(embedded.permute(0, 2, 1)))\n",
    "        hidden = torch.flatten(convoluted, 1, -1)\n",
    "        hidden = torch.relu(self.fc(hidden))\n",
    "        hidden = self.drop(hidden)\n",
    "        ffn=self.relu(self.fc_1(hidden))\n",
    "        outputs=self.act(self.fc_2(ffn))\n",
    "\n",
    "        return outputs\n",
    "\n",
    "\n",
    "device = torch.device('cuda' if torch.cuda.is_available() else 'cpu')  \n",
    "model = Conv3(len(label2id))\n",
    "\n",
    "\n",
    "optimizer = optim.Adam(model.parameters(), lr=0.001)\n",
    "criterion = nn.NLLLoss() \n",
    "\n",
    "model = model.to(device)\n",
    "criterion = criterion.to(device)"
   ]
  },
  {
   "cell_type": "code",
   "execution_count": 244,
   "id": "0f781668-6406-4250-9cf6-127d2771e34f",
   "metadata": {},
   "outputs": [
    {
     "name": "stdout",
     "output_type": "stream",
     "text": [
      "----------------------------------------------------------------\n",
      "        Layer (type)               Output Shape         Param #\n",
      "================================================================\n",
      "         Embedding-1              [-1, 200, 75]       2,411,775\n",
      "            Conv1d-2             [-1, 192, 200]          28,992\n",
      "         MaxPool1d-3             [-1, 192, 100]               0\n",
      "         LeakyReLU-4             [-1, 192, 100]               0\n",
      "Conv_layer_with_pad-5             [-1, 192, 100]               0\n",
      "            Conv1d-6              [-1, 48, 100]          46,128\n",
      "         MaxPool1d-7               [-1, 48, 50]               0\n",
      "         LeakyReLU-8               [-1, 48, 50]               0\n",
      "Conv_layer_with_pad-9               [-1, 48, 50]               0\n",
      "           Linear-10                 [-1, 3200]       7,683,200\n",
      "          Dropout-11                 [-1, 3200]               0\n",
      "           Linear-12                  [-1, 256]         819,456\n",
      "             ReLU-13                  [-1, 256]               0\n",
      "           Linear-14                   [-1, 19]           4,883\n",
      "       LogSoftmax-15                   [-1, 19]               0\n",
      "================================================================\n",
      "Total params: 10,994,434\n",
      "Trainable params: 10,994,434\n",
      "Non-trainable params: 0\n",
      "----------------------------------------------------------------\n",
      "Input size (MB): 0.00\n",
      "Forward/backward pass size (MB): 0.99\n",
      "Params size (MB): 41.94\n",
      "Estimated Total Size (MB): 42.93\n",
      "----------------------------------------------------------------\n"
     ]
    }
   ],
   "source": [
    "torchsummary.summary(model, (200, ))"
   ]
  },
  {
   "cell_type": "code",
   "execution_count": 245,
   "id": "c78717be-ddea-4868-9f0e-16139a9fdef5",
   "metadata": {
    "scrolled": true
   },
   "outputs": [
    {
     "name": "stderr",
     "output_type": "stream",
     "text": [
      "  0%|          | 0/20 [00:00<?, ?it/s]"
     ]
    },
    {
     "name": "stdout",
     "output_type": "stream",
     "text": [
      "0\n",
      "Loss: 2.333270890712738; F1 measure: 0.200703125\n"
     ]
    },
    {
     "name": "stderr",
     "output_type": "stream",
     "text": [
      "  5%|▌         | 1/20 [00:17<05:35, 17.65s/it]"
     ]
    },
    {
     "name": "stdout",
     "output_type": "stream",
     "text": [
      "Eval f1-measure:  0.28029295692004846\n",
      "1\n",
      "Loss: 1.9276797676086426; F1 measure: 0.3166796875\n"
     ]
    },
    {
     "name": "stderr",
     "output_type": "stream",
     "text": [
      " 10%|█         | 2/20 [00:35<05:19, 17.72s/it]"
     ]
    },
    {
     "name": "stdout",
     "output_type": "stream",
     "text": [
      "Eval f1-measure:  0.36430927278921865\n",
      "2\n",
      "Loss: 1.6480335485935211; F1 measure: 0.4182421875\n"
     ]
    },
    {
     "name": "stderr",
     "output_type": "stream",
     "text": [
      " 15%|█▌        | 3/20 [00:53<05:02, 17.77s/it]"
     ]
    },
    {
     "name": "stdout",
     "output_type": "stream",
     "text": [
      "Eval f1-measure:  0.4444122406874621\n",
      "3\n",
      "Loss: 1.393030412197113; F1 measure: 0.5312109375\n"
     ]
    },
    {
     "name": "stderr",
     "output_type": "stream",
     "text": [
      " 20%|██        | 4/20 [01:10<04:43, 17.72s/it]"
     ]
    },
    {
     "name": "stdout",
     "output_type": "stream",
     "text": [
      "Eval f1-measure:  0.5502027653694731\n",
      "4\n",
      "Loss: 1.2083557534217835; F1 measure: 0.60765625\n"
     ]
    },
    {
     "name": "stderr",
     "output_type": "stream",
     "text": [
      " 25%|██▌       | 5/20 [01:28<04:25, 17.69s/it]"
     ]
    },
    {
     "name": "stdout",
     "output_type": "stream",
     "text": [
      "Eval f1-measure:  0.5840115838885525\n",
      "5\n",
      "Loss: 1.021915095448494; F1 measure: 0.671875\n"
     ]
    },
    {
     "name": "stderr",
     "output_type": "stream",
     "text": [
      " 30%|███       | 6/20 [01:46<04:07, 17.67s/it]"
     ]
    },
    {
     "name": "stdout",
     "output_type": "stream",
     "text": [
      "Eval f1-measure:  0.6133262038158691\n",
      "6\n",
      "Loss: 0.8821213001012802; F1 measure: 0.7130859375\n"
     ]
    },
    {
     "name": "stderr",
     "output_type": "stream",
     "text": [
      " 35%|███▌      | 7/20 [02:03<03:49, 17.65s/it]"
     ]
    },
    {
     "name": "stdout",
     "output_type": "stream",
     "text": [
      "Eval f1-measure:  0.6220377801332526\n",
      "7\n",
      "Loss: 0.7669698399305344; F1 measure: 0.75109375\n"
     ]
    },
    {
     "name": "stderr",
     "output_type": "stream",
     "text": [
      " 40%|████      | 8/20 [02:21<03:31, 17.66s/it]"
     ]
    },
    {
     "name": "stdout",
     "output_type": "stream",
     "text": [
      "Eval f1-measure:  0.6184402918685645\n",
      "8\n",
      "Loss: 0.6655414882302284; F1 measure: 0.7791015625\n"
     ]
    },
    {
     "name": "stderr",
     "output_type": "stream",
     "text": [
      " 45%|████▌     | 9/20 [02:39<03:14, 17.66s/it]"
     ]
    },
    {
     "name": "stdout",
     "output_type": "stream",
     "text": [
      "Eval f1-measure:  0.6245906836765597\n",
      "9\n",
      "Loss: 0.5822508776187897; F1 measure: 0.8074609375\n"
     ]
    },
    {
     "name": "stderr",
     "output_type": "stream",
     "text": [
      " 50%|█████     | 10/20 [02:57<02:57, 17.78s/it]"
     ]
    },
    {
     "name": "stdout",
     "output_type": "stream",
     "text": [
      "Eval f1-measure:  0.5997939222440946\n",
      "10\n",
      "Loss: 0.5506222754716873; F1 measure: 0.8181640625\n"
     ]
    },
    {
     "name": "stderr",
     "output_type": "stream",
     "text": [
      " 55%|█████▌    | 11/20 [03:14<02:39, 17.73s/it]"
     ]
    },
    {
     "name": "stdout",
     "output_type": "stream",
     "text": [
      "Eval f1-measure:  0.6173862431859478\n",
      "11\n",
      "Loss: 0.42251779198646544; F1 measure: 0.8584765625\n"
     ]
    },
    {
     "name": "stderr",
     "output_type": "stream",
     "text": [
      " 60%|██████    | 12/20 [03:32<02:21, 17.71s/it]"
     ]
    },
    {
     "name": "stdout",
     "output_type": "stream",
     "text": [
      "Eval f1-measure:  0.5846089964415506\n",
      "12\n",
      "Loss: 0.3739192879199982; F1 measure: 0.8753125\n"
     ]
    },
    {
     "name": "stderr",
     "output_type": "stream",
     "text": [
      " 65%|██████▌   | 13/20 [03:50<02:03, 17.70s/it]"
     ]
    },
    {
     "name": "stdout",
     "output_type": "stream",
     "text": [
      "Eval f1-measure:  0.6200846551332526\n",
      "13\n",
      "Loss: 0.3043846347928047; F1 measure: 0.896640625\n"
     ]
    },
    {
     "name": "stderr",
     "output_type": "stream",
     "text": [
      " 70%|███████   | 14/20 [04:07<01:46, 17.68s/it]"
     ]
    },
    {
     "name": "stdout",
     "output_type": "stream",
     "text": [
      "Eval f1-measure:  0.6181291641429437\n",
      "14\n",
      "Loss: 0.2750784407556057; F1 measure: 0.9081640625\n"
     ]
    },
    {
     "name": "stderr",
     "output_type": "stream",
     "text": [
      " 75%|███████▌  | 15/20 [04:25<01:28, 17.69s/it]"
     ]
    },
    {
     "name": "stdout",
     "output_type": "stream",
     "text": [
      "Eval f1-measure:  0.6274535319503332\n",
      "15\n",
      "Loss: 0.24373523250222207; F1 measure: 0.9173046875\n"
     ]
    },
    {
     "name": "stderr",
     "output_type": "stream",
     "text": [
      " 80%|████████  | 16/20 [04:43<01:10, 17.67s/it]"
     ]
    },
    {
     "name": "stdout",
     "output_type": "stream",
     "text": [
      "Eval f1-measure:  0.6199367807389462\n",
      "16\n",
      "Loss: 0.2000244077295065; F1 measure: 0.934453125\n"
     ]
    },
    {
     "name": "stderr",
     "output_type": "stream",
     "text": [
      " 85%|████████▌ | 17/20 [05:00<00:52, 17.66s/it]"
     ]
    },
    {
     "name": "stdout",
     "output_type": "stream",
     "text": [
      "Eval f1-measure:  0.6173755962295578\n",
      "17\n",
      "Loss: 0.1825265371054411; F1 measure: 0.9400390625\n"
     ]
    },
    {
     "name": "stderr",
     "output_type": "stream",
     "text": [
      " 90%|█████████ | 18/20 [05:18<00:35, 17.66s/it]"
     ]
    },
    {
     "name": "stdout",
     "output_type": "stream",
     "text": [
      "Eval f1-measure:  0.5995040884312538\n",
      "18\n",
      "Loss: 0.1677310836315155; F1 measure: 0.9438671875\n"
     ]
    },
    {
     "name": "stderr",
     "output_type": "stream",
     "text": [
      " 95%|█████████▌| 19/20 [05:36<00:17, 17.66s/it]"
     ]
    },
    {
     "name": "stdout",
     "output_type": "stream",
     "text": [
      "Eval f1-measure:  0.6124223955178679\n",
      "19\n",
      "Loss: 0.14410950250923635; F1 measure: 0.9522265625\n"
     ]
    },
    {
     "name": "stderr",
     "output_type": "stream",
     "text": [
      "100%|██████████| 20/20 [05:53<00:00, 17.69s/it]"
     ]
    },
    {
     "name": "stdout",
     "output_type": "stream",
     "text": [
      "Eval f1-measure:  0.6221856545275591\n"
     ]
    },
    {
     "name": "stderr",
     "output_type": "stream",
     "text": [
      "\n"
     ]
    }
   ],
   "source": [
    "import gc\n",
    "from tqdm import tqdm\n",
    "\n",
    "f1s = []\n",
    "f1s_eval = []\n",
    "\n",
    "for i in tqdm(range(EPOCHS)):\n",
    "    print(i)\n",
    "    f1s.append(train(model, train_data, optimizer, criterion, 100))\n",
    "    evl = evaluate(model, valid_data, criterion)\n",
    "    print('Eval f1-measure: ', evl)\n",
    "    f1s_eval.append(evl)\n",
    "\n",
    "\n",
    "model.load_state_dict(model.best_state)\n",
    "evl = evaluate(model, valid_data, criterion)\n",
    "\n",
    "with open(\"models/model_results.txt\", \"a\") as f:\n",
    "    f.writelines(f\"Model {model._get_name()} f1-score is {evl}\\n\")\n",
    "torch.save(model, f\"models/'{model._get_name()}'.pt\")\n",
    "\n",
    "del model\n",
    "gc.collect()\n",
    "torch.cuda.empty_cache()"
   ]
  },
  {
   "cell_type": "code",
   "execution_count": 246,
   "id": "a3a788bd-effd-4757-bcd8-e127184aa3d3",
   "metadata": {},
   "outputs": [
    {
     "data": {
      "image/png": "[encoded data removed]",
      "text/plain": [
       "<Figure size 640x480 with 1 Axes>"
      ]
     },
     "metadata": {},
     "output_type": "display_data"
    }
   ],
   "source": [
    "plt.plot(f1s)\n",
    "plt.plot(f1s_eval)\n",
    "plt.title('model f1 micro')\n",
    "plt.ylabel('f1')\n",
    "plt.xlabel('epoch')\n",
    "plt.legend(['train', 'val'], loc='upper left')\n",
    "plt.show()"
   ]
  },
  {
   "cell_type": "code",
   "execution_count": 247,
   "id": "bec4b3cc-51b3-439b-8a6a-91f332ae6702",
   "metadata": {},
   "outputs": [
    {
     "data": {
      "text/plain": [
       "0.6274535319503332"
      ]
     },
     "execution_count": 247,
     "metadata": {},
     "output_type": "execute_result"
    }
   ],
   "source": [
    "max(f1s_eval)"
   ]
  },
  {
   "cell_type": "markdown",
   "id": "d673f2c3-06af-413d-af74-aacd3d32c499",
   "metadata": {},
   "source": [
    "### V4"
   ]
  },
  {
   "cell_type": "code",
   "execution_count": null,
   "id": "71853b4c-10c3-42bd-a9b4-164b3f5f366d",
   "metadata": {},
   "outputs": [],
   "source": []
  },
  {
   "cell_type": "code",
   "execution_count": 266,
   "id": "ce0c17a6-a973-4d1f-b99c-0d749ab571cc",
   "metadata": {},
   "outputs": [],
   "source": [
    "class Conv4(nn.Module):\n",
    "    \n",
    "    def __init__(self, output_dim, *, emb_dim = 125, max_len = 200):\n",
    "        \n",
    "        super().__init__()          \n",
    "        self.VOCAB_SIZE = len(word2id)\n",
    "        self.EMB_DIM = emb_dim\n",
    "        self.MAX_LEN = max_len\n",
    "        self.IN_CHANNELS = self.MAX_LEN\n",
    "        self.OUT_CHANNELS = output_dim\n",
    "        \n",
    "        self.embedding = nn.Embedding(self.VOCAB_SIZE, self.EMB_DIM)\n",
    "        self.pool = nn.MaxPool1d(kernel_size=3, stride=1, padding=1)\n",
    "        self.pool2 = nn.MaxPool1d(kernel_size=5, stride=1, padding=2)\n",
    "        self.relu = nn.ReLU()\n",
    "        self.drop = nn.Dropout(p = 0.2)\n",
    "        \n",
    "        self.conv1 = nn.Sequential(*[Conv_layer_with_pad(self.EMB_DIM, 192, kernel_size=2, stride=2),\n",
    "                                    nn.BatchNorm1d(192)])\n",
    "        self.conv2 = nn.Sequential(*[Conv_layer_with_pad(192, 384, kernel_size=3, stride=1),\n",
    "                                    nn.BatchNorm1d(384)])\n",
    "        self.conv3 = nn.Sequential(*[Conv_layer_with_pad(384, 48, kernel_size=3, stride=1),\n",
    "                                    nn.BatchNorm1d(48)])\n",
    "        self.fc = nn.Linear(1872, \n",
    "                            3200)\n",
    "        self.fc_1 = nn.Linear(3200, 256)\n",
    "        self.fc_2 = nn.Linear(256, self.OUT_CHANNELS)\n",
    "        self.act = nn.LogSoftmax(1) \n",
    "        \n",
    "        \n",
    "    def forward(self, text):\n",
    "\n",
    "        embedded = self.embedding(text)\n",
    "        convoluted = self.conv1(embedded.permute(0, 2, 1))\n",
    "        convoluted = self.conv2(convoluted)\n",
    "        convoluted = self.conv3(convoluted)\n",
    "        hidden = torch.flatten(convoluted, 1, -1)\n",
    "        hidden = torch.relu(self.fc(hidden))\n",
    "        hidden = self.drop(hidden)\n",
    "        ffn=self.relu(self.fc_1(hidden))\n",
    "        outputs=self.act(self.fc_2(ffn))\n",
    "\n",
    "        return outputs\n",
    "\n",
    "\n",
    "device = torch.device('cuda' if torch.cuda.is_available() else 'cpu')  \n",
    "model = Conv4(len(label2id))\n",
    "\n",
    "\n",
    "optimizer = optim.Adam(model.parameters(), lr=0.001)\n",
    "criterion = nn.NLLLoss() \n",
    "\n",
    "model = model.to(device)\n",
    "criterion = criterion.to(device)"
   ]
  },
  {
   "cell_type": "code",
   "execution_count": 267,
   "id": "d9f5532c-5e62-4b23-ae43-ff1a4caf57fe",
   "metadata": {},
   "outputs": [
    {
     "name": "stdout",
     "output_type": "stream",
     "text": [
      "----------------------------------------------------------------\n",
      "        Layer (type)               Output Shape         Param #\n",
      "================================================================\n",
      "         Embedding-1             [-1, 200, 125]       4,019,625\n",
      "            Conv1d-2             [-1, 192, 300]          48,192\n",
      "         MaxPool1d-3             [-1, 192, 150]               0\n",
      "         LeakyReLU-4             [-1, 192, 150]               0\n",
      "Conv_layer_with_pad-5             [-1, 192, 150]               0\n",
      "       BatchNorm1d-6             [-1, 192, 150]             384\n",
      "            Conv1d-7             [-1, 384, 152]         221,568\n",
      "         MaxPool1d-8              [-1, 384, 76]               0\n",
      "         LeakyReLU-9              [-1, 384, 76]               0\n",
      "Conv_layer_with_pad-10              [-1, 384, 76]               0\n",
      "      BatchNorm1d-11              [-1, 384, 76]             768\n",
      "           Conv1d-12               [-1, 48, 78]          55,344\n",
      "        MaxPool1d-13               [-1, 48, 39]               0\n",
      "        LeakyReLU-14               [-1, 48, 39]               0\n",
      "Conv_layer_with_pad-15               [-1, 48, 39]               0\n",
      "      BatchNorm1d-16               [-1, 48, 39]              96\n",
      "           Linear-17                 [-1, 3200]       5,993,600\n",
      "          Dropout-18                 [-1, 3200]               0\n",
      "           Linear-19                  [-1, 256]         819,456\n",
      "             ReLU-20                  [-1, 256]               0\n",
      "           Linear-21                   [-1, 19]           4,883\n",
      "       LogSoftmax-22                   [-1, 19]               0\n",
      "================================================================\n",
      "Total params: 11,163,916\n",
      "Trainable params: 11,163,916\n",
      "Non-trainable params: 0\n",
      "----------------------------------------------------------------\n",
      "Input size (MB): 0.00\n",
      "Forward/backward pass size (MB): 2.98\n",
      "Params size (MB): 42.59\n",
      "Estimated Total Size (MB): 45.57\n",
      "----------------------------------------------------------------\n"
     ]
    }
   ],
   "source": [
    "torchsummary.summary(model, (200, ))"
   ]
  },
  {
   "cell_type": "code",
   "execution_count": 268,
   "id": "3a1a7c2e-d970-49a3-8525-f8944899c532",
   "metadata": {
    "scrolled": true
   },
   "outputs": [
    {
     "name": "stderr",
     "output_type": "stream",
     "text": [
      "  0%|          | 0/20 [00:00<?, ?it/s]"
     ]
    },
    {
     "name": "stdout",
     "output_type": "stream",
     "text": [
      "0\n",
      "Loss: 2.215587409734726; F1 measure: 0.259296875\n"
     ]
    },
    {
     "name": "stderr",
     "output_type": "stream",
     "text": [
      "  5%|▌         | 1/20 [00:38<12:02, 38.04s/it]"
     ]
    },
    {
     "name": "stdout",
     "output_type": "stream",
     "text": [
      "Eval f1-measure:  0.3217664010448213\n",
      "1\n",
      "Loss: 1.5226519060134889; F1 measure: 0.509140625\n"
     ]
    },
    {
     "name": "stderr",
     "output_type": "stream",
     "text": [
      " 10%|█         | 2/20 [01:10<10:27, 34.84s/it]"
     ]
    },
    {
     "name": "stdout",
     "output_type": "stream",
     "text": [
      "Eval f1-measure:  0.5460078645517868\n",
      "2\n",
      "Loss: 1.1761188966035843; F1 measure: 0.6202734375\n"
     ]
    },
    {
     "name": "stderr",
     "output_type": "stream",
     "text": [
      " 15%|█▌        | 3/20 [01:43<09:34, 33.77s/it]"
     ]
    },
    {
     "name": "stdout",
     "output_type": "stream",
     "text": [
      "Eval f1-measure:  0.5786147599939431\n",
      "3\n",
      "Loss: 0.9429487323760987; F1 measure: 0.702578125\n"
     ]
    },
    {
     "name": "stderr",
     "output_type": "stream",
     "text": [
      " 20%|██        | 4/20 [02:13<08:41, 32.56s/it]"
     ]
    },
    {
     "name": "stdout",
     "output_type": "stream",
     "text": [
      "Eval f1-measure:  0.5279624564657783\n",
      "4\n",
      "Loss: 0.7167835921049118; F1 measure: 0.7728515625\n"
     ]
    },
    {
     "name": "stderr",
     "output_type": "stream",
     "text": [
      " 25%|██▌       | 5/20 [02:44<07:57, 31.80s/it]"
     ]
    },
    {
     "name": "stdout",
     "output_type": "stream",
     "text": [
      "Eval f1-measure:  0.548545389158086\n",
      "5\n",
      "Loss: 0.5629215258359909; F1 measure: 0.817734375\n"
     ]
    },
    {
     "name": "stderr",
     "output_type": "stream",
     "text": [
      " 30%|███       | 6/20 [03:15<07:20, 31.48s/it]"
     ]
    },
    {
     "name": "stdout",
     "output_type": "stream",
     "text": [
      "Eval f1-measure:  0.5369768795427015\n",
      "6\n",
      "Loss: 0.4523720481991768; F1 measure: 0.850859375\n"
     ]
    },
    {
     "name": "stderr",
     "output_type": "stream",
     "text": [
      " 35%|███▌      | 7/20 [03:46<06:49, 31.49s/it]"
     ]
    },
    {
     "name": "stdout",
     "output_type": "stream",
     "text": [
      "Eval f1-measure:  0.5817532461387038\n",
      "7\n",
      "Loss: 0.33659362465143206; F1 measure: 0.8890234375\n"
     ]
    },
    {
     "name": "stderr",
     "output_type": "stream",
     "text": [
      " 40%|████      | 8/20 [04:17<06:15, 31.33s/it]"
     ]
    },
    {
     "name": "stdout",
     "output_type": "stream",
     "text": [
      "Eval f1-measure:  0.5997974712295578\n",
      "8\n",
      "Loss: 0.2535774493217468; F1 measure: 0.914765625\n"
     ]
    },
    {
     "name": "stderr",
     "output_type": "stream",
     "text": [
      " 45%|████▌     | 9/20 [04:48<05:42, 31.13s/it]"
     ]
    },
    {
     "name": "stdout",
     "output_type": "stream",
     "text": [
      "Eval f1-measure:  0.5945414237583283\n",
      "9\n",
      "Loss: 0.1962707855552435; F1 measure: 0.9356640625\n"
     ]
    },
    {
     "name": "stderr",
     "output_type": "stream",
     "text": [
      " 50%|█████     | 10/20 [05:18<05:09, 30.97s/it]"
     ]
    },
    {
     "name": "stdout",
     "output_type": "stream",
     "text": [
      "Eval f1-measure:  0.6040160319503332\n",
      "10\n",
      "Loss: 0.1708233116567135; F1 measure: 0.943984375\n"
     ]
    },
    {
     "name": "stderr",
     "output_type": "stream",
     "text": [
      " 55%|█████▌    | 11/20 [05:49<04:37, 30.84s/it]"
     ]
    },
    {
     "name": "stdout",
     "output_type": "stream",
     "text": [
      "Eval f1-measure:  0.5867206427922471\n",
      "11\n",
      "Loss: 0.12342333056032657; F1 measure: 0.9579296875\n"
     ]
    },
    {
     "name": "stderr",
     "output_type": "stream",
     "text": [
      " 60%|██████    | 12/20 [06:20<04:06, 30.79s/it]"
     ]
    },
    {
     "name": "stdout",
     "output_type": "stream",
     "text": [
      "Eval f1-measure:  0.5847746157631739\n",
      "12\n",
      "Loss: 0.11030529759824276; F1 measure: 0.9642578125\n"
     ]
    },
    {
     "name": "stderr",
     "output_type": "stream",
     "text": [
      " 65%|██████▌   | 13/20 [06:50<03:34, 30.71s/it]"
     ]
    },
    {
     "name": "stdout",
     "output_type": "stream",
     "text": [
      "Eval f1-measure:  0.61453285887341\n",
      "13\n",
      "Loss: 0.09297590959817172; F1 measure: 0.9681640625\n"
     ]
    },
    {
     "name": "stderr",
     "output_type": "stream",
     "text": [
      " 70%|███████   | 14/20 [07:21<03:04, 30.68s/it]"
     ]
    },
    {
     "name": "stdout",
     "output_type": "stream",
     "text": [
      "Eval f1-measure:  0.6016027218352513\n",
      "14\n",
      "Loss: 0.08617604011669755; F1 measure: 0.9717578125\n"
     ]
    },
    {
     "name": "stderr",
     "output_type": "stream",
     "text": [
      " 75%|███████▌  | 15/20 [07:52<02:34, 30.81s/it]"
     ]
    },
    {
     "name": "stdout",
     "output_type": "stream",
     "text": [
      "Eval f1-measure:  0.5852265199121744\n",
      "15\n",
      "Loss: 0.06262344870716334; F1 measure: 0.97875\n"
     ]
    },
    {
     "name": "stderr",
     "output_type": "stream",
     "text": [
      " 80%|████████  | 16/20 [08:23<02:03, 30.97s/it]"
     ]
    },
    {
     "name": "stdout",
     "output_type": "stream",
     "text": [
      "Eval f1-measure:  0.5918394628255602\n",
      "16\n",
      "Loss: 0.0609178410936147; F1 measure: 0.979765625\n"
     ]
    },
    {
     "name": "stderr",
     "output_type": "stream",
     "text": [
      " 85%|████████▌ | 17/20 [08:55<01:33, 31.24s/it]"
     ]
    },
    {
     "name": "stdout",
     "output_type": "stream",
     "text": [
      "Eval f1-measure:  0.6071698970321018\n",
      "17\n",
      "Loss: 0.06454542370513082; F1 measure: 0.9782421875\n"
     ]
    },
    {
     "name": "stderr",
     "output_type": "stream",
     "text": [
      " 90%|█████████ | 18/20 [09:27<01:02, 31.31s/it]"
     ]
    },
    {
     "name": "stdout",
     "output_type": "stream",
     "text": [
      "Eval f1-measure:  0.5817709910660206\n",
      "18\n",
      "Loss: 0.05128126232419163; F1 measure: 0.9826953125\n"
     ]
    },
    {
     "name": "stderr",
     "output_type": "stream",
     "text": [
      " 95%|█████████▌| 19/20 [09:57<00:31, 31.18s/it]"
     ]
    },
    {
     "name": "stdout",
     "output_type": "stream",
     "text": [
      "Eval f1-measure:  0.613035187007874\n",
      "19\n",
      "Loss: 0.048601707704365255; F1 measure: 0.9841796875\n"
     ]
    },
    {
     "name": "stderr",
     "output_type": "stream",
     "text": [
      "100%|██████████| 20/20 [10:28<00:00, 31.43s/it]"
     ]
    },
    {
     "name": "stdout",
     "output_type": "stream",
     "text": [
      "Eval f1-measure:  0.5458493432010902\n"
     ]
    },
    {
     "name": "stderr",
     "output_type": "stream",
     "text": [
      "\n"
     ]
    }
   ],
   "source": [
    "import gc\n",
    "from tqdm import tqdm\n",
    "\n",
    "f1s = []\n",
    "f1s_eval = []\n",
    "\n",
    "for i in tqdm(range(EPOCHS)):\n",
    "    print(i)\n",
    "    f1s.append(train(model, train_data, optimizer, criterion, 100))\n",
    "    evl = evaluate(model, valid_data, criterion)\n",
    "    print('Eval f1-measure: ', evl)\n",
    "    f1s_eval.append(evl)\n",
    "\n",
    "\n",
    "model.load_state_dict(model.best_state)\n",
    "evl = evaluate(model, valid_data, criterion)\n",
    "\n",
    "with open(\"models/model_results.txt\", \"a\") as f:\n",
    "    f.writelines(f\"Model {model._get_name()} f1-score is {evl}\\n\")\n",
    "torch.save(model, f\"models/'{model._get_name()}'.pt\")\n",
    "\n",
    "del model\n",
    "gc.collect()\n",
    "torch.cuda.empty_cache()"
   ]
  },
  {
   "cell_type": "code",
   "execution_count": 269,
   "id": "627552fd-c600-4e28-a75a-1a931ef494ed",
   "metadata": {},
   "outputs": [
    {
     "data": {
      "image/png": "[encoded data removed]",
      "text/plain": [
       "<Figure size 640x480 with 1 Axes>"
      ]
     },
     "metadata": {},
     "output_type": "display_data"
    }
   ],
   "source": [
    "plt.plot(f1s)\n",
    "plt.plot(f1s_eval)\n",
    "plt.title('model f1 micro')\n",
    "plt.ylabel('f1')\n",
    "plt.xlabel('epoch')\n",
    "plt.legend(['train', 'val'], loc='upper left')\n",
    "plt.show()"
   ]
  },
  {
   "cell_type": "code",
   "execution_count": 270,
   "id": "b190689d-f2a1-46e2-947b-5007ad5fd43f",
   "metadata": {},
   "outputs": [
    {
     "data": {
      "text/plain": [
       "0.61453285887341"
      ]
     },
     "execution_count": 270,
     "metadata": {},
     "output_type": "execute_result"
    }
   ],
   "source": [
    "max(f1s_eval)"
   ]
  },
  {
   "cell_type": "code",
   "execution_count": null,
   "id": "9fe24c84-4bd5-406c-b9ad-2ba133e79d15",
   "metadata": {},
   "outputs": [],
   "source": []
  },
  {
   "cell_type": "markdown",
   "id": "f6388560-0810-4e47-a31e-4b4e8bef625d",
   "metadata": {},
   "source": [
    "### V5"
   ]
  },
  {
   "cell_type": "code",
   "execution_count": null,
   "id": "b34e41d2-959d-4a81-bdd5-4388be2ab721",
   "metadata": {},
   "outputs": [],
   "source": []
  },
  {
   "cell_type": "code",
   "execution_count": 291,
   "id": "27cc58fa-d8cb-4124-856f-90fedc21c811",
   "metadata": {},
   "outputs": [],
   "source": [
    "class Conv5(nn.Module):\n",
    "    \n",
    "    def __init__(self, output_dim, *, emb_dim = 300, max_len = 200):\n",
    "        \n",
    "        super().__init__()          \n",
    "        self.VOCAB_SIZE = len(word2id)\n",
    "        self.EMB_DIM = emb_dim\n",
    "        self.MAX_LEN = max_len\n",
    "        self.IN_CHANNELS = self.MAX_LEN\n",
    "        self.OUT_CHANNELS = output_dim\n",
    "        \n",
    "        self.embedding = nn.Embedding(self.VOCAB_SIZE, self.EMB_DIM)\n",
    "        self.pool = nn.MaxPool1d(kernel_size=3, stride=1, padding=1)\n",
    "        self.pool2 = nn.MaxPool1d(kernel_size=5, stride=1, padding=2)\n",
    "        self.relu = nn.ReLU6()\n",
    "        self.drop = nn.Dropout(p = 0.2)\n",
    "        \n",
    "        self.conv1 = nn.Sequential(*[Conv_layer_with_pad(self.EMB_DIM, 192, kernel_size=2, stride=2),\n",
    "                                    nn.BatchNorm1d(192)])\n",
    "        self.conv2 = nn.Sequential(*[Conv_layer_with_pad(192, 512, kernel_size=1, stride=1),\n",
    "                                    nn.BatchNorm1d(512)])\n",
    "        self.conv3 = nn.Sequential(*[Conv_layer_with_pad(512, 96, kernel_size=3, stride=1),\n",
    "                                    nn.BatchNorm1d(96)])\n",
    "        self.conv4 = nn.Sequential(*[Conv_layer_with_pad(96, 16, kernel_size=5, stride=2),\n",
    "                                    nn.BatchNorm1d(16)])\n",
    "        self.fc = nn.Linear(480, \n",
    "                            3200)\n",
    "        self.fc_1 = nn.Linear(3200, 256)\n",
    "        self.fc_2 = nn.Linear(256, self.OUT_CHANNELS)\n",
    "        self.act = nn.LogSoftmax(1) \n",
    "        \n",
    "        \n",
    "    def forward(self, text):\n",
    "\n",
    "        embedded = self.embedding(text)\n",
    "        convoluted = self.conv1(embedded.permute(0, 2, 1))\n",
    "        convoluted = self.conv2(convoluted)\n",
    "        convoluted = self.conv3(convoluted)\n",
    "        convoluted = self.conv4(convoluted)\n",
    "        hidden = torch.flatten(convoluted, 1, -1)\n",
    "        hidden = self.drop(hidden)\n",
    "        hidden = self.relu(self.fc(hidden))\n",
    "        hidden=self.relu(self.fc_1(hidden))\n",
    "        outputs=self.act(self.fc_2(hidden))\n",
    "\n",
    "        return outputs\n",
    "\n",
    "\n",
    "device = torch.device('cuda' if torch.cuda.is_available() else 'cpu')  \n",
    "model = Conv5(len(label2id))\n",
    "\n",
    "\n",
    "optimizer = optim.Adam(model.parameters(), lr=0.001)\n",
    "criterion = nn.NLLLoss() \n",
    "\n",
    "model = model.to(device)\n",
    "criterion = criterion.to(device)"
   ]
  },
  {
   "cell_type": "code",
   "execution_count": 292,
   "id": "f2fc2514-5135-4eff-ae48-20f05210a312",
   "metadata": {},
   "outputs": [
    {
     "name": "stdout",
     "output_type": "stream",
     "text": [
      "----------------------------------------------------------------\n",
      "        Layer (type)               Output Shape         Param #\n",
      "================================================================\n",
      "         Embedding-1             [-1, 200, 300]       9,647,100\n",
      "            Conv1d-2             [-1, 192, 300]         115,392\n",
      "         MaxPool1d-3             [-1, 192, 150]               0\n",
      "         LeakyReLU-4             [-1, 192, 150]               0\n",
      "Conv_layer_with_pad-5             [-1, 192, 150]               0\n",
      "       BatchNorm1d-6             [-1, 192, 150]             384\n",
      "            Conv1d-7             [-1, 512, 150]          98,816\n",
      "         MaxPool1d-8              [-1, 512, 75]               0\n",
      "         LeakyReLU-9              [-1, 512, 75]               0\n",
      "Conv_layer_with_pad-10              [-1, 512, 75]               0\n",
      "      BatchNorm1d-11              [-1, 512, 75]           1,024\n",
      "           Conv1d-12               [-1, 96, 77]         147,552\n",
      "        MaxPool1d-13               [-1, 96, 39]               0\n",
      "        LeakyReLU-14               [-1, 96, 39]               0\n",
      "Conv_layer_with_pad-15               [-1, 96, 39]               0\n",
      "      BatchNorm1d-16               [-1, 96, 39]             192\n",
      "           Conv1d-17               [-1, 16, 60]           7,696\n",
      "        MaxPool1d-18               [-1, 16, 30]               0\n",
      "        LeakyReLU-19               [-1, 16, 30]               0\n",
      "Conv_layer_with_pad-20               [-1, 16, 30]               0\n",
      "      BatchNorm1d-21               [-1, 16, 30]              32\n",
      "          Dropout-22                  [-1, 480]               0\n",
      "           Linear-23                 [-1, 3200]       1,539,200\n",
      "            ReLU6-24                 [-1, 3200]               0\n",
      "           Linear-25                  [-1, 256]         819,456\n",
      "            ReLU6-26                  [-1, 256]               0\n",
      "           Linear-27                   [-1, 19]           4,883\n",
      "       LogSoftmax-28                   [-1, 19]               0\n",
      "================================================================\n",
      "Total params: 12,381,727\n",
      "Trainable params: 12,381,727\n",
      "Non-trainable params: 0\n",
      "----------------------------------------------------------------\n",
      "Input size (MB): 0.00\n",
      "Forward/backward pass size (MB): 3.78\n",
      "Params size (MB): 47.23\n",
      "Estimated Total Size (MB): 51.02\n",
      "----------------------------------------------------------------\n"
     ]
    }
   ],
   "source": [
    "torchsummary.summary(model, (200, ))"
   ]
  },
  {
   "cell_type": "code",
   "execution_count": 293,
   "id": "680f3a4d-f321-4423-9331-df4a4ac39438",
   "metadata": {
    "scrolled": true
   },
   "outputs": [
    {
     "name": "stderr",
     "output_type": "stream",
     "text": [
      "  0%|          | 0/20 [00:00<?, ?it/s]"
     ]
    },
    {
     "name": "stdout",
     "output_type": "stream",
     "text": [
      "0\n",
      "Loss: 2.0702502238750458; F1 measure: 0.2845703125\n"
     ]
    },
    {
     "name": "stderr",
     "output_type": "stream",
     "text": [
      "  5%|▌         | 1/20 [00:51<16:27, 51.95s/it]"
     ]
    },
    {
     "name": "stdout",
     "output_type": "stream",
     "text": [
      "Eval f1-measure:  0.4041300726832223\n",
      "1\n",
      "Loss: 1.4034577345848083; F1 measure: 0.5290234375\n"
     ]
    },
    {
     "name": "stderr",
     "output_type": "stream",
     "text": [
      " 10%|█         | 2/20 [01:35<14:09, 47.17s/it]"
     ]
    },
    {
     "name": "stdout",
     "output_type": "stream",
     "text": [
      "Eval f1-measure:  0.5219540240763174\n",
      "2\n",
      "Loss: 1.073028223514557; F1 measure: 0.6496484375\n"
     ]
    },
    {
     "name": "stderr",
     "output_type": "stream",
     "text": [
      " 15%|█▌        | 3/20 [02:18<12:49, 45.26s/it]"
     ]
    },
    {
     "name": "stdout",
     "output_type": "stream",
     "text": [
      "Eval f1-measure:  0.5808671827680194\n",
      "3\n",
      "Loss: 0.8172006577253341; F1 measure: 0.7380859375\n"
     ]
    },
    {
     "name": "stderr",
     "output_type": "stream",
     "text": [
      " 20%|██        | 4/20 [03:01<11:50, 44.39s/it]"
     ]
    },
    {
     "name": "stdout",
     "output_type": "stream",
     "text": [
      "Eval f1-measure:  0.5987528865081768\n",
      "4\n",
      "Loss: 0.6258792904019356; F1 measure: 0.8035546875\n"
     ]
    },
    {
     "name": "stderr",
     "output_type": "stream",
     "text": [
      " 25%|██▌       | 5/20 [03:44<10:57, 43.85s/it]"
     ]
    },
    {
     "name": "stdout",
     "output_type": "stream",
     "text": [
      "Eval f1-measure:  0.5502074973500909\n",
      "5\n",
      "Loss: 0.47532449156045914; F1 measure: 0.852265625\n"
     ]
    },
    {
     "name": "stderr",
     "output_type": "stream",
     "text": [
      " 30%|███       | 6/20 [04:27<10:09, 43.54s/it]"
     ]
    },
    {
     "name": "stdout",
     "output_type": "stream",
     "text": [
      "Eval f1-measure:  0.6017612431859479\n",
      "6\n",
      "Loss: 0.375085788667202; F1 measure: 0.8812890625\n"
     ]
    },
    {
     "name": "stderr",
     "output_type": "stream",
     "text": [
      " 35%|███▌      | 7/20 [05:10<09:23, 43.36s/it]"
     ]
    },
    {
     "name": "stdout",
     "output_type": "stream",
     "text": [
      "Eval f1-measure:  0.6115256851907934\n",
      "7\n",
      "Loss: 0.28603634402155875; F1 measure: 0.9131640625\n"
     ]
    },
    {
     "name": "stderr",
     "output_type": "stream",
     "text": [
      " 40%|████      | 8/20 [05:53<08:39, 43.27s/it]"
     ]
    },
    {
     "name": "stdout",
     "output_type": "stream",
     "text": [
      "Eval f1-measure:  0.6244510902483343\n",
      "8\n",
      "Loss: 0.23195462107658385; F1 measure: 0.930078125\n"
     ]
    },
    {
     "name": "stderr",
     "output_type": "stream",
     "text": [
      " 45%|████▌     | 9/20 [06:37<07:58, 43.53s/it]"
     ]
    },
    {
     "name": "stdout",
     "output_type": "stream",
     "text": [
      "Eval f1-measure:  0.6265497236523319\n",
      "9\n",
      "Loss: 0.19783558055758477; F1 measure: 0.940703125\n"
     ]
    },
    {
     "name": "stderr",
     "output_type": "stream",
     "text": [
      " 50%|█████     | 10/20 [07:23<07:20, 44.09s/it]"
     ]
    },
    {
     "name": "stdout",
     "output_type": "stream",
     "text": [
      "Eval f1-measure:  0.6268466554360993\n",
      "10\n",
      "Loss: 0.16153275668621064; F1 measure: 0.9513671875\n"
     ]
    },
    {
     "name": "stderr",
     "output_type": "stream",
     "text": [
      " 55%|█████▌    | 11/20 [08:07<06:38, 44.23s/it]"
     ]
    },
    {
     "name": "stdout",
     "output_type": "stream",
     "text": [
      "Eval f1-measure:  0.6161831371138704\n",
      "11\n",
      "Loss: 0.1347066418454051; F1 measure: 0.9606640625\n"
     ]
    },
    {
     "name": "stderr",
     "output_type": "stream",
     "text": [
      " 60%|██████    | 12/20 [08:51<05:51, 43.97s/it]"
     ]
    },
    {
     "name": "stdout",
     "output_type": "stream",
     "text": [
      "Eval f1-measure:  0.6346686193973349\n",
      "12\n",
      "Loss: 0.10836652237921954; F1 measure: 0.967578125\n"
     ]
    },
    {
     "name": "stderr",
     "output_type": "stream",
     "text": [
      " 65%|██████▌   | 13/20 [09:34<05:05, 43.70s/it]"
     ]
    },
    {
     "name": "stdout",
     "output_type": "stream",
     "text": [
      "Eval f1-measure:  0.6187407726377953\n",
      "13\n",
      "Loss: 0.0985555574670434; F1 measure: 0.970703125\n"
     ]
    },
    {
     "name": "stderr",
     "output_type": "stream",
     "text": [
      " 70%|███████   | 14/20 [10:17<04:21, 43.51s/it]"
     ]
    },
    {
     "name": "stdout",
     "output_type": "stream",
     "text": [
      "Eval f1-measure:  0.6149800310417929\n",
      "14\n",
      "Loss: 0.09300660233944655; F1 measure: 0.9740234375\n"
     ]
    },
    {
     "name": "stderr",
     "output_type": "stream",
     "text": [
      " 75%|███████▌  | 15/20 [11:00<03:37, 43.48s/it]"
     ]
    },
    {
     "name": "stdout",
     "output_type": "stream",
     "text": [
      "Eval f1-measure:  0.6447359081617202\n",
      "15\n",
      "Loss: 0.09543121531605721; F1 measure: 0.971328125\n"
     ]
    },
    {
     "name": "stderr",
     "output_type": "stream",
     "text": [
      " 80%|████████  | 16/20 [11:43<02:53, 43.35s/it]"
     ]
    },
    {
     "name": "stdout",
     "output_type": "stream",
     "text": [
      "Eval f1-measure:  0.6325628880224107\n",
      "16\n",
      "Loss: 0.08389352921396494; F1 measure: 0.9741015625\n"
     ]
    },
    {
     "name": "stderr",
     "output_type": "stream",
     "text": [
      " 85%|████████▌ | 17/20 [12:26<02:09, 43.32s/it]"
     ]
    },
    {
     "name": "stdout",
     "output_type": "stream",
     "text": [
      "Eval f1-measure:  0.6506023811326469\n",
      "17\n",
      "Loss: 0.06344236980192364; F1 measure: 0.9815625\n"
     ]
    },
    {
     "name": "stderr",
     "output_type": "stream",
     "text": [
      " 90%|█████████ | 18/20 [13:10<01:26, 43.26s/it]"
     ]
    },
    {
     "name": "stdout",
     "output_type": "stream",
     "text": [
      "Eval f1-measure:  0.6388836311326469\n",
      "18\n",
      "Loss: 0.058304929621517655; F1 measure: 0.981875\n"
     ]
    },
    {
     "name": "stderr",
     "output_type": "stream",
     "text": [
      " 95%|█████████▌| 19/20 [13:53<00:43, 43.32s/it]"
     ]
    },
    {
     "name": "stdout",
     "output_type": "stream",
     "text": [
      "Eval f1-measure:  0.6118190679890975\n",
      "19\n",
      "Loss: 0.07311855807900429; F1 measure: 0.9774609375\n"
     ]
    },
    {
     "name": "stderr",
     "output_type": "stream",
     "text": [
      "100%|██████████| 20/20 [14:36<00:00, 43.84s/it]"
     ]
    },
    {
     "name": "stdout",
     "output_type": "stream",
     "text": [
      "Eval f1-measure:  0.6402263306329498\n"
     ]
    },
    {
     "name": "stderr",
     "output_type": "stream",
     "text": [
      "\n"
     ]
    }
   ],
   "source": [
    "import gc\n",
    "from tqdm import tqdm\n",
    "\n",
    "f1s = []\n",
    "f1s_eval = []\n",
    "\n",
    "for i in tqdm(range(EPOCHS)):\n",
    "    print(i)\n",
    "    f1s.append(train(model, train_data, optimizer, criterion, 100))\n",
    "    evl = evaluate(model, valid_data, criterion)\n",
    "    print('Eval f1-measure: ', evl)\n",
    "    f1s_eval.append(evl)\n",
    "\n",
    "\n",
    "model.load_state_dict(model.best_state)\n",
    "evl = evaluate(model, valid_data, criterion)\n",
    "\n",
    "with open(\"models/model_results.txt\", \"a\") as f:\n",
    "    f.writelines(f\"Model {model._get_name()} f1-score is {evl}\\n\")\n",
    "torch.save(model, f\"models/'{model._get_name()}'.pt\")\n",
    "\n",
    "del model\n",
    "gc.collect()\n",
    "torch.cuda.empty_cache()"
   ]
  },
  {
   "cell_type": "code",
   "execution_count": 294,
   "id": "04b7afc5-7fcd-4a7e-aae6-4c83c8a1bd4f",
   "metadata": {},
   "outputs": [
    {
     "data": {
      "image/png": "[encoded data removed]",
      "text/plain": [
       "<Figure size 640x480 with 1 Axes>"
      ]
     },
     "metadata": {},
     "output_type": "display_data"
    }
   ],
   "source": [
    "plt.plot(f1s)\n",
    "plt.plot(f1s_eval)\n",
    "plt.title('model f1 micro')\n",
    "plt.ylabel('f1')\n",
    "plt.xlabel('epoch')\n",
    "plt.legend(['train', 'val'], loc='upper left')\n",
    "plt.show()"
   ]
  },
  {
   "cell_type": "code",
   "execution_count": 295,
   "id": "a29ab761-1bd7-4f44-8e47-d9712e500483",
   "metadata": {},
   "outputs": [
    {
     "data": {
      "text/plain": [
       "0.6506023811326469"
      ]
     },
     "execution_count": 295,
     "metadata": {},
     "output_type": "execute_result"
    }
   ],
   "source": [
    "max(f1s_eval)"
   ]
  }
 ],
 "metadata": {
  "kernelspec": {
   "display_name": "Python 3 (ipykernel)",
   "language": "python",
   "name": "python3"
  },
  "language_info": {
   "codemirror_mode": {
    "name": "ipython",
    "version": 3
   },
   "file_extension": ".py",
   "mimetype": "text/x-python",
   "name": "python",
   "nbconvert_exporter": "python",
   "pygments_lexer": "ipython3",
   "version": "3.10.12"
  }
 },
 "nbformat": 4,
 "nbformat_minor": 5
}
