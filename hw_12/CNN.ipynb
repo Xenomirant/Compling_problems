{
 "cells": [
  {
   "cell_type": "code",
   "execution_count": 11,
   "id": "d72f0aba-9eb8-4507-98b2-b58b50a5ca1e",
   "metadata": {},
   "outputs": [
    {
     "name": "stdout",
     "output_type": "stream",
     "text": [
      "--2024-02-07 09:52:10--  https://github.com/mannefedov/compling_nlp_hse_course/raw/master/data/lenta_40k.csv.zip\n",
      "Resolving github.com (github.com)... 140.82.114.4\n",
      "Connecting to github.com (github.com)|140.82.114.4|:443... connected.\n",
      "HTTP request sent, awaiting response... 302 Found\n",
      "Location: https://raw.githubusercontent.com/mannefedov/compling_nlp_hse_course/master/data/lenta_40k.csv.zip [following]\n",
      "--2024-02-07 09:52:10--  https://raw.githubusercontent.com/mannefedov/compling_nlp_hse_course/master/data/lenta_40k.csv.zip\n",
      "Resolving raw.githubusercontent.com (raw.githubusercontent.com)... 185.199.109.133, 185.199.110.133, 185.199.111.133, ...\n",
      "Connecting to raw.githubusercontent.com (raw.githubusercontent.com)|185.199.109.133|:443... connected.\n",
      "HTTP request sent, awaiting response... 200 OK\n",
      "Length: 30658975 (29M) [application/zip]\n",
      "Saving to: ‘./data/lenta_40k.csv.zip’\n",
      "\n",
      "./data/lenta_40k.cs 100%[===================>]  29.24M  42.9MB/s    in 0.7s    \n",
      "\n",
      "2024-02-07 09:52:11 (42.9 MB/s) - ‘./data/lenta_40k.csv.zip’ saved [30658975/30658975]\n",
      "\n"
     ]
    }
   ],
   "source": [
    "! mkdir -p data && wget -O ./data/lenta_40k.csv.zip https://github.com/mannefedov/compling_nlp_hse_course/raw/master/data/lenta_40k.csv.zip"
   ]
  },
  {
   "cell_type": "markdown",
   "id": "4ca384d0-da9b-41bc-a902-ee069922c0c2",
   "metadata": {},
   "source": [
    "## Домашка (10 баллов)\n",
    "\n",
    "\n",
    "Обучите модель с минимум 15 слоями, где у каждого слоя разные параметры (Dropout, Conv1d и Pooling, Dense считаются слоями, остальное нет). Как мимнимум 4 слоя должны быть наложены друг на друга и как минимум 2 параллельных слоя (последовательности слоев). Должен быть хотя бы один слой каждого типа.\n",
    "\n",
    "При обучении используйте колбек для отслеживания лучшей модели. Ориентируйтесь на ф1 меру. Качество модели не должно быть околонулевым. Если метрики не растут, то попробуйте пообучать подольше или перестроить саму сеть.\n",
    "\n",
    "Советы: Начните с небольших сетей и постепенно добавляйте, не пытайтесь сразу собрать все слои. Иногда кернел может крашиться просто так или из-за слишком больших матриц.\n"
   ]
  },
  {
   "cell_type": "code",
   "execution_count": 4,
   "id": "2dcb010f-90e2-4a23-bbdd-4b6df8a94c31",
   "metadata": {},
   "outputs": [],
   "source": [
    "import pandas as pd\n",
    "import numpy as np\n",
    "from string import punctuation\n",
    "from sklearn.model_selection import train_test_split\n",
    "from collections import Counter\n",
    "import matplotlib.pyplot as plt\n",
    "%matplotlib inline\n"
   ]
  },
  {
   "cell_type": "code",
   "execution_count": 5,
   "id": "978585a6-90cd-431a-81d4-0425202ab301",
   "metadata": {},
   "outputs": [],
   "source": [
    "import torch\n",
    "import torch.nn as nn\n",
    "import torch.nn.functional as F\n",
    "import torch.optim as optim\n",
    "import torch.utils.data"
   ]
  },
  {
   "cell_type": "code",
   "execution_count": 6,
   "id": "e74eb136-e39e-4390-a182-cd58fffc695d",
   "metadata": {},
   "outputs": [],
   "source": [
    "df = pd.read_csv(\"data/lenta_40k.csv.zip\")"
   ]
  },
  {
   "cell_type": "code",
   "execution_count": 7,
   "id": "a438b7b4-646f-448f-a5d2-f73beb23e5f8",
   "metadata": {
    "scrolled": true
   },
   "outputs": [
    {
     "data": {
      "text/html": [
       "<div>\n",
       "<style scoped>\n",
       "    .dataframe tbody tr th:only-of-type {\n",
       "        vertical-align: middle;\n",
       "    }\n",
       "\n",
       "    .dataframe tbody tr th {\n",
       "        vertical-align: top;\n",
       "    }\n",
       "\n",
       "    .dataframe thead th {\n",
       "        text-align: right;\n",
       "    }\n",
       "</style>\n",
       "<table border=\"1\" class=\"dataframe\">\n",
       "  <thead>\n",
       "    <tr style=\"text-align: right;\">\n",
       "      <th></th>\n",
       "      <th>text</th>\n",
       "      <th>topic</th>\n",
       "    </tr>\n",
       "  </thead>\n",
       "  <tbody>\n",
       "    <tr>\n",
       "      <th>0</th>\n",
       "      <td>Россия должна сотрудничать с Всемирным антидоп...</td>\n",
       "      <td>Спорт</td>\n",
       "    </tr>\n",
       "    <tr>\n",
       "      <th>1</th>\n",
       "      <td>Уголовный суд Кувейта 28 июня освободил под за...</td>\n",
       "      <td>Мир</td>\n",
       "    </tr>\n",
       "    <tr>\n",
       "      <th>2</th>\n",
       "      <td>Французский журнал Charlie Hebdo опубликовал н...</td>\n",
       "      <td>Интернет и СМИ</td>\n",
       "    </tr>\n",
       "    <tr>\n",
       "      <th>3</th>\n",
       "      <td>В Петербурге в доме № 53 по улице Лени Голиков...</td>\n",
       "      <td>Россия</td>\n",
       "    </tr>\n",
       "    <tr>\n",
       "      <th>4</th>\n",
       "      <td>В московском аэропорту \"Домодедово\" задержан г...</td>\n",
       "      <td>Россия</td>\n",
       "    </tr>\n",
       "    <tr>\n",
       "      <th>...</th>\n",
       "      <td>...</td>\n",
       "      <td>...</td>\n",
       "    </tr>\n",
       "    <tr>\n",
       "      <th>44351</th>\n",
       "      <td>Российский Минфин может пересмотреть минимальн...</td>\n",
       "      <td>Экономика</td>\n",
       "    </tr>\n",
       "    <tr>\n",
       "      <th>44352</th>\n",
       "      <td>Сотрудники Службы безопасности Украины (СБУ) с...</td>\n",
       "      <td>Бывший СССР</td>\n",
       "    </tr>\n",
       "    <tr>\n",
       "      <th>44353</th>\n",
       "      <td>Америке следует задуматься над поставками на У...</td>\n",
       "      <td>Силовые структуры</td>\n",
       "    </tr>\n",
       "    <tr>\n",
       "      <th>44354</th>\n",
       "      <td>Опознаны тела 71 человека, погибшего в результ...</td>\n",
       "      <td>Мир</td>\n",
       "    </tr>\n",
       "    <tr>\n",
       "      <th>44355</th>\n",
       "      <td>Украинский националист, лидер запрещенной в Ро...</td>\n",
       "      <td>Бывший СССР</td>\n",
       "    </tr>\n",
       "  </tbody>\n",
       "</table>\n",
       "<p>44356 rows × 2 columns</p>\n",
       "</div>"
      ],
      "text/plain": [
       "                                                    text              topic\n",
       "0      Россия должна сотрудничать с Всемирным антидоп...              Спорт\n",
       "1      Уголовный суд Кувейта 28 июня освободил под за...                Мир\n",
       "2      Французский журнал Charlie Hebdo опубликовал н...     Интернет и СМИ\n",
       "3      В Петербурге в доме № 53 по улице Лени Голиков...             Россия\n",
       "4      В московском аэропорту \"Домодедово\" задержан г...             Россия\n",
       "...                                                  ...                ...\n",
       "44351  Российский Минфин может пересмотреть минимальн...          Экономика\n",
       "44352  Сотрудники Службы безопасности Украины (СБУ) с...        Бывший СССР\n",
       "44353  Америке следует задуматься над поставками на У...  Силовые структуры\n",
       "44354  Опознаны тела 71 человека, погибшего в результ...                Мир\n",
       "44355  Украинский националист, лидер запрещенной в Ро...        Бывший СССР\n",
       "\n",
       "[44356 rows x 2 columns]"
      ]
     },
     "execution_count": 7,
     "metadata": {},
     "output_type": "execute_result"
    }
   ],
   "source": [
    "df"
   ]
  },
  {
   "cell_type": "code",
   "execution_count": 8,
   "id": "2a77a498-cbdd-4db1-ab53-a9b3e58e7515",
   "metadata": {},
   "outputs": [],
   "source": [
    "df.dropna(subset=['topic', 'text'], inplace=True)"
   ]
  },
  {
   "cell_type": "code",
   "execution_count": 9,
   "id": "70a562af-3d17-489f-8312-32284c712ced",
   "metadata": {},
   "outputs": [],
   "source": [
    "def preprocess(text):\n",
    "    tokens = text.lower().split()\n",
    "    tokens = [token.strip(punctuation) for token in tokens]\n",
    "    return tokens"
   ]
  },
  {
   "cell_type": "code",
   "execution_count": 11,
   "id": "ea46ea6f-5166-4dda-b564-c2598998080f",
   "metadata": {},
   "outputs": [],
   "source": [
    "# словарь\n",
    "vocab = Counter()\n",
    "\n",
    "for text in df.text:\n",
    "    vocab.update(preprocess(text))"
   ]
  },
  {
   "cell_type": "code",
   "execution_count": 12,
   "id": "6e58f17c-8e75-4ec2-a0dc-9804ddcf8440",
   "metadata": {},
   "outputs": [
    {
     "data": {
      "text/plain": [
       "354611"
      ]
     },
     "execution_count": 12,
     "metadata": {},
     "output_type": "execute_result"
    }
   ],
   "source": [
    "len(vocab)"
   ]
  },
  {
   "cell_type": "code",
   "execution_count": 13,
   "id": "18a8a997-893c-4276-a28d-dbf740828baf",
   "metadata": {},
   "outputs": [],
   "source": [
    "# отфильтрованный словарь\n",
    "filtered_vocab = set()\n",
    "\n",
    "for word in vocab:\n",
    "    if vocab[word] > 20:\n",
    "        filtered_vocab.add(word)"
   ]
  },
  {
   "cell_type": "code",
   "execution_count": 14,
   "id": "2bbe790a-a7f5-466e-8984-8b0f1a50f7fd",
   "metadata": {},
   "outputs": [
    {
     "data": {
      "text/plain": [
       "32156"
      ]
     },
     "execution_count": 14,
     "metadata": {},
     "output_type": "execute_result"
    }
   ],
   "source": [
    "len(filtered_vocab)"
   ]
  },
  {
   "cell_type": "code",
   "execution_count": 15,
   "id": "15861177-b68c-451d-b64d-49fa92d090d7",
   "metadata": {},
   "outputs": [],
   "source": [
    "# индексируем слова\n",
    "word2id = {'PAD':0}\n",
    "\n",
    "for word in filtered_vocab:\n",
    "    word2id[word] = len(word2id)"
   ]
  },
  {
   "cell_type": "code",
   "execution_count": 16,
   "id": "acfc941f-1586-4d2d-bb78-4dd7dca7c3c7",
   "metadata": {},
   "outputs": [],
   "source": [
    "id2word = {i:word for word, i in word2id.items()}"
   ]
  },
  {
   "cell_type": "code",
   "execution_count": 17,
   "id": "650025c8-24ee-49a2-85a6-4474051930cc",
   "metadata": {},
   "outputs": [],
   "source": [
    "class Dataset(torch.utils.data.Dataset):\n",
    "\n",
    "    def __init__(self, word2id, MAX_LEN, texts, targets):\n",
    "        \n",
    "        # храним сырой датасет\n",
    "        # еще лучше можно сделать, если считывать из файла при генерации\n",
    "        self.texts = [torch.LongTensor([word2id[w] for w in self.preprocess(t) if w in word2id][:MAX_LEN]) for t in texts]\n",
    "        self.texts = torch.nn.utils.rnn.pad_sequence(self.texts, batch_first=True)\n",
    "        \n",
    "        # мы не считаем словарь прямо тут, т.к. нам нужно шерить словарь между трейном и валидацией\n",
    "        self.word2id = word2id\n",
    "        self.MAX_LEN = MAX_LEN\n",
    "        self.length = len(texts)\n",
    "        # таргеты можно сразу целиком выделить \n",
    "        \n",
    "        self.target = torch.LongTensor(targets)\n",
    "\n",
    "    def __len__(self):\n",
    "        # нужно уметь возвращать длину датасета, в нашем случае это просто сделать\n",
    "        # если не загружать данные целиком, а читать из файла - это может быть сложнее\n",
    "        return self.length\n",
    "\n",
    "    def __getitem__(self, index):\n",
    "\n",
    "        # в index будут индексы от 0 до self.length\n",
    "        # по ним мы достанем тексты, предобработаем,переведем в векторы, западим и вернем\n",
    "\n",
    "        ids = self.texts[index]\n",
    "        y = self.target[index]\n",
    "\n",
    "        return ids, y\n",
    "    \n",
    "    def preprocess(self, text):\n",
    "        tokens = text.lower().split()\n",
    "        tokens = [token.strip(punctuation) for token in tokens]\n",
    "        tokens = [token for token in tokens if token]\n",
    "        return tokens\n"
   ]
  },
  {
   "cell_type": "code",
   "execution_count": 18,
   "id": "9cac0056-9e85-4453-b746-6381b47a5131",
   "metadata": {},
   "outputs": [],
   "source": [
    "MAX_LEN = 200"
   ]
  },
  {
   "cell_type": "code",
   "execution_count": 22,
   "id": "e71b6aaf-4a61-42fe-9966-df00a7de1f49",
   "metadata": {},
   "outputs": [],
   "source": [
    "texts = df.text.values\n",
    "id2label = {i:l for i,l in enumerate(set(df.topic))}\n",
    "label2id = {l:i for i,l in id2label.items()}\n",
    "targets = [label2id[l] for l in df.topic]"
   ]
  },
  {
   "cell_type": "code",
   "execution_count": 23,
   "id": "8375f070-38c5-4ce4-80f5-44ca01bbda41",
   "metadata": {},
   "outputs": [],
   "source": [
    "train_texts, valid_texts, train_targets, valid_targets = train_test_split(texts, targets, test_size=0.15)"
   ]
  },
  {
   "cell_type": "code",
   "execution_count": 25,
   "id": "d0658961-c24d-480c-a9d1-056140ff3a9f",
   "metadata": {},
   "outputs": [],
   "source": [
    "training_set = Dataset(word2id, MAX_LEN, train_texts, train_targets)\n",
    "train_data = torch.utils.data.DataLoader(training_set, batch_size=256, shuffle=True, )"
   ]
  },
  {
   "cell_type": "code",
   "execution_count": 24,
   "id": "9b5bb5c9-16d7-4f12-b340-b39a7504e0f0",
   "metadata": {},
   "outputs": [],
   "source": [
    "valid_set = Dataset(word2id, MAX_LEN, valid_texts, valid_targets)\n",
    "valid_data = torch.utils.data.DataLoader(valid_set, batch_size=256, shuffle=False)"
   ]
  },
  {
   "cell_type": "code",
   "execution_count": 99,
   "id": "91c6579a-850e-4066-8eea-e4ec42a7d884",
   "metadata": {},
   "outputs": [],
   "source": [
    "from sklearn.metrics import f1_score\n",
    "from copy import deepcopy\n",
    "\n",
    "def train(model, iterator, optimizer, criterion, print_every=1000):\n",
    "    \n",
    "    epoch_loss = []\n",
    "    epoch_f1 = []\n",
    "    \n",
    "    model.train()  \n",
    "\n",
    "    for i, (texts, ys) in enumerate(iterator):\n",
    "        \n",
    "        optimizer.zero_grad()   \n",
    "        predictions = model(texts.to(device)).squeeze()  \n",
    "        loss = criterion(predictions, ys.to(device))        \n",
    "        \n",
    "        \n",
    "        loss.backward()\n",
    "        optimizer.step()     \n",
    "        preds = predictions.detach().to('cpu').numpy().argmax(1).tolist()\n",
    "        y_true = ys.tolist()\n",
    "        \n",
    "        epoch_loss.append(loss.item())\n",
    "        epoch_f1.append(f1_score(y_true, preds, average=\"micro\"))\n",
    "        \n",
    "        if not (i+1) % print_every:\n",
    "            print(f'Loss: {np.mean(epoch_loss)}; F1 measure: {np.mean(epoch_f1)}')\n",
    "        \n",
    "    return np.mean(epoch_f1)\n",
    "\n",
    "\n",
    "def evaluate(model, iterator, criterion):\n",
    "    \n",
    "    epoch_loss = []\n",
    "    epoch_f1 = []\n",
    "    \n",
    "    model.eval()  \n",
    "    with torch.no_grad():\n",
    "        for texts, ys in iterator:   \n",
    "            predictions = model(texts.to(device)).squeeze()  \n",
    "            loss = criterion(predictions, ys.to(device))        \n",
    "            preds = predictions.detach().to('cpu').numpy().argmax(1).tolist()\n",
    "            y_true = ys.tolist()\n",
    "            \n",
    "            \n",
    "            epoch_loss.append(loss.item())  \n",
    "            epoch_f1.append(f1_score(y_true, preds, average=\"micro\"))\n",
    "\n",
    "            if epoch_f1[-1] > max(f1s_eval, default=0):\n",
    "                model.best_state = deepcopy(model.state_dict())\n",
    "            \n",
    "    return np.mean(epoch_f1)# / len(iterator)"
   ]
  },
  {
   "cell_type": "code",
   "execution_count": 100,
   "id": "856ec45d-cfe6-4c28-9d90-83080934bf63",
   "metadata": {},
   "outputs": [],
   "source": [
    "# сеть с двумя полносвязными слоями и активацией\n",
    "class Clf(nn.Module):\n",
    "    \n",
    "    def __init__(self, vocab_size, embedding_dim, hidden, output_dim):\n",
    "        super().__init__()          \n",
    "        self.embedding = nn.Embedding(vocab_size, embedding_dim)\n",
    "        self.fc = nn.Linear(embedding_dim, hidden)\n",
    "        self.fc_1 = nn.Linear(hidden, hidden*3)\n",
    "        self.act = nn.LogSoftmax(1) \n",
    "        self.fc_2 = nn.Linear(hidden*3, output_dim)\n",
    "        self.relu = nn.ReLU()       \n",
    "        \n",
    "    def forward(self, text):\n",
    "        embedded = self.embedding(text)   \n",
    "        hidden = torch.mean(embedded, dim=1)\n",
    "        hidden = self.relu(self.fc(hidden))\n",
    "        dense_outputs=self.fc_1(hidden) \n",
    "\n",
    "        outputs=self.act(dense_outputs)\n",
    "        \n",
    "        return outputs\n",
    "\n",
    "\n",
    "device = torch.device('cuda' if torch.cuda.is_available() else 'cpu')  \n",
    "model = Clf(len(word2id), 30, 30, len(label2id))\n",
    "\n",
    "\n",
    "optimizer = optim.Adam(model.parameters(), lr=0.001)\n",
    "criterion = nn.NLLLoss() \n",
    "model = model.to(device)\n",
    "criterion = criterion.to(device)"
   ]
  },
  {
   "cell_type": "code",
   "execution_count": 101,
   "id": "d1e8035b-beb2-4238-92a6-fd0cb1bf3a93",
   "metadata": {},
   "outputs": [],
   "source": [
    "import torchsummary"
   ]
  },
  {
   "cell_type": "code",
   "execution_count": 102,
   "id": "47953605-5220-4e05-83f0-cef5fd08a9fe",
   "metadata": {},
   "outputs": [
    {
     "name": "stdout",
     "output_type": "stream",
     "text": [
      "----------------------------------------------------------------\n",
      "        Layer (type)               Output Shape         Param #\n",
      "================================================================\n",
      "         Embedding-1           [-1, 1, 256, 30]         964,710\n",
      "            Linear-2              [-1, 256, 30]             930\n",
      "              ReLU-3              [-1, 256, 30]               0\n",
      "            Linear-4              [-1, 256, 90]           2,790\n",
      "        LogSoftmax-5              [-1, 256, 90]               0\n",
      "================================================================\n",
      "Total params: 968,430\n",
      "Trainable params: 968,430\n",
      "Non-trainable params: 0\n",
      "----------------------------------------------------------------\n",
      "Input size (MB): 0.00\n",
      "Forward/backward pass size (MB): 0.53\n",
      "Params size (MB): 3.69\n",
      "Estimated Total Size (MB): 4.22\n",
      "----------------------------------------------------------------\n"
     ]
    }
   ],
   "source": [
    "torchsummary.summary(model, (1, 256))"
   ]
  },
  {
   "cell_type": "code",
   "execution_count": null,
   "id": "c8017fd7-ee6b-4664-98d3-5a4a61e699f5",
   "metadata": {},
   "outputs": [],
   "source": []
  },
  {
   "cell_type": "markdown",
   "id": "28dd0a51-7192-4d18-8785-6f40d60c28fc",
   "metadata": {},
   "source": [
    "Запускаем обучение"
   ]
  },
  {
   "cell_type": "code",
   "execution_count": 77,
   "id": "d7f12710-3786-4338-8d7b-de146cc04d1e",
   "metadata": {},
   "outputs": [],
   "source": [
    "EPOCHS = 20"
   ]
  },
  {
   "cell_type": "code",
   "execution_count": 103,
   "id": "880f7e95-0f0b-4bba-b414-0d715f029e7d",
   "metadata": {
    "scrolled": true
   },
   "outputs": [
    {
     "name": "stderr",
     "output_type": "stream",
     "text": [
      "  0%|          | 0/20 [00:00<?, ?it/s]"
     ]
    },
    {
     "name": "stdout",
     "output_type": "stream",
     "text": [
      "0\n",
      "Loss: 3.488308606147766; F1 measure: 0.130078125\n"
     ]
    },
    {
     "name": "stderr",
     "output_type": "stream",
     "text": [
      "  5%|▌         | 1/20 [00:01<00:22,  1.18s/it]"
     ]
    },
    {
     "name": "stdout",
     "output_type": "stream",
     "text": [
      "Eval f1-measure:  0.20635457677165356\n",
      "1\n",
      "Loss: 2.311487910747528; F1 measure: 0.223515625\n"
     ]
    },
    {
     "name": "stderr",
     "output_type": "stream",
     "text": [
      " 10%|█         | 2/20 [00:02<00:21,  1.17s/it]"
     ]
    },
    {
     "name": "stdout",
     "output_type": "stream",
     "text": [
      "Eval f1-measure:  0.21536545086311326\n",
      "2\n",
      "Loss: 2.2172960782051088; F1 measure: 0.23328125\n"
     ]
    },
    {
     "name": "stderr",
     "output_type": "stream",
     "text": [
      " 15%|█▌        | 3/20 [00:03<00:20,  1.19s/it]"
     ]
    },
    {
     "name": "stdout",
     "output_type": "stream",
     "text": [
      "Eval f1-measure:  0.2574445885069655\n",
      "3\n",
      "Loss: 2.0538642263412474; F1 measure: 0.3284375\n"
     ]
    },
    {
     "name": "stderr",
     "output_type": "stream",
     "text": [
      " 20%|██        | 4/20 [00:04<00:18,  1.18s/it]"
     ]
    },
    {
     "name": "stdout",
     "output_type": "stream",
     "text": [
      "Eval f1-measure:  0.38608939657783165\n",
      "4\n",
      "Loss: 1.7601272714138032; F1 measure: 0.4452734375\n"
     ]
    },
    {
     "name": "stderr",
     "output_type": "stream",
     "text": [
      " 25%|██▌       | 5/20 [00:05<00:17,  1.18s/it]"
     ]
    },
    {
     "name": "stdout",
     "output_type": "stream",
     "text": [
      "Eval f1-measure:  0.5034720907783161\n",
      "5\n",
      "Loss: 1.4896282029151917; F1 measure: 0.536171875\n"
     ]
    },
    {
     "name": "stderr",
     "output_type": "stream",
     "text": [
      " 30%|███       | 6/20 [00:07<00:16,  1.17s/it]"
     ]
    },
    {
     "name": "stdout",
     "output_type": "stream",
     "text": [
      "Eval f1-measure:  0.5613347497728649\n",
      "6\n",
      "Loss: 1.3149406278133393; F1 measure: 0.593359375\n"
     ]
    },
    {
     "name": "stderr",
     "output_type": "stream",
     "text": [
      " 35%|███▌      | 7/20 [00:08<00:15,  1.16s/it]"
     ]
    },
    {
     "name": "stdout",
     "output_type": "stream",
     "text": [
      "Eval f1-measure:  0.6040148489551787\n",
      "7\n",
      "Loss: 1.1979370325803758; F1 measure: 0.6339453125\n"
     ]
    },
    {
     "name": "stderr",
     "output_type": "stream",
     "text": [
      " 40%|████      | 8/20 [00:09<00:13,  1.15s/it]"
     ]
    },
    {
     "name": "stdout",
     "output_type": "stream",
     "text": [
      "Eval f1-measure:  0.6330147921714112\n",
      "8\n",
      "Loss: 1.084039043188095; F1 measure: 0.670703125\n"
     ]
    },
    {
     "name": "stderr",
     "output_type": "stream",
     "text": [
      " 45%|████▌     | 9/20 [00:10<00:12,  1.15s/it]"
     ]
    },
    {
     "name": "stdout",
     "output_type": "stream",
     "text": [
      "Eval f1-measure:  0.6525495911568746\n",
      "9\n",
      "Loss: 0.9986419188976288; F1 measure: 0.69546875\n"
     ]
    },
    {
     "name": "stderr",
     "output_type": "stream",
     "text": [
      " 50%|█████     | 10/20 [00:11<00:11,  1.16s/it]"
     ]
    },
    {
     "name": "stdout",
     "output_type": "stream",
     "text": [
      "Eval f1-measure:  0.6737382173682617\n",
      "10\n",
      "Loss: 0.9286663192510605; F1 measure: 0.7179296875\n"
     ]
    },
    {
     "name": "stderr",
     "output_type": "stream",
     "text": [
      " 55%|█████▌    | 11/20 [00:13<00:11,  1.23s/it]"
     ]
    },
    {
     "name": "stdout",
     "output_type": "stream",
     "text": [
      "Eval f1-measure:  0.6838090551181103\n",
      "11\n",
      "Loss: 0.8747730123996734; F1 measure: 0.735859375\n"
     ]
    },
    {
     "name": "stderr",
     "output_type": "stream",
     "text": [
      " 60%|██████    | 12/20 [00:14<00:09,  1.21s/it]"
     ]
    },
    {
     "name": "stdout",
     "output_type": "stream",
     "text": [
      "Eval f1-measure:  0.6965794878104179\n",
      "12\n",
      "Loss: 0.8201582872867584; F1 measure: 0.7524609375\n"
     ]
    },
    {
     "name": "stderr",
     "output_type": "stream",
     "text": [
      " 65%|██████▌   | 13/20 [00:15<00:08,  1.20s/it]"
     ]
    },
    {
     "name": "stdout",
     "output_type": "stream",
     "text": [
      "Eval f1-measure:  0.7086069995457299\n",
      "13\n",
      "Loss: 0.7752294033765793; F1 measure: 0.765\n"
     ]
    },
    {
     "name": "stderr",
     "output_type": "stream",
     "text": [
      " 70%|███████   | 14/20 [00:16<00:07,  1.20s/it]"
     ]
    },
    {
     "name": "stdout",
     "output_type": "stream",
     "text": [
      "Eval f1-measure:  0.7128089983343429\n",
      "14\n",
      "Loss: 0.7259188455343246; F1 measure: 0.7787890625\n"
     ]
    },
    {
     "name": "stderr",
     "output_type": "stream",
     "text": [
      " 75%|███████▌  | 15/20 [00:17<00:05,  1.20s/it]"
     ]
    },
    {
     "name": "stdout",
     "output_type": "stream",
     "text": [
      "Eval f1-measure:  0.7242331825408843\n",
      "15\n",
      "Loss: 0.6830615013837814; F1 measure: 0.7939453125\n"
     ]
    },
    {
     "name": "stderr",
     "output_type": "stream",
     "text": [
      " 80%|████████  | 16/20 [00:18<00:04,  1.19s/it]"
     ]
    },
    {
     "name": "stdout",
     "output_type": "stream",
     "text": [
      "Eval f1-measure:  0.727842500757117\n",
      "16\n",
      "Loss: 0.6427914953231811; F1 measure: 0.806015625\n"
     ]
    },
    {
     "name": "stderr",
     "output_type": "stream",
     "text": [
      " 85%|████████▌ | 17/20 [00:20<00:03,  1.18s/it]"
     ]
    },
    {
     "name": "stdout",
     "output_type": "stream",
     "text": [
      "Eval f1-measure:  0.7344578096608116\n",
      "17\n",
      "Loss: 0.6103204363584518; F1 measure: 0.816328125\n"
     ]
    },
    {
     "name": "stderr",
     "output_type": "stream",
     "text": [
      " 90%|█████████ | 18/20 [00:21<00:02,  1.17s/it]"
     ]
    },
    {
     "name": "stdout",
     "output_type": "stream",
     "text": [
      "Eval f1-measure:  0.7374638003482737\n",
      "18\n",
      "Loss: 0.5758958956599236; F1 measure: 0.8244140625\n"
     ]
    },
    {
     "name": "stderr",
     "output_type": "stream",
     "text": [
      " 95%|█████████▌| 19/20 [00:22<00:01,  1.17s/it]"
     ]
    },
    {
     "name": "stdout",
     "output_type": "stream",
     "text": [
      "Eval f1-measure:  0.7385095680648093\n",
      "19\n",
      "Loss: 0.547370254099369; F1 measure: 0.8344140625\n"
     ]
    },
    {
     "name": "stderr",
     "output_type": "stream",
     "text": [
      "100%|██████████| 20/20 [00:23<00:00,  1.18s/it]"
     ]
    },
    {
     "name": "stdout",
     "output_type": "stream",
     "text": [
      "Eval f1-measure:  0.7431729349636584\n"
     ]
    },
    {
     "name": "stderr",
     "output_type": "stream",
     "text": [
      "\n"
     ]
    }
   ],
   "source": [
    "import gc\n",
    "from tqdm import tqdm\n",
    "\n",
    "f1s = []\n",
    "f1s_eval = []\n",
    "\n",
    "for i in tqdm(range(EPOCHS)):\n",
    "    print(i)\n",
    "    f1s.append(train(model, train_data, optimizer, criterion, 100))\n",
    "    evl = evaluate(model, valid_data, criterion)\n",
    "    print('Eval f1-measure: ', evl)\n",
    "    f1s_eval.append(evl)\n",
    "\n",
    "\n",
    "model.load_state_dict(model.best_state)\n",
    "evl = evaluate(model, valid_data, criterion)\n",
    "\n",
    "with open(\"models/model_results.txt\", \"w\") as f:\n",
    "    f.write(f\"Model {model._get_name()} f1-score is {evl}\")\n",
    "torch.save(model, f\"models/'{model._get_name()}'.pt\")\n",
    "\n",
    "del model\n",
    "gc.collect()\n",
    "torch.cuda.empty_cache()"
   ]
  },
  {
   "cell_type": "code",
   "execution_count": 104,
   "id": "26303f96-bd06-4d11-8cc8-08ae12d9107a",
   "metadata": {},
   "outputs": [
    {
     "data": {
      "image/png": "[encoded data removed]",
      "text/plain": [
       "<Figure size 640x480 with 1 Axes>"
      ]
     },
     "metadata": {},
     "output_type": "display_data"
    }
   ],
   "source": [
    "plt.plot(f1s)\n",
    "plt.plot(f1s_eval)\n",
    "plt.title('model f1 micro')\n",
    "plt.ylabel('f1')\n",
    "plt.xlabel('epoch')\n",
    "plt.legend(['train', 'val'], loc='upper left')\n",
    "plt.show()"
   ]
  },
  {
   "cell_type": "markdown",
   "id": "daf6298f-ad75-4ee6-bd15-1a32c7c3ef98",
   "metadata": {},
   "source": [
    "Посмотрим еще максимальную f меру"
   ]
  },
  {
   "cell_type": "code",
   "execution_count": 105,
   "id": "04b50f6c-5318-410c-9077-8bab3cd13841",
   "metadata": {},
   "outputs": [
    {
     "data": {
      "text/plain": [
       "0.7431729349636584"
      ]
     },
     "execution_count": 105,
     "metadata": {},
     "output_type": "execute_result"
    }
   ],
   "source": [
    "max(f1s_eval)"
   ]
  },
  {
   "cell_type": "markdown",
   "id": "442ad1b0-4916-40b9-9509-6ce081974bf2",
   "metadata": {},
   "source": [
    "Теперь попробуем сверточные слои. В торче сверточные слои не очень простые - нужно подробно разобраться в параметрах и расчитывать изменения в размере последовательности вручную. "
   ]
  },
  {
   "cell_type": "code",
   "execution_count": 110,
   "id": "0459fe08-cae1-401d-aedb-e7bee47d1d00",
   "metadata": {},
   "outputs": [],
   "source": [
    "class Conv1(nn.Module):\n",
    "    \n",
    "    def __init__(self, output_dim, *, emb_dim = 100, ker_size = 7, stride = 1, hidden_layer = 64, max_len = 200):\n",
    "        \n",
    "        super().__init__() \n",
    "\n",
    "        self.VOCAB_SIZE = len(word2id)\n",
    "        self.EMB_DIM = emb_dim\n",
    "        self.KERNEL_SIZE = ker_size\n",
    "        self.MAX_LEN = max_len\n",
    "        self.IN_CHANNELS = self.EMB_DIM\n",
    "        self.OUT_CHANNELS = output_dim\n",
    "        self.STRIDE = stride\n",
    "        self.HIDDEN_FC = hidden_layer\n",
    "        \n",
    "        \n",
    "        self.embedding = nn.Embedding(self.VOCAB_SIZE, self.EMB_DIM)\n",
    "        \n",
    "        self.conv = nn.Conv1d(self.IN_CHANNELS, \n",
    "                              self.OUT_CHANNELS, \n",
    "                              kernel_size=self.KERNEL_SIZE, \n",
    "                              stride=self.STRIDE, ) \n",
    "    \n",
    "        self.relu = nn.ReLU()\n",
    "        \n",
    "        \n",
    "        self.flattened_size = int((((self.MAX_LEN-(self.KERNEL_SIZE-1)-1)/self.STRIDE)+1)*self.OUT_CHANNELS)\n",
    "        \n",
    "        self.fc = nn.Linear(self.flattened_size, \n",
    "                            self.HIDDEN_FC)\n",
    "        \n",
    "        self.fc_1 = nn.Linear(self.HIDDEN_FC, output_dim)\n",
    "        self.act = nn.LogSoftmax(1) \n",
    "        \n",
    "        \n",
    "    def forward(self, text):\n",
    "        \n",
    "        embedded = self.embedding(text).permute(0, 2, 1)\n",
    "        \n",
    "        convoluted = self.relu(self.conv(embedded))\n",
    "        hidden = torch.flatten(convoluted, 1, -1)\n",
    "        hidden = self.relu(self.fc(hidden))  \n",
    "        \n",
    "        dense_outputs = self.fc_1(hidden) \n",
    "        outputs=self.act(dense_outputs) \n",
    "        \n",
    "        return outputs\n",
    "\n",
    "\n",
    "device = torch.device('cuda' if torch.cuda.is_available() else 'cpu')  \n",
    "model = Conv1(len(label2id))\n",
    "\n",
    "\n",
    "optimizer = optim.Adam(model.parameters(), lr=0.001)\n",
    "criterion = nn.NLLLoss() \n",
    "model = model.to(device)\n",
    "criterion = criterion.to(device)"
   ]
  },
  {
   "cell_type": "code",
   "execution_count": 116,
   "id": "647ad877-bb88-48f9-9e49-3a32ee638bae",
   "metadata": {},
   "outputs": [
    {
     "name": "stdout",
     "output_type": "stream",
     "text": [
      "----------------------------------------------------------------\n",
      "        Layer (type)               Output Shape         Param #\n",
      "================================================================\n",
      "         Embedding-1             [-1, 200, 100]       3,215,700\n",
      "            Conv1d-2              [-1, 19, 194]          13,319\n",
      "              ReLU-3              [-1, 19, 194]               0\n",
      "            Linear-4                   [-1, 64]         235,968\n",
      "              ReLU-5                   [-1, 64]               0\n",
      "            Linear-6                   [-1, 19]           1,235\n",
      "        LogSoftmax-7                   [-1, 19]               0\n",
      "================================================================\n",
      "Total params: 3,466,222\n",
      "Trainable params: 3,466,222\n",
      "Non-trainable params: 0\n",
      "----------------------------------------------------------------\n",
      "Input size (MB): 0.00\n",
      "Forward/backward pass size (MB): 0.21\n",
      "Params size (MB): 13.22\n",
      "Estimated Total Size (MB): 13.43\n",
      "----------------------------------------------------------------\n"
     ]
    }
   ],
   "source": [
    "torchsummary.summary(model, (200, ))"
   ]
  },
  {
   "cell_type": "code",
   "execution_count": 107,
   "id": "03724690-a1b4-4892-93c0-78adf367ee84",
   "metadata": {
    "scrolled": true
   },
   "outputs": [
    {
     "name": "stderr",
     "output_type": "stream",
     "text": [
      "  0%|          | 0/20 [00:00<?, ?it/s]"
     ]
    },
    {
     "name": "stdout",
     "output_type": "stream",
     "text": [
      "0\n",
      "Loss: 2.20754679441452; F1 measure: 0.265546875\n"
     ]
    },
    {
     "name": "stderr",
     "output_type": "stream",
     "text": [
      "  5%|▌         | 1/20 [00:05<01:47,  5.66s/it]"
     ]
    },
    {
     "name": "stdout",
     "output_type": "stream",
     "text": [
      "Eval f1-measure:  0.4933988870381587\n",
      "1\n",
      "Loss: 1.3379059481620788; F1 measure: 0.5824609375\n"
     ]
    },
    {
     "name": "stderr",
     "output_type": "stream",
     "text": [
      " 10%|█         | 2/20 [00:11<01:39,  5.55s/it]"
     ]
    },
    {
     "name": "stdout",
     "output_type": "stream",
     "text": [
      "Eval f1-measure:  0.6076123372198667\n",
      "2\n",
      "Loss: 0.944161610007286; F1 measure: 0.705\n"
     ]
    },
    {
     "name": "stderr",
     "output_type": "stream",
     "text": [
      " 15%|█▌        | 3/20 [00:16<01:33,  5.48s/it]"
     ]
    },
    {
     "name": "stdout",
     "output_type": "stream",
     "text": [
      "Eval f1-measure:  0.6399270328588733\n",
      "3\n",
      "Loss: 0.6805279082059861; F1 measure: 0.78921875\n"
     ]
    },
    {
     "name": "stderr",
     "output_type": "stream",
     "text": [
      " 20%|██        | 4/20 [00:22<01:28,  5.53s/it]"
     ]
    },
    {
     "name": "stdout",
     "output_type": "stream",
     "text": [
      "Eval f1-measure:  0.6433837447001818\n",
      "4\n",
      "Loss: 0.4679592406749725; F1 measure: 0.8594140625\n"
     ]
    },
    {
     "name": "stderr",
     "output_type": "stream",
     "text": [
      " 25%|██▌       | 5/20 [00:27<01:22,  5.51s/it]"
     ]
    },
    {
     "name": "stdout",
     "output_type": "stream",
     "text": [
      "Eval f1-measure:  0.6548055629164142\n",
      "5\n",
      "Loss: 0.29244456231594085; F1 measure: 0.918984375\n"
     ]
    },
    {
     "name": "stderr",
     "output_type": "stream",
     "text": [
      " 30%|███       | 6/20 [00:33<01:19,  5.65s/it]"
     ]
    },
    {
     "name": "stdout",
     "output_type": "stream",
     "text": [
      "Eval f1-measure:  0.6594618318443367\n",
      "6\n",
      "Loss: 0.15518462039530279; F1 measure: 0.9659765625\n"
     ]
    },
    {
     "name": "stderr",
     "output_type": "stream",
     "text": [
      " 35%|███▌      | 7/20 [00:39<01:15,  5.81s/it]"
     ]
    },
    {
     "name": "stdout",
     "output_type": "stream",
     "text": [
      "Eval f1-measure:  0.6490987942913387\n",
      "7\n",
      "Loss: 0.07720282569527626; F1 measure: 0.9873828125\n"
     ]
    },
    {
     "name": "stderr",
     "output_type": "stream",
     "text": [
      " 40%|████      | 8/20 [00:45<01:09,  5.80s/it]"
     ]
    },
    {
     "name": "stdout",
     "output_type": "stream",
     "text": [
      "Eval f1-measure:  0.654959352286493\n",
      "8\n",
      "Loss: 0.03729600565508008; F1 measure: 0.99640625\n"
     ]
    },
    {
     "name": "stderr",
     "output_type": "stream",
     "text": [
      " 45%|████▌     | 9/20 [00:50<01:02,  5.71s/it]"
     ]
    },
    {
     "name": "stdout",
     "output_type": "stream",
     "text": [
      "Eval f1-measure:  0.6534581314354936\n",
      "9\n",
      "Loss: 0.01949319667182863; F1 measure: 0.9980078125\n"
     ]
    },
    {
     "name": "stderr",
     "output_type": "stream",
     "text": [
      " 50%|█████     | 10/20 [00:56<00:57,  5.73s/it]"
     ]
    },
    {
     "name": "stdout",
     "output_type": "stream",
     "text": [
      "Eval f1-measure:  0.6579653429739551\n",
      "10\n",
      "Loss: 0.013073232853785158; F1 measure: 0.998359375\n"
     ]
    },
    {
     "name": "stderr",
     "output_type": "stream",
     "text": [
      " 55%|█████▌    | 11/20 [01:02<00:52,  5.88s/it]"
     ]
    },
    {
     "name": "stdout",
     "output_type": "stream",
     "text": [
      "Eval f1-measure:  0.6569089283010296\n",
      "11\n",
      "Loss: 0.009517715256661176; F1 measure: 0.9986328125\n"
     ]
    },
    {
     "name": "stderr",
     "output_type": "stream",
     "text": [
      " 60%|██████    | 12/20 [01:09<00:48,  6.03s/it]"
     ]
    },
    {
     "name": "stdout",
     "output_type": "stream",
     "text": [
      "Eval f1-measure:  0.6597694105844943\n",
      "12\n",
      "Loss: 0.007377194485161454; F1 measure: 0.998984375\n"
     ]
    },
    {
     "name": "stderr",
     "output_type": "stream",
     "text": [
      " 65%|██████▌   | 13/20 [01:15<00:42,  6.07s/it]"
     ]
    },
    {
     "name": "stdout",
     "output_type": "stream",
     "text": [
      "Eval f1-measure:  0.6596144382192611\n",
      "13\n",
      "Loss: 0.005864523483905941; F1 measure: 0.998984375\n"
     ]
    },
    {
     "name": "stderr",
     "output_type": "stream",
     "text": [
      " 70%|███████   | 14/20 [01:21<00:35,  5.95s/it]"
     ]
    },
    {
     "name": "stdout",
     "output_type": "stream",
     "text": [
      "Eval f1-measure:  0.6611203910508782\n",
      "14\n",
      "Loss: 0.006070959069766104; F1 measure: 0.9987890625\n"
     ]
    },
    {
     "name": "stderr",
     "output_type": "stream",
     "text": [
      " 75%|███████▌  | 15/20 [01:27<00:29,  6.00s/it]"
     ]
    },
    {
     "name": "stdout",
     "output_type": "stream",
     "text": [
      "Eval f1-measure:  0.6624713715172622\n",
      "15\n",
      "Loss: 0.00534165833843872; F1 measure: 0.9987109375\n"
     ]
    },
    {
     "name": "stderr",
     "output_type": "stream",
     "text": [
      " 80%|████████  | 16/20 [01:33<00:23,  6.00s/it]"
     ]
    },
    {
     "name": "stdout",
     "output_type": "stream",
     "text": [
      "Eval f1-measure:  0.661420871820109\n",
      "16\n",
      "Loss: 0.00473865139298141; F1 measure: 0.9990234375\n"
     ]
    },
    {
     "name": "stderr",
     "output_type": "stream",
     "text": [
      " 85%|████████▌ | 17/20 [01:39<00:17,  5.93s/it]"
     ]
    },
    {
     "name": "stdout",
     "output_type": "stream",
     "text": [
      "Eval f1-measure:  0.6620206503634161\n",
      "17\n",
      "Loss: 0.00460424862918444; F1 measure: 0.9991015625\n"
     ]
    },
    {
     "name": "stderr",
     "output_type": "stream",
     "text": [
      " 90%|█████████ | 18/20 [01:44<00:11,  5.89s/it]"
     ]
    },
    {
     "name": "stdout",
     "output_type": "stream",
     "text": [
      "Eval f1-measure:  0.6618727759691097\n",
      "18\n",
      "Loss: 0.004278633184731007; F1 measure: 0.9989453125\n"
     ]
    },
    {
     "name": "stderr",
     "output_type": "stream",
     "text": [
      " 95%|█████████▌| 19/20 [01:50<00:05,  5.82s/it]"
     ]
    },
    {
     "name": "stdout",
     "output_type": "stream",
     "text": [
      "Eval f1-measure:  0.6627730352816474\n",
      "19\n",
      "Loss: 0.009724942580214701; F1 measure: 0.99796875\n"
     ]
    },
    {
     "name": "stderr",
     "output_type": "stream",
     "text": [
      "100%|██████████| 20/20 [01:56<00:00,  5.82s/it]"
     ]
    },
    {
     "name": "stdout",
     "output_type": "stream",
     "text": [
      "Eval f1-measure:  0.6605158805269534\n"
     ]
    },
    {
     "name": "stderr",
     "output_type": "stream",
     "text": [
      "\n"
     ]
    }
   ],
   "source": [
    "import gc\n",
    "from tqdm import tqdm\n",
    "\n",
    "f1s = []\n",
    "f1s_eval = []\n",
    "\n",
    "for i in tqdm(range(EPOCHS)):\n",
    "    print(i)\n",
    "    f1s.append(train(model, train_data, optimizer, criterion, 100))\n",
    "    evl = evaluate(model, valid_data, criterion)\n",
    "    print('Eval f1-measure: ', evl)\n",
    "    f1s_eval.append(evl)\n",
    "\n",
    "\n",
    "model.load_state_dict(model.best_state)\n",
    "evl = evaluate(model, valid_data, criterion)\n",
    "\n",
    "with open(\"models/model_results.txt\", \"a\") as f:\n",
    "    f.writelines(f\"Model {model._get_name()} f1-score is {evl}\\n\")\n",
    "torch.save(model, f\"models/'{model._get_name()}'.pt\")\n",
    "\n",
    "del model\n",
    "gc.collect()\n",
    "torch.cuda.empty_cache()"
   ]
  },
  {
   "cell_type": "code",
   "execution_count": 117,
   "id": "cdb376db-b67e-4357-a535-a854b808b84f",
   "metadata": {},
   "outputs": [
    {
     "data": {
      "image/png": "[encoded data removed]",
      "text/plain": [
       "<Figure size 640x480 with 1 Axes>"
      ]
     },
     "metadata": {},
     "output_type": "display_data"
    }
   ],
   "source": [
    "plt.plot(f1s)\n",
    "plt.plot(f1s_eval)\n",
    "plt.title('model f1 micro')\n",
    "plt.ylabel('f1')\n",
    "plt.xlabel('epoch')\n",
    "plt.legend(['train', 'val'], loc='upper left')\n",
    "plt.show()"
   ]
  },
  {
   "cell_type": "code",
   "execution_count": 59,
   "id": "606a391b-4a8b-4fac-b7ee-1c9164399a33",
   "metadata": {},
   "outputs": [
    {
     "data": {
      "text/plain": [
       "0.6539005716232587"
      ]
     },
     "execution_count": 59,
     "metadata": {},
     "output_type": "execute_result"
    }
   ],
   "source": [
    "max(f1s_eval)"
   ]
  },
  {
   "cell_type": "code",
   "execution_count": 60,
   "id": "9f59a7e5-5eb8-4e16-984d-72a07e8f8d14",
   "metadata": {},
   "outputs": [],
   "source": [
    "class Clf(nn.Module):\n",
    "    \n",
    "    def __init__(self, output_dim):\n",
    "        \n",
    "        super().__init__()          \n",
    "        self.VOCAB_SIZE = len(word2id)\n",
    "        self.EMB_DIM = 100\n",
    "        self.KERNEL_SIZE = 5\n",
    "        self.MAX_LEN = 200\n",
    "        self.IN_CHANNELS = self.EMB_DIM\n",
    "        self.OUT_CHANNELS = 128\n",
    "        self.STRIDE = 2\n",
    "        self.STRIDE_POOL = 2\n",
    "        self.KERNEL_SIZE_POOL = 2\n",
    "        self.HIDDEN_FC = 64\n",
    "        \n",
    "        \n",
    "        self.embedding = nn.Embedding(self.VOCAB_SIZE, self.EMB_DIM)\n",
    "        self.conv = nn.Conv1d(self.IN_CHANNELS, \n",
    "                              self.OUT_CHANNELS, \n",
    "                              kernel_size=self.KERNEL_SIZE, \n",
    "                              stride=self.STRIDE) \n",
    "        \n",
    "        self.conv_length = int((((self.MAX_LEN-(self.KERNEL_SIZE-1)-1)/self.STRIDE)+1))\n",
    "        \n",
    "        \n",
    "        self.max_pool = nn.MaxPool1d(kernel_size=self.KERNEL_SIZE_POOL, \n",
    "                                     stride=self.STRIDE_POOL) \n",
    "        self.pool_length = int((((self.conv_length-(self.KERNEL_SIZE_POOL-1)-1)/self.STRIDE_POOL)+1))\n",
    "        \n",
    "        self.relu = torch.nn.LeakyReLU()\n",
    "        \n",
    "        self.fc = nn.Linear(self.OUT_CHANNELS * self.pool_length, \n",
    "                            self.HIDDEN_FC)\n",
    "        self.fc_1 = nn.Linear(self.HIDDEN_FC, output_dim)\n",
    "        self.act = nn.LogSoftmax(1) \n",
    "        \n",
    "        \n",
    "    def forward(self, text):\n",
    "        embedded = self.embedding(text).permute(0, 2, 1)\n",
    "        convoluted = self.relu(self.conv(embedded))\n",
    "        pooled = self.max_pool(convoluted)\n",
    "        hidden = torch.flatten(pooled, 1, -1)\n",
    "        hidden = self.relu(self.fc(hidden))\n",
    "        dense_outputs=self.fc_1(hidden) \n",
    "        outputs=self.act(dense_outputs)\n",
    "        return outputs\n",
    "\n",
    "\n",
    "device = torch.device('cuda' if torch.cuda.is_available() else 'cpu')  \n",
    "model = Clf(len(label2id))\n",
    "\n",
    "\n",
    "optimizer = optim.Adam(model.parameters(), lr=0.001)\n",
    "criterion = nn.NLLLoss() \n",
    "model = model.to(device)\n",
    "criterion = criterion.to(device)"
   ]
  },
  {
   "cell_type": "code",
   "execution_count": 62,
   "id": "2d9ee577-798d-4c06-97ef-e5dc45688fec",
   "metadata": {
    "scrolled": true
   },
   "outputs": [
    {
     "name": "stdout",
     "output_type": "stream",
     "text": [
      "0\n",
      "Loss: 2.2149543142318726; F1 measure: 0.267109375\n",
      "Eval -  0.48663925272562086\n",
      "1\n",
      "Loss: 1.321739571094513; F1 measure: 0.5926171875\n",
      "Eval -  0.6074727437916414\n",
      "2\n",
      "Loss: 0.8466409873962403; F1 measure: 0.7428125\n",
      "Eval -  0.6378248504694125\n",
      "3\n",
      "Loss: 0.535114033818245; F1 measure: 0.838828125\n",
      "Eval -  0.6478945052241065\n",
      "4\n",
      "Loss: 0.29885517358779906; F1 measure: 0.918984375\n",
      "Eval -  0.6438474788007268\n",
      "5\n",
      "Loss: 0.137071426063776; F1 measure: 0.9717578125\n",
      "Eval -  0.6463850034070261\n",
      "6\n",
      "Loss: 0.05590501617640257; F1 measure: 0.993984375\n",
      "Eval -  0.6539076695941853\n",
      "7\n",
      "Loss: 0.024500186424702405; F1 measure: 0.998515625\n",
      "Eval -  0.6552598330557238\n",
      "8\n",
      "Loss: 0.01374539923388511; F1 measure: 0.9988671875\n",
      "Eval -  0.6594641978346457\n",
      "9\n",
      "Loss: 0.009622681476175786; F1 measure: 0.998515625\n",
      "Eval -  0.6573572834645669\n"
     ]
    }
   ],
   "source": [
    "f1s = []\n",
    "f1s_eval = []\n",
    "\n",
    "for i in range(10):\n",
    "    print(i)\n",
    "    f1s.append(train(model, train_data, optimizer, criterion, 100))\n",
    "    evl = evaluate(model, valid_data, criterion)\n",
    "    print('Eval - ', evl)\n",
    "    f1s_eval.append(evl)"
   ]
  },
  {
   "cell_type": "code",
   "execution_count": 63,
   "id": "229e1a70-19e8-49d9-9b2c-b35bd1c628c3",
   "metadata": {},
   "outputs": [
    {
     "data": {
      "image/png": "[encoded data removed]",
      "text/plain": [
       "<Figure size 640x480 with 1 Axes>"
      ]
     },
     "metadata": {},
     "output_type": "display_data"
    }
   ],
   "source": [
    "plt.plot(f1s)\n",
    "plt.plot(f1s_eval)\n",
    "plt.title('model f1 micro')\n",
    "plt.ylabel('f1')\n",
    "plt.xlabel('epoch')\n",
    "plt.legend(['train', 'val'], loc='upper left')\n",
    "plt.show()"
   ]
  },
  {
   "cell_type": "code",
   "execution_count": 64,
   "id": "a0a306a1-85ee-41f2-b262-21ba1400152e",
   "metadata": {},
   "outputs": [
    {
     "data": {
      "text/plain": [
       "0.6594641978346457"
      ]
     },
     "execution_count": 64,
     "metadata": {},
     "output_type": "execute_result"
    }
   ],
   "source": [
    "max(f1s_eval)"
   ]
  },
  {
   "cell_type": "markdown",
   "id": "26770113-d73a-4df5-b007-a8e7f2f9a984",
   "metadata": {},
   "source": [
    "Добавим батчнорм и регуляризацию."
   ]
  },
  {
   "cell_type": "code",
   "execution_count": 103,
   "id": "9834a04d-9440-405c-bf7b-2db5f41b402d",
   "metadata": {},
   "outputs": [],
   "source": [
    "class Clf(nn.Module):\n",
    "    \n",
    "    def __init__(self, output_dim):\n",
    "        \n",
    "        super().__init__()          \n",
    "        self.VOCAB_SIZE = len(word2id)\n",
    "        self.EMB_DIM = 100\n",
    "        self.KERNEL_SIZE = 5\n",
    "        self.MAX_LEN = 200\n",
    "        self.IN_CHANNELS = self.EMB_DIM\n",
    "        self.OUT_CHANNELS = 128\n",
    "        self.STRIDE = 2\n",
    "        self.STRIDE_POOL = 2\n",
    "        self.KERNEL_SIZE_POOL = 2\n",
    "        self.HIDDEN_FC = 64\n",
    "        \n",
    "        \n",
    "        self.embedding = nn.Embedding(self.VOCAB_SIZE, self.EMB_DIM)\n",
    "        self.conv = nn.Conv1d(self.IN_CHANNELS, \n",
    "                              self.OUT_CHANNELS, \n",
    "                              kernel_size=self.KERNEL_SIZE, \n",
    "                              stride=self.STRIDE) \n",
    "        self.conv_length = int((((self.MAX_LEN-(self.KERNEL_SIZE-1)-1)/self.STRIDE)+1))\n",
    "        \n",
    "        # инициализируем батчнорм\n",
    "        self.batch_norm = nn.BatchNorm1d(self.conv_length)\n",
    "\n",
    "        \n",
    "        self.max_pool = nn.MaxPool1d(kernel_size=self.KERNEL_SIZE_POOL, \n",
    "                                     stride=self.STRIDE_POOL) \n",
    "        self.pool_length = int((((self.conv_length-(self.KERNEL_SIZE_POOL-1)-1)/self.STRIDE_POOL)+1))\n",
    "        \n",
    "        self.relu = torch.nn.LeakyReLU()\n",
    "        \n",
    "\n",
    "        self.fc = nn.Linear(self.OUT_CHANNELS * self.pool_length, \n",
    "                            self.HIDDEN_FC)\n",
    "        self.fc_1 = nn.Linear(self.HIDDEN_FC, output_dim)\n",
    "        self.act = nn.LogSoftmax(1) \n",
    "        \n",
    "        \n",
    "    def forward(self, text):\n",
    "        embedded = self.embedding(text).permute(0, 2, 1)\n",
    "        convoluted = self.conv(embedded)\n",
    "        # я не нашел совсем достоверной информации, но пару авторитетных мнений\n",
    "        # указывают на то, что батчнорм нужно ставить после свертки-пулинга-активации\n",
    "        # а не где-то внутри этой тройки\n",
    "        # то есть нужно держаться структуры свертка-*пулинг*-активация-батчнорм (пулинг опциональный)\n",
    "        pooled = self.batch_norm(self.relu(self.max_pool(convoluted)))\n",
    "        hidden = torch.flatten(pooled, 1, -1)\n",
    "        hidden = self.relu(self.fc(hidden))\n",
    "        dense_outputs=self.fc_1(hidden) \n",
    "        outputs=self.act(dense_outputs)\n",
    "        \n",
    "        return outputs\n",
    "\n",
    "\n",
    "\n",
    "device = torch.device('cuda' if torch.cuda.is_available() else 'cpu')  \n",
    "model = Clf(len(label2id))\n",
    "\n",
    "\n",
    "optimizer = optim.Adam([{'params':model.fc_1.parameters()},\n",
    "                        {'params':model.conv.parameters()},\n",
    "                        {'params':model.embedding.parameters()},\n",
    "                        {'params': model.fc.parameters(), 'weight_decay':0.1}],  # указываем в этом слое L2 регуляризацию\n",
    "                                                                                 # можно пробовать значения как в sklearn\n",
    "                                                                                 # в параметре C в логреге\n",
    "                       \n",
    "                         lr=0.001) # лернирг рейт тоже можно отдельно указать выше, но мы используем 1 на все слои\n",
    "criterion = nn.CrossEntropyLoss() \n",
    "model = model.to(device)\n",
    "criterion = criterion.to(device)"
   ]
  },
  {
   "cell_type": "code",
   "execution_count": 24,
   "id": "3e5fb756-c349-46c5-b426-0b2b2d394af2",
   "metadata": {
    "scrolled": true
   },
   "outputs": [
    {
     "name": "stdout",
     "output_type": "stream",
     "text": [
      "0\n",
      "Loss: 2.6197411823272705; F1 measure: 0.1808203125\n",
      "Loss: 2.4586977422237397; F1 measure: 0.19806640625\n",
      "Loss: 2.373960111141205; F1 measure: 0.20907552083333333\n",
      "Loss: 2.293777464926243; F1 measure: 0.235419921875\n",
      "Loss: 2.1999969239234924; F1 measure: 0.2706328125\n",
      "Eval -  0.46314655172413793\n",
      "1\n",
      "Loss: 1.5232779133319854; F1 measure: 0.5215234375\n",
      "Loss: 1.4571399873495101; F1 measure: 0.54337890625\n",
      "Loss: 1.4014333546161652; F1 measure: 0.5609895833333334\n",
      "Loss: 1.355219143331051; F1 measure: 0.57517578125\n",
      "Loss: 1.313402940273285; F1 measure: 0.588875\n",
      "Eval -  0.6512631704980844\n",
      "2\n",
      "Loss: 1.0344296985864638; F1 measure: 0.6799609375\n",
      "Loss: 1.0047901949286462; F1 measure: 0.68927734375\n",
      "Loss: 0.9862580219904582; F1 measure: 0.6943098958333334\n",
      "Loss: 0.9652436164021492; F1 measure: 0.701083984375\n",
      "Loss: 0.9504220184087754; F1 measure: 0.705734375\n",
      "Eval -  0.7233494971264368\n",
      "3\n",
      "Loss: 0.8189972084760666; F1 measure: 0.74671875\n",
      "Loss: 0.812115375995636; F1 measure: 0.7473046875\n",
      "Loss: 0.8023925479253133; F1 measure: 0.7495442708333333\n",
      "Loss: 0.7957931512594223; F1 measure: 0.752353515625\n",
      "Loss: 0.7878573575019836; F1 measure: 0.7547265625\n",
      "Eval -  0.7482405411877395\n",
      "4\n",
      "Loss: 0.7163863027095795; F1 measure: 0.7746484375\n",
      "Loss: 0.7063124039769173; F1 measure: 0.77802734375\n",
      "Loss: 0.70201800207297; F1 measure: 0.7785416666666667\n",
      "Loss: 0.6974907685816288; F1 measure: 0.780703125\n",
      "Loss: 0.6953367521762848; F1 measure: 0.7814453125\n",
      "Eval -  0.7612601772030652\n",
      "5\n",
      "Loss: 0.6381947246193885; F1 measure: 0.801328125\n",
      "Loss: 0.6351038740575313; F1 measure: 0.8006640625\n",
      "Loss: 0.6329314880569776; F1 measure: 0.8010026041666667\n",
      "Loss: 0.6318752785772085; F1 measure: 0.80125\n",
      "Loss: 0.6284054705500602; F1 measure: 0.801921875\n",
      "Eval -  0.7726394875478927\n",
      "6\n",
      "Loss: 0.583585424721241; F1 measure: 0.8152734375\n",
      "Loss: 0.5796784365177154; F1 measure: 0.81775390625\n",
      "Loss: 0.5782570865750313; F1 measure: 0.8176432291666667\n",
      "Loss: 0.5759222892671824; F1 measure: 0.81875\n",
      "Loss: 0.5757328113317489; F1 measure: 0.8190625\n",
      "Eval -  0.7789146312260536\n",
      "7\n",
      "Loss: 0.5341010338068009; F1 measure: 0.831484375\n",
      "Loss: 0.5356463412940502; F1 measure: 0.8300390625\n",
      "Loss: 0.5386197704076767; F1 measure: 0.8299479166666667\n",
      "Loss: 0.5349517285823822; F1 measure: 0.83123046875\n",
      "Loss: 0.5324598643779754; F1 measure: 0.832328125\n",
      "Eval -  0.7886871408045977\n",
      "8\n",
      "Loss: 0.48952979385852813; F1 measure: 0.8453515625\n",
      "Loss: 0.4932489763200283; F1 measure: 0.8452734375\n",
      "Loss: 0.4943637558817863; F1 measure: 0.8448307291666667\n",
      "Loss: 0.49427898682653904; F1 measure: 0.8447265625\n",
      "Loss: 0.4922732102274895; F1 measure: 0.8455859375\n",
      "Eval -  0.7920222701149425\n",
      "9\n",
      "Loss: 0.46336703181266786; F1 measure: 0.85640625\n",
      "Loss: 0.46282783165574076; F1 measure: 0.85646484375\n",
      "Loss: 0.4612191939353943; F1 measure: 0.8561067708333333\n",
      "Loss: 0.4582536684721708; F1 measure: 0.8560546875\n",
      "Loss: 0.4556128804087639; F1 measure: 0.856703125\n",
      "Eval -  0.7923473419540229\n"
     ]
    }
   ],
   "source": [
    "f1s = []\n",
    "f1s_eval = []\n",
    "\n",
    "for i in range(10):\n",
    "    print(i)\n",
    "    f1s.append(train(model, training_generator, optimizer, criterion, 100))\n",
    "    evl = evaluate(model, valid_generator, criterion)\n",
    "    print('Eval - ', evl)\n",
    "    f1s_eval.append(evl)"
   ]
  },
  {
   "cell_type": "code",
   "execution_count": 66,
   "id": "210565ba-520e-4d9a-a8de-9fa08dcfc00a",
   "metadata": {},
   "outputs": [
    {
     "data": {
      "image/png": "[encoded data removed]",
      "text/plain": [
       "<Figure size 640x480 with 1 Axes>"
      ]
     },
     "metadata": {},
     "output_type": "display_data"
    }
   ],
   "source": [
    "plt.plot(f1s)\n",
    "plt.plot(f1s_eval)\n",
    "plt.title('model f1 micro')\n",
    "plt.ylabel('f1')\n",
    "plt.xlabel('epoch')\n",
    "plt.legend(['train', 'val'], loc='upper left')\n",
    "plt.show()"
   ]
  },
  {
   "cell_type": "code",
   "execution_count": null,
   "id": "ecce05f5-e361-4aeb-8085-1b91a7911d2e",
   "metadata": {},
   "outputs": [],
   "source": []
  },
  {
   "cell_type": "code",
   "execution_count": 65,
   "id": "c51607b8-4e8e-4d07-b84e-2e9be61c21e4",
   "metadata": {},
   "outputs": [
    {
     "data": {
      "text/plain": [
       "0.6594641978346457"
      ]
     },
     "execution_count": 65,
     "metadata": {},
     "output_type": "execute_result"
    }
   ],
   "source": [
    "max(f1s_eval)"
   ]
  },
  {
   "cell_type": "code",
   "execution_count": null,
   "id": "9891f006-5152-4746-bb2e-a749c9b2805b",
   "metadata": {},
   "outputs": [],
   "source": []
  },
  {
   "cell_type": "markdown",
   "id": "4ffdac6d-d393-475d-ac21-e76cf27e3b97",
   "metadata": {},
   "source": [
    "### Несколько слоев с паддингом"
   ]
  },
  {
   "cell_type": "markdown",
   "id": "27e9ebc8-a428-42d6-bffd-a6913cca618c",
   "metadata": {},
   "source": [
    "Во всех сетках выше только 1 CNN слой и еще 1 доп. пулинг. Но рабочие сверточные сети это обычно десятки сверток и пулингов, которые наслаиваются друг на друга. Из когда выше видно, что собрать такую сетку будет непросто - будет очень много промежуточного когда для расчета размерностей. Чтобы этого избежать можно написать отдельный класс, который будет применять сверточный слой и сохранять длину последовательности. Для этого мы воспользуемся паддингом - добьем нулями исходную последовательность, чтобы на выходе получилась изначальная длина."
   ]
  },
  {
   "cell_type": "code",
   "execution_count": 67,
   "id": "bc641526-dae8-4284-8c6f-54872d259325",
   "metadata": {},
   "outputs": [],
   "source": [
    "# созданный класс в торче можно использовать просто как слой!\n",
    "\n",
    "class Conv_layer_with_pad(nn.Module):\n",
    "    \n",
    "    def __init__(self, in_channels, out_channels, *, kernel_size = 5, stride = 1, ):\n",
    "        \n",
    "        super().__init__()          \n",
    "        self.KERNEL_SIZE = kernel_size\n",
    "        self.IN_CHANNELS = in_channels\n",
    "        self.OUT_CHANNELS = out_channels\n",
    "        self.STRIDE = stride\n",
    "        self.conv = nn.Conv1d(self.IN_CHANNELS, \n",
    "                              self.OUT_CHANNELS, \n",
    "                              kernel_size=self.KERNEL_SIZE, \n",
    "                              stride=self.STRIDE, ) \n",
    "        \n",
    "        self.act = nn.LeakyReLU()\n",
    "        \n",
    "    def forward(self, embedded):\n",
    "        \"\"\"\n",
    "        Раньше мы расчитывали длину, которая получится, после применения сверточного слоя  по формуле:\n",
    "        OUTPUT_LENGTH = (((MAX_LEN-(KERNEL_SIZE-1)-1)/STRIDE)+1)\n",
    "        \n",
    "        \n",
    "        Теперь мы хотим на выходе получить длину, которая будет соответствовать длине изначальной последовательности.\n",
    "        Т.е. мы знаем OUTPUT_LENGTH и наша задача найти такой MAX_LEN, при котором он получается (остальные параметры фиксированы)\n",
    "        Перенесем все известные значения влево и получится вот такая формула\n",
    "        ((OUTPUT_LENGTH-1)*STRIDE)+1+(KERNEL_SIZE-1) = MAX_LEN\n",
    "        \n",
    "        Используя нужное значение MAX_LEN, нам нужно допаддить изначальную последовательность до этой длины\n",
    "        Т.к. мы будет падить с двух сторон, то нужно, чтобы получившееся число делилось на 2\n",
    "        \n",
    "        \n",
    "        \n",
    "        \"\"\"\n",
    "        MAX_LEN = embedded.size(2)\n",
    "        EXP_LEN = ((MAX_LEN-1)*self.STRIDE)+1+(self.KERNEL_SIZE-1)\n",
    "\n",
    "        # нужно чтобы все сходилось, иначе выдавать ошибку\n",
    "        assert not (EXP_LEN-MAX_LEN)%2, f\"Не ровный паддинг! {EXP_LEN}\"\n",
    "        \n",
    "        # допустим чтобы получить изначальную длину в 200\n",
    "        # нужно добавить нулей до 210\n",
    "        # тогда мы добавляем 5 нулей слева и 5 справа\n",
    "        # ассерт выше выкинул бы ошибку если бы у нас получалось например 209, \n",
    "        # то есть мы не смогли бы ровно западить с 2 сторон\n",
    "        padded = F.pad(embedded, (int((EXP_LEN-MAX_LEN)/2), \n",
    "                                                   int((EXP_LEN-MAX_LEN)/2)))\n",
    "        \n",
    "        convoluted = self.conv(padded)\n",
    "        \n",
    "        return self.act(convoluted)\n",
    "\n",
    "\n",
    "class Clf(nn.Module):\n",
    "    \n",
    "    def __init__(self, output_dim):\n",
    "        \n",
    "        super().__init__()          \n",
    "        self.VOCAB_SIZE = len(word2id)\n",
    "        self.EMB_DIM = 100\n",
    "        self.KERNEL_SIZE = 7\n",
    "        self.MAX_LEN = 200\n",
    "        self.IN_CHANNELS = self.MAX_LEN\n",
    "        self.OUT_CHANNELS = 32\n",
    "        self.STRIDE = 1\n",
    "        self.HIDDEN_FC = 64\n",
    "        \n",
    "        \n",
    "        self.embedding = nn.Embedding(self.VOCAB_SIZE, self.EMB_DIM)\n",
    "        \n",
    "        # теперь слои удобно стакать\n",
    "        # нужно только указывать OUT_CHANNELS как IN_CHANNELS в следующем слое\n",
    "        self.conv = Conv_layer_with_pad(self.EMB_DIM, self.OUT_CHANNELS)\n",
    "        self.conv1 = Conv_layer_with_pad(self.OUT_CHANNELS, 16)\n",
    "        self.relu = nn.ReLU()\n",
    "        # если бы мы поставили еще 1 слой, то его IN_CHANNELS была бы 16 и тд\n",
    "\n",
    "        # длина сохраняется поэтому просто умножаем макс лен на OUT_CHANNELS последнего слоя\n",
    "        self.flattened_size = int(self.MAX_LEN*16)\n",
    "        \n",
    "        self.fc = nn.Linear(self.flattened_size, \n",
    "                            self.HIDDEN_FC)\n",
    "        self.fc_1 = nn.Linear(self.HIDDEN_FC, output_dim)\n",
    "        self.act = nn.LogSoftmax(1) \n",
    "        \n",
    "        \n",
    "    def forward(self, text):\n",
    "\n",
    "        embedded = self.embedding(text)\n",
    "        convoluted = self.relu(self.conv1(self.conv(embedded.permute(0, 2, 1))))\n",
    "        hidden = torch.flatten(convoluted, 1, -1)\n",
    "        hidden = torch.relu(self.fc(hidden))\n",
    "        dense_outputs=self.fc_1(hidden) \n",
    "        outputs=self.act(dense_outputs)\n",
    "\n",
    "        return outputs\n",
    "\n",
    "\n",
    "device = torch.device('cuda' if torch.cuda.is_available() else 'cpu')  \n",
    "model = Clf(len(label2id))\n",
    "\n",
    "\n",
    "optimizer = optim.Adam(model.parameters(), lr=0.001)\n",
    "criterion = nn.NLLLoss() \n",
    "\n",
    "model = model.to(device)\n",
    "criterion = criterion.to(device)"
   ]
  },
  {
   "cell_type": "code",
   "execution_count": 69,
   "id": "1b30d824-a14c-44ff-a490-efda1cc8db21",
   "metadata": {
    "scrolled": true
   },
   "outputs": [
    {
     "name": "stdout",
     "output_type": "stream",
     "text": [
      "0\n"
     ]
    },
    {
     "ename": "RuntimeError",
     "evalue": "mat1 and mat2 shapes cannot be multiplied (256x6400 and 3200x64)",
     "output_type": "error",
     "traceback": [
      "\u001b[0;31m---------------------------------------------------------------------------\u001b[0m",
      "\u001b[0;31mRuntimeError\u001b[0m                              Traceback (most recent call last)",
      "Cell \u001b[0;32mIn[69], line 6\u001b[0m\n\u001b[1;32m      4\u001b[0m \u001b[38;5;28;01mfor\u001b[39;00m i \u001b[38;5;129;01min\u001b[39;00m \u001b[38;5;28mrange\u001b[39m(\u001b[38;5;241m10\u001b[39m):\n\u001b[1;32m      5\u001b[0m     \u001b[38;5;28mprint\u001b[39m(i)\n\u001b[0;32m----> 6\u001b[0m     f1s\u001b[38;5;241m.\u001b[39mappend(\u001b[43mtrain\u001b[49m\u001b[43m(\u001b[49m\u001b[43mmodel\u001b[49m\u001b[43m,\u001b[49m\u001b[43m \u001b[49m\u001b[43mtrain_data\u001b[49m\u001b[43m,\u001b[49m\u001b[43m \u001b[49m\u001b[43moptimizer\u001b[49m\u001b[43m,\u001b[49m\u001b[43m \u001b[49m\u001b[43mcriterion\u001b[49m\u001b[43m,\u001b[49m\u001b[43m \u001b[49m\u001b[38;5;241;43m100\u001b[39;49m\u001b[43m)\u001b[49m)\n\u001b[1;32m      7\u001b[0m     evl \u001b[38;5;241m=\u001b[39m evaluate(model, valid_data, criterion)\n\u001b[1;32m      8\u001b[0m     \u001b[38;5;28mprint\u001b[39m(\u001b[38;5;124m'\u001b[39m\u001b[38;5;124mEval - \u001b[39m\u001b[38;5;124m'\u001b[39m, evl)\n",
      "Cell \u001b[0;32mIn[26], line 13\u001b[0m, in \u001b[0;36mtrain\u001b[0;34m(model, iterator, optimizer, criterion, print_every)\u001b[0m\n\u001b[1;32m     10\u001b[0m \u001b[38;5;28;01mfor\u001b[39;00m i, (texts, ys) \u001b[38;5;129;01min\u001b[39;00m \u001b[38;5;28menumerate\u001b[39m(iterator):\n\u001b[1;32m     12\u001b[0m     optimizer\u001b[38;5;241m.\u001b[39mzero_grad()   \n\u001b[0;32m---> 13\u001b[0m     predictions \u001b[38;5;241m=\u001b[39m \u001b[43mmodel\u001b[49m\u001b[43m(\u001b[49m\u001b[43mtexts\u001b[49m\u001b[38;5;241;43m.\u001b[39;49m\u001b[43mto\u001b[49m\u001b[43m(\u001b[49m\u001b[43mdevice\u001b[49m\u001b[43m)\u001b[49m\u001b[43m)\u001b[49m\u001b[38;5;241m.\u001b[39msqueeze()  \n\u001b[1;32m     14\u001b[0m     loss \u001b[38;5;241m=\u001b[39m criterion(predictions, ys\u001b[38;5;241m.\u001b[39mto(device))        \n\u001b[1;32m     18\u001b[0m     loss\u001b[38;5;241m.\u001b[39mbackward()\n",
      "File \u001b[0;32m/usr/local/lib/python3.10/dist-packages/torch/nn/modules/module.py:1501\u001b[0m, in \u001b[0;36mModule._call_impl\u001b[0;34m(self, *args, **kwargs)\u001b[0m\n\u001b[1;32m   1496\u001b[0m \u001b[38;5;66;03m# If we don't have any hooks, we want to skip the rest of the logic in\u001b[39;00m\n\u001b[1;32m   1497\u001b[0m \u001b[38;5;66;03m# this function, and just call forward.\u001b[39;00m\n\u001b[1;32m   1498\u001b[0m \u001b[38;5;28;01mif\u001b[39;00m \u001b[38;5;129;01mnot\u001b[39;00m (\u001b[38;5;28mself\u001b[39m\u001b[38;5;241m.\u001b[39m_backward_hooks \u001b[38;5;129;01mor\u001b[39;00m \u001b[38;5;28mself\u001b[39m\u001b[38;5;241m.\u001b[39m_backward_pre_hooks \u001b[38;5;129;01mor\u001b[39;00m \u001b[38;5;28mself\u001b[39m\u001b[38;5;241m.\u001b[39m_forward_hooks \u001b[38;5;129;01mor\u001b[39;00m \u001b[38;5;28mself\u001b[39m\u001b[38;5;241m.\u001b[39m_forward_pre_hooks\n\u001b[1;32m   1499\u001b[0m         \u001b[38;5;129;01mor\u001b[39;00m _global_backward_pre_hooks \u001b[38;5;129;01mor\u001b[39;00m _global_backward_hooks\n\u001b[1;32m   1500\u001b[0m         \u001b[38;5;129;01mor\u001b[39;00m _global_forward_hooks \u001b[38;5;129;01mor\u001b[39;00m _global_forward_pre_hooks):\n\u001b[0;32m-> 1501\u001b[0m     \u001b[38;5;28;01mreturn\u001b[39;00m \u001b[43mforward_call\u001b[49m\u001b[43m(\u001b[49m\u001b[38;5;241;43m*\u001b[39;49m\u001b[43margs\u001b[49m\u001b[43m,\u001b[49m\u001b[43m \u001b[49m\u001b[38;5;241;43m*\u001b[39;49m\u001b[38;5;241;43m*\u001b[39;49m\u001b[43mkwargs\u001b[49m\u001b[43m)\u001b[49m\n\u001b[1;32m   1502\u001b[0m \u001b[38;5;66;03m# Do not call functions when jit is used\u001b[39;00m\n\u001b[1;32m   1503\u001b[0m full_backward_hooks, non_full_backward_hooks \u001b[38;5;241m=\u001b[39m [], []\n",
      "Cell \u001b[0;32mIn[67], line 93\u001b[0m, in \u001b[0;36mClf.forward\u001b[0;34m(self, text)\u001b[0m\n\u001b[1;32m     91\u001b[0m convoluted \u001b[38;5;241m=\u001b[39m \u001b[38;5;28mself\u001b[39m\u001b[38;5;241m.\u001b[39mrelu(\u001b[38;5;28mself\u001b[39m\u001b[38;5;241m.\u001b[39mconv1(\u001b[38;5;28mself\u001b[39m\u001b[38;5;241m.\u001b[39mconv(embedded\u001b[38;5;241m.\u001b[39mpermute(\u001b[38;5;241m0\u001b[39m, \u001b[38;5;241m2\u001b[39m, \u001b[38;5;241m1\u001b[39m))))\n\u001b[1;32m     92\u001b[0m hidden \u001b[38;5;241m=\u001b[39m torch\u001b[38;5;241m.\u001b[39mflatten(convoluted, \u001b[38;5;241m1\u001b[39m, \u001b[38;5;241m-\u001b[39m\u001b[38;5;241m1\u001b[39m)\n\u001b[0;32m---> 93\u001b[0m hidden \u001b[38;5;241m=\u001b[39m torch\u001b[38;5;241m.\u001b[39mrelu(\u001b[38;5;28;43mself\u001b[39;49m\u001b[38;5;241;43m.\u001b[39;49m\u001b[43mfc\u001b[49m\u001b[43m(\u001b[49m\u001b[43mhidden\u001b[49m\u001b[43m)\u001b[49m)\n\u001b[1;32m     94\u001b[0m dense_outputs\u001b[38;5;241m=\u001b[39m\u001b[38;5;28mself\u001b[39m\u001b[38;5;241m.\u001b[39mfc_1(hidden) \n\u001b[1;32m     95\u001b[0m outputs\u001b[38;5;241m=\u001b[39m\u001b[38;5;28mself\u001b[39m\u001b[38;5;241m.\u001b[39mact(dense_outputs)\n",
      "File \u001b[0;32m/usr/local/lib/python3.10/dist-packages/torch/nn/modules/module.py:1501\u001b[0m, in \u001b[0;36mModule._call_impl\u001b[0;34m(self, *args, **kwargs)\u001b[0m\n\u001b[1;32m   1496\u001b[0m \u001b[38;5;66;03m# If we don't have any hooks, we want to skip the rest of the logic in\u001b[39;00m\n\u001b[1;32m   1497\u001b[0m \u001b[38;5;66;03m# this function, and just call forward.\u001b[39;00m\n\u001b[1;32m   1498\u001b[0m \u001b[38;5;28;01mif\u001b[39;00m \u001b[38;5;129;01mnot\u001b[39;00m (\u001b[38;5;28mself\u001b[39m\u001b[38;5;241m.\u001b[39m_backward_hooks \u001b[38;5;129;01mor\u001b[39;00m \u001b[38;5;28mself\u001b[39m\u001b[38;5;241m.\u001b[39m_backward_pre_hooks \u001b[38;5;129;01mor\u001b[39;00m \u001b[38;5;28mself\u001b[39m\u001b[38;5;241m.\u001b[39m_forward_hooks \u001b[38;5;129;01mor\u001b[39;00m \u001b[38;5;28mself\u001b[39m\u001b[38;5;241m.\u001b[39m_forward_pre_hooks\n\u001b[1;32m   1499\u001b[0m         \u001b[38;5;129;01mor\u001b[39;00m _global_backward_pre_hooks \u001b[38;5;129;01mor\u001b[39;00m _global_backward_hooks\n\u001b[1;32m   1500\u001b[0m         \u001b[38;5;129;01mor\u001b[39;00m _global_forward_hooks \u001b[38;5;129;01mor\u001b[39;00m _global_forward_pre_hooks):\n\u001b[0;32m-> 1501\u001b[0m     \u001b[38;5;28;01mreturn\u001b[39;00m \u001b[43mforward_call\u001b[49m\u001b[43m(\u001b[49m\u001b[38;5;241;43m*\u001b[39;49m\u001b[43margs\u001b[49m\u001b[43m,\u001b[49m\u001b[43m \u001b[49m\u001b[38;5;241;43m*\u001b[39;49m\u001b[38;5;241;43m*\u001b[39;49m\u001b[43mkwargs\u001b[49m\u001b[43m)\u001b[49m\n\u001b[1;32m   1502\u001b[0m \u001b[38;5;66;03m# Do not call functions when jit is used\u001b[39;00m\n\u001b[1;32m   1503\u001b[0m full_backward_hooks, non_full_backward_hooks \u001b[38;5;241m=\u001b[39m [], []\n",
      "File \u001b[0;32m/usr/local/lib/python3.10/dist-packages/torch/nn/modules/linear.py:114\u001b[0m, in \u001b[0;36mLinear.forward\u001b[0;34m(self, input)\u001b[0m\n\u001b[1;32m    113\u001b[0m \u001b[38;5;28;01mdef\u001b[39;00m \u001b[38;5;21mforward\u001b[39m(\u001b[38;5;28mself\u001b[39m, \u001b[38;5;28minput\u001b[39m: Tensor) \u001b[38;5;241m-\u001b[39m\u001b[38;5;241m>\u001b[39m Tensor:\n\u001b[0;32m--> 114\u001b[0m     \u001b[38;5;28;01mreturn\u001b[39;00m \u001b[43mF\u001b[49m\u001b[38;5;241;43m.\u001b[39;49m\u001b[43mlinear\u001b[49m\u001b[43m(\u001b[49m\u001b[38;5;28;43minput\u001b[39;49m\u001b[43m,\u001b[49m\u001b[43m \u001b[49m\u001b[38;5;28;43mself\u001b[39;49m\u001b[38;5;241;43m.\u001b[39;49m\u001b[43mweight\u001b[49m\u001b[43m,\u001b[49m\u001b[43m \u001b[49m\u001b[38;5;28;43mself\u001b[39;49m\u001b[38;5;241;43m.\u001b[39;49m\u001b[43mbias\u001b[49m\u001b[43m)\u001b[49m\n",
      "\u001b[0;31mRuntimeError\u001b[0m: mat1 and mat2 shapes cannot be multiplied (256x6400 and 3200x64)"
     ]
    }
   ],
   "source": [
    "f1s = []\n",
    "f1s_eval = []\n",
    "\n",
    "for i in range(10):\n",
    "    print(i)\n",
    "    f1s.append(train(model, train_data, optimizer, criterion, 100))\n",
    "    evl = evaluate(model, valid_data, criterion)\n",
    "    print('Eval - ', evl)\n",
    "    f1s_eval.append(evl)"
   ]
  },
  {
   "cell_type": "code",
   "execution_count": 25,
   "id": "a3a788bd-effd-4757-bcd8-e127184aa3d3",
   "metadata": {},
   "outputs": [
    {
     "data": {
      "image/png": "[encoded data removed]",
      "text/plain": [
       "<Figure size 432x288 with 1 Axes>"
      ]
     },
     "metadata": {
      "needs_background": "light"
     },
     "output_type": "display_data"
    }
   ],
   "source": [
    "plt.plot(f1s)\n",
    "plt.plot(f1s_eval)\n",
    "plt.title('model f1 micro')\n",
    "plt.ylabel('f1')\n",
    "plt.xlabel('epoch')\n",
    "plt.legend(['train', 'val'], loc='upper left')\n",
    "plt.show()"
   ]
  },
  {
   "cell_type": "code",
   "execution_count": 107,
   "id": "bec4b3cc-51b3-439b-8a6a-91f332ae6702",
   "metadata": {},
   "outputs": [
    {
     "data": {
      "text/plain": [
       "0.7343342911877394"
      ]
     },
     "execution_count": 107,
     "metadata": {},
     "output_type": "execute_result"
    }
   ],
   "source": [
    "max(f1s_eval)"
   ]
  },
  {
   "cell_type": "code",
   "execution_count": null,
   "id": "1e91403d-d389-4d8e-86b9-6aba105d3581",
   "metadata": {},
   "outputs": [],
   "source": []
  }
 ],
 "metadata": {
  "kernelspec": {
   "display_name": "Python 3 (ipykernel)",
   "language": "python",
   "name": "python3"
  },
  "language_info": {
   "codemirror_mode": {
    "name": "ipython",
    "version": 3
   },
   "file_extension": ".py",
   "mimetype": "text/x-python",
   "name": "python",
   "nbconvert_exporter": "python",
   "pygments_lexer": "ipython3",
   "version": "3.10.12"
  }
 },
 "nbformat": 4,
 "nbformat_minor": 5
}
