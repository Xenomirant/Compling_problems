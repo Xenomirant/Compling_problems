{
 "cells": [
  {
   "cell_type": "markdown",
   "id": "092e5c0d",
   "metadata": {},
   "source": [
    "# Домашнее задание  № 5. Матричные разложения/Тематическое моделирование"
   ]
  },
  {
   "cell_type": "markdown",
   "id": "f18446b7",
   "metadata": {},
   "source": [
    "### Задание № 1 (8 баллов)"
   ]
  },
  {
   "cell_type": "markdown",
   "id": "cf81eecc",
   "metadata": {},
   "source": [
    "Попробуйте матричные разложения с 4 классификаторами - SGDClassifier, KNeighborsClassifier,  RandomForest, ExtraTreesClassifier (про него подробнее почитайте в документации, он похож на RF). Используйте и NMF, SVD и LDA. Сравните результаты на кросс-валидации и выберите лучшее сочетание.\n",
    "\n",
    "В итоге у вас должно получиться, как минимум 12 моделей (три разложения на каждый классификатор). Используйте 1 и те же параметры кросс-валидации. Параметры векторизации, параметры K в матричных разложениях, параметры классификаторов могут быть разными между экспериментами."
   ]
  },
  {
   "cell_type": "markdown",
   "id": "f1760960",
   "metadata": {},
   "source": [
    "Можете взять поменьше данных, если все будет обучаться слишком долго (не ставьте параметр K слишком большим в NMF и LDA, иначе точно будет слишком долго)"
   ]
  },
  {
   "cell_type": "code",
   "execution_count": 3,
   "id": "ac002591-f9c6-46ec-a9be-7f794637ba31",
   "metadata": {},
   "outputs": [],
   "source": [
    "import warnings\n",
    "warnings.filterwarnings(\"ignore\")"
   ]
  },
  {
   "cell_type": "code",
   "execution_count": 32,
   "id": "f190081a-c0fc-4b22-b627-e44b18d95974",
   "metadata": {},
   "outputs": [],
   "source": [
    "import gensim\n",
    "import pandas as pd\n",
    "import numpy as np\n",
    "from pymorphy3 import MorphAnalyzer\n",
    "import pyLDAvis.gensim_models\n",
    "from collections import Counter\n",
    "from string import punctuation\n",
    "from razdel import tokenize as razdel_tokenize\n",
    "from IPython.display import Image\n",
    "from IPython.core.display import HTML \n",
    "from sklearn.decomposition import TruncatedSVD, NMF, PCA, LatentDirichletAllocation\n",
    "from sklearn.manifold import TSNE\n",
    "from sklearn.feature_extraction.text import TfidfVectorizer, CountVectorizer, TfidfTransformer\n",
    "from sklearn.metrics.pairwise import cosine_distances\n",
    "from sklearn.ensemble import RandomForestClassifier, ExtraTreesClassifier\n",
    "from sklearn.neighbors import KNeighborsClassifier\n",
    "from sklearn.linear_model import SGDClassifier\n",
    "from sklearn.neural_network import MLPClassifier\n",
    "from sklearn.metrics import accuracy_score, precision_score, recall_score, f1_score, confusion_matrix\n",
    "from sklearn.pipeline import Pipeline\n",
    "from sklearn.model_selection import KFold, StratifiedKFold\n",
    "from matplotlib import pyplot as plt\n",
    "import seaborn as sns\n",
    "from nltk.corpus import stopwords\n",
    "\n",
    "\n",
    "morph = MorphAnalyzer()\n",
    "stops = stopwords.words(\"russian\")"
   ]
  },
  {
   "cell_type": "code",
   "execution_count": 5,
   "id": "9b84d8bd",
   "metadata": {},
   "outputs": [],
   "source": [
    "# добавим лемматизацию\n",
    "def normalize(text):\n",
    "    normalized_text = [word.text.strip(punctuation) for word \\\n",
    "                                                            in razdel_tokenize(text)]\n",
    "    normalized_text = [word.lower() for word in normalized_text if word and len(word) < 20 ]\n",
    "    normalized_text = [morph.parse(word)[0].normal_form for word in normalized_text]\n",
    "    return ' '.join(normalized_text)\n"
   ]
  },
  {
   "cell_type": "code",
   "execution_count": 9,
   "id": "283d4eb5",
   "metadata": {},
   "outputs": [],
   "source": [
    "data = pd.read_csv('avito_category_classification.csv')"
   ]
  },
  {
   "cell_type": "code",
   "execution_count": 10,
   "id": "884c253c-cfe1-4460-b870-1c1b371938d4",
   "metadata": {},
   "outputs": [
    {
     "data": {
      "text/html": [
       "<div>\n",
       "<style scoped>\n",
       "    .dataframe tbody tr th:only-of-type {\n",
       "        vertical-align: middle;\n",
       "    }\n",
       "\n",
       "    .dataframe tbody tr th {\n",
       "        vertical-align: top;\n",
       "    }\n",
       "\n",
       "    .dataframe thead th {\n",
       "        text-align: right;\n",
       "    }\n",
       "</style>\n",
       "<table border=\"1\" class=\"dataframe\">\n",
       "  <thead>\n",
       "    <tr style=\"text-align: right;\">\n",
       "      <th></th>\n",
       "      <th>category_name</th>\n",
       "      <th>description</th>\n",
       "    </tr>\n",
       "  </thead>\n",
       "  <tbody>\n",
       "    <tr>\n",
       "      <th>0</th>\n",
       "      <td>Автомобили</td>\n",
       "      <td>отличное состояние,обслужиание в салоне</td>\n",
       "    </tr>\n",
       "    <tr>\n",
       "      <th>1</th>\n",
       "      <td>Детская одежда и обувь</td>\n",
       "      <td>В отличном состоянии. Фирма KIKO. Очень теплый...</td>\n",
       "    </tr>\n",
       "    <tr>\n",
       "      <th>2</th>\n",
       "      <td>Предложение услуг</td>\n",
       "      <td>Изготовление ограждений, перил,качелей, турник...</td>\n",
       "    </tr>\n",
       "    <tr>\n",
       "      <th>3</th>\n",
       "      <td>Автомобили</td>\n",
       "      <td>Автомобиль в отличном техническом состоянии. О...</td>\n",
       "    </tr>\n",
       "    <tr>\n",
       "      <th>4</th>\n",
       "      <td>Бытовая техника</td>\n",
       "      <td>Продается газовая плита \"Гефест\" (Белоруссия) ...</td>\n",
       "    </tr>\n",
       "    <tr>\n",
       "      <th>...</th>\n",
       "      <td>...</td>\n",
       "      <td>...</td>\n",
       "    </tr>\n",
       "    <tr>\n",
       "      <th>9893</th>\n",
       "      <td>Товары для детей и игрушки</td>\n",
       "      <td>Чтобы посмотреть весь ассортимент нашего магаз...</td>\n",
       "    </tr>\n",
       "    <tr>\n",
       "      <th>9894</th>\n",
       "      <td>Детская одежда и обувь</td>\n",
       "      <td>Весна,осень.74-80.вопросы можно в вайбер,двухс...</td>\n",
       "    </tr>\n",
       "    <tr>\n",
       "      <th>9895</th>\n",
       "      <td>Одежда, обувь, аксессуары</td>\n",
       "      <td>Кимоно Green Hill. Состояние  отличное,  рост ...</td>\n",
       "    </tr>\n",
       "    <tr>\n",
       "      <th>9896</th>\n",
       "      <td>Детская одежда и обувь</td>\n",
       "      <td>Б/у кроссовки на девочку. Носили только в спор...</td>\n",
       "    </tr>\n",
       "    <tr>\n",
       "      <th>9897</th>\n",
       "      <td>Бытовая техника</td>\n",
       "      <td>Холодильник на гарантии</td>\n",
       "    </tr>\n",
       "  </tbody>\n",
       "</table>\n",
       "<p>9898 rows × 2 columns</p>\n",
       "</div>"
      ],
      "text/plain": [
       "                   category_name  \\\n",
       "0                     Автомобили   \n",
       "1         Детская одежда и обувь   \n",
       "2              Предложение услуг   \n",
       "3                     Автомобили   \n",
       "4                Бытовая техника   \n",
       "...                          ...   \n",
       "9893  Товары для детей и игрушки   \n",
       "9894      Детская одежда и обувь   \n",
       "9895   Одежда, обувь, аксессуары   \n",
       "9896      Детская одежда и обувь   \n",
       "9897             Бытовая техника   \n",
       "\n",
       "                                            description  \n",
       "0               отличное состояние,обслужиание в салоне  \n",
       "1     В отличном состоянии. Фирма KIKO. Очень теплый...  \n",
       "2     Изготовление ограждений, перил,качелей, турник...  \n",
       "3     Автомобиль в отличном техническом состоянии. О...  \n",
       "4     Продается газовая плита \"Гефест\" (Белоруссия) ...  \n",
       "...                                                 ...  \n",
       "9893  Чтобы посмотреть весь ассортимент нашего магаз...  \n",
       "9894  Весна,осень.74-80.вопросы можно в вайбер,двухс...  \n",
       "9895  Кимоно Green Hill. Состояние  отличное,  рост ...  \n",
       "9896  Б/у кроссовки на девочку. Носили только в спор...  \n",
       "9897                            Холодильник на гарантии  \n",
       "\n",
       "[9898 rows x 2 columns]"
      ]
     },
     "execution_count": 10,
     "metadata": {},
     "output_type": "execute_result"
    }
   ],
   "source": [
    "data"
   ]
  },
  {
   "cell_type": "code",
   "execution_count": 11,
   "id": "90782542-6ba0-417f-893b-22a520b85290",
   "metadata": {},
   "outputs": [],
   "source": [
    "data['description_norm'] = data['description'].apply(normalize)"
   ]
  },
  {
   "cell_type": "markdown",
   "id": "4e9a9cdf-488b-4e2f-8f5b-b0a56d6733c7",
   "metadata": {},
   "source": [
    "Интерфейс у алгоритмов разложения в sklearn такой же как и у векторайзеров, только применять их нужно уже к векторизованным текстам."
   ]
  },
  {
   "cell_type": "code",
   "execution_count": 33,
   "id": "466e93f1-4201-4d2e-a7b2-95da0acc1787",
   "metadata": {},
   "outputs": [],
   "source": [
    "cv = CountVectorizer(tokenizer=lambda x: x.split(), min_df=5, max_df=0.1, stop_words=stops)\n",
    "svd = TruncatedSVD(500) # 500 это параметр K"
   ]
  },
  {
   "cell_type": "code",
   "execution_count": 34,
   "id": "2675b791-8192-4e80-a609-886e5be808a6",
   "metadata": {},
   "outputs": [],
   "source": [
    "X_sparse = cv.fit_transform(data['description_norm'])\n",
    "X = svd.fit_transform(X_sparse)"
   ]
  },
  {
   "cell_type": "markdown",
   "id": "df758f50-fc34-4fa3-8b35-cc251988941a",
   "metadata": {},
   "source": [
    "Давайте посмотрим на получившиеся размерности"
   ]
  },
  {
   "cell_type": "code",
   "execution_count": 35,
   "id": "d3796165-9763-4ffb-a377-2c28432fd272",
   "metadata": {},
   "outputs": [
    {
     "data": {
      "text/plain": [
       "(9898, 4381)"
      ]
     },
     "execution_count": 35,
     "metadata": {},
     "output_type": "execute_result"
    }
   ],
   "source": [
    "X_sparse.shape # после векторизации"
   ]
  },
  {
   "cell_type": "code",
   "execution_count": 36,
   "id": "483bdf20-7aeb-450f-82c2-f435e2bef898",
   "metadata": {},
   "outputs": [
    {
     "data": {
      "text/plain": [
       "(9898, 500)"
      ]
     },
     "execution_count": 36,
     "metadata": {},
     "output_type": "execute_result"
    }
   ],
   "source": [
    "X.shape # после разложения"
   ]
  },
  {
   "cell_type": "markdown",
   "id": "9c324cd0-3da8-4cb6-aa0e-145e07321665",
   "metadata": {},
   "source": [
    "Можно посмотреть насколько сильно мы потеряли в информации (чем ближе это число к 1, тем лучше )"
   ]
  },
  {
   "cell_type": "code",
   "execution_count": 37,
   "id": "b89e3c70-8d3a-4e71-8236-a1c88ff281a6",
   "metadata": {},
   "outputs": [
    {
     "data": {
      "text/plain": [
       "0.780871704608338"
      ]
     },
     "execution_count": 37,
     "metadata": {},
     "output_type": "execute_result"
    }
   ],
   "source": [
    "sum(svd.explained_variance_ratio_)"
   ]
  },
  {
   "cell_type": "code",
   "execution_count": 30,
   "id": "af023af0-f681-4bd5-b0fe-9930269e8b44",
   "metadata": {},
   "outputs": [],
   "source": [
    "latent_squeezers = [\n",
    "    TruncatedSVD,\n",
    "    NMF,\n",
    "    LatentDirichletAllocation\n",
    "]\n",
    "\n",
    "classifiers = [\n",
    "    SGDClassifier,\n",
    "    KNeighborsClassifier,\n",
    "    RandomForestClassifier,\n",
    "    ExtraTreesClassifier,\n",
    "    MLPClassifier\n",
    "]"
   ]
  },
  {
   "cell_type": "markdown",
   "id": "8436142a",
   "metadata": {},
   "source": [
    "### Задание № 2 (2 балла)"
   ]
  },
  {
   "cell_type": "markdown",
   "id": "6cb61f26",
   "metadata": {},
   "source": [
    "С помощью gensim постройте 5 тематических моделей с разными параметрами. Как минимум попробуйте: разное количество тем, alpha и eta параметры (в альфа попробуйте \"asymmetric\" и \"auto\" помимо 'symmetric' по дефолту, в eta просто попробуйте разные значения), а также разные параметры фильтрации словаря. \n",
    "\n",
    "Оцените каждую из моделей с помощью метрик (перплексии и когерентности), а также визуально, просмотрев получаемые темы. Найдите самую хорошую тему для каждой из моделей."
   ]
  },
  {
   "cell_type": "code",
   "execution_count": null,
   "id": "69bcd282",
   "metadata": {},
   "outputs": [],
   "source": []
  },
  {
   "cell_type": "code",
   "execution_count": null,
   "id": "97cfe39e",
   "metadata": {},
   "outputs": [],
   "source": []
  },
  {
   "cell_type": "code",
   "execution_count": null,
   "id": "75e7af07",
   "metadata": {},
   "outputs": [],
   "source": []
  }
 ],
 "metadata": {
  "kernelspec": {
   "display_name": "Python 3 (ipykernel)",
   "language": "python",
   "name": "python3"
  },
  "language_info": {
   "codemirror_mode": {
    "name": "ipython",
    "version": 3
   },
   "file_extension": ".py",
   "mimetype": "text/x-python",
   "name": "python",
   "nbconvert_exporter": "python",
   "pygments_lexer": "ipython3",
   "version": "3.11.6"
  }
 },
 "nbformat": 4,
 "nbformat_minor": 5
}
