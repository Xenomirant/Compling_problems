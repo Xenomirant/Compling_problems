{
 "cells": [
  {
   "cell_type": "markdown",
   "id": "1bf6f873",
   "metadata": {},
   "source": [
    "# Домашнее задание № 8"
   ]
  },
  {
   "cell_type": "markdown",
   "id": "3b4bd487",
   "metadata": {},
   "source": [
    "## Задание 1 (4 балла) "
   ]
  },
  {
   "cell_type": "markdown",
   "id": "bf4c4f87",
   "metadata": {},
   "source": [
    "Обучите 8 моделей для задачи классификации текста (датасет - lenta_40k ). А именно:  \n",
    "1) модель с 1 GRU слоем;   \n",
    "2) модель с 1 LSTM слоем    \n",
    "3) модель с 1 GRU и 1 LSTM слоем  \n",
    "4) модель с 1 BIGRU и 2 LSTM слоями  \n",
    "5) модель с 5 GRU слоями и 3 LSTM слоями  \n",
    "6) модель 1 BIGRU и 1 BILSTM слоями, причем так чтобы модели для forward и backward прохода отличались   \n",
    "7) модель, где последовательно идут слои: LSTM, GRU, BILSTM, BIGRU, GRU, LSTM  \n",
    "\n",
    "\n",
    "\n",
    "Параметр units и размер эмбединга можете задать любой. Оцените качество каждой модели и определите победителя."
   ]
  },
  {
   "cell_type": "code",
   "execution_count": 2,
   "id": "83db6635",
   "metadata": {},
   "outputs": [],
   "source": [
    "import torch\n",
    "import torch.nn as nn\n",
    "import torch.nn.functional as F\n",
    "import torch.optim as optim\n",
    "import torch.utils.data"
   ]
  },
  {
   "cell_type": "code",
   "execution_count": 3,
   "id": "50362f6e",
   "metadata": {},
   "outputs": [],
   "source": [
    "import pandas as pd\n",
    "import numpy as np\n",
    "from string import punctuation\n",
    "from sklearn.model_selection import train_test_split\n",
    "from collections import Counter\n",
    "from IPython.display import Image\n",
    "from IPython.core.display import HTML \n",
    "import matplotlib.pyplot as plt\n",
    "import torchinfo\n",
    "%matplotlib inline"
   ]
  },
  {
   "cell_type": "code",
   "execution_count": 10,
   "id": "b6676dab",
   "metadata": {},
   "outputs": [],
   "source": [
    "data = pd.read_csv(\"data/lenta_40k.csv.zip\")"
   ]
  },
  {
   "cell_type": "code",
   "execution_count": null,
   "id": "3925bd7c-9ee1-4774-a5a3-4dc6f2c59f95",
   "metadata": {},
   "outputs": [],
   "source": []
  },
  {
   "cell_type": "code",
   "execution_count": 12,
   "id": "4d6d9fee-16e3-4dcc-9499-6d1213f1e43f",
   "metadata": {},
   "outputs": [],
   "source": [
    "def preprocess(text):\n",
    "    tokens = text.lower().split()\n",
    "    tokens = [token.strip(punctuation) for token in tokens]\n",
    "    return tokens"
   ]
  },
  {
   "cell_type": "code",
   "execution_count": 13,
   "id": "a55a586e-71d8-48ed-8edf-6c94189f3794",
   "metadata": {},
   "outputs": [],
   "source": [
    "# словарь\n",
    "vocab = Counter()\n",
    "\n",
    "for text in data.text:\n",
    "    vocab.update(preprocess(text))"
   ]
  },
  {
   "cell_type": "code",
   "execution_count": 14,
   "id": "748283f1-6b8f-443c-afe8-67ecffba754c",
   "metadata": {},
   "outputs": [
    {
     "data": {
      "text/plain": [
       "354611"
      ]
     },
     "execution_count": 14,
     "metadata": {},
     "output_type": "execute_result"
    }
   ],
   "source": [
    "len(vocab)"
   ]
  },
  {
   "cell_type": "code",
   "execution_count": 27,
   "id": "e9ea15e0-8a61-4535-9815-04c2ca577e6d",
   "metadata": {},
   "outputs": [],
   "source": [
    "# отфильтрованный словарь\n",
    "filtered_vocab = set()\n",
    "\n",
    "for word in vocab:\n",
    "    if vocab[word] > 25:\n",
    "        filtered_vocab.add(word)"
   ]
  },
  {
   "cell_type": "code",
   "execution_count": 28,
   "id": "5d59b03b-2099-40f8-8a83-10e8af71adda",
   "metadata": {},
   "outputs": [
    {
     "data": {
      "text/plain": [
       "27427"
      ]
     },
     "execution_count": 28,
     "metadata": {},
     "output_type": "execute_result"
    }
   ],
   "source": [
    "len(filtered_vocab)"
   ]
  },
  {
   "cell_type": "code",
   "execution_count": 29,
   "id": "32bdf5ca-08eb-4333-8a68-7ebce66c276c",
   "metadata": {},
   "outputs": [],
   "source": [
    "# индексируем слова\n",
    "word2id = {'PAD':0}\n",
    "\n",
    "for word in filtered_vocab:\n",
    "    word2id[word] = len(word2id)\n",
    "\n",
    "id2word = {i:word for word, i in word2id.items()}"
   ]
  },
  {
   "cell_type": "code",
   "execution_count": 30,
   "id": "df43e3e1-7e11-45ed-9824-0f939bdb289c",
   "metadata": {},
   "outputs": [],
   "source": [
    "MAX_LEN = 0\n",
    "MEAN_LEN = 0\n",
    "\n",
    "for text in data.text:\n",
    "    text_len = len(preprocess(text))\n",
    "    MEAN_LEN += text_len\n",
    "    if text_len > MAX_LEN:\n",
    "        MAX_LEN = text_len\n",
    "\n",
    "MEAN_LEN = MEAN_LEN/len(data.text)"
   ]
  },
  {
   "cell_type": "code",
   "execution_count": 31,
   "id": "92232c5a-f59f-4f8b-a6e1-1ac1f9c3129f",
   "metadata": {},
   "outputs": [
    {
     "data": {
      "text/plain": [
       "(1748, 179.99957164757868)"
      ]
     },
     "execution_count": 31,
     "metadata": {},
     "output_type": "execute_result"
    }
   ],
   "source": [
    "MAX_LEN, MEAN_LEN"
   ]
  },
  {
   "cell_type": "code",
   "execution_count": 32,
   "id": "d852cb55-7a62-44a0-b59a-b5f9db75640d",
   "metadata": {},
   "outputs": [],
   "source": [
    "class Dataset(torch.utils.data.Dataset):\n",
    "\n",
    "    def __init__(self, word2id, MAX_LEN, texts, targets):\n",
    "        \n",
    "\n",
    "        self.texts = [torch.LongTensor([word2id[w] for w in self.preprocess(t) if w in word2id][:MAX_LEN]) for t in texts]\n",
    "        self.texts = torch.nn.utils.rnn.pad_sequence(self.texts, batch_first=True)\n",
    "        \n",
    "        self.word2id = word2id\n",
    "        self.MAX_LEN = MAX_LEN\n",
    "        self.length = len(texts)\n",
    "\n",
    "        \n",
    "        self.target = torch.LongTensor(targets)\n",
    "\n",
    "    def __len__(self):\n",
    "        return self.length\n",
    "\n",
    "    def __getitem__(self, index):\n",
    "        ids = self.texts[index]\n",
    "        y = self.target[index]\n",
    "\n",
    "        return ids, y\n",
    "    \n",
    "    def preprocess(self, text):\n",
    "        tokens = text.lower().split()\n",
    "        tokens = [token.strip(punctuation) for token in tokens]\n",
    "        tokens = [token for token in tokens if token]\n",
    "        return tokens"
   ]
  },
  {
   "cell_type": "code",
   "execution_count": 33,
   "id": "450a3091-3e0b-4c8e-823e-d37124e77a4a",
   "metadata": {},
   "outputs": [],
   "source": [
    "MAX_LEN = 250"
   ]
  },
  {
   "cell_type": "code",
   "execution_count": 35,
   "id": "f155af58-4473-4985-ae15-6d82edfd6a67",
   "metadata": {},
   "outputs": [],
   "source": [
    "texts = data.text.values\n",
    "id2label = {i:l for i,l in enumerate(set(data.topic))}\n",
    "label2id = {l:i for i,l in id2label.items()}\n",
    "targets = [label2id[l] for l in data.topic]"
   ]
  },
  {
   "cell_type": "code",
   "execution_count": 36,
   "id": "a2898c79-3230-4402-a874-5f960dc299c8",
   "metadata": {},
   "outputs": [],
   "source": [
    "train_text, valid_text, train_tar, valid_tar = train_test_split(texts, targets, test_size=0.05)"
   ]
  },
  {
   "cell_type": "code",
   "execution_count": 159,
   "id": "b6ea1614-a12a-4929-9317-d157e839ef0f",
   "metadata": {},
   "outputs": [],
   "source": [
    "train_data = Dataset(word2id, MAX_LEN, train_text, train_tar)\n",
    "train_loader = torch.utils.data.DataLoader(train_data, batch_size=384, shuffle=True, drop_last=True, num_workers=6)"
   ]
  },
  {
   "cell_type": "code",
   "execution_count": 160,
   "id": "59fc6562-2192-4fbb-a94e-42f3d96a04e6",
   "metadata": {},
   "outputs": [],
   "source": [
    "valid_data = Dataset(word2id, MAX_LEN, valid_text, valid_tar)\n",
    "valid_loader = torch.utils.data.DataLoader(valid_data, batch_size=384, shuffle=True, drop_last=True, num_workers=6)"
   ]
  },
  {
   "cell_type": "code",
   "execution_count": 46,
   "id": "505b63c1-daf5-4cec-83d1-39aa4638be4f",
   "metadata": {},
   "outputs": [],
   "source": [
    "from sklearn.metrics import f1_score\n",
    "from copy import deepcopy\n",
    "\n",
    "\n",
    "best_f1 = 0;\n",
    "\n",
    "def train(model, iterator, optimizer, criterion, print_every=1000):\n",
    "    \n",
    "    epoch_loss = []\n",
    "    epoch_f1 = []\n",
    "    \n",
    "    model.train()  \n",
    "\n",
    "    for i, (texts, ys) in enumerate(iterator):\n",
    "        \n",
    "        optimizer.zero_grad()   \n",
    "        predictions = model(texts.to(device)).squeeze()\n",
    "        loss = criterion(predictions, ys.to(device))        \n",
    "        \n",
    "        \n",
    "        \n",
    "        loss.backward()\n",
    "        optimizer.step()     \n",
    "        preds = predictions.detach().to('cpu').numpy().argmax(1).tolist()\n",
    "        y_true = ys.tolist()\n",
    "        \n",
    "        epoch_loss.append(loss.item())\n",
    "        # хотелось бы все же макро ф-меру, так что мерить будем её\n",
    "        epoch_f1.append(f1_score(y_true, preds, average=\"macro\"))\n",
    "        \n",
    "        if not (i+1) % print_every:\n",
    "            print(f'Loss: {np.mean(epoch_loss)}; F1 measure: {np.mean(epoch_f1)}')\n",
    "        \n",
    "    return np.mean(epoch_f1)\n",
    "\n",
    "\n",
    "def evaluate(model, iterator, criterion):\n",
    "\n",
    "    global best_f1\n",
    "    \n",
    "    epoch_loss = []\n",
    "    epoch_f1 = []\n",
    "    \n",
    "    model.eval()  \n",
    "    with torch.no_grad():\n",
    "        for texts, ys in iterator:   \n",
    "\n",
    "            predictions = model(texts.to(device)).squeeze()  \n",
    "            loss = criterion(predictions, ys.to(device))        \n",
    "            preds = predictions.detach().to('cpu').numpy().argmax(1).tolist()\n",
    "            y_true = ys.tolist()\n",
    "            \n",
    "\n",
    "            epoch_loss.append(loss.item())  \n",
    "            f1 = f1_score(y_true, preds, average=\"macro\")\n",
    "            epoch_f1.append(f1)\n",
    "\n",
    "            if f1 > best_f1:\n",
    "                best_f1 = f1\n",
    "                model.best_state = deepcopy(model.state_dict())\n",
    "            \n",
    "    return np.mean(epoch_f1)"
   ]
  },
  {
   "cell_type": "code",
   "execution_count": null,
   "id": "6e5dd034-af1c-4c83-9a0d-5353cfa20cd1",
   "metadata": {},
   "outputs": [],
   "source": []
  },
  {
   "cell_type": "code",
   "execution_count": null,
   "id": "b5235d3e-2648-44ab-9d53-dfd5c43423ab",
   "metadata": {},
   "outputs": [],
   "source": []
  },
  {
   "cell_type": "markdown",
   "id": "adfb7755-e496-4221-a9f1-34c077ee8bd4",
   "metadata": {},
   "source": [
    "### GRU"
   ]
  },
  {
   "cell_type": "code",
   "execution_count": 93,
   "id": "14a5a2ba-5052-474f-9451-0fc1b94f381e",
   "metadata": {},
   "outputs": [],
   "source": [
    "track_results = {}"
   ]
  },
  {
   "cell_type": "code",
   "execution_count": null,
   "id": "3a05f6a9-04b4-4a09-9ca3-1bb1883e51d1",
   "metadata": {},
   "outputs": [],
   "source": []
  },
  {
   "cell_type": "code",
   "execution_count": 76,
   "id": "7d7dd2cc-06f8-47ae-9cd4-c0f2f9c5f25d",
   "metadata": {},
   "outputs": [],
   "source": [
    "class Clf(nn.Module):\n",
    "    \n",
    "    def __init__(self, output_dim, *, emb_dim: int = 75, rnn_units: int = 128, debug: bool = False):\n",
    "        \n",
    "        super().__init__()          \n",
    "        self.VOCAB_SIZE = len(word2id)\n",
    "        self.EMB_DIM = emb_dim\n",
    "        self.RNN_UNITS = rnn_units\n",
    "        self.debug = debug\n",
    "        \n",
    "        \n",
    "        self.embedding = nn.Embedding(self.VOCAB_SIZE, self.EMB_DIM)\n",
    "        \n",
    "        # все три типа рнн слоев применяются почти одинаково\n",
    "#         self.rnn = nn.LSTM(self.EMB_DIM, self.RNN_UNITS, batch_first=True)\n",
    "        self.rnn = nn.GRU(self.EMB_DIM, self.RNN_UNITS, batch_first=True)\n",
    "#         self.rnn = nn.RNN(self.EMB_DIM, self.RNN_UNITS, batch_first=True)\n",
    "        self.fc = nn.Sequential(*[nn.Linear(self.RNN_UNITS, output_dim*25),\n",
    "                                nn.Linear(output_dim*25, output_dim)])\n",
    "        self.act = nn.LogSoftmax(1) \n",
    "        \n",
    "        \n",
    "    def forward(self, text):\n",
    "\n",
    "        embedded = self.embedding(text)\n",
    "        if self.debug:\n",
    "            print(embedded.size())\n",
    "        # применяем rnn слой\n",
    "        rnn_output, (h, *_) = self.rnn(embedded)\n",
    "        if self.debug:\n",
    "            print(rnn_output.size(), )\n",
    "        \n",
    "        h = h.squeeze(0)\n",
    "        \n",
    "        output = self.act(self.fc(h))        \n",
    "        return output\n",
    "\n",
    "\n",
    "device = torch.device('cuda' if torch.cuda.is_available() else 'cpu')  \n",
    "model = Clf(len(label2id), emb_dim=75, rnn_units=256)\n",
    "optimizer = optim.AdamW(model.parameters(), lr=0.001)\n",
    "criterion = nn.NLLLoss() \n",
    "model = model.to(device)\n",
    "criterion = criterion.to(device)"
   ]
  },
  {
   "cell_type": "code",
   "execution_count": 77,
   "id": "f70d63f8-9f0f-4703-b353-938fddb01fbf",
   "metadata": {},
   "outputs": [
    {
     "data": {
      "text/plain": [
       "==========================================================================================\n",
       "Layer (type:depth-idx)                   Output Shape              Param #\n",
       "==========================================================================================\n",
       "Clf                                      [256, 19]                 --\n",
       "├─Embedding: 1-1                         [256, 250, 75]            2,057,100\n",
       "├─GRU: 1-2                               [256, 250, 256]           255,744\n",
       "├─Sequential: 1-3                        [256, 19]                 --\n",
       "│    └─Linear: 2-1                       [256, 475]                122,075\n",
       "│    └─Linear: 2-2                       [256, 19]                 9,044\n",
       "├─LogSoftmax: 1-4                        [256, 19]                 --\n",
       "==========================================================================================\n",
       "Total params: 2,443,963\n",
       "Trainable params: 2,443,963\n",
       "Non-trainable params: 0\n",
       "Total mult-adds (G): 16.93\n",
       "==========================================================================================\n",
       "Input size (MB): 0.51\n",
       "Forward/backward pass size (MB): 170.48\n",
       "Params size (MB): 9.78\n",
       "Estimated Total Size (MB): 180.77\n",
       "=========================================================================================="
      ]
     },
     "execution_count": 77,
     "metadata": {},
     "output_type": "execute_result"
    }
   ],
   "source": [
    "torchinfo.summary(model, input_data=torch.randint(low = 1, high = 5000, size = (256, 250)).to(device))"
   ]
  },
  {
   "cell_type": "code",
   "execution_count": 78,
   "id": "10267e7f-564b-4492-91df-354f272e0ad7",
   "metadata": {},
   "outputs": [
    {
     "name": "stdout",
     "output_type": "stream",
     "text": [
      "0\n",
      "Loss: 2.3485253167152407; F1 measure: 0.025915597828592637\n",
      "Eval -  0.03300856770768612\n",
      "1\n",
      "Loss: 2.1546674013137816; F1 measure: 0.06201329056021707\n",
      "Eval -  0.14512048293303687\n",
      "2\n",
      "Loss: 1.7114151096343995; F1 measure: 0.17952980553239756\n",
      "Eval -  0.2139533666656838\n",
      "3\n",
      "Loss: 1.3638016831874848; F1 measure: 0.29292629116298985\n",
      "Eval -  0.3705360172259301\n",
      "4\n",
      "Loss: 1.0778276032209397; F1 measure: 0.4213154803852383\n",
      "Eval -  0.4364458779886188\n",
      "5\n",
      "Loss: 0.896014615893364; F1 measure: 0.49422313192746137\n",
      "Eval -  0.4837727728058038\n",
      "6\n",
      "Loss: 0.759537945985794; F1 measure: 0.5550193425732663\n",
      "Eval -  0.5000944336147433\n",
      "7\n",
      "Loss: 0.6336402118206024; F1 measure: 0.6121009657640177\n",
      "Eval -  0.5259148280677568\n",
      "8\n",
      "Loss: 0.5208835971355438; F1 measure: 0.668445102210403\n",
      "Eval -  0.5583466063917417\n",
      "9\n",
      "Loss: 0.4092582681775093; F1 measure: 0.7240283047349009\n",
      "Eval -  0.568743341869167\n"
     ]
    }
   ],
   "source": [
    "best_f1 = 0\n",
    "f1s = []\n",
    "f1s_eval = []\n",
    "\n",
    "for i in range(10):\n",
    "    print(i)\n",
    "    f1s.append(train(model, train_loader, optimizer, criterion, 100))\n",
    "    evl = evaluate(model, valid_loader, criterion)\n",
    "    print('Eval - ', evl)\n",
    "    f1s_eval.append(evl)\n"
   ]
  },
  {
   "cell_type": "code",
   "execution_count": 79,
   "id": "a1454e4f-6281-447b-9e31-1aa401e70155",
   "metadata": {},
   "outputs": [
    {
     "data": {
      "image/png": "[encoded data removed]",
      "text/plain": [
       "<Figure size 640x480 with 1 Axes>"
      ]
     },
     "metadata": {},
     "output_type": "display_data"
    }
   ],
   "source": [
    "plt.plot(f1s)\n",
    "plt.plot(f1s_eval)\n",
    "plt.title('model f1 micro')\n",
    "plt.ylabel('f1')\n",
    "plt.xlabel('epoch')\n",
    "plt.legend(['train', 'val'], loc='upper left')\n",
    "plt.show()"
   ]
  },
  {
   "cell_type": "code",
   "execution_count": 80,
   "id": "f7daca3b-d59f-4883-852a-0a4d87784066",
   "metadata": {},
   "outputs": [
    {
     "data": {
      "text/plain": [
       "0.568743341869167"
      ]
     },
     "execution_count": 80,
     "metadata": {},
     "output_type": "execute_result"
    }
   ],
   "source": [
    "max(f1s_eval)"
   ]
  },
  {
   "cell_type": "code",
   "execution_count": 94,
   "id": "8685da59-3d0f-4c4a-ac01-72759199a403",
   "metadata": {},
   "outputs": [],
   "source": [
    "track_results[\"GRU\"] = max(f1s_eval)"
   ]
  },
  {
   "cell_type": "markdown",
   "id": "7b94ee05-a907-475c-9db1-f149d38f7649",
   "metadata": {},
   "source": [
    "### LSTM"
   ]
  },
  {
   "cell_type": "code",
   "execution_count": 87,
   "id": "9314c6c5-c117-45be-803c-a7d6a3bc9d1e",
   "metadata": {},
   "outputs": [],
   "source": [
    "import gc\n",
    "\n",
    "del model\n",
    "\n",
    "gc.collect()\n",
    "torch.cuda.empty_cache()"
   ]
  },
  {
   "cell_type": "code",
   "execution_count": 111,
   "id": "cff8e7a9-c23d-4cd4-ba05-5f1a80cd2b42",
   "metadata": {},
   "outputs": [],
   "source": [
    "class Clf(nn.Module):\n",
    "    \n",
    "    def __init__(self, output_dim, *, emb_dim: int = 75, rnn_units: int = 128, debug: bool = False):\n",
    "        \n",
    "        super().__init__()          \n",
    "        self.VOCAB_SIZE = len(word2id)\n",
    "        self.EMB_DIM = emb_dim\n",
    "        self.RNN_UNITS = rnn_units\n",
    "        self.debug = debug\n",
    "        \n",
    "        \n",
    "        self.embedding = nn.Embedding(self.VOCAB_SIZE, self.EMB_DIM)\n",
    "        \n",
    "        # все три типа рнн слоев применяются почти одинаково\n",
    "        self.rnn = nn.LSTM(self.EMB_DIM, self.RNN_UNITS, batch_first=True)\n",
    "#         self.rnn = nn.GRU(self.EMB_DIM, self.RNN_UNITS, batch_first=True)\n",
    "#         self.rnn = nn.RNN(self.EMB_DIM, self.RNN_UNITS, batch_first=True)\n",
    "        self.fc = nn.Sequential(*[nn.Linear(self.RNN_UNITS, output_dim*25),\n",
    "                                nn.Linear(output_dim*25, output_dim)])\n",
    "        self.act = nn.LogSoftmax(1) \n",
    "        \n",
    "        \n",
    "    def forward(self, text):\n",
    "\n",
    "        embedded = self.embedding(text)\n",
    "        if self.debug:\n",
    "            print(embedded.size())\n",
    "        # применяем rnn слой\n",
    "        rnn_output, (h, *_) = self.rnn(embedded)\n",
    "        if self.debug:\n",
    "            print(rnn_output.size(), )\n",
    "        \n",
    "        h = h.squeeze(0)\n",
    "        \n",
    "        output = self.act(self.fc(h))        \n",
    "        return output\n",
    "\n",
    "\n",
    "device = torch.device('cuda' if torch.cuda.is_available() else 'cpu')  \n",
    "model = Clf(len(label2id), emb_dim=75, rnn_units=256)\n",
    "optimizer = optim.Adam(model.parameters(), lr=3e-3)\n",
    "criterion = nn.NLLLoss() \n",
    "model = model.to(device)\n",
    "criterion = criterion.to(device)"
   ]
  },
  {
   "cell_type": "code",
   "execution_count": 112,
   "id": "a474896c-8a21-43ed-8708-4a92cdde48b9",
   "metadata": {},
   "outputs": [
    {
     "data": {
      "text/plain": [
       "==========================================================================================\n",
       "Layer (type:depth-idx)                   Output Shape              Param #\n",
       "==========================================================================================\n",
       "Clf                                      [256, 19]                 --\n",
       "├─Embedding: 1-1                         [256, 250, 75]            2,057,100\n",
       "├─LSTM: 1-2                              [256, 250, 256]           340,992\n",
       "├─Sequential: 1-3                        [256, 19]                 --\n",
       "│    └─Linear: 2-1                       [256, 475]                122,075\n",
       "│    └─Linear: 2-2                       [256, 19]                 9,044\n",
       "├─LogSoftmax: 1-4                        [256, 19]                 --\n",
       "==========================================================================================\n",
       "Total params: 2,529,211\n",
       "Trainable params: 2,529,211\n",
       "Non-trainable params: 0\n",
       "Total mult-adds (G): 22.38\n",
       "==========================================================================================\n",
       "Input size (MB): 0.51\n",
       "Forward/backward pass size (MB): 170.48\n",
       "Params size (MB): 10.12\n",
       "Estimated Total Size (MB): 181.11\n",
       "=========================================================================================="
      ]
     },
     "execution_count": 112,
     "metadata": {},
     "output_type": "execute_result"
    }
   ],
   "source": [
    "torchinfo.summary(model, input_data=torch.randint(low = 1, high = 5000, size = (256, 250)).to(device))"
   ]
  },
  {
   "cell_type": "code",
   "execution_count": 113,
   "id": "24ff20da-4b52-48c9-8d77-db073b74873e",
   "metadata": {},
   "outputs": [
    {
     "name": "stdout",
     "output_type": "stream",
     "text": [
      "0\n",
      "Loss: 2.345982828140259; F1 measure: 0.02514825339727632\n",
      "Eval -  0.02252881372717508\n",
      "1\n",
      "Loss: 2.2173854434490203; F1 measure: 0.04442409736733105\n",
      "Eval -  0.08412875687745691\n",
      "2\n",
      "Loss: 1.799983605146408; F1 measure: 0.15273321277322624\n",
      "Eval -  0.20984946070779054\n",
      "3\n",
      "Loss: 1.320700731277466; F1 measure: 0.30032858775684235\n",
      "Eval -  0.34288008185669694\n",
      "4\n",
      "Loss: 1.0080506551265715; F1 measure: 0.42644537199760196\n",
      "Eval -  0.43058958865180214\n",
      "5\n",
      "Loss: 0.7693316864967347; F1 measure: 0.5462316819740805\n",
      "Eval -  0.47380975618933174\n",
      "6\n",
      "Loss: 0.5433116069436074; F1 measure: 0.6519784573862927\n",
      "Eval -  0.47473108750120696\n",
      "7\n",
      "Loss: 0.3442844259738922; F1 measure: 0.7441075394978636\n",
      "Eval -  0.4909840420821883\n",
      "8\n",
      "Loss: 0.21346170149743557; F1 measure: 0.8053003272581378\n",
      "Eval -  0.5282661586116538\n",
      "9\n",
      "Loss: 0.12791574645787476; F1 measure: 0.8716621028621903\n",
      "Eval -  0.5152283224441205\n",
      "10\n",
      "Loss: 0.0878261436894536; F1 measure: 0.9076700552845811\n",
      "Eval -  0.5180482752765667\n",
      "11\n",
      "Loss: 0.05787329450249672; F1 measure: 0.944535164226542\n",
      "Eval -  0.5095128427641005\n",
      "12\n",
      "Loss: 0.042857721401378515; F1 measure: 0.9577096081180351\n",
      "Eval -  0.4837102825032701\n",
      "13\n",
      "Loss: 0.033859357899054886; F1 measure: 0.9644060888407116\n",
      "Eval -  0.5020467711124331\n",
      "14\n",
      "Loss: 0.02709548259153962; F1 measure: 0.9736954741592612\n",
      "Eval -  0.5115593797584468\n"
     ]
    }
   ],
   "source": [
    "best_f1 = 0\n",
    "f1s = []\n",
    "f1s_eval = []\n",
    "\n",
    "for i in range(15):\n",
    "    print(i)\n",
    "    f1s.append(train(model, train_loader, optimizer, criterion, 100))\n",
    "    evl = evaluate(model, valid_loader, criterion)\n",
    "    print('Eval - ', evl)\n",
    "    f1s_eval.append(evl)\n"
   ]
  },
  {
   "cell_type": "code",
   "execution_count": 114,
   "id": "3590e39f-e005-491e-a211-4d626fbf854e",
   "metadata": {},
   "outputs": [
    {
     "data": {
      "image/png": "[encoded data removed]",
      "text/plain": [
       "<Figure size 640x480 with 1 Axes>"
      ]
     },
     "metadata": {},
     "output_type": "display_data"
    }
   ],
   "source": [
    "plt.plot(f1s)\n",
    "plt.plot(f1s_eval)\n",
    "plt.title('model f1 micro')\n",
    "plt.ylabel('f1')\n",
    "plt.xlabel('epoch')\n",
    "plt.legend(['train', 'val'], loc='upper left')\n",
    "plt.show()"
   ]
  },
  {
   "cell_type": "code",
   "execution_count": 115,
   "id": "1b78f577-99d9-4fe3-afd6-5ee3c77c67de",
   "metadata": {},
   "outputs": [],
   "source": [
    "track_results[\"LSTM\"] = max(f1s_eval)"
   ]
  },
  {
   "cell_type": "markdown",
   "id": "19c36334-7042-4dab-b07e-bab994b3b4fb",
   "metadata": {},
   "source": [
    "### 1GRU-1LSTM"
   ]
  },
  {
   "cell_type": "code",
   "execution_count": 116,
   "id": "84ca8f6c-7f19-478a-a8f8-7a3964ea57bd",
   "metadata": {},
   "outputs": [],
   "source": [
    "import gc\n",
    "\n",
    "del model\n",
    "\n",
    "gc.collect()\n",
    "torch.cuda.empty_cache()"
   ]
  },
  {
   "cell_type": "code",
   "execution_count": 117,
   "id": "86fedf2d-31f1-45e1-a86a-8dbe0975d0be",
   "metadata": {},
   "outputs": [],
   "source": [
    "class Clf(nn.Module):\n",
    "    \n",
    "    def __init__(self, output_dim, *, emb_dim: int = 75, rnn_units: int = 128, debug: bool = False):\n",
    "        \n",
    "        super().__init__()          \n",
    "        self.VOCAB_SIZE = len(word2id)\n",
    "        self.EMB_DIM = emb_dim\n",
    "        self.RNN_UNITS = rnn_units\n",
    "        self.debug = debug\n",
    "        \n",
    "        \n",
    "        self.embedding = nn.Embedding(self.VOCAB_SIZE, self.EMB_DIM)\n",
    "        \n",
    "        \n",
    "        self.gru = nn.GRU(self.EMB_DIM, self.RNN_UNITS, batch_first=True)\n",
    "        self.lstm = nn.LSTM(self.RNN_UNITS, self.RNN_UNITS*2, batch_first=True)\n",
    "        self.fc = nn.Sequential(*[nn.Linear(self.RNN_UNITS*2, output_dim*25),\n",
    "                                nn.Linear(output_dim*25, output_dim)])\n",
    "        self.act = nn.LogSoftmax(1) \n",
    "        \n",
    "        \n",
    "    def forward(self, text):\n",
    "\n",
    "        embedded = self.embedding(text)\n",
    "        if self.debug:\n",
    "            print(embedded.size())\n",
    "            \n",
    "        rnn_output, (h, *_) = self.gru(embedded)\n",
    "\n",
    "        rnn_output, (h, *_) = self.lstm(rnn_output)\n",
    "        if self.debug:\n",
    "            print(rnn_output.size(), )\n",
    "        \n",
    "        h = h.squeeze(0)\n",
    "        \n",
    "        output = self.act(self.fc(h))        \n",
    "        return output\n",
    "\n",
    "\n",
    "device = torch.device('cuda' if torch.cuda.is_available() else 'cpu')  \n",
    "model = Clf(len(label2id), emb_dim=75, rnn_units=256)\n",
    "optimizer = optim.AdamW(model.parameters(), lr=0.001)\n",
    "criterion = nn.NLLLoss() \n",
    "model = model.to(device)\n",
    "criterion = criterion.to(device)"
   ]
  },
  {
   "cell_type": "code",
   "execution_count": 118,
   "id": "330ce5dd-212c-4bf0-9ebe-c4801437e490",
   "metadata": {},
   "outputs": [
    {
     "data": {
      "text/plain": [
       "==========================================================================================\n",
       "Layer (type:depth-idx)                   Output Shape              Param #\n",
       "==========================================================================================\n",
       "Clf                                      [256, 19]                 --\n",
       "├─Embedding: 1-1                         [256, 250, 75]            2,057,100\n",
       "├─GRU: 1-2                               [256, 250, 256]           255,744\n",
       "├─LSTM: 1-3                              [256, 250, 512]           1,576,960\n",
       "├─Sequential: 1-4                        [256, 19]                 --\n",
       "│    └─Linear: 2-1                       [256, 475]                243,675\n",
       "│    └─Linear: 2-2                       [256, 19]                 9,044\n",
       "├─LogSoftmax: 1-5                        [256, 19]                 --\n",
       "==========================================================================================\n",
       "Total params: 4,142,523\n",
       "Trainable params: 4,142,523\n",
       "Non-trainable params: 0\n",
       "Total mult-adds (G): 117.88\n",
       "==========================================================================================\n",
       "Input size (MB): 0.51\n",
       "Forward/backward pass size (MB): 432.63\n",
       "Params size (MB): 16.57\n",
       "Estimated Total Size (MB): 449.71\n",
       "=========================================================================================="
      ]
     },
     "execution_count": 118,
     "metadata": {},
     "output_type": "execute_result"
    }
   ],
   "source": [
    "torchinfo.summary(model, input_data=torch.randint(low = 1, high = 5000, size = (256, 250)).to(device))"
   ]
  },
  {
   "cell_type": "code",
   "execution_count": 119,
   "id": "859226d8-803e-4dee-85fe-ceb3432e637d",
   "metadata": {},
   "outputs": [
    {
     "name": "stdout",
     "output_type": "stream",
     "text": [
      "0\n",
      "Loss: 2.3457982254028322; F1 measure: 0.025232810782082945\n",
      "Eval -  0.022850322741943395\n",
      "1\n",
      "Loss: 2.1407802736759187; F1 measure: 0.07120789635595785\n",
      "Eval -  0.1296730040261883\n",
      "2\n",
      "Loss: 1.8874345958232879; F1 measure: 0.14276456325036604\n",
      "Eval -  0.15518837754868384\n",
      "3\n",
      "Loss: 1.7204274022579193; F1 measure: 0.18384118677565553\n",
      "Eval -  0.19960520597395742\n",
      "4\n",
      "Loss: 1.5294764459133148; F1 measure: 0.23342348726794288\n",
      "Eval -  0.2559088415335645\n",
      "5\n",
      "Loss: 1.2829206192493439; F1 measure: 0.29813332234517737\n",
      "Eval -  0.30653037952224677\n",
      "6\n",
      "Loss: 1.1072703951597214; F1 measure: 0.3834715147225981\n",
      "Eval -  0.3754351025351588\n",
      "7\n",
      "Loss: 0.9713285821676254; F1 measure: 0.4454786427892285\n",
      "Eval -  0.41716865285601523\n",
      "8\n",
      "Loss: 0.8183906054496766; F1 measure: 0.5176438041567648\n",
      "Eval -  0.4677468772739662\n",
      "9\n",
      "Loss: 0.6899449694156646; F1 measure: 0.5690523877377539\n",
      "Eval -  0.4665872472628333\n",
      "10\n",
      "Loss: 0.5722288754582405; F1 measure: 0.622918984451818\n",
      "Eval -  0.4959187452891305\n",
      "11\n",
      "Loss: 0.45822714507579804; F1 measure: 0.6831695462655196\n",
      "Eval -  0.48074101463053776\n",
      "12\n",
      "Loss: 0.3706261345744133; F1 measure: 0.7380420929165769\n",
      "Eval -  0.5217442771853239\n",
      "13\n",
      "Loss: 0.28326091676950454; F1 measure: 0.788494991928065\n",
      "Eval -  0.5298424501870713\n",
      "14\n",
      "Loss: 0.21600166499614715; F1 measure: 0.8241256480497071\n",
      "Eval -  0.4969514081919514\n"
     ]
    }
   ],
   "source": [
    "best_f1 = 0\n",
    "f1s = []\n",
    "f1s_eval = []\n",
    "\n",
    "for i in range(15):\n",
    "    print(i)\n",
    "    f1s.append(train(model, train_loader, optimizer, criterion, 100))\n",
    "    evl = evaluate(model, valid_loader, criterion)\n",
    "    print('Eval - ', evl)\n",
    "    f1s_eval.append(evl)\n"
   ]
  },
  {
   "cell_type": "code",
   "execution_count": 120,
   "id": "9f8c80c7-2c0a-4303-a62e-a683d75f5ccf",
   "metadata": {},
   "outputs": [
    {
     "data": {
      "image/png": "[encoded data removed]",
      "text/plain": [
       "<Figure size 640x480 with 1 Axes>"
      ]
     },
     "metadata": {},
     "output_type": "display_data"
    }
   ],
   "source": [
    "plt.plot(f1s)\n",
    "plt.plot(f1s_eval)\n",
    "plt.title('model f1 micro')\n",
    "plt.ylabel('f1')\n",
    "plt.xlabel('epoch')\n",
    "plt.legend(['train', 'val'], loc='upper left')\n",
    "plt.show()"
   ]
  },
  {
   "cell_type": "code",
   "execution_count": 121,
   "id": "0aebb9b1-6224-40a2-9799-e8ce99b8dd04",
   "metadata": {},
   "outputs": [
    {
     "data": {
      "text/plain": [
       "0.5298424501870713"
      ]
     },
     "execution_count": 121,
     "metadata": {},
     "output_type": "execute_result"
    }
   ],
   "source": [
    "max(f1s_eval)"
   ]
  },
  {
   "cell_type": "code",
   "execution_count": 122,
   "id": "6c541351-6289-43d0-97bc-1b9e11740d1e",
   "metadata": {},
   "outputs": [],
   "source": [
    "track_results[\"1GRU-1LSTM\"] = max(f1s_eval)"
   ]
  },
  {
   "cell_type": "markdown",
   "id": "f8b51c88-b3af-4a1c-84d5-534d5cc38fc3",
   "metadata": {},
   "source": [
    "### BIGRU-2LSTM"
   ]
  },
  {
   "cell_type": "code",
   "execution_count": 164,
   "id": "75817238-8131-4758-abbb-2a3e91d7f9d0",
   "metadata": {},
   "outputs": [],
   "source": [
    "import gc\n",
    "\n",
    "del model\n",
    "del criterion\n",
    "del optimizer\n",
    "\n",
    "gc.collect()\n",
    "torch.cuda.empty_cache()"
   ]
  },
  {
   "cell_type": "code",
   "execution_count": 165,
   "id": "44c138a2-4a40-4989-8a47-875e2dbda823",
   "metadata": {},
   "outputs": [],
   "source": [
    "class Clf(nn.Module):\n",
    "    \n",
    "    def __init__(self, output_dim, *, emb_dim: int = 75, rnn_units: int = 128, debug: bool = False):\n",
    "        \n",
    "        super().__init__()          \n",
    "        self.VOCAB_SIZE = len(word2id)\n",
    "        self.EMB_DIM = emb_dim\n",
    "        self.RNN_UNITS = rnn_units\n",
    "        self.debug = debug\n",
    "        \n",
    "        \n",
    "        self.embedding = nn.Embedding(self.VOCAB_SIZE, self.EMB_DIM)\n",
    "        \n",
    "        \n",
    "        self.gru = nn.GRU(self.EMB_DIM, self.RNN_UNITS, batch_first=True, bidirectional=True)\n",
    "        self.lstm = nn.LSTM(self.RNN_UNITS*2, self.RNN_UNITS*2, num_layers=2, batch_first=True)\n",
    "        self.fc = nn.Sequential(*[nn.Linear(self.RNN_UNITS*2, output_dim*25),\n",
    "                                nn.Linear(output_dim*25, output_dim)])\n",
    "        self.act = nn.LogSoftmax(1) \n",
    "        \n",
    "        \n",
    "    def forward(self, text):\n",
    "\n",
    "        embedded = self.embedding(text)\n",
    "        if self.debug:\n",
    "            print(embedded.size())\n",
    "            \n",
    "        rnn_output, (h, *_) = self.gru(embedded)\n",
    "\n",
    "        rnn_output, (h, *_) = self.lstm(rnn_output)\n",
    "        if self.debug:\n",
    "            print(rnn_output.size(), )\n",
    "        \n",
    "        h = h.squeeze(0)\n",
    "        \n",
    "        output = self.act(self.fc(h[-1]))        \n",
    "        return output\n",
    "\n",
    "\n",
    "device = torch.device('cuda' if torch.cuda.is_available() else 'cpu')  \n",
    "model = Clf(len(label2id), emb_dim=50, rnn_units=128)\n",
    "optimizer = optim.AdamW(model.parameters(), lr=3e-3)\n",
    "criterion = nn.NLLLoss() \n",
    "model = model.to(device)\n",
    "criterion = criterion.to(device)"
   ]
  },
  {
   "cell_type": "code",
   "execution_count": 166,
   "id": "b26b8c8e-4d36-4348-bcd8-65f67d4ba9ad",
   "metadata": {},
   "outputs": [
    {
     "data": {
      "text/plain": [
       "==========================================================================================\n",
       "Layer (type:depth-idx)                   Output Shape              Param #\n",
       "==========================================================================================\n",
       "Clf                                      [256, 19]                 --\n",
       "├─Embedding: 1-1                         [256, 250, 50]            1,371,400\n",
       "├─GRU: 1-2                               [256, 250, 256]           138,240\n",
       "├─LSTM: 1-3                              [256, 250, 256]           1,052,672\n",
       "├─Sequential: 1-4                        [256, 19]                 --\n",
       "│    └─Linear: 2-1                       [256, 475]                122,075\n",
       "│    └─Linear: 2-2                       [256, 19]                 9,044\n",
       "├─LogSoftmax: 1-5                        [256, 19]                 --\n",
       "==========================================================================================\n",
       "Total params: 2,693,431\n",
       "Trainable params: 2,693,431\n",
       "Non-trainable params: 0\n",
       "Total mult-adds (G): 76.60\n",
       "==========================================================================================\n",
       "Input size (MB): 0.51\n",
       "Forward/backward pass size (MB): 288.76\n",
       "Params size (MB): 10.77\n",
       "Estimated Total Size (MB): 300.04\n",
       "=========================================================================================="
      ]
     },
     "execution_count": 166,
     "metadata": {},
     "output_type": "execute_result"
    }
   ],
   "source": [
    "torchinfo.summary(model, input_data=torch.randint(low = 1, high = 5000, size = (256, 250)).to(device))"
   ]
  },
  {
   "cell_type": "code",
   "execution_count": 167,
   "id": "524ce391-0339-451e-80c8-3aa8a2907351",
   "metadata": {},
   "outputs": [
    {
     "name": "stdout",
     "output_type": "stream",
     "text": [
      "0\n",
      "Loss: 2.349233794212341; F1 measure: 0.023269857257844383\n",
      "Eval -  0.020956592560024374\n",
      "1\n",
      "Loss: 2.0664863979816435; F1 measure: 0.08023940018742716\n",
      "Eval -  0.17531654071605282\n",
      "2\n",
      "Loss: 1.570605366230011; F1 measure: 0.21958919304490768\n",
      "Eval -  0.24308747686358276\n",
      "3\n",
      "Loss: 1.2272375905513764; F1 measure: 0.3032644240188253\n",
      "Eval -  0.34554106662946316\n",
      "4\n",
      "Loss: 0.9677202326059341; F1 measure: 0.40398097645873215\n",
      "Eval -  0.387285129662066\n",
      "5\n",
      "Loss: 0.7658754414319993; F1 measure: 0.5079753742888928\n",
      "Eval -  0.4493971375243634\n",
      "6\n",
      "Loss: 0.5756055095791817; F1 measure: 0.6093859867453397\n",
      "Eval -  0.511365027268017\n",
      "7\n",
      "Loss: 0.43128073334693906; F1 measure: 0.676691510938646\n",
      "Eval -  0.5283403362699064\n",
      "8\n",
      "Loss: 0.3008906497061253; F1 measure: 0.746785812338215\n",
      "Eval -  0.5004001212414979\n",
      "9\n",
      "Loss: 0.22230815269052984; F1 measure: 0.806637835614917\n",
      "Eval -  0.5171975458367843\n",
      "10\n",
      "Loss: 0.16733411349356175; F1 measure: 0.8413474718630581\n",
      "Eval -  0.5111151892505469\n",
      "11\n",
      "Loss: 0.12097762495279313; F1 measure: 0.8767244983109468\n",
      "Eval -  0.5438108050835104\n",
      "12\n",
      "Loss: 0.09863472830504179; F1 measure: 0.9009107438356783\n",
      "Eval -  0.5362140211652753\n",
      "13\n",
      "Loss: 0.08401234097778797; F1 measure: 0.9081735690455016\n",
      "Eval -  0.5531269545620703\n",
      "14\n",
      "Loss: 0.07412178061902523; F1 measure: 0.9290119451506392\n",
      "Eval -  0.540653104670469\n"
     ]
    }
   ],
   "source": [
    "best_f1 = 0\n",
    "f1s = []\n",
    "f1s_eval = []\n",
    "\n",
    "for i in range(15):\n",
    "    print(i)\n",
    "    f1s.append(train(model, train_loader, optimizer, criterion, 100))\n",
    "    evl = evaluate(model, valid_loader, criterion)\n",
    "    print('Eval - ', evl)\n",
    "    f1s_eval.append(evl)\n"
   ]
  },
  {
   "cell_type": "code",
   "execution_count": 170,
   "id": "dbb2ff1a-dda9-4c75-8bbd-7380c578e133",
   "metadata": {},
   "outputs": [
    {
     "data": {
      "image/png": "[encoded data removed]",
      "text/plain": [
       "<Figure size 640x480 with 1 Axes>"
      ]
     },
     "metadata": {},
     "output_type": "display_data"
    }
   ],
   "source": [
    "plt.plot(f1s)\n",
    "plt.plot(f1s_eval)\n",
    "plt.title('model f1 micro')\n",
    "plt.ylabel('f1')\n",
    "plt.xlabel('epoch')\n",
    "plt.legend(['train', 'val'], loc='upper left')\n",
    "plt.show()"
   ]
  },
  {
   "cell_type": "code",
   "execution_count": 171,
   "id": "bf8c185b-387c-496a-8179-1c76ff6259ed",
   "metadata": {},
   "outputs": [],
   "source": [
    "track_results[\"BIGRU-2LSTM\"] = max(f1s_eval)"
   ]
  },
  {
   "cell_type": "markdown",
   "id": "03c569fa-290b-4051-9bb6-9abcdcdf64ec",
   "metadata": {},
   "source": [
    "### 5GRU-3LSTM"
   ]
  },
  {
   "cell_type": "code",
   "execution_count": 189,
   "id": "1e1e740f-6155-4d95-b31b-c6abc0552dae",
   "metadata": {},
   "outputs": [],
   "source": [
    "import gc\n",
    "\n",
    "del model\n",
    "del criterion\n",
    "del optimizer\n",
    "\n",
    "gc.collect()\n",
    "torch.cuda.empty_cache()"
   ]
  },
  {
   "cell_type": "code",
   "execution_count": 190,
   "id": "3a1b8fe0-e208-4b84-a1d5-167bdabeb6b6",
   "metadata": {},
   "outputs": [],
   "source": [
    "class Clf(nn.Module):\n",
    "    \n",
    "    def __init__(self, output_dim, *, emb_dim: int = 75, rnn_units: int = 128, debug: bool = False):\n",
    "        \n",
    "        super().__init__()          \n",
    "        self.VOCAB_SIZE = len(word2id)\n",
    "        self.EMB_DIM = emb_dim\n",
    "        self.RNN_UNITS = rnn_units\n",
    "        self.debug = debug\n",
    "        \n",
    "        \n",
    "        self.embedding = nn.Embedding(self.VOCAB_SIZE, self.EMB_DIM)\n",
    "        \n",
    "        \n",
    "        self.gru = nn.GRU(self.RNN_UNITS*2, self.RNN_UNITS, batch_first=True, num_layers=5)\n",
    "        self.lstm = nn.LSTM(self.EMB_DIM, self.RNN_UNITS*2, num_layers=3, batch_first=True)\n",
    "        self.fc = nn.Sequential(*[nn.Linear(self.RNN_UNITS, output_dim*25),\n",
    "                                nn.Linear(output_dim*25, output_dim)])\n",
    "        self.act = nn.LogSoftmax(1) \n",
    "        \n",
    "        \n",
    "    def forward(self, text):\n",
    "\n",
    "        embedded = self.embedding(text)\n",
    "        if self.debug:\n",
    "            print(embedded.size())\n",
    "            \n",
    "        rnn_output, (h, *_) = self.lstm(embedded)\n",
    "\n",
    "        rnn_output, (h, *_) = self.gru(rnn_output)\n",
    "        if self.debug:\n",
    "            print(h.size(), )\n",
    "        \n",
    "        h = h.squeeze(0)\n",
    "        \n",
    "        output = self.act(\n",
    "            self.fc(\n",
    "                h\n",
    "            )\n",
    "        )        \n",
    "        return output\n",
    "\n",
    "\n",
    "device = torch.device('cuda' if torch.cuda.is_available() else 'cpu')  \n",
    "model = Clf(len(label2id), emb_dim=50, rnn_units=128)\n",
    "optimizer = optim.Adam(model.parameters(), lr=3e-3)\n",
    "criterion = nn.NLLLoss() \n",
    "model = model.to(device)\n",
    "criterion = criterion.to(device)"
   ]
  },
  {
   "cell_type": "code",
   "execution_count": 191,
   "id": "bdc21244-ef11-4d2d-a03b-8728eb0374c8",
   "metadata": {},
   "outputs": [
    {
     "data": {
      "text/plain": [
       "==========================================================================================\n",
       "Layer (type:depth-idx)                   Output Shape              Param #\n",
       "==========================================================================================\n",
       "Clf                                      [256, 19]                 --\n",
       "├─Embedding: 1-1                         [256, 250, 50]            1,371,400\n",
       "├─LSTM: 1-2                              [256, 250, 256]           1,368,064\n",
       "├─GRU: 1-3                               [256, 250, 128]           544,512\n",
       "├─Sequential: 1-4                        [256, 19]                 --\n",
       "│    └─Linear: 2-1                       [256, 475]                61,275\n",
       "│    └─Linear: 2-2                       [256, 19]                 9,044\n",
       "├─LogSoftmax: 1-5                        [256, 19]                 --\n",
       "==========================================================================================\n",
       "Total params: 3,354,295\n",
       "Trainable params: 3,354,295\n",
       "Non-trainable params: 0\n",
       "Total mult-adds (G): 122.77\n",
       "==========================================================================================\n",
       "Input size (MB): 0.51\n",
       "Forward/backward pass size (MB): 223.22\n",
       "Params size (MB): 13.42\n",
       "Estimated Total Size (MB): 237.15\n",
       "=========================================================================================="
      ]
     },
     "execution_count": 191,
     "metadata": {},
     "output_type": "execute_result"
    }
   ],
   "source": [
    "torchinfo.summary(model, input_data=torch.randint(low = 1, high = 5000, size = (256, 250)).to(device))"
   ]
  },
  {
   "cell_type": "code",
   "execution_count": 192,
   "id": "90ac6004-0ed5-4ea8-9bca-b1a8ae5dd363",
   "metadata": {},
   "outputs": [
    {
     "name": "stdout",
     "output_type": "stream",
     "text": [
      "0\n",
      "Loss: 2.348554003238678; F1 measure: 0.023368936717834247\n",
      "Eval -  0.022682584801927225\n",
      "1\n",
      "Loss: 2.3222900080680846; F1 measure: 0.02513435200232046\n",
      "Eval -  0.022769367252143284\n",
      "2\n",
      "Loss: 2.3206348705291746; F1 measure: 0.02534908978139361\n",
      "Eval -  0.022769646011486233\n",
      "3\n",
      "Loss: 2.324558002948761; F1 measure: 0.024181635814044155\n",
      "Eval -  0.02262767407954347\n",
      "4\n",
      "Loss: 2.322609550952911; F1 measure: 0.02429887403904054\n",
      "Eval -  0.023284581657353358\n",
      "5\n",
      "Loss: 2.318810057640076; F1 measure: 0.027222926614536277\n",
      "Eval -  0.02268452183869294\n",
      "6\n",
      "Loss: 2.31958212852478; F1 measure: 0.025865522938796008\n",
      "Eval -  0.023062569486976527\n",
      "7\n",
      "Loss: 2.322669594287872; F1 measure: 0.02379021689867235\n",
      "Eval -  0.022374932798771546\n",
      "8\n",
      "Loss: 2.3223935317993165; F1 measure: 0.023838336691721994\n",
      "Eval -  0.022333639108520466\n",
      "9\n",
      "Loss: 2.32314745426178; F1 measure: 0.025808059037021425\n",
      "Eval -  0.022575989668398678\n",
      "10\n",
      "Loss: 2.3214984798431395; F1 measure: 0.023695990242945452\n",
      "Eval -  0.022704496758442848\n",
      "11\n",
      "Loss: 2.3224566054344176; F1 measure: 0.023756137778779482\n",
      "Eval -  0.02224928331303174\n",
      "12\n",
      "Loss: 2.322362973690033; F1 measure: 0.023859354453039838\n",
      "Eval -  0.023309755203228772\n",
      "13\n",
      "Loss: 2.3209125113487246; F1 measure: 0.02367735453439296\n",
      "Eval -  0.022694417903129337\n",
      "14\n",
      "Loss: 2.320751190185547; F1 measure: 0.02384985399644461\n",
      "Eval -  0.02281353316930012\n"
     ]
    }
   ],
   "source": [
    "best_f1 = 0\n",
    "f1s = []\n",
    "f1s_eval = []\n",
    "\n",
    "for i in range(15):\n",
    "    print(i)\n",
    "    f1s.append(train(model, train_loader, optimizer, criterion, 100))\n",
    "    evl = evaluate(model, valid_loader, criterion)\n",
    "    print('Eval - ', evl)\n",
    "    f1s_eval.append(evl)\n"
   ]
  },
  {
   "cell_type": "markdown",
   "id": "11b71899-8837-4fc1-a4d3-211be24b2ec9",
   "metadata": {},
   "source": [
    "###### На таком количестве слоев без residual connection-ов затухание градиента прявляется уже вовсю"
   ]
  },
  {
   "cell_type": "code",
   "execution_count": 193,
   "id": "c7c68f0a-5035-42aa-98bf-eb470e401cef",
   "metadata": {},
   "outputs": [
    {
     "data": {
      "image/png": "[encoded data removed]",
      "text/plain": [
       "<Figure size 640x480 with 1 Axes>"
      ]
     },
     "metadata": {},
     "output_type": "display_data"
    }
   ],
   "source": [
    "plt.plot(f1s)\n",
    "plt.plot(f1s_eval)\n",
    "plt.title('model f1 micro')\n",
    "plt.ylabel('f1')\n",
    "plt.xlabel('epoch')\n",
    "plt.legend(['train', 'val'], loc='upper left')\n",
    "plt.show()"
   ]
  },
  {
   "cell_type": "code",
   "execution_count": 194,
   "id": "08894e72-0368-4d93-9eda-d52355f0a305",
   "metadata": {},
   "outputs": [],
   "source": [
    "track_results[\"5GRU-3LSTM\"] = max(f1s_eval)"
   ]
  },
  {
   "cell_type": "markdown",
   "id": "e342e2aa-24f4-46bf-96d1-8f030ca6f89d",
   "metadata": {},
   "source": [
    "### 1BIGRU-1BILSTM"
   ]
  },
  {
   "cell_type": "code",
   "execution_count": 217,
   "id": "99f0a6f7-7d24-4cd0-a4ef-4f93f65f82ed",
   "metadata": {},
   "outputs": [],
   "source": [
    "import gc\n",
    "\n",
    "del model\n",
    "del criterion\n",
    "del optimizer\n",
    "\n",
    "gc.collect()\n",
    "torch.cuda.empty_cache()"
   ]
  },
  {
   "cell_type": "code",
   "execution_count": 218,
   "id": "6f887c8a-cb6a-4701-9624-8138ca938e61",
   "metadata": {},
   "outputs": [],
   "source": [
    "class Clf(nn.Module):\n",
    "    \n",
    "    def __init__(self, output_dim, *, emb_dim: int = 75, rnn_units: int = 128, debug: bool = False):\n",
    "        \n",
    "        super().__init__()          \n",
    "        self.VOCAB_SIZE = len(word2id)\n",
    "        self.EMB_DIM = emb_dim\n",
    "        self.RNN_UNITS = rnn_units\n",
    "        self.debug = debug\n",
    "        \n",
    "        \n",
    "        self.embedding = nn.Embedding(self.VOCAB_SIZE, self.EMB_DIM)\n",
    "        \n",
    "        \n",
    "        self.gru_f = nn.GRU(self.RNN_UNITS*2, self.RNN_UNITS*3, batch_first=True)\n",
    "        self.lstm_f = nn.LSTM(self.EMB_DIM, self.RNN_UNITS*2, batch_first=True)\n",
    "\n",
    "        self.gru_b = nn.GRU(self.RNN_UNITS*2, self.RNN_UNITS*3, batch_first=True)\n",
    "        self.lstm_b = nn.LSTM(self.EMB_DIM, self.RNN_UNITS*2, batch_first=True)\n",
    "        \n",
    "        self.fc = nn.Sequential(*[nn.Linear(self.RNN_UNITS*6, output_dim*25),\n",
    "                                nn.Linear(output_dim*25, output_dim)])\n",
    "        self.act = nn.LogSoftmax(1) \n",
    "        \n",
    "        \n",
    "    def forward(self, text):\n",
    "\n",
    "        embedded = self.embedding(text)\n",
    "        embedded_back = torch.flip(embedded, (1, ))\n",
    "        if self.debug:\n",
    "            print(embedded.size())\n",
    "            \n",
    "        rnn_output, (h, *_) = self.lstm_f(embedded)\n",
    "        rnn_output, (h, *_) = self.gru_f(rnn_output)\n",
    "        if self.debug:\n",
    "            print(h.size(), )\n",
    "\n",
    "        rnn_output, (hb, *_) = self.lstm_b(embedded_back)\n",
    "        rnn_output, (hb, *_) = self.gru_f(rnn_output)\n",
    "        if self.debug:\n",
    "            print(h.size(), )        \n",
    "        \n",
    "        h = h.squeeze(0)\n",
    "        hb = hb.squeeze(0)\n",
    "        \n",
    "        output = self.act(\n",
    "            self.fc(\n",
    "                torch.cat([h, hb], 1)\n",
    "            )\n",
    "        )        \n",
    "        return output\n",
    "\n",
    "\n",
    "device = torch.device('cuda' if torch.cuda.is_available() else 'cpu')  \n",
    "model = Clf(len(label2id), emb_dim=50, rnn_units=128)\n",
    "optimizer = optim.Adam(model.parameters(), lr=3e-3)\n",
    "criterion = nn.NLLLoss() \n",
    "model = model.to(device)\n",
    "criterion = criterion.to(device)"
   ]
  },
  {
   "cell_type": "code",
   "execution_count": 219,
   "id": "d90e05d6-ff99-43cd-a8cd-0816f2a835e7",
   "metadata": {},
   "outputs": [
    {
     "data": {
      "text/plain": [
       "==========================================================================================\n",
       "Layer (type:depth-idx)                   Output Shape              Param #\n",
       "==========================================================================================\n",
       "Clf                                      [256, 19]                 739,584\n",
       "├─Embedding: 1-1                         [256, 250, 50]            1,371,400\n",
       "├─LSTM: 1-2                              [256, 250, 256]           315,392\n",
       "├─GRU: 1-3                               [256, 250, 384]           739,584\n",
       "├─LSTM: 1-4                              [256, 250, 256]           315,392\n",
       "├─GRU: 1-5                               [256, 250, 384]           (recursive)\n",
       "├─Sequential: 1-6                        [256, 19]                 --\n",
       "│    └─Linear: 2-1                       [256, 475]                365,275\n",
       "│    └─Linear: 2-2                       [256, 19]                 9,044\n",
       "├─LogSoftmax: 1-7                        [256, 19]                 --\n",
       "==========================================================================================\n",
       "Total params: 3,855,671\n",
       "Trainable params: 3,855,671\n",
       "Non-trainable params: 0\n",
       "Total mult-adds (G): 135.48\n",
       "==========================================================================================\n",
       "Input size (MB): 0.51\n",
       "Forward/backward pass size (MB): 681.97\n",
       "Params size (MB): 12.46\n",
       "Estimated Total Size (MB): 694.95\n",
       "=========================================================================================="
      ]
     },
     "execution_count": 219,
     "metadata": {},
     "output_type": "execute_result"
    }
   ],
   "source": [
    "torchinfo.summary(model, input_data=torch.randint(low = 1, high = 5000, size = (256, 250)).to(device))"
   ]
  },
  {
   "cell_type": "code",
   "execution_count": 220,
   "id": "077ce303-fa29-414b-921b-7590c60eded2",
   "metadata": {
    "scrolled": true
   },
   "outputs": [
    {
     "name": "stdout",
     "output_type": "stream",
     "text": [
      "0\n",
      "Loss: 2.099803853034973; F1 measure: 0.1406705287235777\n",
      "Eval -  0.2854571509850581\n",
      "1\n",
      "Loss: 1.161636699438095; F1 measure: 0.4225261431609517\n",
      "Eval -  0.48686616773698577\n",
      "2\n",
      "Loss: 0.7648423200845719; F1 measure: 0.5868777043357855\n",
      "Eval -  0.6000750922090137\n",
      "3\n",
      "Loss: 0.5386481937766076; F1 measure: 0.6929828112141132\n",
      "Eval -  0.6326943518010333\n",
      "4\n",
      "Loss: 0.3489121516048908; F1 measure: 0.7839849714669367\n",
      "Eval -  0.6333200007338251\n",
      "5\n",
      "Loss: 0.17041654616594315; F1 measure: 0.9054786342415632\n",
      "Eval -  0.633290438849144\n",
      "6\n",
      "Loss: 0.09340332940220833; F1 measure: 0.9368834709435019\n",
      "Eval -  0.639620360674622\n",
      "7\n",
      "Loss: 0.05041743582114577; F1 measure: 0.9666480626343634\n",
      "Eval -  0.6190493550309697\n",
      "8\n",
      "Loss: 0.05493856450542808; F1 measure: 0.9626148518440012\n",
      "Eval -  0.6036681036975441\n",
      "9\n",
      "Loss: 0.04775770617648959; F1 measure: 0.9679107379689459\n",
      "Eval -  0.6259280757288231\n",
      "10\n",
      "Loss: 0.0325341927818954; F1 measure: 0.9773547647080345\n",
      "Eval -  0.6268170266891933\n",
      "11\n",
      "Loss: 0.0359656529687345; F1 measure: 0.9761436571940909\n",
      "Eval -  0.6130231208288134\n",
      "12\n",
      "Loss: 0.03325837199576199; F1 measure: 0.9783609715899676\n",
      "Eval -  0.6137645841959227\n",
      "13\n",
      "Loss: 0.030928514997940512; F1 measure: 0.9829383934433912\n",
      "Eval -  0.6448696552477688\n",
      "14\n",
      "Loss: 0.02571094055660069; F1 measure: 0.9851742067339839\n",
      "Eval -  0.6253292617909929\n"
     ]
    }
   ],
   "source": [
    "best_f1 = 0\n",
    "f1s = []\n",
    "f1s_eval = []\n",
    "\n",
    "for i in range(15):\n",
    "    print(i)\n",
    "    f1s.append(train(model, train_loader, optimizer, criterion, 100))\n",
    "    evl = evaluate(model, valid_loader, criterion)\n",
    "    print('Eval - ', evl)\n",
    "    f1s_eval.append(evl)\n"
   ]
  },
  {
   "cell_type": "markdown",
   "id": "6d1d75db-8834-4481-8d59-7290ea89b7af",
   "metadata": {},
   "source": [
    "###### На таком количестве слоев без residual connection-ов затухание градиента прявляется уже вовсю"
   ]
  },
  {
   "cell_type": "code",
   "execution_count": 221,
   "id": "6ca397b2-61ad-4d4f-9b21-e376be68644e",
   "metadata": {},
   "outputs": [
    {
     "data": {
      "image/png": "[encoded data removed]",
      "text/plain": [
       "<Figure size 640x480 with 1 Axes>"
      ]
     },
     "metadata": {},
     "output_type": "display_data"
    }
   ],
   "source": [
    "plt.plot(f1s)\n",
    "plt.plot(f1s_eval)\n",
    "plt.title('model f1 micro')\n",
    "plt.ylabel('f1')\n",
    "plt.xlabel('epoch')\n",
    "plt.legend(['train', 'val'], loc='upper left')\n",
    "plt.show()"
   ]
  },
  {
   "cell_type": "code",
   "execution_count": 222,
   "id": "b3b4bf81-79cc-429e-9a29-f5dafd78d897",
   "metadata": {},
   "outputs": [],
   "source": [
    "track_results[\"1BIGRU-1BILSTM\"] = max(f1s_eval)"
   ]
  },
  {
   "cell_type": "markdown",
   "id": "8f532952-5666-4396-8b32-2d9e75750f9b",
   "metadata": {},
   "source": [
    "### LSTM, GRU, BILSTM, BIGRU, GRU, LSTM"
   ]
  },
  {
   "cell_type": "code",
   "execution_count": 223,
   "id": "c54f4619-531d-4edb-af3d-64761b6ea2d0",
   "metadata": {},
   "outputs": [],
   "source": [
    "import gc\n",
    "\n",
    "del model\n",
    "del criterion\n",
    "del optimizer\n",
    "\n",
    "gc.collect()\n",
    "torch.cuda.empty_cache()"
   ]
  },
  {
   "cell_type": "code",
   "execution_count": 224,
   "id": "d10864f7-54c1-4e27-a2e8-e0e9b0545e28",
   "metadata": {},
   "outputs": [],
   "source": [
    "class Clf(nn.Module):\n",
    "    \n",
    "    def __init__(self, output_dim, *, emb_dim: int = 75, rnn_units: int = 128, debug: bool = False):\n",
    "        \n",
    "        super().__init__()          \n",
    "        self.VOCAB_SIZE = len(word2id)\n",
    "        self.EMB_DIM = emb_dim\n",
    "        self.RNN_UNITS = rnn_units\n",
    "        self.debug = debug\n",
    "        \n",
    "        \n",
    "        self.embedding = nn.Embedding(self.VOCAB_SIZE, self.EMB_DIM)\n",
    "        \n",
    "        \n",
    "        self.gru_f = nn.GRU(self.RNN_UNITS*2, self.RNN_UNITS*3, batch_first=True)\n",
    "        self.lstm_f = nn.LSTM(self.EMB_DIM, self.RNN_UNITS*2, batch_first=True)\n",
    "\n",
    "        self.bilstm = nn.LSTM(self.RNN_UNITS*3, int(self.RNN_UNITS*0.5), bidirectional=True, batch_first=True)\n",
    "        self.bigru = nn.GRU(self.RNN_UNITS, int(self.RNN_UNITS*0.5), bidirectional=True, batch_first=True)\n",
    "        \n",
    "        self.gru_l = nn.GRU(self.RNN_UNITS, self.RNN_UNITS*3, batch_first=True)\n",
    "        self.lstm_l = nn.LSTM(self.RNN_UNITS*3, self.RNN_UNITS, batch_first=True)\n",
    "        \n",
    "        self.fc = nn.Linear(self.RNN_UNITS, output_dim)\n",
    "        self.act = nn.LogSoftmax(1) \n",
    "        \n",
    "        \n",
    "    def forward(self, text):\n",
    "\n",
    "        embedded = self.embedding(text)\n",
    "        if self.debug:\n",
    "            print(embedded.size())\n",
    "            \n",
    "        rnn_output, (h, *_) = self.lstm_f(embedded)\n",
    "        rnn_output, (h, *_) = self.gru_f(rnn_output)\n",
    "        if self.debug:\n",
    "            print(h.size(), )\n",
    "\n",
    "        rnn_output, (h, *_) = self.bilstm(rnn_output)\n",
    "        if self.debug:\n",
    "            print(rnn_output.size(),h.size())        \n",
    "            \n",
    "        rnn_output, (h, *_) = self.bigru(rnn_output)\n",
    "        if self.debug:\n",
    "            print(rnn_output.size(),h.size())   \n",
    "\n",
    "        rnn_output, (h, *_) = self.gru_l(rnn_output)\n",
    "        rnn_output, (h, *_) = self.lstm_l(rnn_output)\n",
    "        \n",
    "        h = h.squeeze(0)\n",
    "        \n",
    "        output = self.act(\n",
    "            self.fc(\n",
    "                h\n",
    "            )\n",
    "        )        \n",
    "        return output\n",
    "\n",
    "\n",
    "device = torch.device('cuda' if torch.cuda.is_available() else 'cpu')  \n",
    "model = Clf(len(label2id), emb_dim=50, rnn_units=128)\n",
    "optimizer = optim.Adam(model.parameters(), lr=3e-3)\n",
    "criterion = nn.NLLLoss() \n",
    "model = model.to(device)\n",
    "criterion = criterion.to(device)"
   ]
  },
  {
   "cell_type": "code",
   "execution_count": 225,
   "id": "773eec84-1c3c-43c1-abd0-291538a127d5",
   "metadata": {},
   "outputs": [
    {
     "data": {
      "text/plain": [
       "==========================================================================================\n",
       "Layer (type:depth-idx)                   Output Shape              Param #\n",
       "==========================================================================================\n",
       "Clf                                      [256, 19]                 --\n",
       "├─Embedding: 1-1                         [256, 250, 50]            1,371,400\n",
       "├─LSTM: 1-2                              [256, 250, 256]           315,392\n",
       "├─GRU: 1-3                               [256, 250, 384]           739,584\n",
       "├─LSTM: 1-4                              [256, 250, 128]           230,400\n",
       "├─GRU: 1-5                               [256, 250, 128]           74,496\n",
       "├─GRU: 1-6                               [256, 250, 384]           592,128\n",
       "├─LSTM: 1-7                              [256, 250, 128]           263,168\n",
       "├─Linear: 1-8                            [256, 19]                 2,451\n",
       "├─LogSoftmax: 1-9                        [256, 19]                 --\n",
       "==========================================================================================\n",
       "Total params: 3,589,019\n",
       "Trainable params: 3,589,019\n",
       "Non-trainable params: 0\n",
       "Total mult-adds (G): 142.12\n",
       "==========================================================================================\n",
       "Input size (MB): 0.51\n",
       "Forward/backward pass size (MB): 746.53\n",
       "Params size (MB): 14.36\n",
       "Estimated Total Size (MB): 761.40\n",
       "=========================================================================================="
      ]
     },
     "execution_count": 225,
     "metadata": {},
     "output_type": "execute_result"
    }
   ],
   "source": [
    "torchinfo.summary(model, input_data=torch.randint(low = 1, high = 5000, size = (256, 250)).to(device))"
   ]
  },
  {
   "cell_type": "code",
   "execution_count": 226,
   "id": "7980569e-3aea-4207-9ca3-9250eb339705",
   "metadata": {
    "scrolled": true
   },
   "outputs": [
    {
     "name": "stdout",
     "output_type": "stream",
     "text": [
      "0\n",
      "Loss: 2.3434873962402345; F1 measure: 0.023236207083838577\n",
      "Eval -  0.022301651173721883\n",
      "1\n",
      "Loss: 2.3245528078079225; F1 measure: 0.02383825737230063\n",
      "Eval -  0.023264621805767872\n",
      "2\n",
      "Loss: 2.2903016924858095; F1 measure: 0.04129319927592787\n",
      "Eval -  0.0766328975796737\n",
      "3\n",
      "Loss: 1.924947201013565; F1 measure: 0.11143651820929773\n",
      "Eval -  0.20162507196755128\n",
      "4\n",
      "Loss: 1.4952860748767853; F1 measure: 0.24034379972880213\n",
      "Eval -  0.28234885907316126\n",
      "5\n",
      "Loss: 1.223235728740692; F1 measure: 0.3330918065721649\n",
      "Eval -  0.36601765610387665\n",
      "6\n",
      "Loss: 1.009773878455162; F1 measure: 0.4169037966049688\n",
      "Eval -  0.40516910430362574\n",
      "7\n",
      "Loss: 0.8489559972286225; F1 measure: 0.4769623881002981\n",
      "Eval -  0.43823573181438613\n",
      "8\n",
      "Loss: 0.7332448369264603; F1 measure: 0.5336765144912614\n",
      "Eval -  0.4638029671766283\n",
      "9\n",
      "Loss: 0.62161641985178; F1 measure: 0.5830049870972828\n",
      "Eval -  0.4681599118263879\n",
      "10\n",
      "Loss: 0.5413086724281311; F1 measure: 0.6267069337486061\n",
      "Eval -  0.4728116733537181\n",
      "11\n",
      "Loss: 0.4615032270550728; F1 measure: 0.6569961134305734\n",
      "Eval -  0.4872326205728873\n",
      "12\n",
      "Loss: 0.419729976952076; F1 measure: 0.6758284646150727\n",
      "Eval -  0.4725465679561191\n",
      "13\n",
      "Loss: 0.3708821597695351; F1 measure: 0.717908127177284\n",
      "Eval -  0.5088487917067253\n",
      "14\n",
      "Loss: 0.30783999890089037; F1 measure: 0.7537761048726384\n",
      "Eval -  0.5048927244450383\n"
     ]
    }
   ],
   "source": [
    "best_f1 = 0\n",
    "f1s = []\n",
    "f1s_eval = []\n",
    "\n",
    "for i in range(15):\n",
    "    print(i)\n",
    "    f1s.append(train(model, train_loader, optimizer, criterion, 100))\n",
    "    evl = evaluate(model, valid_loader, criterion)\n",
    "    print('Eval - ', evl)\n",
    "    f1s_eval.append(evl)\n"
   ]
  },
  {
   "cell_type": "markdown",
   "id": "70527d6f-2f0a-48e9-8888-02d8bbf9adf5",
   "metadata": {},
   "source": [
    "###### На таком количестве слоев без residual connection-ов затухание градиента прявляется уже вовсю"
   ]
  },
  {
   "cell_type": "code",
   "execution_count": 227,
   "id": "3b3fff6e-74aa-4e40-9f24-727e0352b1ab",
   "metadata": {},
   "outputs": [
    {
     "data": {
      "image/png": "[encoded data removed]",
      "text/plain": [
       "<Figure size 640x480 with 1 Axes>"
      ]
     },
     "metadata": {},
     "output_type": "display_data"
    }
   ],
   "source": [
    "plt.plot(f1s)\n",
    "plt.plot(f1s_eval)\n",
    "plt.title('model f1 micro')\n",
    "plt.ylabel('f1')\n",
    "plt.xlabel('epoch')\n",
    "plt.legend(['train', 'val'], loc='upper left')\n",
    "plt.show()"
   ]
  },
  {
   "cell_type": "code",
   "execution_count": 228,
   "id": "810731cb-384f-4b90-8256-2209b5c07bf3",
   "metadata": {},
   "outputs": [],
   "source": [
    "track_results[\"LSTM, GRU, BILSTM, BIGRU, GRU, LSTM\"] = max(f1s_eval)"
   ]
  },
  {
   "cell_type": "code",
   "execution_count": 229,
   "id": "48cf7b5f-18d8-4f2a-a1c3-994d1295a814",
   "metadata": {},
   "outputs": [
    {
     "data": {
      "text/plain": [
       "{'GRU': 0.568743341869167,\n",
       " 'LSTM': 0.5282661586116538,\n",
       " '1GRU-1LSTM': 0.5298424501870713,\n",
       " 'BIGRU-2LSTM': 0.5531269545620703,\n",
       " '5GRU-3LSTM': 0.023309755203228772,\n",
       " '1BIGRU-1BILSTM': 0.6448696552477688,\n",
       " 'LSTM, GRU, BILSTM, BIGRU, GRU, LSTM': 0.5088487917067253}"
      ]
     },
     "execution_count": 229,
     "metadata": {},
     "output_type": "execute_result"
    }
   ],
   "source": [
    "track_results"
   ]
  },
  {
   "cell_type": "markdown",
   "id": "85ba3ed2-9ea2-42df-b626-6a2677e942bc",
   "metadata": {},
   "source": [
    "Все таки stack more layers не настолько универсальный принцип. Можно было бы еще поиграть с гиперпараметрами и размерностью слоев, или опять же взять предобученные эмбединги, и обучать только слои. Но 64 на macro f1 в целом тоже довольно неплохо!"
   ]
  },
  {
   "cell_type": "markdown",
   "id": "ed5d6eea",
   "metadata": {},
   "source": [
    "## Задание 2 (6 баллов)\n"
   ]
  },
  {
   "cell_type": "markdown",
   "id": "5c2c07cf",
   "metadata": {},
   "source": [
    "На данных википедии (wikiann) обучите 2 модели:  \n",
    "1) модель в которой будут использованы предобученные эмбединги слов и несколько BILSTM слоев. \n",
    "1) модель в которой будут использованы предобученные эмбединги слов и несколько BIGRU слоев. \n",
    "\n",
    "Сравните качество по метрикам. Также придумайте несколько сложных примеров и проверьте, какие сущности определяет каждая из моделей."
   ]
  },
  {
   "cell_type": "code",
   "execution_count": 1,
   "id": "fb704b1b",
   "metadata": {},
   "outputs": [],
   "source": [
    "import datasets"
   ]
  },
  {
   "cell_type": "code",
   "execution_count": 4,
   "id": "1fae8175-4e58-4a5a-ab4b-605f79e687bf",
   "metadata": {},
   "outputs": [],
   "source": [
    "dataset = datasets.load_dataset(\"wikiann\", \"ru\")"
   ]
  },
  {
   "cell_type": "code",
   "execution_count": 5,
   "id": "97584586-c038-4cfe-ace1-b73092761495",
   "metadata": {},
   "outputs": [
    {
     "data": {
      "text/plain": [
       "DatasetDict({\n",
       "    validation: Dataset({\n",
       "        features: ['tokens', 'ner_tags', 'langs', 'spans'],\n",
       "        num_rows: 10000\n",
       "    })\n",
       "    test: Dataset({\n",
       "        features: ['tokens', 'ner_tags', 'langs', 'spans'],\n",
       "        num_rows: 10000\n",
       "    })\n",
       "    train: Dataset({\n",
       "        features: ['tokens', 'ner_tags', 'langs', 'spans'],\n",
       "        num_rows: 20000\n",
       "    })\n",
       "})"
      ]
     },
     "execution_count": 5,
     "metadata": {},
     "output_type": "execute_result"
    }
   ],
   "source": [
    "dataset"
   ]
  },
  {
   "cell_type": "code",
   "execution_count": 48,
   "id": "cee2b6f5-099b-4a09-94ea-07defe8e7d4c",
   "metadata": {},
   "outputs": [
    {
     "data": {
      "text/plain": [
       "[0, 0, 0, 0, 0, 0, 0, 0, 0, 0, 0, 0, 0, 0, 5, 0, 0, 0, 0, 0, 0, 0, 0]"
      ]
     },
     "execution_count": 48,
     "metadata": {},
     "output_type": "execute_result"
    }
   ],
   "source": [
    "dataset[\"train\"][\"ner_tags\"][2]"
   ]
  },
  {
   "cell_type": "code",
   "execution_count": 12,
   "id": "33fa259e-e92b-49d9-a772-9c0482df610a",
   "metadata": {},
   "outputs": [],
   "source": [
    "id2labels = {0:'O', 1:'B-PER', 2:'I-PER', 3:'B-ORG', 4:'I-ORG', 5: 'B-LOC', 6:'I-LOC', 7:'PAD'}\n",
    "label2id = {v:k for k,v in id2labels.items()} "
   ]
  },
  {
   "cell_type": "code",
   "execution_count": 108,
   "id": "df130b59-f2c9-4835-a343-92aba2578fb3",
   "metadata": {},
   "outputs": [],
   "source": [
    "import gensim\n",
    "\n",
    "model = gensim.models.KeyedVectors.load(\"models_rnn/model.model\")"
   ]
  },
  {
   "cell_type": "code",
   "execution_count": 13,
   "id": "0e7edf81-8695-432d-9a94-89c1fb4fff42",
   "metadata": {
    "scrolled": true
   },
   "outputs": [
    {
     "data": {
      "text/plain": [
       "Dataset({\n",
       "    features: ['tokens', 'ner_tags', 'langs', 'spans'],\n",
       "    num_rows: 20000\n",
       "})"
      ]
     },
     "execution_count": 13,
     "metadata": {},
     "output_type": "execute_result"
    }
   ],
   "source": [
    "dataset[\"train\"]"
   ]
  },
  {
   "cell_type": "code",
   "execution_count": 193,
   "id": "f9cdce4c-b61c-48b0-9b95-14624662b608",
   "metadata": {},
   "outputs": [],
   "source": [
    "from pymorphy3 import MorphAnalyzer\n",
    "\n",
    "morph = MorphAnalyzer()"
   ]
  },
  {
   "cell_type": "code",
   "execution_count": 197,
   "id": "b1a5d2f7-1689-4f57-a96e-e0d04151965d",
   "metadata": {},
   "outputs": [
    {
     "data": {
      "text/plain": [
       "'стекло'"
      ]
     },
     "execution_count": 197,
     "metadata": {},
     "output_type": "execute_result"
    }
   ],
   "source": [
    "morph.parse(\"стекло\")[0].normal_form"
   ]
  },
  {
   "cell_type": "code",
   "execution_count": 222,
   "id": "cc46166c-6e71-43a6-b9d0-1779cb8c0903",
   "metadata": {},
   "outputs": [],
   "source": [
    "\n",
    "\n",
    "class Dataset(torch.utils.data.Dataset):\n",
    "\n",
    "    def __init__(self, vocab_model, texts, targets):\n",
    "        \n",
    "\n",
    "        self.texts = [torch.LongTensor([model.key_to_index[self.preprocess(t.lower())] if self.preprocess(t.lower()) in model.key_to_index else 0 for t in text]) \n",
    "                      for text in texts]\n",
    "        self.texts = torch.nn.utils.rnn.pad_sequence(self.texts, batch_first=True)\n",
    "        \n",
    "        self.length = len(texts)\n",
    "\n",
    "        \n",
    "        self.target = [torch.LongTensor(target) for target in targets]\n",
    "        self.target = torch.nn.utils.rnn.pad_sequence(self.target, batch_first=True)\n",
    "\n",
    "    def __len__(self):\n",
    "        return self.length\n",
    "\n",
    "    def __getitem__(self, index):\n",
    "        ids = self.texts[index]\n",
    "        y = self.target[index]\n",
    "\n",
    "        return ids, y\n",
    "    \n",
    "    def preprocess(self, text):\n",
    "        tokens = morph.parse(text)[0].normal_form\n",
    "        return tokens"
   ]
  },
  {
   "cell_type": "code",
   "execution_count": null,
   "id": "8826008f-ccbd-45a5-a18d-6d84fe679ba6",
   "metadata": {},
   "outputs": [],
   "source": []
  },
  {
   "cell_type": "code",
   "execution_count": 223,
   "id": "1832327d-6b9f-43a9-9ab6-8d2629b487c3",
   "metadata": {},
   "outputs": [],
   "source": [
    "train_data = Dataset(model,texts = dataset[\"train\"][\"tokens\"], targets=dataset[\"train\"][\"ner_tags\"])\n",
    "test_data = Dataset(model, texts = dataset[\"validation\"][\"tokens\"], targets=dataset[\"validation\"][\"ner_tags\"])"
   ]
  },
  {
   "cell_type": "code",
   "execution_count": 224,
   "id": "9375c16e-ca57-4daf-97fb-c35436f666dc",
   "metadata": {},
   "outputs": [],
   "source": [
    "train_loader = torch.utils.data.DataLoader(train_data, batch_size=128, num_workers=8, drop_last=True, shuffle=True)\n",
    "test_loader = torch.utils.data.DataLoader(test_data, batch_size=128, num_workers=8, drop_last=True, shuffle=True)"
   ]
  },
  {
   "cell_type": "code",
   "execution_count": 225,
   "id": "b45b1481-ed4a-4f7e-8311-c061ddd5566c",
   "metadata": {},
   "outputs": [
    {
     "data": {
      "text/plain": [
       "7"
      ]
     },
     "execution_count": 225,
     "metadata": {},
     "output_type": "execute_result"
    }
   ],
   "source": [
    "OUTPUT_CLASSES = len(id2labels)-1\n",
    "\n",
    "OUTPUT_CLASSES"
   ]
  },
  {
   "cell_type": "code",
   "execution_count": 226,
   "id": "a89dc6ce-a728-4488-8dc3-1bdf97faa183",
   "metadata": {},
   "outputs": [],
   "source": [
    "def train(model, iterator, optimizer, criterion, print_every=1000):\n",
    "    \n",
    "    epoch_loss = []\n",
    "    model.train()  \n",
    "\n",
    "    for i, (texts, ys) in enumerate(iterator):\n",
    "        \n",
    "        optimizer.zero_grad()   \n",
    "        predictions = model(texts.to(device))\n",
    "        loss = criterion(predictions.permute(0, 2, 1), ys.to(device))\n",
    "        \n",
    "        loss.backward()\n",
    "        optimizer.step()     \n",
    "        preds = predictions.detach().to('cpu').numpy().argmax(1).tolist()\n",
    "        y_true = ys.tolist()\n",
    "        \n",
    "        epoch_loss.append(loss.item())\n",
    "        \n",
    "        if not (i+1) % print_every:\n",
    "            print(f'Loss: {np.mean(epoch_loss)}')\n",
    "        \n",
    "    return np.mean(epoch_loss)\n",
    "\n",
    "\n",
    "def evaluate(model, iterator, criterion):\n",
    "    \n",
    "    epoch_loss = []\n",
    "    \n",
    "    model.eval()  \n",
    "    with torch.no_grad():\n",
    "        for texts, ys in iterator:   \n",
    "            \n",
    "            predictions = model(texts.to(device)).squeeze()  \n",
    "            loss = criterion(predictions.permute(0, 2, 1), ys.to(device))        \n",
    "            preds = predictions.detach().to('cpu').numpy().argmax(1).tolist()\n",
    "            y_true = ys.tolist()\n",
    "            \n",
    "\n",
    "            epoch_loss.append(loss.item())\n",
    "            \n",
    "    return np.mean(epoch_loss)"
   ]
  },
  {
   "cell_type": "code",
   "execution_count": 236,
   "id": "5028be29-c4e1-47d6-9f9f-4ae7935df00c",
   "metadata": {},
   "outputs": [],
   "source": [
    "class Clf(nn.Module):\n",
    "    \n",
    "    def __init__(self, output_dim, *, emb_model, emb_dim: int = 300, rnn_units: int = 128, debug: bool = False):\n",
    "        \n",
    "        super().__init__()          \n",
    "        self.RNN_UNITS = rnn_units\n",
    "        self.EMB_SIZE = emb_dim\n",
    "        self.debug = debug\n",
    "\n",
    "        self.emb = nn.Embedding(model.vectors.shape[0], model.vectors.shape[1], _weight=torch.FloatTensor(model.vectors))\n",
    "        \n",
    "        self.lstm = nn.LSTM(self.EMB_SIZE, self.RNN_UNITS*2, bidirectional = True, num_layers = 2 , batch_first=True)\n",
    "        \n",
    "        self.fc = nn.Sequential(*[nn.Linear(self.RNN_UNITS*4, output_dim*8),\n",
    "                                 nn.Linear(output_dim*8, output_dim)])\n",
    "        self.act = nn.LogSoftmax(2) \n",
    "        \n",
    "        \n",
    "    def forward(self, x):\n",
    "\n",
    "        emb = self.emb(x)\n",
    "        if self.debug:\n",
    "            print(emb.size())\n",
    "            \n",
    "        rnn_output, (h, *_) = self.lstm(emb)\n",
    "\n",
    "        if self.debug:\n",
    "            print(h.size(), )\n",
    "                \n",
    "        output = self.act(\n",
    "            self.fc(\n",
    "                rnn_output\n",
    "            )\n",
    "        )        \n",
    "        return output\n",
    "\n",
    "\n",
    "device = torch.device('cuda' if torch.cuda.is_available() else 'cpu')  \n",
    "cls = Clf(len(label2id), emb_model = model, emb_dim=300, rnn_units=128)\n",
    "optimizer = optim.Adam(cls.parameters(), lr=3e-3)\n",
    "criterion = nn.NLLLoss() \n",
    "cls = cls.to(device)\n",
    "criterion = criterion.to(device)"
   ]
  },
  {
   "cell_type": "code",
   "execution_count": null,
   "id": "3e7000ce-9b32-4875-8597-831c1277e15d",
   "metadata": {},
   "outputs": [],
   "source": []
  },
  {
   "cell_type": "markdown",
   "id": "57390bcd-c41e-4bd3-aa0e-2a677a95e035",
   "metadata": {},
   "source": [
    "### Как-то  многовато параметров из-за размера словаря. Эмбединги учить не будем"
   ]
  },
  {
   "cell_type": "code",
   "execution_count": 237,
   "id": "93c3e601-2b24-4ba8-bcab-8355f0a9eb30",
   "metadata": {},
   "outputs": [
    {
     "data": {
      "text/plain": [
       "==========================================================================================\n",
       "Layer (type:depth-idx)                   Output Shape              Param #\n",
       "==========================================================================================\n",
       "Clf                                      [128, 54, 8]              --\n",
       "├─Embedding: 1-1                         [128, 54, 300]            104,188,500\n",
       "├─LSTM: 1-2                              [128, 54, 512]            2,719,744\n",
       "├─Sequential: 1-3                        [128, 54, 8]              --\n",
       "│    └─Linear: 2-1                       [128, 54, 64]             32,832\n",
       "│    └─Linear: 2-2                       [128, 54, 8]              520\n",
       "├─LogSoftmax: 1-4                        [128, 54, 8]              --\n",
       "==========================================================================================\n",
       "Total params: 106,941,596\n",
       "Trainable params: 106,941,596\n",
       "Non-trainable params: 0\n",
       "Total mult-adds (G): 32.14\n",
       "==========================================================================================\n",
       "Input size (MB): 0.06\n",
       "Forward/backward pass size (MB): 48.88\n",
       "Params size (MB): 427.77\n",
       "Estimated Total Size (MB): 476.70\n",
       "=========================================================================================="
      ]
     },
     "execution_count": 237,
     "metadata": {},
     "output_type": "execute_result"
    }
   ],
   "source": [
    "torchinfo.summary(cls, input_data=next(iter(train_loader))[0].to(device))"
   ]
  },
  {
   "cell_type": "code",
   "execution_count": 238,
   "id": "1e225290-22bc-44c7-8ba0-780145a22ad9",
   "metadata": {},
   "outputs": [],
   "source": [
    "cls.emb.requires_grad_=False"
   ]
  },
  {
   "cell_type": "code",
   "execution_count": 239,
   "id": "91e6224e-d720-44e4-9589-927e6264379e",
   "metadata": {
    "scrolled": true
   },
   "outputs": [
    {
     "name": "stdout",
     "output_type": "stream",
     "text": [
      "0\n",
      "Loss: 0.34526702811320625\n",
      "Loss: 0.24039126187562943\n",
      "Loss: 0.18994657380713356\n",
      "Loss: 0.16046173817788562\n",
      "Loss: 0.14113051553567252\n",
      "1\n",
      "Loss: 0.05008520657817523\n",
      "Loss: 0.048629333078861234\n",
      "Loss: 0.047978338681989245\n",
      "Loss: 0.04700343543663621\n",
      "Loss: 0.04630640499293804\n",
      "2\n",
      "Loss: 0.030775568696359792\n",
      "Loss: 0.03093121889978647\n",
      "Loss: 0.03127537357310454\n",
      "Loss: 0.030928503659864267\n",
      "Loss: 0.031248531093200048\n",
      "3\n",
      "Loss: 0.02335734755421678\n",
      "Loss: 0.02386017081638177\n",
      "Loss: 0.02388913341694408\n",
      "Loss: 0.02389810956083238\n",
      "Loss: 0.02397181895871957\n",
      "4\n",
      "Loss: 0.017553997288147608\n",
      "Loss: 0.018300579596931734\n",
      "Loss: 0.018410681602027683\n",
      "Loss: 0.018963951524347065\n",
      "Loss: 0.01933977302784721\n",
      "5\n",
      "Loss: 0.015292064504077036\n",
      "Loss: 0.016007158913028736\n",
      "Loss: 0.016239882276083032\n",
      "Loss: 0.016287796676624566\n",
      "Loss: 0.016343174722666543\n",
      "6\n",
      "Loss: 0.012821750544632474\n",
      "Loss: 0.014195959324327607\n",
      "Loss: 0.014293292263108824\n",
      "Loss: 0.014129158190917224\n",
      "Loss: 0.014178775108108917\n",
      "7\n",
      "Loss: 0.01224648926096658\n",
      "Loss: 0.012124089772502582\n",
      "Loss: 0.011859741610371404\n",
      "Loss: 0.01194991091809546\n",
      "Loss: 0.012417977070435881\n",
      "8\n",
      "Loss: 0.011140994603435199\n",
      "Loss: 0.011411220549295347\n",
      "Loss: 0.011435123196699553\n",
      "Loss: 0.011508641729597003\n",
      "Loss: 0.01157785061436395\n",
      "9\n",
      "Loss: 0.010236418573185802\n",
      "Loss: 0.010198727870980898\n",
      "Loss: 0.010449529289164476\n",
      "Loss: 0.010538016298475365\n",
      "Loss: 0.010732571873813868\n",
      "10\n",
      "Loss: 0.010973257462804515\n",
      "Loss: 0.010247505642473698\n",
      "Loss: 0.009902964723813865\n",
      "Loss: 0.01018228055521225\n",
      "Loss: 0.010267493488887947\n",
      "11\n",
      "Loss: 0.009758024383336306\n",
      "Loss: 0.009896279743406922\n",
      "Loss: 0.009639073465950786\n",
      "Loss: 0.009821469086455181\n",
      "Loss: 0.009851243065980574\n",
      "12\n",
      "Loss: 0.00869493957143277\n",
      "Loss: 0.009171101842851689\n",
      "Loss: 0.009155255292231839\n",
      "Loss: 0.009269491078642507\n",
      "Loss: 0.009303746012349923\n",
      "13\n",
      "Loss: 0.009270542456458012\n",
      "Loss: 0.009093089921710392\n",
      "Loss: 0.008982864855271246\n",
      "Loss: 0.008904604877655705\n",
      "Loss: 0.009169435963655511\n",
      "14\n",
      "Loss: 0.008986784176280101\n",
      "Loss: 0.0088700298142309\n",
      "Loss: 0.00876062196524193\n",
      "Loss: 0.008796611562138424\n",
      "Loss: 0.00889766119265308\n"
     ]
    }
   ],
   "source": [
    "losses = []\n",
    "losses_eval = []\n",
    "\n",
    "for i in range(15):\n",
    "    print(i)\n",
    "    losses.append(train(cls, train_loader, optimizer, criterion, 30))\n",
    "    losses_eval.append(evaluate(cls, test_loader, criterion))"
   ]
  },
  {
   "cell_type": "code",
   "execution_count": 240,
   "id": "28bb93d4-6ddc-4aac-b309-dab90ad11263",
   "metadata": {},
   "outputs": [
    {
     "data": {
      "image/png": "[encoded data removed]",
      "text/plain": [
       "<Figure size 640x480 with 1 Axes>"
      ]
     },
     "metadata": {},
     "output_type": "display_data"
    }
   ],
   "source": [
    "plt.plot(losses)\n",
    "plt.plot(losses_eval)\n",
    "plt.title('model loss')\n",
    "plt.ylabel('loss')\n",
    "plt.xlabel('epoch')\n",
    "plt.legend(['train', 'val'], loc='upper left')\n",
    "plt.show()"
   ]
  },
  {
   "cell_type": "code",
   "execution_count": null,
   "id": "a55b1c8f-4c8a-4d2d-8b3a-aeb854ea86e7",
   "metadata": {},
   "outputs": [],
   "source": []
  },
  {
   "cell_type": "markdown",
   "id": "2cf30ff9-24d8-40da-8f0f-f1ee5b65a39e",
   "metadata": {},
   "source": [
    "#### Validation"
   ]
  },
  {
   "cell_type": "code",
   "execution_count": 241,
   "id": "40a56e28-7e16-4aaf-a313-79db889dd107",
   "metadata": {},
   "outputs": [],
   "source": [
    "val_data = Dataset(model,texts = dataset[\"test\"][\"tokens\"], targets=dataset[\"test\"][\"ner_tags\"])"
   ]
  },
  {
   "cell_type": "code",
   "execution_count": 242,
   "id": "a95675ea-c944-4bd4-b220-345cb108a802",
   "metadata": {},
   "outputs": [],
   "source": [
    "val_loader = torch.utils.data.DataLoader(val_data, batch_size=128, num_workers=8, drop_last=True, shuffle=True)"
   ]
  },
  {
   "cell_type": "code",
   "execution_count": 243,
   "id": "7fb955a7-8775-4f4b-8881-1be44d063589",
   "metadata": {},
   "outputs": [],
   "source": [
    "from sklearn.metrics import classification_report"
   ]
  },
  {
   "cell_type": "code",
   "execution_count": null,
   "id": "3ad4d1ea-393c-45e4-9bab-483e29f40c2c",
   "metadata": {},
   "outputs": [],
   "source": []
  },
  {
   "cell_type": "code",
   "execution_count": 245,
   "id": "3aac633a-78c9-4659-9119-235a7c4e3df5",
   "metadata": {},
   "outputs": [],
   "source": [
    "preds = []\n",
    "\n",
    "for xs, ys in val_loader:\n",
    "\n",
    "    cls.eval()\n",
    "\n",
    "    with torch.no_grad():\n",
    "\n",
    "        predictions = cls(xs.to(device)).squeeze().argmax(2).detach().to(\"cpu\").tolist()\n",
    "\n",
    "        preds.extend(predictions)"
   ]
  },
  {
   "cell_type": "markdown",
   "id": "8a94686f-44c5-41b4-a5da-daa243a74fe1",
   "metadata": {},
   "source": [
    "#### хм, результаты не очень -- хотя уже по графику лосса было понятно, что мы скорее переобучаемся, чем учимся. Возможно, можно было бы попробовать обрезать матрицу весов только под имеющиеся токены, но попробуем на GRU -- без особых надежд"
   ]
  },
  {
   "cell_type": "code",
   "execution_count": 246,
   "id": "b78e24a3-2adf-47b4-ac95-5d15cdf153e0",
   "metadata": {},
   "outputs": [
    {
     "name": "stdout",
     "output_type": "stream",
     "text": [
      "              precision    recall  f1-score   support\n",
      "\n",
      "           O       0.97      0.97      0.97    588285\n",
      "       B-PER       0.15      0.16      0.15      3536\n",
      "       I-PER       0.20      0.21      0.20      7532\n",
      "       B-ORG       0.07      0.06      0.06      4067\n",
      "       I-ORG       0.11      0.10      0.11      7983\n",
      "       B-LOC       0.04      0.04      0.04      4556\n",
      "       I-LOC       0.04      0.04      0.04      3049\n",
      "         PAD       0.00      0.00      0.00         0\n",
      "\n",
      "   micro avg       0.93      0.93      0.93    619008\n",
      "   macro avg       0.20      0.20      0.20    619008\n",
      "weighted avg       0.93      0.93      0.93    619008\n",
      "\n"
     ]
    }
   ],
   "source": [
    "print(classification_report(val_data.target[:9984, :].reshape(-1), np.array(preds).reshape(-1), labels=list(id2labels.keys()),\n",
    "                                                                     target_names=list(id2labels.values()),\n",
    "                                                                     zero_division=0))"
   ]
  },
  {
   "cell_type": "code",
   "execution_count": 252,
   "id": "f423c357-cd18-4760-968b-4a3bd1683f8b",
   "metadata": {},
   "outputs": [],
   "source": [
    "class Clf(nn.Module):\n",
    "    \n",
    "    def __init__(self, output_dim, *, emb_model, emb_dim: int = 300, rnn_units: int = 128, debug: bool = False):\n",
    "        \n",
    "        super().__init__()          \n",
    "        self.RNN_UNITS = rnn_units\n",
    "        self.EMB_SIZE = emb_dim\n",
    "        self.debug = debug\n",
    "\n",
    "        self.emb = nn.Embedding(model.vectors.shape[0], model.vectors.shape[1], _weight=torch.FloatTensor(model.vectors))\n",
    "        \n",
    "        self.gru = nn.GRU(self.EMB_SIZE, self.RNN_UNITS*3, bidirectional = True, num_layers = 2 , batch_first=True)\n",
    "        \n",
    "        self.fc = nn.Sequential(*[nn.Linear(self.RNN_UNITS*6, output_dim*250),\n",
    "                                 nn.Linear(output_dim*250, output_dim)])\n",
    "        self.act = nn.LogSoftmax(2) \n",
    "        \n",
    "        \n",
    "    def forward(self, x):\n",
    "\n",
    "        emb = self.emb(x)\n",
    "        if self.debug:\n",
    "            print(emb.size())\n",
    "            \n",
    "        rnn_output, (h, *_) = self.gru(emb)\n",
    "\n",
    "        if self.debug:\n",
    "            print(h.size(), )\n",
    "                \n",
    "        output = self.act(\n",
    "            self.fc(\n",
    "                rnn_output\n",
    "            )\n",
    "        )        \n",
    "        return output\n",
    "\n",
    "\n",
    "device = torch.device('cuda' if torch.cuda.is_available() else 'cpu')  \n",
    "cls = Clf(len(label2id), emb_model = model, emb_dim=300, rnn_units=128)\n",
    "optimizer = optim.Adam(cls.parameters(), lr=3e-3)\n",
    "criterion = nn.NLLLoss() \n",
    "cls = cls.to(device)\n",
    "criterion = criterion.to(device)"
   ]
  },
  {
   "cell_type": "code",
   "execution_count": null,
   "id": "6e809d19-0b9a-484a-8add-46f92e6c8360",
   "metadata": {},
   "outputs": [],
   "source": []
  },
  {
   "cell_type": "code",
   "execution_count": 253,
   "id": "42de0da4-2fd3-4309-8977-fd6d624ea890",
   "metadata": {},
   "outputs": [
    {
     "data": {
      "text/plain": [
       "==========================================================================================\n",
       "Layer (type:depth-idx)                   Output Shape              Param #\n",
       "==========================================================================================\n",
       "Clf                                      [128, 54, 8]              --\n",
       "├─Embedding: 1-1                         [128, 54, 300]            104,188,500\n",
       "├─GRU: 1-2                               [128, 54, 768]            4,239,360\n",
       "├─Sequential: 1-3                        [128, 54, 8]              --\n",
       "│    └─Linear: 2-1                       [128, 54, 2000]           1,538,000\n",
       "│    └─Linear: 2-2                       [128, 54, 8]              16,008\n",
       "├─LogSoftmax: 1-4                        [128, 54, 8]              --\n",
       "==========================================================================================\n",
       "Total params: 109,981,868\n",
       "Trainable params: 109,981,868\n",
       "Non-trainable params: 0\n",
       "Total mult-adds (G): 42.84\n",
       "==========================================================================================\n",
       "Input size (MB): 0.06\n",
       "Forward/backward pass size (MB): 170.09\n",
       "Params size (MB): 439.93\n",
       "Estimated Total Size (MB): 610.07\n",
       "=========================================================================================="
      ]
     },
     "execution_count": 253,
     "metadata": {},
     "output_type": "execute_result"
    }
   ],
   "source": [
    "torchinfo.summary(cls, input_data=next(iter(train_loader))[0].to(device))"
   ]
  },
  {
   "cell_type": "code",
   "execution_count": 254,
   "id": "bed88e54-39b4-4c82-a13b-ab61e06dcf42",
   "metadata": {},
   "outputs": [],
   "source": [
    "cls.emb.requires_grad_=False"
   ]
  },
  {
   "cell_type": "code",
   "execution_count": 255,
   "id": "020faade-c9d1-40d7-99dc-5c36b536ab57",
   "metadata": {
    "scrolled": true
   },
   "outputs": [
    {
     "name": "stdout",
     "output_type": "stream",
     "text": [
      "0\n",
      "Loss: 1.9670431037743887\n",
      "Loss: 1.1393298834562302\n",
      "Loss: 0.8152722743650277\n",
      "Loss: 0.6426458303506176\n",
      "Loss: 0.534656392087539\n",
      "1\n",
      "Loss: 0.08159230835735798\n",
      "Loss: 0.07762195840477944\n",
      "Loss: 0.07419273861580425\n",
      "Loss: 0.07363877451668183\n",
      "Loss: 0.07168713117639224\n",
      "2\n",
      "Loss: 0.044241732855637865\n",
      "Loss: 0.04377958870803316\n",
      "Loss: 0.04463652378569047\n",
      "Loss: 0.04457973053989311\n",
      "Loss: 0.04464981122563283\n",
      "3\n",
      "Loss: 0.032788883335888384\n",
      "Loss: 0.03226761591310302\n",
      "Loss: 0.032010580019818415\n",
      "Loss: 0.03281458024866879\n",
      "Loss: 0.03281889428695043\n",
      "4\n",
      "Loss: 0.03087038410206636\n",
      "Loss: 0.028822211921215056\n",
      "Loss: 0.027759334972749152\n",
      "Loss: 0.028277631018621227\n",
      "Loss: 0.027761676566054425\n",
      "5\n",
      "Loss: 0.021615103942652543\n",
      "Loss: 0.02151443320326507\n",
      "Loss: 0.021706956811249255\n",
      "Loss: 0.022068916245674093\n",
      "Loss: 0.022321843535949785\n",
      "6\n",
      "Loss: 0.01799820363521576\n",
      "Loss: 0.01825715188557903\n",
      "Loss: 0.019250599046548206\n",
      "Loss: 0.019117150463474293\n",
      "Loss: 0.019411806898812452\n",
      "7\n",
      "Loss: 0.016065910644829273\n",
      "Loss: 0.015783517481759192\n",
      "Loss: 0.016069321820719375\n",
      "Loss: 0.016594597278162836\n",
      "Loss: 0.017025428886214892\n",
      "8\n",
      "Loss: 0.015452909516170621\n",
      "Loss: 0.015015192430776854\n",
      "Loss: 0.015405887712000145\n",
      "Loss: 0.015312950472192218\n",
      "Loss: 0.015273243729025126\n",
      "9\n",
      "Loss: 0.012002583391343554\n",
      "Loss: 0.013015780434943735\n",
      "Loss: 0.013408512534159754\n",
      "Loss: 0.01385360888283079\n",
      "Loss: 0.013906102611993749\n",
      "10\n",
      "Loss: 0.01188959243396918\n",
      "Loss: 0.01293735196813941\n",
      "Loss: 0.01337328427988622\n",
      "Loss: 0.013602501728261511\n",
      "Loss: 0.013682097022732098\n",
      "11\n",
      "Loss: 0.01213538811231653\n",
      "Loss: 0.012167983312004556\n",
      "Loss: 0.012584955004664758\n",
      "Loss: 0.01305998526707602\n",
      "Loss: 0.013082417480958005\n",
      "12\n",
      "Loss: 0.012439130355293553\n",
      "Loss: 0.011954549661216637\n",
      "Loss: 0.011890686851822667\n",
      "Loss: 0.012150529255935301\n",
      "Loss: 0.012337899397437771\n",
      "13\n",
      "Loss: 0.011231425451114774\n",
      "Loss: 0.011177755007520319\n",
      "Loss: 0.011594062458930745\n",
      "Loss: 0.011630328088843574\n",
      "Loss: 0.011561770836512247\n",
      "14\n",
      "Loss: 0.01100851601610581\n",
      "Loss: 0.011406085764368376\n",
      "Loss: 0.01132717023914059\n",
      "Loss: 0.011391549297453214\n",
      "Loss: 0.011354481695840756\n"
     ]
    }
   ],
   "source": [
    "losses = []\n",
    "losses_eval = []\n",
    "\n",
    "for i in range(15):\n",
    "    print(i)\n",
    "    losses.append(train(cls, train_loader, optimizer, criterion, 30))\n",
    "    losses_eval.append(evaluate(cls, test_loader, criterion))"
   ]
  },
  {
   "cell_type": "code",
   "execution_count": 259,
   "id": "d1263104-56ea-4e95-8f06-873688d0c8b9",
   "metadata": {},
   "outputs": [
    {
     "data": {
      "image/png": "[encoded data removed]",
      "text/plain": [
       "<Figure size 640x480 with 1 Axes>"
      ]
     },
     "metadata": {},
     "output_type": "display_data"
    }
   ],
   "source": [
    "plt.plot(losses)\n",
    "plt.plot(losses_eval)\n",
    "plt.title('model loss')\n",
    "plt.ylabel('loss')\n",
    "plt.xlabel('epoch')\n",
    "plt.legend(['train', 'val'], loc='upper left')\n",
    "plt.show()"
   ]
  },
  {
   "cell_type": "code",
   "execution_count": null,
   "id": "2c9b5156-2eb5-49db-b877-516921fb7a10",
   "metadata": {},
   "outputs": [],
   "source": []
  },
  {
   "cell_type": "markdown",
   "id": "e6bb6ef5-6d07-4590-80e0-9b2cd8480726",
   "metadata": {},
   "source": [
    "#### Validation"
   ]
  },
  {
   "cell_type": "code",
   "execution_count": null,
   "id": "2b3623ab-5923-4c12-bbfc-add12431681b",
   "metadata": {},
   "outputs": [],
   "source": []
  },
  {
   "cell_type": "code",
   "execution_count": 257,
   "id": "f263b5f5-23ef-41c5-87c2-17615a9af4d7",
   "metadata": {},
   "outputs": [],
   "source": [
    "preds = []\n",
    "\n",
    "for xs, ys in val_loader:\n",
    "\n",
    "    cls.eval()\n",
    "\n",
    "    with torch.no_grad():\n",
    "\n",
    "        predictions = cls(xs.to(device)).squeeze().argmax(2).detach().to(\"cpu\").tolist()\n",
    "\n",
    "        preds.extend(predictions)"
   ]
  },
  {
   "cell_type": "markdown",
   "id": "253ee8a1-a18b-423b-889f-d7805dff02a5",
   "metadata": {},
   "source": [
    "#### Без дообучения эмбедингов добиться высокого качества тут явно не выйдет. "
   ]
  },
  {
   "cell_type": "code",
   "execution_count": 258,
   "id": "e1b8972c-489d-4f7e-b893-7e860d83673e",
   "metadata": {},
   "outputs": [
    {
     "name": "stdout",
     "output_type": "stream",
     "text": [
      "              precision    recall  f1-score   support\n",
      "\n",
      "           O       0.97      0.97      0.97    588285\n",
      "       B-PER       0.16      0.17      0.17      3536\n",
      "       I-PER       0.21      0.20      0.21      7532\n",
      "       B-ORG       0.07      0.06      0.06      4067\n",
      "       I-ORG       0.11      0.10      0.10      7983\n",
      "       B-LOC       0.04      0.04      0.04      4556\n",
      "       I-LOC       0.04      0.03      0.04      3049\n",
      "         PAD       0.00      0.00      0.00         0\n",
      "\n",
      "   micro avg       0.93      0.93      0.93    619008\n",
      "   macro avg       0.20      0.20      0.20    619008\n",
      "weighted avg       0.93      0.93      0.93    619008\n",
      "\n"
     ]
    }
   ],
   "source": [
    "print(classification_report(val_data.target[:9984, :].reshape(-1), np.array(preds).reshape(-1), labels=list(id2labels.keys()),\n",
    "                                                                     target_names=list(id2labels.values()),\n",
    "                                                                     zero_division=0))"
   ]
  },
  {
   "cell_type": "code",
   "execution_count": null,
   "id": "6c7a047d-0026-44ac-afcb-26cdac4276be",
   "metadata": {},
   "outputs": [],
   "source": []
  },
  {
   "cell_type": "code",
   "execution_count": 268,
   "id": "a3c9f6b4-2360-47f7-b6cc-dbd2ac4f88a9",
   "metadata": {},
   "outputs": [],
   "source": [
    "def get_indices(text:str):\n",
    "    def preprocess(text):\n",
    "        tokens = text.lower().split()\n",
    "        tokens = [token.strip(punctuation) for token in tokens]\n",
    "        tokens = [token for token in tokens if token]\n",
    "        return tokens\n",
    "\n",
    "    return torch.LongTensor([model.key_to_index[morph.parse(t)[0].normal_form] if morph.parse(t)[0].normal_form in model.key_to_index else 0 for t in preprocess(text)])"
   ]
  },
  {
   "cell_type": "code",
   "execution_count": 275,
   "id": "bb13c625-0045-425c-be08-a96dfa07f639",
   "metadata": {},
   "outputs": [],
   "source": [
    "gc.collect()\n",
    "torch.cuda.empty_cache()"
   ]
  },
  {
   "cell_type": "code",
   "execution_count": 270,
   "id": "6acb4d4b-892e-47f7-8a8d-40e32d36b8aa",
   "metadata": {},
   "outputs": [],
   "source": [
    "text = \"Иван Иванович приехал в Липецк скорее случайно, чем специально.\""
   ]
  },
  {
   "cell_type": "code",
   "execution_count": 281,
   "id": "29d34e04-0921-4c83-865c-7f1e7c0e8703",
   "metadata": {},
   "outputs": [],
   "source": [
    "preds = cls(get_indices(text).unsqueeze(0).to(device)).argmax(2).detach().to(\"cpu\")"
   ]
  },
  {
   "cell_type": "code",
   "execution_count": 293,
   "id": "31fe23ce-c370-4c50-b060-f302e6c0397a",
   "metadata": {},
   "outputs": [
    {
     "name": "stdout",
     "output_type": "stream",
     "text": [
      "B-PER I-PER O O O O O O O\n"
     ]
    }
   ],
   "source": [
    "\n",
    "print(*map(lambda x: id2labels[x], preds.tolist()[0]))"
   ]
  },
  {
   "cell_type": "markdown",
   "id": "bcf61fbd-66e3-46ff-900c-0b1af02961c5",
   "metadata": {},
   "source": [
    "#### Вообще довольно неудивительно, что на локациях стабильные ошибки -- многих из них может просто не быть в словаре, а где они есть, то встречаются довольно редко для формирования качественного эмбединга"
   ]
  },
  {
   "cell_type": "code",
   "execution_count": 294,
   "id": "3fbb3612-ff20-4c55-8efb-f4676c97830c",
   "metadata": {},
   "outputs": [],
   "source": [
    "text = \"Карл Фридрих Иероним фон Мюнхгаузен родился в Боденвердере\""
   ]
  },
  {
   "cell_type": "code",
   "execution_count": 295,
   "id": "ac4417c9-575e-4a2d-801d-341b37c5759c",
   "metadata": {},
   "outputs": [],
   "source": [
    "preds = cls(get_indices(text).unsqueeze(0).to(device)).argmax(2).detach().to(\"cpu\")"
   ]
  },
  {
   "cell_type": "code",
   "execution_count": 296,
   "id": "a6f79386-574d-42ad-87cd-8d2562b00556",
   "metadata": {},
   "outputs": [
    {
     "name": "stdout",
     "output_type": "stream",
     "text": [
      "B-PER I-PER I-PER I-PER O O O O\n"
     ]
    }
   ],
   "source": [
    "\n",
    "print(*map(lambda x: id2labels[x], preds.tolist()[0]))"
   ]
  }
 ],
 "metadata": {
  "kernelspec": {
   "display_name": "Python 3 (ipykernel)",
   "language": "python",
   "name": "python3"
  },
  "language_info": {
   "codemirror_mode": {
    "name": "ipython",
    "version": 3
   },
   "file_extension": ".py",
   "mimetype": "text/x-python",
   "name": "python",
   "nbconvert_exporter": "python",
   "pygments_lexer": "ipython3",
   "version": "3.10.12"
  }
 },
 "nbformat": 4,
 "nbformat_minor": 5
}
