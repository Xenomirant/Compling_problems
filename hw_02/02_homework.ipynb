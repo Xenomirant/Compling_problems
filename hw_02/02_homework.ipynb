{
 "cells": [
  {
   "cell_type": "code",
   "execution_count": null,
   "id": "458b7f61-ba9f-47ad-b0f4-4339166fae01",
   "metadata": {},
   "outputs": [],
   "source": []
  },
  {
   "cell_type": "code",
   "execution_count": 1,
   "id": "8cf44c4c-6249-4715-b283-a077669f3ccc",
   "metadata": {},
   "outputs": [],
   "source": [
    "with open(\"data/lenta.txt\") as f:\n",
    "    corpus = f.read()"
   ]
  },
  {
   "cell_type": "code",
   "execution_count": 2,
   "id": "bb453ef8-8d7b-4c40-9e1d-267832bd8b95",
   "metadata": {},
   "outputs": [
    {
     "data": {
      "text/plain": [
       "'Бои у Сопоцкина и Друскеник закончились отступлением германцев. Неприятель, приблизившись с севера'"
      ]
     },
     "execution_count": 2,
     "metadata": {},
     "output_type": "execute_result"
    }
   ],
   "source": [
    "corpus[:98]"
   ]
  },
  {
   "cell_type": "markdown",
   "id": "43fc8290",
   "metadata": {},
   "source": [
    "## Задание 1."
   ]
  },
  {
   "cell_type": "markdown",
   "id": "b06a5ace",
   "metadata": {},
   "source": [
    "Посчитайте частоты для 5-грамм в корпусе lenta.txt. двумя способами:  \n",
    "1) lenta.txt -> sent_tokenize (russian) -> word_tokenize -> ngrammer  \n",
    "2) lenta.txt -> word_tokene(preserve_line=True) - ngrammer  \n",
    "    \n",
    "Проанализируйте топ-20 самых частотных нграмм и проверьте есть ли различия? "
   ]
  },
  {
   "cell_type": "code",
   "execution_count": 3,
   "id": "ca5a622c-6d9a-4a38-b9cd-6cdf4822c0b5",
   "metadata": {},
   "outputs": [],
   "source": [
    "import string\n",
    "import re\n",
    "from nltk import sent_tokenize, word_tokenize\n",
    "from collections import Counter"
   ]
  },
  {
   "cell_type": "code",
   "execution_count": 4,
   "id": "957f5656",
   "metadata": {},
   "outputs": [],
   "source": [
    "def ngrammer(tokens: list, *, ngramms: int = 2):\n",
    "    ngrs = []\n",
    "    for i in range(len(tokens)-ngramms+1):\n",
    "        ngramm = \" \".join(tokens[i:i+ngramms])\n",
    "        ngrs.append(ngramm)\n",
    "    return ngrs"
   ]
  },
  {
   "cell_type": "code",
   "execution_count": 5,
   "id": "2369d0e7-7e9c-475c-9216-730125afa9e1",
   "metadata": {},
   "outputs": [],
   "source": [
    "tokenized_one = [[word.lower() for word in word_tokenize(sent) if not re.match(r\"\\W+\", word)] for sent in sent_tokenize(corpus, \"russian\")]"
   ]
  },
  {
   "cell_type": "code",
   "execution_count": 6,
   "id": "6b8cf0f9-0531-48c9-a88a-7c1ed7d41869",
   "metadata": {},
   "outputs": [],
   "source": [
    "counter = Counter()\n",
    "\n",
    "for sentence in tokenized_one:\n",
    "    counter.update(ngrammer(sentence, ngramms = 5))"
   ]
  },
  {
   "cell_type": "code",
   "execution_count": 7,
   "id": "6d14c163-9174-4480-bbd2-d731b7f7745a",
   "metadata": {},
   "outputs": [
    {
     "data": {
      "text/plain": [
       "[('риа новости со ссылкой на', 400),\n",
       " ('сообщает риа новости со ссылкой', 320),\n",
       " ('как сообщили риа новости в', 196),\n",
       " ('как сообщает риа новости со', 149),\n",
       " ('сообщает интерфакс со ссылкой на', 142),\n",
       " ('сообщает итар-тасс со ссылкой на', 118),\n",
       " ('об этом риа новости сообщили', 113),\n",
       " ('об этом сообщает риа новости', 104),\n",
       " ('этом риа новости сообщили в', 99),\n",
       " ('со ссылкой на источники в', 93),\n",
       " ('сообщили риа новости в пресс-службе', 88),\n",
       " ('группировки войск на северном кавказе', 84),\n",
       " ('как сообщает интерфакс со ссылкой', 83),\n",
       " ('объединенной группировки войск на северном', 83),\n",
       " ('новости со ссылкой на пресс-службу', 76),\n",
       " ('эхо москвы со ссылкой на', 76),\n",
       " ('этом сообщает риа новости со', 75),\n",
       " ('в связи с тем что', 70),\n",
       " ('по борьбе с организованной преступностью', 66),\n",
       " ('как сообщает итар-тасс со ссылкой', 58)]"
      ]
     },
     "execution_count": 7,
     "metadata": {},
     "output_type": "execute_result"
    }
   ],
   "source": [
    "counter.most_common(20)"
   ]
  },
  {
   "cell_type": "markdown",
   "id": "57f8826d-6212-4456-b26f-53fc8b42d438",
   "metadata": {},
   "source": [
    "### "
   ]
  },
  {
   "cell_type": "code",
   "execution_count": 8,
   "id": "fcc58164-e4ff-4736-a8f9-b2936d3fec19",
   "metadata": {},
   "outputs": [],
   "source": [
    "tokenized_two = [word.lower() for word in word_tokenize(corpus, preserve_line=True) if not re.match(r\"\\W+\", word)]"
   ]
  },
  {
   "cell_type": "code",
   "execution_count": null,
   "id": "2addf697-5474-4727-bb0c-1b9423008580",
   "metadata": {},
   "outputs": [],
   "source": []
  },
  {
   "cell_type": "code",
   "execution_count": 9,
   "id": "5edf6b43-030e-4578-86ce-629ba01600b9",
   "metadata": {},
   "outputs": [],
   "source": [
    "counter = Counter()\n",
    "\n",
    "counter.update(ngrammer(tokenized_two, ngramms = 5))"
   ]
  },
  {
   "cell_type": "code",
   "execution_count": 10,
   "id": "ff3e601f-fc13-4c57-b67e-6dfa3f3f18a8",
   "metadata": {
    "scrolled": true
   },
   "outputs": [
    {
     "data": {
      "text/plain": [
       "[('риа новости со ссылкой на', 400),\n",
       " ('сообщает риа новости со ссылкой', 320),\n",
       " ('как сообщили риа новости в', 196),\n",
       " ('как сообщает риа новости со', 149),\n",
       " ('сообщает интерфакс со ссылкой на', 142),\n",
       " ('сообщает итар-тасс со ссылкой на', 118),\n",
       " ('об этом риа новости сообщили', 113),\n",
       " ('об этом сообщает риа новости', 104),\n",
       " ('этом риа новости сообщили в', 99),\n",
       " ('со ссылкой на источники в', 93),\n",
       " ('сообщили риа новости в пресс-службе', 88),\n",
       " ('как сообщает интерфакс со ссылкой', 83),\n",
       " ('объединенной группировки войск на северном', 83),\n",
       " ('эхо москвы со ссылкой на', 77),\n",
       " ('новости со ссылкой на пресс-службу', 76),\n",
       " ('этом сообщает риа новости со', 75),\n",
       " ('в связи с тем что', 70),\n",
       " ('как сообщает итар-тасс со ссылкой', 58),\n",
       " ('группировки войск на северном кавказе', 57),\n",
       " ('по борьбе с организованной преступностью', 55)]"
      ]
     },
     "execution_count": 10,
     "metadata": {},
     "output_type": "execute_result"
    }
   ],
   "source": [
    "counter.most_common(20)"
   ]
  },
  {
   "cell_type": "markdown",
   "id": "e5891cd7-0a4d-4ef7-afb4-7b25003016bf",
   "metadata": {},
   "source": [
    "Различия начинают наблюдаться с уменьшением частотности, наиболее частотные группы сохраняют свой ранг, а зачастую и точное значение частотности. Также при уменьшении длины н-грамм распределения начинают расходиться."
   ]
  },
  {
   "cell_type": "markdown",
   "id": "b5781f34",
   "metadata": {},
   "source": [
    "## Задание 2."
   ]
  },
  {
   "attachments": {
    "a45e76d0-c90d-423c-9bfb-0e89ea914b08.png": {
     "image/png": "[encoded data removed]"
    }
   },
   "cell_type": "markdown",
   "id": "4292716e",
   "metadata": {},
   "source": [
    "Найдите какую-то инетересную (по вашему мнению) закономерность на https://books.google.com/ngrams/ для русского языка (с 1990 по 2019)\n",
    "\n",
    "Вставьте сюда скриншот\n",
    "\n",
    "![image.png](attachment:a45e76d0-c90d-423c-9bfb-0e89ea914b08.png)"
   ]
  },
  {
   "cell_type": "markdown",
   "id": "8a0a89ec",
   "metadata": {},
   "source": [
    "## Заданиe 3"
   ]
  },
  {
   "cell_type": "markdown",
   "id": "b40c35e9",
   "metadata": {},
   "source": [
    "Когда мы разбирали PMI мы использовали такую функцию:"
   ]
  },
  {
   "cell_type": "code",
   "execution_count": 80,
   "id": "221f1bc0",
   "metadata": {},
   "outputs": [],
   "source": [
    "def scorer_simple(word_count_a, word_count_b, bigram_count, min_count = 20, *args, **kwargs):\n",
    "    try:\n",
    "        score = (bigram_count - min_count)/(word_count_a+word_count_b)\n",
    "    except ZeroDivisionError:\n",
    "        return 0\n",
    "    return score"
   ]
  },
  {
   "cell_type": "markdown",
   "id": "53fd2def",
   "metadata": {},
   "source": [
    "Но если вы посмотрите на определение в википедии, то увидите, что формула немного другая ![](https://wikimedia.org/api/rest_v1/media/math/render/svg/094243d23c19d2d032f6bb26c4dc4f47d98d32f8)"
   ]
  },
  {
   "cell_type": "markdown",
   "id": "b1905862",
   "metadata": {},
   "source": [
    "Перепишите функцию, чтобы она точно соответствовала этому определению. Расчитайте PMI для всех биграммов также как мы делали в семинаре с помощью функции score_bigrams используя изначальный scorer и обновленный. Посмотрите есть ли разница в топ-10 биграммов. Подумайте почему результаты совпадают/отличаются?\n",
    "\n",
    "*Подсказка: для вероятностей можно поделить на количество слов в корпусе"
   ]
  },
  {
   "cell_type": "code",
   "execution_count": 81,
   "id": "78723202-1411-47f0-b088-35df3f99c4e6",
   "metadata": {},
   "outputs": [],
   "source": [
    "from nltk.corpus import stopwords\n",
    "from typing import Callable\n",
    "\n",
    "rustops = set(stopwords.words(\"russian\"))"
   ]
  },
  {
   "cell_type": "code",
   "execution_count": 82,
   "id": "1431f618",
   "metadata": {},
   "outputs": [],
   "source": [
    "from math import log2\n",
    "\n",
    "def scorer_pmi(word_count_a: int, word_count_b: int, bigram_count: int, corpus_length: int, min_count: int = 20, *args, **kwargs):\n",
    "    try:\n",
    "        score = log2((bigram_count - min_count)/ word_count_a / word_count_b * corpus_length)\n",
    "    except ValueError:\n",
    "        return 0\n",
    "    except ZeroDivisionError:\n",
    "        return 0\n",
    "    return score\n",
    "\n",
    "\n",
    "def ngrammer(tokens: list, *, ngramms: list = 2, stops: set = set()):\n",
    "    ngrams = []\n",
    "    tokens = [token for token in tokens if token not in stops]\n",
    "    for i in range(len(tokens)-ngramms+1):\n",
    "        ngrams.append(' '.join(tokens[i:i+ngramms]))\n",
    "    return ngrams"
   ]
  },
  {
   "cell_type": "code",
   "execution_count": 99,
   "id": "9a3bd29a-4019-48a2-95cb-f706c8acaea4",
   "metadata": {},
   "outputs": [],
   "source": [
    "def collect_stats(corpus: list, stops: set):\n",
    "    \n",
    "    unigrams = Counter()\n",
    "    bigrams = Counter()\n",
    "    \n",
    "    for sent in corpus:\n",
    "        unigrams.update(sent)\n",
    "        bigrams.update(ngrammer(sent, ngramms = 2, stops = stops))\n",
    "    \n",
    "    return unigrams, bigrams\n",
    "\n",
    "def score_bigrams(unigrams: dict, bigrams: dict, scorer: Callable, threshold: int=-100000, min_count = 20):\n",
    "    ## посчитаем метрику для каждого нграмма\n",
    "    bigram2score = Counter()\n",
    "    corpus_length = len(unigrams) + len(bigrams)\n",
    "    \n",
    "    for bigram in bigrams:\n",
    "        word_a, word_b = bigram.split()\n",
    "        score = scorer(unigrams[word_a], unigrams[word_b], \n",
    "                       bigrams[bigram], corpus_length = corpus_length, min_count = 20)\n",
    "        \n",
    "        ## если метрика выше порога, добавляем в словарик\n",
    "        if score > threshold:\n",
    "            bigram2score[bigram] = score\n",
    "    \n",
    "    return bigram2score"
   ]
  },
  {
   "cell_type": "code",
   "execution_count": 100,
   "id": "95afa40e-2d07-41f4-ae4a-f556d6c3de6a",
   "metadata": {},
   "outputs": [],
   "source": [
    "unigrams, bigrams = collect_stats(tokenized_one, rustops)"
   ]
  },
  {
   "cell_type": "code",
   "execution_count": 101,
   "id": "fbeda25d-f011-4327-a6e1-89340c22f115",
   "metadata": {},
   "outputs": [],
   "source": [
    "bigram2score = score_bigrams(unigrams, bigrams, scorer_simple)"
   ]
  },
  {
   "cell_type": "code",
   "execution_count": 102,
   "id": "a8a34f7b-8a79-4b27-8eda-289deb33ffe3",
   "metadata": {},
   "outputs": [
    {
     "data": {
      "text/plain": [
       "[('риа новости', 0.4900746163592848),\n",
       " ('северном кавказе', 0.44553483807654565),\n",
       " ('associated press', 0.4345991561181435),\n",
       " ('new york', 0.4218009478672986),\n",
       " ('сих пор', 0.39092055485498106),\n",
       " ('взрывное устройство', 0.3665768194070081),\n",
       " ('таким образом', 0.3657187993680885),\n",
       " ('рао еэс', 0.33954451345755693),\n",
       " ('доменных имен', 0.31512605042016806),\n",
       " ('чрезвычайным ситуациям', 0.30935251798561153),\n",
       " ('налогам сборам', 0.30201342281879195),\n",
       " ('wall street', 0.3018867924528302),\n",
       " ('населенного пункта', 0.3013698630136986),\n",
       " ('объединенной группировки', 0.2993421052631579),\n",
       " ('возбуждено уголовное', 0.2983606557377049),\n",
       " ('мадлен олбрайт', 0.29743589743589743),\n",
       " ('прошлой неделе', 0.29006085192697767),\n",
       " ('владимиром путиным', 0.2899022801302932),\n",
       " ('внутренних дел', 0.2847811887655127),\n",
       " ('точки зрения', 0.2828282828282828)]"
      ]
     },
     "execution_count": 102,
     "metadata": {},
     "output_type": "execute_result"
    }
   ],
   "source": [
    "bigram2score.most_common(20)"
   ]
  },
  {
   "cell_type": "code",
   "execution_count": 103,
   "id": "0c7d477e-5010-49fd-a775-36de0e3cfaef",
   "metadata": {},
   "outputs": [],
   "source": [
    "bigram2score = score_bigrams(unigrams, bigrams, scorer_pmi)"
   ]
  },
  {
   "cell_type": "code",
   "execution_count": 104,
   "id": "3c703e1d-0907-406c-bb08-4f08c2f1e11e",
   "metadata": {},
   "outputs": [
    {
     "data": {
      "text/plain": [
       "[('wall street', 13.280508073979414),\n",
       " ('саудовской аравии', 13.268658798491392),\n",
       " ('street journal', 13.096425009540441),\n",
       " ('dow jones', 13.070499377098798),\n",
       " ('подписных листов', 13.023881588125843),\n",
       " ('следственном изоляторе', 13.00076923303325),\n",
       " ('чрезвычайным ситуациям', 12.92489008823105),\n",
       " ('france presse', 12.905760295726287),\n",
       " ('персидском заливе', 12.90002779673694),\n",
       " ('полевые командиры', 12.899334026566855),\n",
       " ('полевых командиров', 12.800375546478685),\n",
       " ('налогам сборам', 12.797235838948119),\n",
       " ('следственный изолятор', 12.735835294283975),\n",
       " ('великой отечественной', 12.724887658018663),\n",
       " ('exit polls', 12.71346748125552),\n",
       " ('верховной рады', 12.69144117492552),\n",
       " ('чести достоинства', 12.676941605230406),\n",
       " ('населенном пункте', 12.641317695499685),\n",
       " ('washington post', 12.630885026304794),\n",
       " ('соединенные штаты', 12.621051847034122)]"
      ]
     },
     "execution_count": 104,
     "metadata": {},
     "output_type": "execute_result"
    }
   ],
   "source": [
    "bigram2score.most_common(20)"
   ]
  },
  {
   "cell_type": "markdown",
   "id": "0a6e1c99",
   "metadata": {},
   "source": [
    "## Задание 4*\n",
    "\n",
    "Обновите функцию получившуюся в предыдущем задании так, чтобы вместо произведения/деления вероятностей использовались сложение и вычитание логирифмов. "
   ]
  },
  {
   "cell_type": "code",
   "execution_count": 48,
   "id": "3f55a362",
   "metadata": {},
   "outputs": [],
   "source": [
    "from math import log2\n",
    "\n",
    "def scorer_pmi(word_count_a: int, word_count_b: int, bigram_count: int, corpus_length: int, min_count: int = 20, *args):\n",
    "    try:\n",
    "        score = log2(bigram_prob/corpus_length) - log2(word_prob_a/corpus_length) - log2(word_count_b/corpus_length)\n",
    "    except ValueError:\n",
    "        return 0\n",
    "    return score"
   ]
  },
  {
   "cell_type": "markdown",
   "id": "b22785f4",
   "metadata": {},
   "source": [
    "## Задание 5"
   ]
  },
  {
   "cell_type": "markdown",
   "id": "a1121e53",
   "metadata": {},
   "source": [
    "Исследуйте gensim.models.Phrases. Проверьте сколько дефолтных scoring функций есть в этом классе. Попробуйте все доступные по умолчанию scoring функции и попробуйте настраивать для них значение threshold и min_count. Попробуйте сделать так, чтобы собиралось как можно больше нграммов. Попробуйте строить последовательность gensim.models.Phrases, чтобы строить более длинные нграммы"
   ]
  },
  {
   "cell_type": "code",
   "execution_count": 89,
   "id": "716fba84",
   "metadata": {},
   "outputs": [],
   "source": [
    "import gensim"
   ]
  },
  {
   "cell_type": "markdown",
   "id": "310896a1-ecde-4cae-a0a3-784adff1b9bb",
   "metadata": {},
   "source": [
    "##### существуют два дефолтных скорера - default и npmi"
   ]
  },
  {
   "cell_type": "code",
   "execution_count": 185,
   "id": "cad31551-9df1-453e-a5e1-463f734b4bd9",
   "metadata": {},
   "outputs": [],
   "source": [
    "ph = gensim.models.Phrases(tokenized_one, \n",
    "                    min_count = 1, \n",
    "                    threshold=0.0001,\n",
    "                    scoring = \"npmi\")"
   ]
  },
  {
   "cell_type": "code",
   "execution_count": 186,
   "id": "03474e20-b3ce-4637-9383-aa0ae3219b35",
   "metadata": {},
   "outputs": [],
   "source": [
    "phraser = gensim.models.phrases.Phraser(ph)"
   ]
  },
  {
   "cell_type": "code",
   "execution_count": 187,
   "id": "fabd4c4a-e0d2-4581-92c6-b547afd0b610",
   "metadata": {},
   "outputs": [],
   "source": [
    "ph2 = gensim.models.Phrases(phraser[tokenized_one],  min_count=1, threshold=0.001, scoring = \"npmi\")\n",
    "p2 = gensim.models.phrases.Phraser(ph2)"
   ]
  },
  {
   "cell_type": "code",
   "execution_count": 188,
   "id": "0d354b03-ead9-4698-9366-b9f553b7ccb7",
   "metadata": {},
   "outputs": [
    {
     "data": {
      "text/plain": [
       "['при',\n",
       " 'продолжающемся',\n",
       " 'отступлении',\n",
       " 'австрийцев',\n",
       " 'обнаруживается',\n",
       " 'полное',\n",
       " 'перемешивание',\n",
       " 'их',\n",
       " 'частей',\n",
       " 'захватываются',\n",
       " 'новые',\n",
       " 'партии',\n",
       " 'пленных',\n",
       " 'орудия',\n",
       " 'и',\n",
       " 'прочая',\n",
       " 'материальная',\n",
       " 'часть']"
      ]
     },
     "execution_count": 188,
     "metadata": {},
     "output_type": "execute_result"
    }
   ],
   "source": [
    "tokenized_one[8]"
   ]
  },
  {
   "cell_type": "code",
   "execution_count": 189,
   "id": "bbef8cd2-d5a2-4734-aabd-173458a57d2a",
   "metadata": {},
   "outputs": [
    {
     "data": {
      "text/plain": [
       "['при_продолжающемся_отступлении_австрийцев',\n",
       " 'обнаруживается_полное',\n",
       " 'перемешивание_их',\n",
       " 'частей_захватываются_новые_партии',\n",
       " 'пленных_орудия',\n",
       " 'и_прочая_материальная_часть']"
      ]
     },
     "execution_count": 189,
     "metadata": {},
     "output_type": "execute_result"
    }
   ],
   "source": [
    "p2[phraser[tokenized_one[8]]]"
   ]
  }
 ],
 "metadata": {
  "kernelspec": {
   "display_name": "Python 3 (ipykernel)",
   "language": "python",
   "name": "python3"
  },
  "language_info": {
   "codemirror_mode": {
    "name": "ipython",
    "version": 3
   },
   "file_extension": ".py",
   "mimetype": "text/x-python",
   "name": "python",
   "nbconvert_exporter": "python",
   "pygments_lexer": "ipython3",
   "version": "3.11.5"
  }
 },
 "nbformat": 4,
 "nbformat_minor": 5
}
