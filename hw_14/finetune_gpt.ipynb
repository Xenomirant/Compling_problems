{
 "cells": [
  {
   "cell_type": "markdown",
   "id": "1dba7c0d",
   "metadata": {},
   "source": [
    "# Домашнее задание № 9"
   ]
  },
  {
   "cell_type": "markdown",
   "id": "6581cfb3",
   "metadata": {},
   "source": [
    "### Задание 1 (5 баллов).\n",
    "Это задание основано на этой тетрадке - https://github.com/mannefedov/compling_nlp_hse_course/blob/master/notebooks/transfer_learning_hg/Fine_tunining_pretrained_LMs.ipynb\n",
    "\n",
    "Дообучите 3 предобученных модели на тех же данных, что и в семинаре. Сравните качество и выберите лучшую. \n",
    "Модели должны отличаться друг от друга не только параметрами ru/en/multilingual, base/large, cased/uncased. Все три выбранные модели должны работать лучше, чем бейзлайн без дообучения (т.е. если модель не работает, попробуйте другую).\n"
   ]
  },
  {
   "cell_type": "code",
   "execution_count": 15,
   "id": "a84bbd2c-804f-4570-8ad7-0757b2999bd4",
   "metadata": {},
   "outputs": [
    {
     "name": "stdout",
     "output_type": "stream",
     "text": [
      "--2024-03-13 21:58:35--  https://raw.githubusercontent.com/mannefedov/compling_nlp_hse_course/master/notebooks/transfer_learning_hg/Fine_tune_pretrained_LM_torch.ipynb\n",
      "Resolving raw.githubusercontent.com (raw.githubusercontent.com)... 185.199.111.133, 185.199.108.133, 185.199.109.133, ...\n",
      "Connecting to raw.githubusercontent.com (raw.githubusercontent.com)|185.199.111.133|:443... connected.\n",
      "HTTP request sent, awaiting response... 200 OK\n",
      "Length: 74959 (73K) [text/plain]\n",
      "Saving to: ‘Fine_tune_pretrained_LM_torch.ipynb’\n",
      "\n",
      "Fine_tune_pretraine 100%[===================>]  73.20K  --.-KB/s    in 0.05s   \n",
      "\n",
      "2024-03-13 21:58:35 (1.52 MB/s) - ‘Fine_tune_pretrained_LM_torch.ipynb’ saved [74959/74959]\n",
      "\n"
     ]
    }
   ],
   "source": [
    "! wget https://raw.githubusercontent.com/mannefedov/compling_nlp_hse_course/master/notebooks/transfer_learning_hg/Fine_tune_pretrained_LM_torch.ipynb"
   ]
  },
  {
   "cell_type": "code",
   "execution_count": 13,
   "id": "2104674d-e1d9-48ca-861e-56af396ba0c6",
   "metadata": {},
   "outputs": [
    {
     "name": "stdout",
     "output_type": "stream",
     "text": [
      "--2024-03-13 20:51:24--  https://github.com/mannefedov/compling_nlp_hse_course/raw/master/notebooks/transfer_learning_hg/lenta_sample.csv\n",
      "Resolving github.com (github.com)... 140.82.121.4\n",
      "Connecting to github.com (github.com)|140.82.121.4|:443... connected.\n",
      "HTTP request sent, awaiting response... 302 Found\n",
      "Location: https://raw.githubusercontent.com/mannefedov/compling_nlp_hse_course/master/notebooks/transfer_learning_hg/lenta_sample.csv [following]\n",
      "--2024-03-13 20:51:24--  https://raw.githubusercontent.com/mannefedov/compling_nlp_hse_course/master/notebooks/transfer_learning_hg/lenta_sample.csv\n",
      "Resolving raw.githubusercontent.com (raw.githubusercontent.com)... 185.199.108.133, 185.199.109.133, 185.199.110.133, ...\n",
      "Connecting to raw.githubusercontent.com (raw.githubusercontent.com)|185.199.108.133|:443... connected.\n",
      "HTTP request sent, awaiting response... 200 OK\n",
      "Length: 1628490 (1.6M) [text/plain]\n",
      "Saving to: ‘data/lenta_sample.csv’\n",
      "\n",
      "data/lenta_sample.c 100%[===================>]   1.55M  6.02MB/s    in 0.3s    \n",
      "\n",
      "2024-03-13 20:51:25 (6.02 MB/s) - ‘data/lenta_sample.csv’ saved [1628490/1628490]\n",
      "\n"
     ]
    }
   ],
   "source": [
    "! wget -O data/lenta_sample.csv https://github.com/mannefedov/compling_nlp_hse_course/raw/master/notebooks/transfer_learning_hg/lenta_sample.csv"
   ]
  },
  {
   "cell_type": "code",
   "execution_count": 1,
   "id": "09ab0a3a",
   "metadata": {},
   "outputs": [],
   "source": [
    "# стандартные библиотеки\n",
    "import os, re\n",
    "import numpy as np\n",
    "from time import time\n",
    "from sklearn.model_selection import train_test_split\n",
    "import pandas as pd\n",
    "from collections import Counter\n",
    "from string import punctuation\n",
    "import matplotlib.pyplot as plt\n",
    "%matplotlib inline\n",
    "\n",
    "\n",
    "# pytortch и huggingface \n",
    "import torch\n",
    "import torch.nn as nn\n",
    "import torch.nn.functional as F\n",
    "import torch.optim as optim\n",
    "import torch.utils.data\n",
    "from transformers import AutoModel\n",
    "from transformers import AutoTokenizer"
   ]
  },
  {
   "cell_type": "code",
   "execution_count": null,
   "id": "7357d574-dd7b-499c-a8bc-f80c31372912",
   "metadata": {},
   "outputs": [],
   "source": []
  },
  {
   "cell_type": "code",
   "execution_count": 2,
   "id": "65e24a7d-b96c-4a49-a40a-9b1062925615",
   "metadata": {},
   "outputs": [],
   "source": [
    "data = pd.read_csv('data/lenta_sample.csv')\n",
    "data.dropna(subset=['topic', 'text'], inplace=True)"
   ]
  },
  {
   "cell_type": "code",
   "execution_count": 3,
   "id": "94893b00-fafe-47e8-aa51-81201ae5e25a",
   "metadata": {},
   "outputs": [
    {
     "data": {
      "text/html": [
       "<div>\n",
       "<style scoped>\n",
       "    .dataframe tbody tr th:only-of-type {\n",
       "        vertical-align: middle;\n",
       "    }\n",
       "\n",
       "    .dataframe tbody tr th {\n",
       "        vertical-align: top;\n",
       "    }\n",
       "\n",
       "    .dataframe thead th {\n",
       "        text-align: right;\n",
       "    }\n",
       "</style>\n",
       "<table border=\"1\" class=\"dataframe\">\n",
       "  <thead>\n",
       "    <tr style=\"text-align: right;\">\n",
       "      <th></th>\n",
       "      <th>url</th>\n",
       "      <th>title</th>\n",
       "      <th>text</th>\n",
       "      <th>topic</th>\n",
       "      <th>tags</th>\n",
       "      <th>date</th>\n",
       "    </tr>\n",
       "  </thead>\n",
       "  <tbody>\n",
       "    <tr>\n",
       "      <th>0</th>\n",
       "      <td>https://lenta.ru/news/2010/12/16/passports/</td>\n",
       "      <td>Московская милиция ужесточила паспортный режим</td>\n",
       "      <td>В Москве после серии массовых беспорядков на н...</td>\n",
       "      <td>Россия</td>\n",
       "      <td>Все</td>\n",
       "      <td>2010/12/16</td>\n",
       "    </tr>\n",
       "    <tr>\n",
       "      <th>1</th>\n",
       "      <td>https://lenta.ru/news/2014/05/19/student/</td>\n",
       "      <td>Московского студента ограбили на 6 миллионов р...</td>\n",
       "      <td>Неизвестные вынесли из квартиры московского ст...</td>\n",
       "      <td>Россия</td>\n",
       "      <td>NaN</td>\n",
       "      <td>2014/05/19</td>\n",
       "    </tr>\n",
       "    <tr>\n",
       "      <th>2</th>\n",
       "      <td>https://lenta.ru/news/2008/09/27/catch/</td>\n",
       "      <td>В Ставропольском крае обезврежены боевики</td>\n",
       "      <td>В Ставропольском крае задержаны боевики, котор...</td>\n",
       "      <td>Россия</td>\n",
       "      <td>Все</td>\n",
       "      <td>2008/09/27</td>\n",
       "    </tr>\n",
       "    <tr>\n",
       "      <th>3</th>\n",
       "      <td>https://lenta.ru/news/2009/07/23/refuse/</td>\n",
       "      <td>Лужков отказался трудоустраивать китайцев с Че...</td>\n",
       "      <td>Мэр Москвы Юрий Лужков заявил, что не намерен ...</td>\n",
       "      <td>Россия</td>\n",
       "      <td>Все</td>\n",
       "      <td>2009/07/23</td>\n",
       "    </tr>\n",
       "    <tr>\n",
       "      <th>4</th>\n",
       "      <td>https://lenta.ru/news/2012/09/29/factory/</td>\n",
       "      <td>По факту пожара на заводе в Югре заведено дело</td>\n",
       "      <td>Следственный комитет России возбудил уголовное...</td>\n",
       "      <td>Россия</td>\n",
       "      <td>Все</td>\n",
       "      <td>2012/09/29</td>\n",
       "    </tr>\n",
       "    <tr>\n",
       "      <th>...</th>\n",
       "      <td>...</td>\n",
       "      <td>...</td>\n",
       "      <td>...</td>\n",
       "      <td>...</td>\n",
       "      <td>...</td>\n",
       "      <td>...</td>\n",
       "    </tr>\n",
       "    <tr>\n",
       "      <th>602</th>\n",
       "      <td>https://lenta.ru/news/2014/09/14/pattern/</td>\n",
       "      <td>1914. Выкройки для раненых</td>\n",
       "      <td>В дополнение к выкройкам белья для раненых, ра...</td>\n",
       "      <td>Библиотека</td>\n",
       "      <td>Первая мировая</td>\n",
       "      <td>2014/09/14</td>\n",
       "    </tr>\n",
       "    <tr>\n",
       "      <th>603</th>\n",
       "      <td>https://lenta.ru/news/2014/12/23/christmas/</td>\n",
       "      <td>1914. Немецкие и британские солдаты отметили п...</td>\n",
       "      <td>24 декабря в Бельгии в районе Ипра произошло н...</td>\n",
       "      <td>Библиотека</td>\n",
       "      <td>Первая мировая</td>\n",
       "      <td>2014/12/23</td>\n",
       "    </tr>\n",
       "    <tr>\n",
       "      <th>604</th>\n",
       "      <td>https://lenta.ru/news/2014/10/21/dobrovolec/</td>\n",
       "      <td>1914. Польский доброволец-герой</td>\n",
       "      <td>В числе поступивших в нашу армию добровольцев ...</td>\n",
       "      <td>Библиотека</td>\n",
       "      <td>Первая мировая</td>\n",
       "      <td>2014/10/21</td>\n",
       "    </tr>\n",
       "    <tr>\n",
       "      <th>605</th>\n",
       "      <td>https://lenta.ru/news/2014/09/18/postoffice/</td>\n",
       "      <td>1914. Письма в действующую армию на деревню де...</td>\n",
       "      <td>За последнее время на имя начальника штаба Вер...</td>\n",
       "      <td>Библиотека</td>\n",
       "      <td>Первая мировая</td>\n",
       "      <td>2014/09/18</td>\n",
       "    </tr>\n",
       "    <tr>\n",
       "      <th>606</th>\n",
       "      <td>https://lenta.ru/news/1914/09/16/lermontov/</td>\n",
       "      <td>1914. Празднование столетия М.Ю. Лермонтова от...</td>\n",
       "      <td>Министерство народного просвещения, в виду про...</td>\n",
       "      <td>Библиотека</td>\n",
       "      <td>Первая мировая</td>\n",
       "      <td>1914/09/16</td>\n",
       "    </tr>\n",
       "  </tbody>\n",
       "</table>\n",
       "<p>607 rows × 6 columns</p>\n",
       "</div>"
      ],
      "text/plain": [
       "                                              url  \\\n",
       "0     https://lenta.ru/news/2010/12/16/passports/   \n",
       "1       https://lenta.ru/news/2014/05/19/student/   \n",
       "2         https://lenta.ru/news/2008/09/27/catch/   \n",
       "3        https://lenta.ru/news/2009/07/23/refuse/   \n",
       "4       https://lenta.ru/news/2012/09/29/factory/   \n",
       "..                                            ...   \n",
       "602     https://lenta.ru/news/2014/09/14/pattern/   \n",
       "603   https://lenta.ru/news/2014/12/23/christmas/   \n",
       "604  https://lenta.ru/news/2014/10/21/dobrovolec/   \n",
       "605  https://lenta.ru/news/2014/09/18/postoffice/   \n",
       "606   https://lenta.ru/news/1914/09/16/lermontov/   \n",
       "\n",
       "                                                 title  \\\n",
       "0       Московская милиция ужесточила паспортный режим   \n",
       "1    Московского студента ограбили на 6 миллионов р...   \n",
       "2            В Ставропольском крае обезврежены боевики   \n",
       "3    Лужков отказался трудоустраивать китайцев с Че...   \n",
       "4       По факту пожара на заводе в Югре заведено дело   \n",
       "..                                                 ...   \n",
       "602                        1914. Выкройки для раненых    \n",
       "603  1914. Немецкие и британские солдаты отметили п...   \n",
       "604                    1914. Польский доброволец-герой   \n",
       "605  1914. Письма в действующую армию на деревню де...   \n",
       "606  1914. Празднование столетия М.Ю. Лермонтова от...   \n",
       "\n",
       "                                                  text       topic  \\\n",
       "0    В Москве после серии массовых беспорядков на н...      Россия   \n",
       "1    Неизвестные вынесли из квартиры московского ст...      Россия   \n",
       "2    В Ставропольском крае задержаны боевики, котор...      Россия   \n",
       "3    Мэр Москвы Юрий Лужков заявил, что не намерен ...      Россия   \n",
       "4    Следственный комитет России возбудил уголовное...      Россия   \n",
       "..                                                 ...         ...   \n",
       "602  В дополнение к выкройкам белья для раненых, ра...  Библиотека   \n",
       "603  24 декабря в Бельгии в районе Ипра произошло н...  Библиотека   \n",
       "604  В числе поступивших в нашу армию добровольцев ...  Библиотека   \n",
       "605  За последнее время на имя начальника штаба Вер...  Библиотека   \n",
       "606  Министерство народного просвещения, в виду про...  Библиотека   \n",
       "\n",
       "               tags        date  \n",
       "0               Все  2010/12/16  \n",
       "1               NaN  2014/05/19  \n",
       "2               Все  2008/09/27  \n",
       "3               Все  2009/07/23  \n",
       "4               Все  2012/09/29  \n",
       "..              ...         ...  \n",
       "602  Первая мировая  2014/09/14  \n",
       "603  Первая мировая  2014/12/23  \n",
       "604  Первая мировая  2014/10/21  \n",
       "605  Первая мировая  2014/09/18  \n",
       "606  Первая мировая  1914/09/16  \n",
       "\n",
       "[607 rows x 6 columns]"
      ]
     },
     "execution_count": 3,
     "metadata": {},
     "output_type": "execute_result"
    }
   ],
   "source": [
    "data"
   ]
  },
  {
   "cell_type": "code",
   "execution_count": 4,
   "id": "4ade1d98-afbd-49b8-a798-be16bdf73794",
   "metadata": {},
   "outputs": [],
   "source": [
    "NUM_CLASSES = 17"
   ]
  },
  {
   "cell_type": "code",
   "execution_count": 5,
   "id": "fdc9ed8d-d901-498d-b7da-19103dccb21a",
   "metadata": {},
   "outputs": [],
   "source": [
    "class Dataset(torch.utils.data.Dataset):\n",
    "\n",
    "    def __init__(self, tokenizer, MAX_LEN, texts, targets):\n",
    "        \n",
    "        self.tokenizer = tokenizer\n",
    "        self.texts = [torch.LongTensor(tokenizer.encode(t)[:MAX_LEN]) for t in texts]\n",
    "        self.texts = torch.nn.utils.rnn.pad_sequence(self.texts, batch_first=True,\n",
    "                                                     padding_value=self.tokenizer.pad_token_id)\n",
    "        \n",
    "        self.MAX_LEN = MAX_LEN\n",
    "        self.length = len(texts)\n",
    "        \n",
    "        self.target = torch.LongTensor(targets)\n",
    "\n",
    "    def __len__(self):\n",
    "        return self.length\n",
    "\n",
    "    def __getitem__(self, index):\n",
    "        ids = self.texts[index]\n",
    "        y = self.target[index]\n",
    "\n",
    "        return ids, y\n"
   ]
  },
  {
   "cell_type": "code",
   "execution_count": 6,
   "id": "e0ad08f6-0046-4717-a743-352e9af2860a",
   "metadata": {},
   "outputs": [],
   "source": [
    "from sklearn.metrics import f1_score\n",
    "\n",
    "def train(model, iterator, optimizer, criterion, print_every=1000):\n",
    "    \n",
    "    epoch_loss = []\n",
    "    epoch_f1 = []\n",
    "    \n",
    "    model.train()  \n",
    "\n",
    "    for i, (texts, ys) in enumerate(iterator):\n",
    "        \n",
    "        optimizer.zero_grad()   \n",
    "        predictions = model(texts.to(device)).squeeze()  \n",
    "        loss = criterion(predictions, ys.to(device))        \n",
    "        \n",
    "        \n",
    "        \n",
    "        loss.backward()\n",
    "        optimizer.step()     \n",
    "        preds = predictions.detach().to('cpu').numpy().argmax(1).tolist()\n",
    "        y_true = ys.tolist()\n",
    "        \n",
    "        epoch_loss.append(loss.item())\n",
    "        epoch_f1.append(f1_score(y_true, preds, average=\"micro\"))\n",
    "        \n",
    "        if not (i+1) % print_every:\n",
    "            print(f'Loss: {np.mean(epoch_loss)}; F1 measure: {np.mean(epoch_f1)}')\n",
    "        \n",
    "    return np.mean(epoch_f1)\n",
    "\n",
    "\n",
    "def evaluate(model, iterator, criterion):\n",
    "    \n",
    "    epoch_loss = []\n",
    "    epoch_f1 = []\n",
    "    pred = []\n",
    "    \n",
    "    model.eval()  \n",
    "    with torch.no_grad():\n",
    "        for texts, ys in iterator:   \n",
    "\n",
    "            predictions = model(texts.to(device)).squeeze()  \n",
    "            loss = criterion(predictions, ys.to(device))        \n",
    "            preds = predictions.detach().to('cpu').numpy().argmax(1).tolist()\n",
    "            y_true = ys.tolist()\n",
    "            \n",
    "\n",
    "            epoch_loss.append(loss.item())  \n",
    "            epoch_f1.append(f1_score(y_true, preds, average=\"micro\"))\n",
    "            pred.extend(preds)\n",
    "            \n",
    "    return np.mean(epoch_f1), pred"
   ]
  },
  {
   "cell_type": "code",
   "execution_count": 24,
   "id": "57976ae8-4858-4b8c-bdd8-ca05026cbbf3",
   "metadata": {},
   "outputs": [],
   "source": [
    "import gc\n",
    "\n",
    "def free_memory():\n",
    "\n",
    "    global model, optimizer\n",
    "    \n",
    "    del model\n",
    "    del optimizer\n",
    "    gc.collect()\n",
    "    torch.cuda.empty_cache()"
   ]
  },
  {
   "cell_type": "code",
   "execution_count": null,
   "id": "743054aa-8539-4560-8053-0e21ea3520ca",
   "metadata": {},
   "outputs": [],
   "source": []
  },
  {
   "cell_type": "code",
   "execution_count": 8,
   "id": "60d702a5-9986-4a99-8b77-87498d9fd472",
   "metadata": {},
   "outputs": [
    {
     "name": "stderr",
     "output_type": "stream",
     "text": [
      "Some weights of the model checkpoint at DeepPavlov/rubert-base-cased were not used when initializing BertModel: ['cls.predictions.bias', 'cls.seq_relationship.bias', 'cls.predictions.decoder.weight', 'cls.predictions.transform.LayerNorm.weight', 'cls.predictions.transform.dense.bias', 'cls.predictions.decoder.bias', 'cls.seq_relationship.weight', 'cls.predictions.transform.LayerNorm.bias', 'cls.predictions.transform.dense.weight']\n",
      "- This IS expected if you are initializing BertModel from the checkpoint of a model trained on another task or with another architecture (e.g. initializing a BertForSequenceClassification model from a BertForPreTraining model).\n",
      "- This IS NOT expected if you are initializing BertModel from the checkpoint of a model that you expect to be exactly identical (initializing a BertForSequenceClassification model from a BertForSequenceClassification model).\n"
     ]
    }
   ],
   "source": [
    "# # Rubert - от IPavlov\n",
    "tokenizer = AutoTokenizer.from_pretrained(\"DeepPavlov/rubert-base-cased\")\n",
    "model_bert = AutoModel.from_pretrained(\"DeepPavlov/rubert-base-cased\").to(torch.device('cuda'))"
   ]
  },
  {
   "cell_type": "code",
   "execution_count": 9,
   "id": "8e95bce0-e52c-49df-b67d-a5f05b4480d5",
   "metadata": {},
   "outputs": [],
   "source": [
    "MAX_LEN = 512"
   ]
  },
  {
   "cell_type": "code",
   "execution_count": 10,
   "id": "682fd7b6-83a7-4bc5-a314-a6f8c3ffe5bc",
   "metadata": {},
   "outputs": [],
   "source": [
    "texts = data.title.values\n",
    "id2label = {i:l for i,l in enumerate(set(data.topic))}\n",
    "label2id = {l:i for i,l in id2label.items()}\n",
    "targets = [label2id[l] for l in data.topic]"
   ]
  },
  {
   "cell_type": "code",
   "execution_count": 11,
   "id": "a7a73677-d8e9-4289-aca1-e4d68b762031",
   "metadata": {},
   "outputs": [],
   "source": [
    "train_texts, valid_texts, train_targets, valid_targets = train_test_split(texts, targets, test_size=0.05)"
   ]
  },
  {
   "cell_type": "code",
   "execution_count": 13,
   "id": "9299e8a2-60c9-4de3-b48a-8baad5f76095",
   "metadata": {},
   "outputs": [],
   "source": [
    "training_set = Dataset(tokenizer, MAX_LEN, train_texts, train_targets)\n",
    "training_generator = torch.utils.data.DataLoader(training_set, batch_size=16, shuffle=True, )\n",
    "valid_set = Dataset(tokenizer, MAX_LEN, valid_texts, valid_targets)\n",
    "valid_generator = torch.utils.data.DataLoader(valid_set, batch_size=16, shuffle=True)"
   ]
  },
  {
   "cell_type": "code",
   "execution_count": 14,
   "id": "004915e9-9969-4520-80a8-d3c6d6171ef8",
   "metadata": {},
   "outputs": [],
   "source": [
    "class CLF(nn.Module):\n",
    "    \n",
    "    def __init__(self, pretrained_model, input_layer, coef, num_classes):\n",
    "        super().__init__()          \n",
    "        self.tokenizer = tokenizer # токенизатор\n",
    "        self.pretrained_model = pretrained_model # предобученная модель\n",
    "        #\n",
    "        self.drop = nn.Dropout(0.4) # добавим дропаут чтобы не переобучалось\n",
    "        self.fc = nn.Sequential(*[nn.Linear(input_layer, int(coef*input_layer)),\n",
    "                                 nn.LayerNorm(int(coef*input_layer)),\n",
    "                                nn.LeakyReLU(),\n",
    "                                 nn.Linear(int(coef*input_layer), num_classes)])\n",
    "        self.act = nn.LogSoftmax(1) \n",
    "        \n",
    "    def forward(self, texts):\n",
    "        \n",
    "        mask = (texts != tokenizer.pad_token_id).long()\n",
    "        \n",
    "        # прогоняем через BERT\n",
    "        hidden = self.pretrained_model(texts, attention_mask=mask)[0]\n",
    "        \n",
    "        dense_outputs=self.fc(self.drop(torch.mean(hidden, axis = 1)))\n",
    "        outputs=self.act(dense_outputs)\n",
    "        \n",
    "        return outputs"
   ]
  },
  {
   "cell_type": "code",
   "execution_count": 345,
   "id": "46e10517-1d49-45c6-83de-d4f9c168903f",
   "metadata": {},
   "outputs": [],
   "source": [
    "free_memory()"
   ]
  },
  {
   "cell_type": "code",
   "execution_count": 15,
   "id": "cc545aba-623e-493e-aacc-34aedeb6a3da",
   "metadata": {},
   "outputs": [],
   "source": [
    "device = torch.device('cuda' if torch.cuda.is_available() else 'cpu')  \n",
    "model = CLF(model_bert, 768, 1.1, NUM_CLASSES)\n",
    "# define different lr for base model and classifier\n",
    "optimizer = optim.Adam([{'params': model.pretrained_model.parameters(), \"lr\": 1e-6},\n",
    "                       {'params': model.fc.parameters(), 'lr': 1e-4}], \n",
    "                       amsgrad=True)\n",
    "criterion = nn.NLLLoss() \n",
    "model = model.to(device)\n",
    "criterion = criterion.to(device)"
   ]
  },
  {
   "cell_type": "code",
   "execution_count": 16,
   "id": "af8da5f1-c995-48e6-b474-eaa6393b6125",
   "metadata": {},
   "outputs": [],
   "source": [
    "EPOCHS = 30"
   ]
  },
  {
   "cell_type": "code",
   "execution_count": 17,
   "id": "5b591207-bd15-41d3-a8e0-a0a6b062d94f",
   "metadata": {},
   "outputs": [
    {
     "name": "stdout",
     "output_type": "stream",
     "text": [
      "No finetuning, Eval -  0.0646\n"
     ]
    }
   ],
   "source": [
    "evl, preds = evaluate(model, valid_generator, criterion)\n",
    "print(f'No finetuning, Eval - {evl: .4f}')"
   ]
  },
  {
   "cell_type": "code",
   "execution_count": 18,
   "id": "0edf624a-87f1-4e10-a91f-0c190fb3c904",
   "metadata": {},
   "outputs": [
    {
     "name": "stdout",
     "output_type": "stream",
     "text": [
      "Epoch - 0, Eval -  0.4875\n",
      "Epoch - 1, Eval -  0.5104\n",
      "Epoch - 2, Eval -  0.5500\n",
      "Epoch - 3, Eval -  0.5875\n",
      "Epoch - 4, Eval -  0.6167\n",
      "Epoch - 5, Eval -  0.5792\n",
      "Epoch - 6, Eval -  0.6167\n",
      "Epoch - 7, Eval -  0.6458\n",
      "Epoch - 8, Eval -  0.6500\n",
      "Epoch - 9, Eval -  0.6438\n",
      "Epoch - 10, Eval -  0.6125\n",
      "Epoch - 11, Eval -  0.6062\n",
      "Epoch - 12, Eval -  0.6104\n",
      "Epoch - 13, Eval -  0.5792\n",
      "Epoch - 14, Eval -  0.5750\n",
      "Epoch - 15, Eval -  0.5437\n",
      "Epoch - 16, Eval -  0.5813\n",
      "Epoch - 17, Eval -  0.5813\n",
      "Epoch - 18, Eval -  0.5813\n",
      "Epoch - 19, Eval -  0.5396\n",
      "Epoch - 20, Eval -  0.5813\n",
      "Epoch - 21, Eval -  0.5437\n",
      "Epoch - 22, Eval -  0.5500\n",
      "Epoch - 23, Eval -  0.5813\n",
      "Epoch - 24, Eval -  0.5479\n",
      "Epoch - 25, Eval -  0.6104\n",
      "Epoch - 26, Eval -  0.5521\n",
      "Epoch - 27, Eval -  0.5458\n",
      "Epoch - 28, Eval -  0.5500\n",
      "Epoch - 29, Eval -  0.5521\n"
     ]
    }
   ],
   "source": [
    "f1s = []\n",
    "f1s_eval = []\n",
    "\n",
    "for i in range(EPOCHS):\n",
    "    f1s.append(train(model, training_generator, optimizer, criterion, 400))\n",
    "    evl, preds = evaluate(model, valid_generator, criterion)\n",
    "    print(f'Epoch - {i}, Eval - {evl: .4f}')\n",
    "    f1s_eval.append(evl)"
   ]
  },
  {
   "cell_type": "code",
   "execution_count": 19,
   "id": "3f459e31-d64d-4748-8000-e5c28bb2b7ab",
   "metadata": {},
   "outputs": [
    {
     "data": {
      "image/png": "[encoded data removed]",
      "text/plain": [
       "<Figure size 640x480 with 1 Axes>"
      ]
     },
     "metadata": {},
     "output_type": "display_data"
    }
   ],
   "source": [
    "plt.plot(f1s)\n",
    "plt.plot(f1s_eval)\n",
    "plt.title('model f1 micro')\n",
    "plt.ylabel('f1')\n",
    "plt.xlabel('epoch')\n",
    "plt.legend(['train', 'val'], loc='upper left')\n",
    "plt.show()"
   ]
  },
  {
   "cell_type": "code",
   "execution_count": 20,
   "id": "fdfc6bf9-8438-497d-a62e-74044d14c383",
   "metadata": {},
   "outputs": [
    {
     "data": {
      "text/plain": [
       "0.65"
      ]
     },
     "execution_count": 20,
     "metadata": {},
     "output_type": "execute_result"
    }
   ],
   "source": [
    "max(f1s_eval)"
   ]
  },
  {
   "cell_type": "markdown",
   "id": "69334340-7f95-49dc-a65d-f5b70da959b3",
   "metadata": {},
   "source": [
    "### let's try another model"
   ]
  },
  {
   "cell_type": "code",
   "execution_count": 21,
   "id": "c2c7aa18-33e5-49f6-ba0f-4c641769dbfc",
   "metadata": {},
   "outputs": [],
   "source": [
    "from transformers import AutoTokenizer, AutoModelForPreTraining\n",
    "\n",
    "tokenizer = AutoTokenizer.from_pretrained(\"cointegrated/rubert-tiny\")\n",
    "model_bert = AutoModelForPreTraining.from_pretrained(\"cointegrated/rubert-tiny\")"
   ]
  },
  {
   "cell_type": "code",
   "execution_count": 22,
   "id": "49ffb8e1-e627-4cb8-a9f9-dd5aa16a0d49",
   "metadata": {
    "scrolled": true
   },
   "outputs": [
    {
     "data": {
      "text/plain": [
       "BertForPreTraining(\n",
       "  (bert): BertModel(\n",
       "    (embeddings): BertEmbeddings(\n",
       "      (word_embeddings): Embedding(29564, 312, padding_idx=0)\n",
       "      (position_embeddings): Embedding(512, 312)\n",
       "      (token_type_embeddings): Embedding(2, 312)\n",
       "      (LayerNorm): LayerNorm((312,), eps=1e-12, elementwise_affine=True)\n",
       "      (dropout): Dropout(p=0.1, inplace=False)\n",
       "    )\n",
       "    (encoder): BertEncoder(\n",
       "      (layer): ModuleList(\n",
       "        (0-2): 3 x BertLayer(\n",
       "          (attention): BertAttention(\n",
       "            (self): BertSelfAttention(\n",
       "              (query): Linear(in_features=312, out_features=312, bias=True)\n",
       "              (key): Linear(in_features=312, out_features=312, bias=True)\n",
       "              (value): Linear(in_features=312, out_features=312, bias=True)\n",
       "              (dropout): Dropout(p=0.1, inplace=False)\n",
       "            )\n",
       "            (output): BertSelfOutput(\n",
       "              (dense): Linear(in_features=312, out_features=312, bias=True)\n",
       "              (LayerNorm): LayerNorm((312,), eps=1e-12, elementwise_affine=True)\n",
       "              (dropout): Dropout(p=0.1, inplace=False)\n",
       "            )\n",
       "          )\n",
       "          (intermediate): BertIntermediate(\n",
       "            (dense): Linear(in_features=312, out_features=600, bias=True)\n",
       "            (intermediate_act_fn): GELUActivation()\n",
       "          )\n",
       "          (output): BertOutput(\n",
       "            (dense): Linear(in_features=600, out_features=312, bias=True)\n",
       "            (LayerNorm): LayerNorm((312,), eps=1e-12, elementwise_affine=True)\n",
       "            (dropout): Dropout(p=0.1, inplace=False)\n",
       "          )\n",
       "        )\n",
       "      )\n",
       "    )\n",
       "    (pooler): BertPooler(\n",
       "      (dense): Linear(in_features=312, out_features=312, bias=True)\n",
       "      (activation): Tanh()\n",
       "    )\n",
       "  )\n",
       "  (cls): BertPreTrainingHeads(\n",
       "    (predictions): BertLMPredictionHead(\n",
       "      (transform): BertPredictionHeadTransform(\n",
       "        (dense): Linear(in_features=312, out_features=312, bias=True)\n",
       "        (transform_act_fn): GELUActivation()\n",
       "        (LayerNorm): LayerNorm((312,), eps=1e-12, elementwise_affine=True)\n",
       "      )\n",
       "      (decoder): Linear(in_features=312, out_features=29564, bias=True)\n",
       "    )\n",
       "    (seq_relationship): Linear(in_features=312, out_features=2, bias=True)\n",
       "  )\n",
       ")"
      ]
     },
     "execution_count": 22,
     "metadata": {},
     "output_type": "execute_result"
    }
   ],
   "source": [
    "model_bert"
   ]
  },
  {
   "cell_type": "code",
   "execution_count": null,
   "id": "f043bf7f-cd77-4460-80b1-28a8276b829b",
   "metadata": {},
   "outputs": [],
   "source": []
  },
  {
   "cell_type": "code",
   "execution_count": 89,
   "id": "e2845c5c-ca25-44f1-93f1-809c13e5dee8",
   "metadata": {},
   "outputs": [],
   "source": [
    "free_memory()"
   ]
  },
  {
   "cell_type": "code",
   "execution_count": 90,
   "id": "8a0d1d4d-0dab-44be-bc24-f4715fd7b646",
   "metadata": {},
   "outputs": [],
   "source": [
    "training_set = Dataset(tokenizer, MAX_LEN, train_texts, train_targets)\n",
    "training_generator = torch.utils.data.DataLoader(training_set, batch_size=16, shuffle=True, )\n",
    "valid_set = Dataset(tokenizer, MAX_LEN, valid_texts, valid_targets)\n",
    "valid_generator = torch.utils.data.DataLoader(valid_set, batch_size=16, shuffle=True)"
   ]
  },
  {
   "cell_type": "code",
   "execution_count": 91,
   "id": "9dc1e5b2-ab66-49ce-ab2c-eb1bbfa172e8",
   "metadata": {},
   "outputs": [],
   "source": [
    "device = torch.device('cuda' if torch.cuda.is_available() else 'cpu')  \n",
    "model = CLF(model_bert.bert, 312, 0.1, NUM_CLASSES)\n",
    "# define different lr for base model and classifier\n",
    "optimizer = optim.Adam([{'params': model.pretrained_model.parameters(), \"lr\": 3e-7},\n",
    "                       {'params': model.fc.parameters(), 'lr': 2e-3}], \n",
    "                        amsgrad = True)\n",
    "criterion = nn.NLLLoss() \n",
    "model = model.to(device)\n",
    "criterion = criterion.to(device)"
   ]
  },
  {
   "cell_type": "code",
   "execution_count": 92,
   "id": "505f4a02-2d66-49bc-9395-2a538e9b67e8",
   "metadata": {},
   "outputs": [],
   "source": [
    "EPOCHS = 30"
   ]
  },
  {
   "cell_type": "code",
   "execution_count": 93,
   "id": "e04d098c-d6e4-4c5e-8ece-f513be5cbad6",
   "metadata": {},
   "outputs": [
    {
     "name": "stdout",
     "output_type": "stream",
     "text": [
      "No finetuning, Eval -  0.0958\n"
     ]
    }
   ],
   "source": [
    "evl, preds = evaluate(model, valid_generator, criterion)\n",
    "print(f'No finetuning, Eval - {evl: .4f}')"
   ]
  },
  {
   "cell_type": "code",
   "execution_count": 94,
   "id": "6c11a5ed-25b8-43f4-957c-c0f7ca138044",
   "metadata": {},
   "outputs": [
    {
     "name": "stdout",
     "output_type": "stream",
     "text": [
      "Epoch - 0, Eval -  0.3563\n",
      "Epoch - 1, Eval -  0.3521\n",
      "Epoch - 2, Eval -  0.3854\n",
      "Epoch - 3, Eval -  0.3854\n",
      "Epoch - 4, Eval -  0.3563\n",
      "Epoch - 5, Eval -  0.3583\n",
      "Epoch - 6, Eval -  0.3229\n",
      "Epoch - 7, Eval -  0.2896\n",
      "Epoch - 8, Eval -  0.2625\n",
      "Epoch - 9, Eval -  0.3229\n",
      "Epoch - 10, Eval -  0.2979\n",
      "Epoch - 11, Eval -  0.3187\n",
      "Epoch - 12, Eval -  0.2604\n",
      "Epoch - 13, Eval -  0.2583\n",
      "Epoch - 14, Eval -  0.3208\n",
      "Epoch - 15, Eval -  0.3229\n",
      "Epoch - 16, Eval -  0.2562\n",
      "Epoch - 17, Eval -  0.3271\n",
      "Epoch - 18, Eval -  0.3187\n",
      "Epoch - 19, Eval -  0.3542\n",
      "Epoch - 20, Eval -  0.3208\n",
      "Epoch - 21, Eval -  0.3229\n",
      "Epoch - 22, Eval -  0.2917\n",
      "Epoch - 23, Eval -  0.2896\n",
      "Epoch - 24, Eval -  0.3229\n",
      "Epoch - 25, Eval -  0.3583\n",
      "Epoch - 26, Eval -  0.3563\n",
      "Epoch - 27, Eval -  0.3229\n",
      "Epoch - 28, Eval -  0.3167\n",
      "Epoch - 29, Eval -  0.3208\n"
     ]
    }
   ],
   "source": [
    "f1s = []\n",
    "f1s_eval = []\n",
    "\n",
    "for i in range(EPOCHS):\n",
    "    f1s.append(train(model, training_generator, optimizer, criterion, 400))\n",
    "    evl, preds = evaluate(model, valid_generator, criterion)\n",
    "    print(f'Epoch - {i}, Eval - {evl: .4f}')\n",
    "    f1s_eval.append(evl)"
   ]
  },
  {
   "cell_type": "code",
   "execution_count": 95,
   "id": "90adbbe5-32a1-4d2d-9b46-e2188cb218b4",
   "metadata": {},
   "outputs": [
    {
     "data": {
      "image/png": "[encoded data removed]",
      "text/plain": [
       "<Figure size 640x480 with 1 Axes>"
      ]
     },
     "metadata": {},
     "output_type": "display_data"
    }
   ],
   "source": [
    "plt.plot(f1s)\n",
    "plt.plot(f1s_eval)\n",
    "plt.title('model f1 micro')\n",
    "plt.ylabel('f1')\n",
    "plt.xlabel('epoch')\n",
    "plt.legend(['train', 'val'], loc='upper left')\n",
    "plt.show()"
   ]
  },
  {
   "cell_type": "code",
   "execution_count": 96,
   "id": "db2fefdc-c927-4a9f-90f6-9117566f6f5d",
   "metadata": {},
   "outputs": [
    {
     "data": {
      "text/plain": [
       "0.38541666666666663"
      ]
     },
     "execution_count": 96,
     "metadata": {},
     "output_type": "execute_result"
    }
   ],
   "source": [
    "max(f1s_eval)"
   ]
  },
  {
   "cell_type": "code",
   "execution_count": null,
   "id": "b548c6e5-a848-486c-b28b-cb63bd7c8df6",
   "metadata": {},
   "outputs": [],
   "source": []
  },
  {
   "cell_type": "markdown",
   "id": "c6fea8d2-b367-458b-bb64-6b4e8a92fed2",
   "metadata": {},
   "source": [
    "### And another one"
   ]
  },
  {
   "cell_type": "code",
   "execution_count": 104,
   "id": "74990717-c3b5-4430-a36e-5cda0b6e4839",
   "metadata": {},
   "outputs": [
    {
     "name": "stderr",
     "output_type": "stream",
     "text": [
      "Some weights of the model checkpoint at FacebookAI/xlm-roberta-base were not used when initializing XLMRobertaForMaskedLM: ['roberta.pooler.dense.bias', 'roberta.pooler.dense.weight']\n",
      "- This IS expected if you are initializing XLMRobertaForMaskedLM from the checkpoint of a model trained on another task or with another architecture (e.g. initializing a BertForSequenceClassification model from a BertForPreTraining model).\n",
      "- This IS NOT expected if you are initializing XLMRobertaForMaskedLM from the checkpoint of a model that you expect to be exactly identical (initializing a BertForSequenceClassification model from a BertForSequenceClassification model).\n"
     ]
    }
   ],
   "source": [
    "from transformers import AutoModelForMaskedLM\n",
    "\n",
    "tokenizer = AutoTokenizer.from_pretrained(\"FacebookAI/xlm-roberta-base\")\n",
    "model_bert = AutoModelForMaskedLM.from_pretrained(\"FacebookAI/xlm-roberta-base\")"
   ]
  },
  {
   "cell_type": "code",
   "execution_count": 107,
   "id": "f2fba700-2ee8-4349-8d8f-ba60b6ef3406",
   "metadata": {},
   "outputs": [
    {
     "data": {
      "text/plain": [
       "XLMRobertaForMaskedLM(\n",
       "  (roberta): XLMRobertaModel(\n",
       "    (embeddings): XLMRobertaEmbeddings(\n",
       "      (word_embeddings): Embedding(250002, 768, padding_idx=1)\n",
       "      (position_embeddings): Embedding(514, 768, padding_idx=1)\n",
       "      (token_type_embeddings): Embedding(1, 768)\n",
       "      (LayerNorm): LayerNorm((768,), eps=1e-05, elementwise_affine=True)\n",
       "      (dropout): Dropout(p=0.1, inplace=False)\n",
       "    )\n",
       "    (encoder): XLMRobertaEncoder(\n",
       "      (layer): ModuleList(\n",
       "        (0-11): 12 x XLMRobertaLayer(\n",
       "          (attention): XLMRobertaAttention(\n",
       "            (self): XLMRobertaSelfAttention(\n",
       "              (query): Linear(in_features=768, out_features=768, bias=True)\n",
       "              (key): Linear(in_features=768, out_features=768, bias=True)\n",
       "              (value): Linear(in_features=768, out_features=768, bias=True)\n",
       "              (dropout): Dropout(p=0.1, inplace=False)\n",
       "            )\n",
       "            (output): XLMRobertaSelfOutput(\n",
       "              (dense): Linear(in_features=768, out_features=768, bias=True)\n",
       "              (LayerNorm): LayerNorm((768,), eps=1e-05, elementwise_affine=True)\n",
       "              (dropout): Dropout(p=0.1, inplace=False)\n",
       "            )\n",
       "          )\n",
       "          (intermediate): XLMRobertaIntermediate(\n",
       "            (dense): Linear(in_features=768, out_features=3072, bias=True)\n",
       "            (intermediate_act_fn): GELUActivation()\n",
       "          )\n",
       "          (output): XLMRobertaOutput(\n",
       "            (dense): Linear(in_features=3072, out_features=768, bias=True)\n",
       "            (LayerNorm): LayerNorm((768,), eps=1e-05, elementwise_affine=True)\n",
       "            (dropout): Dropout(p=0.1, inplace=False)\n",
       "          )\n",
       "        )\n",
       "      )\n",
       "    )\n",
       "  )\n",
       "  (lm_head): XLMRobertaLMHead(\n",
       "    (dense): Linear(in_features=768, out_features=768, bias=True)\n",
       "    (layer_norm): LayerNorm((768,), eps=1e-05, elementwise_affine=True)\n",
       "    (decoder): Linear(in_features=768, out_features=250002, bias=True)\n",
       "  )\n",
       ")"
      ]
     },
     "execution_count": 107,
     "metadata": {},
     "output_type": "execute_result"
    }
   ],
   "source": [
    "model_bert"
   ]
  },
  {
   "cell_type": "code",
   "execution_count": null,
   "id": "bf27add6-b491-4439-b90e-2b5651198448",
   "metadata": {},
   "outputs": [],
   "source": [
    "free_memory()"
   ]
  },
  {
   "cell_type": "code",
   "execution_count": 108,
   "id": "7b8cb71f-9621-4934-af49-f8d7fb9bba67",
   "metadata": {},
   "outputs": [],
   "source": [
    "training_set = Dataset(tokenizer, MAX_LEN, train_texts, train_targets)\n",
    "training_generator = torch.utils.data.DataLoader(training_set, batch_size=16, shuffle=True, )\n",
    "valid_set = Dataset(tokenizer, MAX_LEN, valid_texts, valid_targets)\n",
    "valid_generator = torch.utils.data.DataLoader(valid_set, batch_size=16, shuffle=True)"
   ]
  },
  {
   "cell_type": "code",
   "execution_count": 123,
   "id": "c9278fda-bccf-454a-8af3-15f82151ce74",
   "metadata": {},
   "outputs": [],
   "source": [
    "device = torch.device('cuda' if torch.cuda.is_available() else 'cpu')  \n",
    "model = CLF(model_bert.roberta, 768, 1.5, NUM_CLASSES)\n",
    "# define different lr for base model and classifier\n",
    "optimizer = optim.Adam([{'params': model.pretrained_model.parameters(), \"lr\": 3e-8},\n",
    "                       {'params': model.fc.parameters(), 'lr': 2e-3}], \n",
    "                        amsgrad = True)\n",
    "criterion = nn.NLLLoss() \n",
    "model = model.to(device)\n",
    "criterion = criterion.to(device)"
   ]
  },
  {
   "cell_type": "code",
   "execution_count": 124,
   "id": "e8f8238c-a703-43a8-8ad6-a5e961d6518d",
   "metadata": {},
   "outputs": [],
   "source": [
    "EPOCHS = 50"
   ]
  },
  {
   "cell_type": "code",
   "execution_count": 125,
   "id": "919cec37-bc01-4dc0-b307-f1b538ed94b9",
   "metadata": {},
   "outputs": [
    {
     "name": "stdout",
     "output_type": "stream",
     "text": [
      "No finetuning, Eval -  0.0000\n"
     ]
    }
   ],
   "source": [
    "evl, preds = evaluate(model, valid_generator, criterion)\n",
    "print(f'No finetuning, Eval - {evl: .4f}')"
   ]
  },
  {
   "cell_type": "code",
   "execution_count": 126,
   "id": "4e95fca5-33f8-4b74-9561-78318f5a4737",
   "metadata": {},
   "outputs": [
    {
     "name": "stdout",
     "output_type": "stream",
     "text": [
      "Epoch - 0, Eval -  0.3542\n",
      "Epoch - 1, Eval -  0.5146\n",
      "Epoch - 2, Eval -  0.5104\n",
      "Epoch - 3, Eval -  0.5813\n",
      "Epoch - 4, Eval -  0.6167\n",
      "Epoch - 5, Eval -  0.4458\n",
      "Epoch - 6, Eval -  0.5792\n",
      "Epoch - 7, Eval -  0.7146\n",
      "Epoch - 8, Eval -  0.5125\n",
      "Epoch - 9, Eval -  0.6417\n",
      "Epoch - 10, Eval -  0.5833\n",
      "Epoch - 11, Eval -  0.6104\n",
      "Epoch - 12, Eval -  0.6146\n",
      "Epoch - 13, Eval -  0.5500\n",
      "Epoch - 14, Eval -  0.5500\n",
      "Epoch - 15, Eval -  0.5500\n",
      "Epoch - 16, Eval -  0.5750\n",
      "Epoch - 17, Eval -  0.5479\n",
      "Epoch - 18, Eval -  0.5833\n",
      "Epoch - 19, Eval -  0.5750\n",
      "Epoch - 20, Eval -  0.5792\n",
      "Epoch - 21, Eval -  0.6125\n",
      "Epoch - 22, Eval -  0.6792\n",
      "Epoch - 23, Eval -  0.5813\n",
      "Epoch - 24, Eval -  0.6146\n",
      "Epoch - 25, Eval -  0.6167\n",
      "Epoch - 26, Eval -  0.5792\n",
      "Epoch - 27, Eval -  0.6125\n",
      "Epoch - 28, Eval -  0.6125\n",
      "Epoch - 29, Eval -  0.6104\n",
      "Epoch - 30, Eval -  0.6125\n",
      "Epoch - 31, Eval -  0.6438\n",
      "Epoch - 32, Eval -  0.5750\n",
      "Epoch - 33, Eval -  0.6125\n",
      "Epoch - 34, Eval -  0.6167\n",
      "Epoch - 35, Eval -  0.6146\n",
      "Epoch - 36, Eval -  0.6146\n",
      "Epoch - 37, Eval -  0.5771\n",
      "Epoch - 38, Eval -  0.6771\n",
      "Epoch - 39, Eval -  0.6188\n",
      "Epoch - 40, Eval -  0.6438\n",
      "Epoch - 41, Eval -  0.6104\n",
      "Epoch - 42, Eval -  0.6146\n",
      "Epoch - 43, Eval -  0.6417\n",
      "Epoch - 44, Eval -  0.6167\n",
      "Epoch - 45, Eval -  0.6438\n",
      "Epoch - 46, Eval -  0.6125\n",
      "Epoch - 47, Eval -  0.6146\n",
      "Epoch - 48, Eval -  0.6417\n",
      "Epoch - 49, Eval -  0.6062\n"
     ]
    }
   ],
   "source": [
    "f1s = []\n",
    "f1s_eval = []\n",
    "\n",
    "for i in range(EPOCHS):\n",
    "    f1s.append(train(model, training_generator, optimizer, criterion, 400))\n",
    "    evl, preds = evaluate(model, valid_generator, criterion)\n",
    "    print(f'Epoch - {i}, Eval - {evl: .4f}')\n",
    "    f1s_eval.append(evl)"
   ]
  },
  {
   "cell_type": "code",
   "execution_count": 127,
   "id": "8769a7e1-c04b-4643-803f-7d177ae3b12e",
   "metadata": {},
   "outputs": [
    {
     "data": {
      "image/png": "[encoded data removed]",
      "text/plain": [
       "<Figure size 640x480 with 1 Axes>"
      ]
     },
     "metadata": {},
     "output_type": "display_data"
    }
   ],
   "source": [
    "plt.plot(f1s)\n",
    "plt.plot(f1s_eval)\n",
    "plt.title('model f1 micro')\n",
    "plt.ylabel('f1')\n",
    "plt.xlabel('epoch')\n",
    "plt.legend(['train', 'val'], loc='upper left')\n",
    "plt.show()"
   ]
  },
  {
   "cell_type": "code",
   "execution_count": 128,
   "id": "09324671-66fe-498a-82e1-079fd3377a1c",
   "metadata": {},
   "outputs": [
    {
     "data": {
      "text/plain": [
       "0.7145833333333333"
      ]
     },
     "execution_count": 128,
     "metadata": {},
     "output_type": "execute_result"
    }
   ],
   "source": [
    "max(f1s_eval)"
   ]
  },
  {
   "cell_type": "code",
   "execution_count": 129,
   "id": "e2da6408-c6b8-4744-bdef-85b7d53d4e29",
   "metadata": {},
   "outputs": [],
   "source": [
    "free_memory()"
   ]
  },
  {
   "cell_type": "markdown",
   "id": "ccd57972-4f79-4423-85d2-9c1a1a639ba2",
   "metadata": {},
   "source": [
    "### В целом, результат близок к результатам первой модели -- если поподбирать параметры инициализации, lr и слои, то в целом результат будет примерно идентичным -- понять больше по столь небольшому датасету будет уже весьма затруднительно"
   ]
  },
  {
   "cell_type": "markdown",
   "id": "76f21d5e",
   "metadata": {},
   "source": [
    "### Задание 2 (5 баллов).\n",
    "\n",
    "Это задание основано на этой тетрадке - https://github.com/mannefedov/compling_nlp_hse_course/blob/master/notebooks/gpt/gpt.ipynb\n",
    "\n",
    "Попробуйте дообучать GPT на каком-то другом тексте (можете попробовать любые стихи или какие-то специфичные вещи вроде анекдотов или репа). \n",
    "Попробуйте разные методы и параметры генерации (beam search, температура, top_k и тп). Сохраните в тетрадке несколько хороших сгенерированных текстов. \n",
    "\n",
    "Можете использовать другую модель.\n"
   ]
  },
  {
   "cell_type": "code",
   "execution_count": 2,
   "id": "2444e3fe",
   "metadata": {},
   "outputs": [
    {
     "name": "stdout",
     "output_type": "stream",
     "text": [
      "--2024-03-10 23:54:03--  https://raw.githubusercontent.com/mannefedov/compling_nlp_hse_course/master/notebooks/gpt/gpt.ipynb\n",
      "Resolving raw.githubusercontent.com (raw.githubusercontent.com)... 185.199.109.133, 185.199.108.133, 185.199.110.133, ...\n",
      "Connecting to raw.githubusercontent.com (raw.githubusercontent.com)|185.199.109.133|:443... connected.\n",
      "HTTP request sent, awaiting response... 200 OK\n",
      "Length: 153697 (150K) [text/plain]\n",
      "Saving to: ‘gpt.ipynb’\n",
      "\n",
      "gpt.ipynb           100%[===================>] 150.09K  --.-KB/s    in 0.08s   \n",
      "\n",
      "2024-03-10 23:54:04 (1.83 MB/s) - ‘gpt.ipynb’ saved [153697/153697]\n",
      "\n"
     ]
    }
   ],
   "source": [
    "! wget https://raw.githubusercontent.com/mannefedov/compling_nlp_hse_course/master/notebooks/gpt/gpt.ipynb"
   ]
  },
  {
   "cell_type": "code",
   "execution_count": null,
   "id": "cbed5806-b339-4a62-8f4c-d69bf8b6616b",
   "metadata": {},
   "outputs": [],
   "source": []
  },
  {
   "cell_type": "code",
   "execution_count": 1,
   "id": "2195deda-c846-4d91-acec-029ca57b4463",
   "metadata": {},
   "outputs": [],
   "source": [
    "from transformers.utils import logging"
   ]
  },
  {
   "cell_type": "code",
   "execution_count": 57,
   "id": "842f96bd-57f3-496c-b052-72961fe792f0",
   "metadata": {
    "colab": {
     "base_uri": "https://localhost:8080/",
     "height": 145,
     "referenced_widgets": [
      "96ac77080f7549ada8766e410d23222d",
      "0938a7c611b6440d9714276e141c15b2",
      "7d91668bcb2249a5b7f51ac4f01e788c",
      "d1cff9892559462caf392e649c2f0678",
      "45db1852461e4bc8afebc3e68fa1c9d1",
      "7934ef4104504150b8517c89388ea8ba",
      "3b20f4b7831b4552b2aa30051240b92d",
      "a175189a20e94be7bb023a75907ade67",
      "bc8fe6e774c642aaa108e0c17fbad6ae",
      "cf3da01313ee47cfaf5719903a3ad490",
      "755436d86b9e4568a7aac0c0cf85c632",
      "3e4207c9c289439face31c6e890d8089",
      "bcf320c957434e54813f884297adbbb6",
      "f5b2211b17af4c77a9ce6e95a3352f5d",
      "cee986566321432c831ffa971c56fd81",
      "91e31f931c0d47b49bdeb416fc177b61",
      "44136e912ccf4404819837221fb2740a",
      "43a0cab8cb3a4207ac2ba771cbbe94ba",
      "f9ac2f552aa045fd901cca93c9de7d23",
      "4edfa76d94ed420e8e4caf22ce300c54",
      "c58a9b57386e44e48a8a1cd2da98a89c",
      "89f9f6ae76ad4ff3989d8cedc2e4850d",
      "8e5251defb4d43c69919fb4174294401",
      "74e652a213ac4cb8aac4a43faaf74aba",
      "3a47296dbe7a47be8879a9defdf5b2cb",
      "8c7c1e9d3c4045638d3ffb47e9a2cc41",
      "522e32a51b8041a8bd28f9edb64a32d4",
      "fc79ede0f23542558d73bf760370ce27",
      "a439cda0c88b4b6e8f5192611590b768",
      "5475f81ea68c4740a841c1136aed10e4",
      "30b7a00d446e4648b44fdaa7e9f745cb",
      "7d03fdd8286447fdbf82c29f61a5b373",
      "b96316f71c0d430098e49d7f20686416",
      "084a5a10217e4efbad425c92068761d4",
      "1977e8249663447b9f760516322d42ce",
      "e02dd95135464507a938cc148407c663",
      "9a774a3fc707435288b62d7fb62256bc",
      "b256cd47a31c4a8f992a37b2d75845ed",
      "2092578158db4c3384219915b178dfcb",
      "48343e86f78843308aa89f7e377d02f1",
      "b19bfd30bd6649c38db8a5bb6ae68d23",
      "4fc51a537c32427981b81b74ba983975",
      "e69a0e2976c5417e9a14fd59e4ec0a5a",
      "c14203c265234c8eb977a69d97e4c72e"
     ]
    },
    "id": "nVPq82s-5qE1",
    "outputId": "97780898-acc0-49b7-b87b-62ee8335910b"
   },
   "outputs": [],
   "source": [
    "from transformers import GPT2LMHeadModel, GPT2Tokenizer\n",
    "import torch\n",
    "DEVICE = torch.device(\"cuda:0\")\n",
    "\n",
    "# Загружаем модель ruGPT от сбера\n",
    "\n",
    "model_name_or_path = \"Nehc/gpt2_lovecraft_ru\"\n",
    "tokenizer = GPT2Tokenizer.from_pretrained(model_name_or_path)\n",
    "model = GPT2LMHeadModel.from_pretrained(model_name_or_path).to(DEVICE)"
   ]
  },
  {
   "cell_type": "markdown",
   "id": "6e8b0c72-57b1-4ca8-9d7b-e896d8b62529",
   "metadata": {},
   "source": [
    "#### Попробуем погенерить лавкрафтианские стихи, почему бы и нет. Хотя возможно такие стихи скорее попортят генерацию -- как минимум в силу количества повторов"
   ]
  },
  {
   "cell_type": "code",
   "execution_count": 58,
   "id": "687acb7b-f778-4d9b-976c-0b62977f264a",
   "metadata": {
    "id": "gXVpef-eo0O1"
   },
   "outputs": [],
   "source": [
    "text = \"\"\"\n",
    "Мне жалко что я не зверь,\n",
    "бегающий по синей дорожке,\n",
    "говорящий себе поверь,\n",
    "а другому себе подожди немножко,\n",
    "мы выйдем с собой погулять в лес\n",
    "для рассмотрения ничтожных листьев.\n",
    "Мне жалко что я не звезда,\n",
    "бегающая по небосводу,\n",
    "в поисках точного гнезда\n",
    "она находит себя и пустую земную воду,\n",
    "никто не слыхал чтобы звезда издавала скрип,\n",
    "ее назначение ободрять собственным молчанием рыб.\n",
    "Еще есть у меня претензия,\n",
    "что я не ковер, не гортензия.\n",
    "Мне жалко что я не крыша,\n",
    "распадающаяся постепенно,\n",
    "которую дождь размачивает,\n",
    "у которой смерть не мгновенна.\n",
    "Мне не нравится что я смертен,\n",
    "мне жалко что я неточен.\n",
    "Многим многим лучше, поверьте,\n",
    "частица дня единица ночи.\n",
    "Мне жалко что я не орел,\n",
    "перелетающий вершины и вершины,\n",
    "которому на ум взбрел\n",
    "человек, наблюдающий аршины.\n",
    "Мы сядем с тобою ветер\n",
    "на этот камушек смерти.\n",
    "Мне жалко что я не чаша,\n",
    "мне не нравится что я не жалость.\n",
    "Мне жалко что я не роща,\n",
    "которая листьями вооружалась.\n",
    "Мне трудно что я с минутами,\n",
    "меня они страшно запутали.\n",
    "Мне невероятно обидно\n",
    "что меня по-настоящему видно.\n",
    "Еще есть у меня претензия,\n",
    "что я не ковер, не гортензия.\n",
    "Мне страшно что я двигаюсь\n",
    "не так как жуки жуки,\n",
    "как бабочки и коляски\n",
    "и как жуки пауки.\n",
    "Мне страшно что я двигаюсь\n",
    "непохоже на червяка,\n",
    "червяк прорывает в земле норы,\n",
    "заводя с землей разговоры.\n",
    "Земля где твои дела,\n",
    "говорит ей холодный червяк,\n",
    "а земля распоряжаясь покойниками,\n",
    "может быть в ответ молчит,\n",
    "она знает что все не так\n",
    "Мне трудно что я с минутами,\n",
    "они меня страшно запутали.\n",
    "Мне страшно что я не трава трава,\n",
    "мне страшно что я не свеча.\n",
    "Мне страшно что я не свеча трава,\n",
    "на это я отвечал,\n",
    "и мигом качаются дерева.\n",
    "Мне страшно что я при взгляде\n",
    "на две одинаковые вещи\n",
    "не замечаю что они различны,\n",
    "что каждая живет однажды.\n",
    "Мне страшно что я при взгляде\n",
    "на две одинаковые вещи\n",
    "не вижу что они усердно\n",
    "стараются быть похожими.\n",
    "Я вижу искаженный мир,\n",
    "я слышу шепот заглушенных лир,\n",
    "и тут за кончик буквы взяв,\n",
    "я поднимаю слово шкаф,\n",
    "теперь я ставлю шкаф на место,\n",
    "он вещества крутое тесто\n",
    "Мне не нравится что я смертен,\n",
    "мне жалко что я не точен,\n",
    "многим многим лучше, поверьте,\n",
    "частица дня единица ночи\n",
    "Еще есть у меня претензия,\n",
    "что я не ковер, не гортензия.\n",
    "Мы выйдем с собой погулять в лес\n",
    "для рассмотрения ничтожных листьев,\n",
    "мне жалко что на этих листьях\n",
    "я не увижу незаметных слов,\n",
    "называющихся случай, называющихся\n",
    "бессмертие, называющихся вид основ\n",
    "Мне жалко что я не орел,\n",
    "перелетающий вершины и вершины,\n",
    "которому на ум взбрел\n",
    "человек, наблюдающий аршины.\n",
    "Мне страшно что всё приходит в ветхость,\n",
    "и я по сравнению с этим не редкость.\n",
    "Мы сядем с тобою ветер\n",
    "на этот камушек смерти.\n",
    "Кругом как свеча возрастает трава,\n",
    "и мигом качаются дерева.\n",
    "Мне жалко что я семя,\n",
    "мне страшно что я не тучность.\n",
    "Червяк ползет за всеми,\n",
    "он несет однозвучность.\n",
    "Мне страшно что я неизвестность,\n",
    "мне жалко что я не огонь.\n",
    "\n",
    "\"\"\""
   ]
  },
  {
   "cell_type": "markdown",
   "id": "090e0475-9080-4a08-ba04-041773739a76",
   "metadata": {
    "id": "2E4BA56wo9hu"
   },
   "source": [
    "В huggingface уже реализованы все инструменты для дообучения. Даже если вы не знакомы с pytorch разобраться будет не сложно"
   ]
  },
  {
   "cell_type": "code",
   "execution_count": 59,
   "id": "99cafc66-d6f7-4bb0-9763-5cfbcd028d4f",
   "metadata": {
    "colab": {
     "base_uri": "https://localhost:8080/"
    },
    "id": "soPxrXgQpFZQ",
    "outputId": "385a4685-155c-4436-c5c4-8889e9abd350"
   },
   "outputs": [],
   "source": [
    "from transformers import TextDataset, DataCollatorForLanguageModeling\n",
    "\n",
    "# Сохраним обучающие данные в .txt файл \n",
    "train_path = 'train_dataset.txt'\n",
    "with open(train_path, \"w\", encoding=\"utf-8\") as f:\n",
    "    f.write(text)\n",
    "\n",
    "# Создание датасета\n",
    "train_dataset = TextDataset( tokenizer=tokenizer,\n",
    "                            file_path=train_path,\n",
    "                            block_size=64, \n",
    "                            overwrite_cache=True)\n",
    "  \n",
    "# специальный класс который будет подавать в модель данные в нужном ей виде\n",
    "data_collator = DataCollatorForLanguageModeling(tokenizer=tokenizer, mlm=False)"
   ]
  },
  {
   "cell_type": "markdown",
   "id": "4e457249-bcc6-4503-b4b2-5e8869f31dd5",
   "metadata": {},
   "source": [
    "### Попробуем лишь несколько сместить распределение дообучая пару эпох"
   ]
  },
  {
   "cell_type": "code",
   "execution_count": 83,
   "id": "494b2390-f0e2-4b74-b57e-25c4c1c84490",
   "metadata": {
    "id": "sQH4wBW_pN2d"
   },
   "outputs": [
    {
     "name": "stderr",
     "output_type": "stream",
     "text": [
      "/usr/local/lib/python3.10/dist-packages/accelerate/accelerator.py:432: FutureWarning: Passing the following arguments to `Accelerator` is deprecated and will be removed in version 1.0 of Accelerate: dict_keys(['dispatch_batches', 'split_batches']). Please pass an `accelerate.DataLoaderConfiguration` instead: \n",
      "dataloader_config = DataLoaderConfiguration(dispatch_batches=None, split_batches=False)\n",
      "  warnings.warn(\n"
     ]
    }
   ],
   "source": [
    "from transformers import Trainer, TrainingArguments\n",
    "\n",
    "training_args = TrainingArguments( \n",
    "    output_dir= \"./finetuned\",\n",
    "    overwrite_output_dir=True,\n",
    "    num_train_epochs=30, \n",
    "    per_device_train_batch_size=32, \n",
    "    per_device_eval_batch_size=32,  \n",
    "    gradient_accumulation_steps=16, \n",
    "    )\n",
    "\n",
    "\n",
    "trainer = Trainer(\n",
    "    model=model,\n",
    "    args=training_args,\n",
    "    data_collator=data_collator,\n",
    "    train_dataset=train_dataset,\n",
    "    optimizers = (torch.optim.Adam(model.parameters(),lr=3e-6),None) # Optimizer and lr scheduler\n",
    ")"
   ]
  },
  {
   "cell_type": "code",
   "execution_count": 84,
   "id": "9badc460-8d78-46a2-a6aa-a6c395768f49",
   "metadata": {
    "colab": {
     "base_uri": "https://localhost:8080/",
     "height": 327
    },
    "id": "OVtvq4sLq9EG",
    "outputId": "f92c9095-30a2-4396-eede-6eb9a03f680d"
   },
   "outputs": [
    {
     "data": {
      "text/html": [
       "\n",
       "    <div>\n",
       "      \n",
       "      <progress value='30' max='30' style='width:300px; height:20px; vertical-align: middle;'></progress>\n",
       "      [30/30 00:04, Epoch 30/30]\n",
       "    </div>\n",
       "    <table border=\"1\" class=\"dataframe\">\n",
       "  <thead>\n",
       " <tr style=\"text-align: left;\">\n",
       "      <th>Step</th>\n",
       "      <th>Training Loss</th>\n",
       "    </tr>\n",
       "  </thead>\n",
       "  <tbody>\n",
       "  </tbody>\n",
       "</table><p>"
      ],
      "text/plain": [
       "<IPython.core.display.HTML object>"
      ]
     },
     "metadata": {},
     "output_type": "display_data"
    },
    {
     "data": {
      "text/plain": [
       "TrainOutput(global_step=30, training_loss=0.22027637163798014, metrics={'train_runtime': 4.3914, 'train_samples_per_second': 81.978, 'train_steps_per_second': 6.832, 'total_flos': 11758141440000.0, 'train_loss': 0.22027637163798014, 'epoch': 30.0})"
      ]
     },
     "execution_count": 84,
     "metadata": {},
     "output_type": "execute_result"
    }
   ],
   "source": [
    "trainer.train()"
   ]
  },
  {
   "cell_type": "code",
   "execution_count": 72,
   "id": "f3998dd5-d5ab-44e2-9658-5fe727c1b161",
   "metadata": {
    "colab": {
     "base_uri": "https://localhost:8080/"
    },
    "id": "R_qjIcBUrq0j",
    "outputId": "6eabefee-b779-4cae-903b-4fb3af97d224",
    "scrolled": true
   },
   "outputs": [
    {
     "name": "stderr",
     "output_type": "stream",
     "text": [
      "The attention mask and the pad token id were not set. As a consequence, you may observe unexpected behavior. Please pass your input's `attention_mask` to obtain reliable results.\n",
      "Setting `pad_token_id` to `eos_token_id`:50256 for open-end generation.\n"
     ]
    },
    {
     "name": "stdout",
     "output_type": "stream",
     "text": [
      "\n",
      "Мой дядя самых честных правил,\n",
      "Когда не в шутку занемог,\n",
      "Он уважать себя заставил\n",
      "И лучше выдумать не мог.\n",
      "А теперь я вижу:\n",
      "В доме одни лишь люди!\n",
      "Я знаю, что мой дядя\n",
      "Не только из тех, кто живет в лесу,\n",
      "Но еще и из тех, кто живет на земле.\n",
      "Я знаю, что он\n",
      "Забывает о том, что он\n",
      "Свой дом построил.\n",
      "Я знаю, что он\n",
      "Всех своих друзей обманул.\n",
      "Я знаю, что он\n",
      "Не хочет жить в этом мире.\n",
      "Я знаю, что он\n",
      "Потерял все, чего достиг.\n",
      "Только я знаю,\n",
      "Что он\n",
      "Не может больше жить в этом мире.\n",
      "Я знаю, что он\n",
      "Некогда был великим,\n",
      "Но теперь ему пора умирать.\n",
      "Я знаю, что он\n",
      "Не вернется к тому,\n",
      "Чему его учили.\n",
      "Он знает, что он\n",
      "Той же ночью ушел.\n",
      "Я знаю, что он\n",
      "Сбежал от того,\n",
      "Кто его учил.\n",
      "Я знаю, что он\n",
      "Ушел навсегда.\n",
      "Я знаю, что он\n",
      "Не вернется к тому,\n",
      "Чему его учили.\n",
      "Он знает, что он\n",
      "Той же ночью ушел.\n",
      "Я знаю, что он\n",
      "Сбежал от того,\n",
      "Кто его научил.\n",
      "Я знаю, что он\n",
      "Ушел навсегда.\n",
      "Я знаю, что он\n",
      "Не вернется\n"
     ]
    }
   ],
   "source": [
    "text = '''Мой дядя самых честных правил,\n",
    "Когда не в шутку занемог,\n",
    "Он уважать себя заставил\n",
    "И лучше выдумать не мог.\n",
    "'''\n",
    "input_ids = tokenizer.encode(text, return_tensors=\"pt\").to(DEVICE)\n",
    "model.eval()\n",
    "with torch.no_grad():\n",
    "    out = model.generate(input_ids, \n",
    "                        do_sample=True,\n",
    "                        temperature=0.4,\n",
    "                        top_k=40,\n",
    "                        max_length=300,\n",
    "                        repetition_penalty = 1.1\n",
    "                        )\n",
    "\n",
    "generated_text = list(map(tokenizer.decode, out))[0]\n",
    "print()\n",
    "print(generated_text)"
   ]
  },
  {
   "cell_type": "markdown",
   "id": "716de344-48a0-4084-b37a-bec493f473a5",
   "metadata": {},
   "source": [
    "#### А вот это уже, конечно, забавно"
   ]
  },
  {
   "cell_type": "code",
   "execution_count": 77,
   "id": "03b821a0-ee90-4164-a39a-735b518d456e",
   "metadata": {
    "scrolled": true
   },
   "outputs": [
    {
     "name": "stderr",
     "output_type": "stream",
     "text": [
      "The attention mask and the pad token id were not set. As a consequence, you may observe unexpected behavior. Please pass your input's `attention_mask` to obtain reliable results.\n",
      "Setting `pad_token_id` to `eos_token_id`:50256 for open-end generation.\n"
     ]
    },
    {
     "name": "stdout",
     "output_type": "stream",
     "text": [
      "\n",
      "Пьяный геолог не засек ход тектонических плит \n",
      "Пьяный археолог не нашел ход тектонической плиты \n",
      "Пьянствующий геолог не нашел хода тектонической плите \n",
      "Пятнадцатилетние геологи не нашли хода тектоническим плитам \n",
      "Пятьдесят лет назад в Аркхеме была найдена древняя пещера \n",
      "Пятидесятлетние археологи не нашли ход тектоническим плитам \n",
      "Десять лет назад в Антарктике была найдена древнейшая пещера в Антарктике \n",
      "Двенадцать лет назад в Северном Ледовитом океане была найдена самая древняя пещера в мире \n",
      "Девять лет назад в Тихом океане была обнаружена самая древняя в мире пещера в Мискатоникском заливе \n",
      "Девятнадцать лет назад в Индийском океане был найден самый древний в мире пещерный город \n",
      "Двадцать пять лет назад в Гренландии была найдена пещера в Гренландии \n",
      "Тридцать шесть лет назад в Новой Англии была найдена одна из самых древних в мире пещер \n",
      "Тридцатишестидесятые археологи не обнаружили ход тектоническими плитами \n",
      "Двадцатишестнадцатилетняя археология не нашла ход тектонические плитами \n",
      "\n",
      "Пятнадцать лет тому назад в Нью-Йорке был найден самый старый в мире каменный город \n",
      "Семьдесят лет тому назад на острове Пасхи был найден самый большой в мире каменный храм \n",
      "Семидесятишестилетняя археология не обнаружила хода тектоническими плитками \n",
      "Девятидесятишестидесятикилометровая пещера была найдена в Антарктике в районе Антарктики \n",
      "Девяностошестидесятишестнадцатилетней археологии не удалось обнаружить вход в пещеру \n",
      "Семнадцатишестнадцатилетний археолог не смог найти вход в пещеру \n",
      "\n",
      "Пятидесятишестошестнадцатилетним археологам не удалось найти вход в пещеры \n",
      "Семдесятишестистолетняя археолог не смогла найти вход в пещеру \n",
      "Семнадцатьдесятшестилетней археолог не нашла вход в пещеры \n",
      "\n",
      "Пятьсотшестошестилетний археолог не сумел найти вход в пещерную пещеру \n",
      "Шестнадцатишестилетнему археологу не удалось найти выход из пещеры \n",
      "Шестьсотшестисотшестнадцатилетнего археолога не смогли найти выход из пещерной пещеры \n",
      "Тристашестистолетней археологне не\n"
     ]
    }
   ],
   "source": [
    "text = \"Пьяный геолог не засек ход тектонических плит \"\n",
    "input_ids = tokenizer.encode(text, return_tensors=\"pt\").to(DEVICE)\n",
    "model.eval()\n",
    "with torch.no_grad():\n",
    "    out = model.generate(input_ids, \n",
    "                        do_sample=True,\n",
    "                        num_beams=7, top_k=40,\n",
    "                         temperature = .7,\n",
    "                        max_length=500, \n",
    "                         no_repeat_ngram_size=4\n",
    "                        )\n",
    "\n",
    "generated_text = list(map(tokenizer.decode, out))[0]\n",
    "print()\n",
    "print(generated_text)"
   ]
  },
  {
   "cell_type": "code",
   "execution_count": 90,
   "id": "375198e5-93bf-42a9-9590-af788d002f63",
   "metadata": {
    "scrolled": true
   },
   "outputs": [
    {
     "name": "stderr",
     "output_type": "stream",
     "text": [
      "The attention mask and the pad token id were not set. As a consequence, you may observe unexpected behavior. Please pass your input's `attention_mask` to obtain reliable results.\n",
      "Setting `pad_token_id` to `eos_token_id`:50256 for open-end generation.\n"
     ]
    },
    {
     "name": "stdout",
     "output_type": "stream",
     "text": [
      "\n",
      "Пьяный геолог не засек ход тектонических плит \n",
      "Неизвестный геолог не заметил ход тектонических плит.\n",
      "Неизвестные геологи не заметили ход тектонических плит,\n",
      "Неизвестные ученые не заметили ход тектонической плиты,\n",
      "Неизвестные физики не заметили хода тектонической плиты.\n",
      "Неизвестные физики ничего не заметили,\n",
      "Неизвестные математики ничего не заметили.\n",
      "Неизвестные астрономы ничего не заметили,\n",
      "Астрономы ничего не заметили.\n",
      "Некрономикон ничего не заметил,\n",
      "Некромант ничего не заметил.\n",
      "Некрономикона ничего не видно,\n",
      "Некроманта ничего не видно.\n",
      "Некроманты ничего не заметили,\n",
      "Некроманту ничего не видно.\n",
      "Неизвестный астроном ничего не заметил,\n",
      "Неизвестный математик ничего не заметил.\n",
      "Неизвестный химик ничего не заметил,\n",
      "Астроном ничего не заметил.\n",
      "Неведомый физик ничего не заметил,\n",
      "Неведомый химик ничего не заметил.\n",
      "Несчастный геолог ничего не заметил,\n",
      "Несчастный химик ничего не увидел,\n",
      "Несчастный ученый ничего не заметил,\n",
      "Непоседы ничего не заметили,\n",
      "Несчастный философ ничего не заметил,\n",
      "Недвижимость ничего ничего не заметила,\n",
      "Неизвестный археолог ничего не заметил.\n",
      "Недвижимость ничего не заметила,\n",
      "Недвижимости ничего не видно,\n",
      "Недвижимости нечего не видно,\n",
      "Неизвестного археолога ничего не видно,\n",
      "Неведомого археолога ничего не видно.\n",
      "Неведомый археолог ничего не увидел,\n",
      "Неведомый палеонтолог ничего не видел,\n",
      "Неизвестный палеонтолог ничего не увидел.\n",
      "Неведомый геолог ничего не понял,\n",
      "Неведомый геопат ничего не понял,\n",
      "Несчастный географ ничего не понял,\n",
      "Неизвестный геопат ничего не понял.\n",
      "Неизвестный геодезист ничего не понял,\n",
      "Недвижимостью ничего не понятно,\n",
      "Неизвестным геодезистом ничего не понятно,\n",
      "Неведомым геодезистом ничего не понятно.\n",
      "Недвижимостью ничего нельзя понять,\n",
      "Недвижимостью нельзя понять,\n",
      "Неизвестным археологом ничего нельзя понять,\n",
      "Неведомым археологом ничего нельзя понять.\n",
      "Недвижимостью нельзя объяснить,\n",
      "Недвижимостью можно объяснить,\n",
      "Неизвестным палеонтологом ничего нельзя объяснить,\n"
     ]
    }
   ],
   "source": [
    "text = \"Пьяный геолог не засек ход тектонических плит \"\n",
    "input_ids = tokenizer.encode(text, return_tensors=\"pt\").to(DEVICE)\n",
    "model.eval()\n",
    "with torch.no_grad():\n",
    "    out = model.generate(input_ids, \n",
    "                        do_sample=True,\n",
    "                        num_beams=8,\n",
    "                         top_k=45,\n",
    "                         temperature = .5,\n",
    "                        max_length=500, \n",
    "                         no_repeat_ngram_size=6,\n",
    "                         repetition_penalty = 1.3\n",
    "                        )\n",
    "\n",
    "generated_text = list(map(tokenizer.decode, out))[0]\n",
    "print()\n",
    "print(generated_text)"
   ]
  },
  {
   "cell_type": "code",
   "execution_count": null,
   "id": "c8831268-b39f-4d52-b52d-44374c019027",
   "metadata": {},
   "outputs": [],
   "source": []
  },
  {
   "cell_type": "code",
   "execution_count": null,
   "id": "50c5ec8b-35a9-48e6-84b9-ed9e9c5c8bff",
   "metadata": {},
   "outputs": [],
   "source": []
  }
 ],
 "metadata": {
  "kernelspec": {
   "display_name": "Python 3 (ipykernel)",
   "language": "python",
   "name": "python3"
  },
  "language_info": {
   "codemirror_mode": {
    "name": "ipython",
    "version": 3
   },
   "file_extension": ".py",
   "mimetype": "text/x-python",
   "name": "python",
   "nbconvert_exporter": "python",
   "pygments_lexer": "ipython3",
   "version": "3.10.12"
  }
 },
 "nbformat": 4,
 "nbformat_minor": 5
}
